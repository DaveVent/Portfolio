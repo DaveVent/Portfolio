{
 "cells": [
  {
   "cell_type": "markdown",
   "id": "546019f4",
   "metadata": {},
   "source": [
    "# A History of Nobel Prize Winners"
   ]
  },
  {
   "cell_type": "markdown",
   "id": "3b9b7726",
   "metadata": {},
   "source": [
    "## The most Nobel of Prizes\n",
    "<p><img style=\"float: right;margin:5px 20px 5px 1px; max-width:250px\" src=\"https://assets.datacamp.com/production/project_309/img/Nobel_Prize.png\"></p>\n",
    "<p>The Nobel Prize is perhaps the worlds most well known scientific award. Except for the honor, prestige and substantial prize money the recipient also gets a gold medal showing Alfred Nobel (1833 - 1896) who established the prize. Every year it's given to scientists and scholars in the categories chemistry, literature, physics, physiology or medicine, economics, and peace. The first Nobel Prize was handed out in 1901, and at that time the Prize was very Eurocentric and male-focused, but nowadays it's not biased in any way whatsoever. Surely. Right?</p>\n",
    "<p>Well, we're going to find out! The Nobel Foundation has made a dataset available of all prize winners from the start of the prize, in 1901, to 2016. Let's load it in and take a look.</p>"
   ]
  },
  {
   "cell_type": "code",
   "execution_count": 15,
   "id": "5ef27c20",
   "metadata": {},
   "outputs": [
    {
     "name": "stderr",
     "output_type": "stream",
     "text": [
      "Parsed with column specification:\n",
      "cols(\n",
      "  year = col_double(),\n",
      "  category = col_character(),\n",
      "  prize = col_character(),\n",
      "  motivation = col_character(),\n",
      "  prize_share = col_character(),\n",
      "  laureate_id = col_double(),\n",
      "  laureate_type = col_character(),\n",
      "  full_name = col_character(),\n",
      "  birth_date = col_date(format = \"\"),\n",
      "  birth_city = col_character(),\n",
      "  birth_country = col_character(),\n",
      "  sex = col_character(),\n",
      "  organization_name = col_character(),\n",
      "  organization_city = col_character(),\n",
      "  organization_country = col_character(),\n",
      "  death_date = col_date(format = \"\"),\n",
      "  death_city = col_character(),\n",
      "  death_country = col_character()\n",
      ")\n"
     ]
    },
    {
     "data": {
      "text/html": [
       "<table>\n",
       "<thead><tr><th scope=col>year</th><th scope=col>category</th><th scope=col>prize</th><th scope=col>motivation</th><th scope=col>prize_share</th><th scope=col>laureate_id</th><th scope=col>laureate_type</th><th scope=col>full_name</th><th scope=col>birth_date</th><th scope=col>birth_city</th><th scope=col>birth_country</th><th scope=col>sex</th><th scope=col>organization_name</th><th scope=col>organization_city</th><th scope=col>organization_country</th><th scope=col>death_date</th><th scope=col>death_city</th><th scope=col>death_country</th></tr></thead>\n",
       "<tbody>\n",
       "\t<tr><td>1901                                                                                                                                                                                                                                              </td><td>Chemistry                                                                                                                                                                                                                                         </td><td>The Nobel Prize in Chemistry 1901                                                                                                                                                                                                                 </td><td>\"in recognition of the extraordinary services he has rendered by the discovery of the laws of chemical dynamics and osmotic pressure in solutions\"                                                                                                </td><td>1/1                                                                                                                                                                                                                                               </td><td>160                                                                                                                                                                                                                                               </td><td>Individual                                                                                                                                                                                                                                        </td><td>Jacobus Henricus van 't Hoff                                                                                                                                                                                                                      </td><td>1852-08-30                                                                                                                                                                                                                                        </td><td>Rotterdam                                                                                                                                                                                                                                         </td><td>Netherlands                                                                                                                                                                                                                                       </td><td>Male                                                                                                                                                                                                                                              </td><td>Berlin University                                                                                                                                                                                                                                 </td><td>Berlin                                                                                                                                                                                                                                            </td><td>Germany                                                                                                                                                                                                                                           </td><td>1911-03-01                                                                                                                                                                                                                                        </td><td>Berlin                                                                                                                                                                                                                                            </td><td>Germany                                                                                                                                                                                                                                           </td></tr>\n",
       "\t<tr><td>1901                                                                                                                                                                                                                                              </td><td>Literature                                                                                                                                                                                                                                        </td><td>The Nobel Prize in Literature 1901                                                                                                                                                                                                                </td><td>\"in special recognition of his poetic composition, which gives evidence of lofty idealism, artistic perfection and a rare combination of the qualities of both heart and intellect\"                                                               </td><td>1/1                                                                                                                                                                                                                                               </td><td>569                                                                                                                                                                                                                                               </td><td>Individual                                                                                                                                                                                                                                        </td><td>Sully Prudhomme                                                                                                                                                                                                                                   </td><td>1839-03-16                                                                                                                                                                                                                                        </td><td>Paris                                                                                                                                                                                                                                             </td><td>France                                                                                                                                                                                                                                            </td><td>Male                                                                                                                                                                                                                                              </td><td>NA                                                                                                                                                                                                                                                </td><td>NA                                                                                                                                                                                                                                                </td><td>NA                                                                                                                                                                                                                                                </td><td>1907-09-07                                                                                                                                                                                                                                        </td><td>Châtenay                                                                                                                                                                                                                                          </td><td>France                                                                                                                                                                                                                                            </td></tr>\n",
       "\t<tr><td>1901                                                                                                                                                                                                                                              </td><td>Medicine                                                                                                                                                                                                                                          </td><td>The Nobel Prize in Physiology or Medicine 1901                                                                                                                                                                                                    </td><td>\"for his work on serum therapy, especially its application against diphtheria, by which he has opened a new road in the domain of medical science and thereby placed in the hands of the physician a victorious weapon against illness and deaths\"</td><td>1/1                                                                                                                                                                                                                                               </td><td>293                                                                                                                                                                                                                                               </td><td>Individual                                                                                                                                                                                                                                        </td><td>Emil Adolf von Behring                                                                                                                                                                                                                            </td><td>1854-03-15                                                                                                                                                                                                                                        </td><td>Hansdorf (Lawice)                                                                                                                                                                                                                                 </td><td>Prussia (Poland)                                                                                                                                                                                                                                  </td><td>Male                                                                                                                                                                                                                                              </td><td>Marburg University                                                                                                                                                                                                                                </td><td>Marburg                                                                                                                                                                                                                                           </td><td>Germany                                                                                                                                                                                                                                           </td><td>1917-03-31                                                                                                                                                                                                                                        </td><td>Marburg                                                                                                                                                                                                                                           </td><td>Germany                                                                                                                                                                                                                                           </td></tr>\n",
       "\t<tr><td>1901                                                                                                                                                                                                                                              </td><td>Peace                                                                                                                                                                                                                                             </td><td>The Nobel Peace Prize 1901                                                                                                                                                                                                                        </td><td>NA                                                                                                                                                                                                                                                </td><td>1/2                                                                                                                                                                                                                                               </td><td>462                                                                                                                                                                                                                                               </td><td>Individual                                                                                                                                                                                                                                        </td><td>Jean Henry Dunant                                                                                                                                                                                                                                 </td><td>1828-05-08                                                                                                                                                                                                                                        </td><td>Geneva                                                                                                                                                                                                                                            </td><td>Switzerland                                                                                                                                                                                                                                       </td><td>Male                                                                                                                                                                                                                                              </td><td>NA                                                                                                                                                                                                                                                </td><td>NA                                                                                                                                                                                                                                                </td><td>NA                                                                                                                                                                                                                                                </td><td>1910-10-30                                                                                                                                                                                                                                        </td><td>Heiden                                                                                                                                                                                                                                            </td><td>Switzerland                                                                                                                                                                                                                                       </td></tr>\n",
       "\t<tr><td>1901                                                                                                                                                                                                                                              </td><td>Peace                                                                                                                                                                                                                                             </td><td>The Nobel Peace Prize 1901                                                                                                                                                                                                                        </td><td>NA                                                                                                                                                                                                                                                </td><td>1/2                                                                                                                                                                                                                                               </td><td>463                                                                                                                                                                                                                                               </td><td>Individual                                                                                                                                                                                                                                        </td><td>Frédéric Passy                                                                                                                                                                                                                                    </td><td>1822-05-20                                                                                                                                                                                                                                        </td><td>Paris                                                                                                                                                                                                                                             </td><td>France                                                                                                                                                                                                                                            </td><td>Male                                                                                                                                                                                                                                              </td><td>NA                                                                                                                                                                                                                                                </td><td>NA                                                                                                                                                                                                                                                </td><td>NA                                                                                                                                                                                                                                                </td><td>1912-06-12                                                                                                                                                                                                                                        </td><td>Paris                                                                                                                                                                                                                                             </td><td>France                                                                                                                                                                                                                                            </td></tr>\n",
       "\t<tr><td>1901                                                                                                                                                                                                                                              </td><td>Physics                                                                                                                                                                                                                                           </td><td>The Nobel Prize in Physics 1901                                                                                                                                                                                                                   </td><td>\"in recognition of the extraordinary services he has rendered by the discovery of the remarkable rays subsequently named after him\"                                                                                                               </td><td>1/1                                                                                                                                                                                                                                               </td><td>  1                                                                                                                                                                                                                                               </td><td>Individual                                                                                                                                                                                                                                        </td><td>Wilhelm Conrad Röntgen                                                                                                                                                                                                                            </td><td>1845-03-27                                                                                                                                                                                                                                        </td><td>Lennep (Remscheid)                                                                                                                                                                                                                                </td><td>Prussia (Germany)                                                                                                                                                                                                                                 </td><td>Male                                                                                                                                                                                                                                              </td><td>Munich University                                                                                                                                                                                                                                 </td><td>Munich                                                                                                                                                                                                                                            </td><td>Germany                                                                                                                                                                                                                                           </td><td>1923-02-10                                                                                                                                                                                                                                        </td><td>Munich                                                                                                                                                                                                                                            </td><td>Germany                                                                                                                                                                                                                                           </td></tr>\n",
       "</tbody>\n",
       "</table>\n"
      ],
      "text/latex": [
       "\\begin{tabular}{r|llllllllllllllllll}\n",
       " year & category & prize & motivation & prize\\_share & laureate\\_id & laureate\\_type & full\\_name & birth\\_date & birth\\_city & birth\\_country & sex & organization\\_name & organization\\_city & organization\\_country & death\\_date & death\\_city & death\\_country\\\\\n",
       "\\hline\n",
       "\t 1901                                                                                                                                                                                                                                               & Chemistry                                                                                                                                                                                                                                          & The Nobel Prize in Chemistry 1901                                                                                                                                                                                                                  & \"in recognition of the extraordinary services he has rendered by the discovery of the laws of chemical dynamics and osmotic pressure in solutions\"                                                                                                 & 1/1                                                                                                                                                                                                                                                & 160                                                                                                                                                                                                                                                & Individual                                                                                                                                                                                                                                         & Jacobus Henricus van 't Hoff                                                                                                                                                                                                                       & 1852-08-30                                                                                                                                                                                                                                         & Rotterdam                                                                                                                                                                                                                                          & Netherlands                                                                                                                                                                                                                                        & Male                                                                                                                                                                                                                                               & Berlin University                                                                                                                                                                                                                                  & Berlin                                                                                                                                                                                                                                             & Germany                                                                                                                                                                                                                                            & 1911-03-01                                                                                                                                                                                                                                         & Berlin                                                                                                                                                                                                                                             & Germany                                                                                                                                                                                                                                           \\\\\n",
       "\t 1901                                                                                                                                                                                                                                               & Literature                                                                                                                                                                                                                                         & The Nobel Prize in Literature 1901                                                                                                                                                                                                                 & \"in special recognition of his poetic composition, which gives evidence of lofty idealism, artistic perfection and a rare combination of the qualities of both heart and intellect\"                                                                & 1/1                                                                                                                                                                                                                                                & 569                                                                                                                                                                                                                                                & Individual                                                                                                                                                                                                                                         & Sully Prudhomme                                                                                                                                                                                                                                    & 1839-03-16                                                                                                                                                                                                                                         & Paris                                                                                                                                                                                                                                              & France                                                                                                                                                                                                                                             & Male                                                                                                                                                                                                                                               & NA                                                                                                                                                                                                                                                 & NA                                                                                                                                                                                                                                                 & NA                                                                                                                                                                                                                                                 & 1907-09-07                                                                                                                                                                                                                                         & Châtenay                                                                                                                                                                                                                                           & France                                                                                                                                                                                                                                            \\\\\n",
       "\t 1901                                                                                                                                                                                                                                               & Medicine                                                                                                                                                                                                                                           & The Nobel Prize in Physiology or Medicine 1901                                                                                                                                                                                                     & \"for his work on serum therapy, especially its application against diphtheria, by which he has opened a new road in the domain of medical science and thereby placed in the hands of the physician a victorious weapon against illness and deaths\" & 1/1                                                                                                                                                                                                                                                & 293                                                                                                                                                                                                                                                & Individual                                                                                                                                                                                                                                         & Emil Adolf von Behring                                                                                                                                                                                                                             & 1854-03-15                                                                                                                                                                                                                                         & Hansdorf (Lawice)                                                                                                                                                                                                                                  & Prussia (Poland)                                                                                                                                                                                                                                   & Male                                                                                                                                                                                                                                               & Marburg University                                                                                                                                                                                                                                 & Marburg                                                                                                                                                                                                                                            & Germany                                                                                                                                                                                                                                            & 1917-03-31                                                                                                                                                                                                                                         & Marburg                                                                                                                                                                                                                                            & Germany                                                                                                                                                                                                                                           \\\\\n",
       "\t 1901                                                                                                                                                                                                                                               & Peace                                                                                                                                                                                                                                              & The Nobel Peace Prize 1901                                                                                                                                                                                                                         & NA                                                                                                                                                                                                                                                 & 1/2                                                                                                                                                                                                                                                & 462                                                                                                                                                                                                                                                & Individual                                                                                                                                                                                                                                         & Jean Henry Dunant                                                                                                                                                                                                                                  & 1828-05-08                                                                                                                                                                                                                                         & Geneva                                                                                                                                                                                                                                             & Switzerland                                                                                                                                                                                                                                        & Male                                                                                                                                                                                                                                               & NA                                                                                                                                                                                                                                                 & NA                                                                                                                                                                                                                                                 & NA                                                                                                                                                                                                                                                 & 1910-10-30                                                                                                                                                                                                                                         & Heiden                                                                                                                                                                                                                                             & Switzerland                                                                                                                                                                                                                                       \\\\\n",
       "\t 1901                                                                                                                                                                                                                                               & Peace                                                                                                                                                                                                                                              & The Nobel Peace Prize 1901                                                                                                                                                                                                                         & NA                                                                                                                                                                                                                                                 & 1/2                                                                                                                                                                                                                                                & 463                                                                                                                                                                                                                                                & Individual                                                                                                                                                                                                                                         & Frédéric Passy                                                                                                                                                                                                                                     & 1822-05-20                                                                                                                                                                                                                                         & Paris                                                                                                                                                                                                                                              & France                                                                                                                                                                                                                                             & Male                                                                                                                                                                                                                                               & NA                                                                                                                                                                                                                                                 & NA                                                                                                                                                                                                                                                 & NA                                                                                                                                                                                                                                                 & 1912-06-12                                                                                                                                                                                                                                         & Paris                                                                                                                                                                                                                                              & France                                                                                                                                                                                                                                            \\\\\n",
       "\t 1901                                                                                                                                                                                                                                               & Physics                                                                                                                                                                                                                                            & The Nobel Prize in Physics 1901                                                                                                                                                                                                                    & \"in recognition of the extraordinary services he has rendered by the discovery of the remarkable rays subsequently named after him\"                                                                                                                & 1/1                                                                                                                                                                                                                                                &   1                                                                                                                                                                                                                                                & Individual                                                                                                                                                                                                                                         & Wilhelm Conrad Röntgen                                                                                                                                                                                                                             & 1845-03-27                                                                                                                                                                                                                                         & Lennep (Remscheid)                                                                                                                                                                                                                                 & Prussia (Germany)                                                                                                                                                                                                                                  & Male                                                                                                                                                                                                                                               & Munich University                                                                                                                                                                                                                                  & Munich                                                                                                                                                                                                                                             & Germany                                                                                                                                                                                                                                            & 1923-02-10                                                                                                                                                                                                                                         & Munich                                                                                                                                                                                                                                             & Germany                                                                                                                                                                                                                                           \\\\\n",
       "\\end{tabular}\n"
      ],
      "text/markdown": [
       "\n",
       "| year | category | prize | motivation | prize_share | laureate_id | laureate_type | full_name | birth_date | birth_city | birth_country | sex | organization_name | organization_city | organization_country | death_date | death_city | death_country |\n",
       "|---|---|---|---|---|---|---|---|---|---|---|---|---|---|---|---|---|---|\n",
       "| 1901                                                                                                                                                                                                                                               | Chemistry                                                                                                                                                                                                                                          | The Nobel Prize in Chemistry 1901                                                                                                                                                                                                                  | \"in recognition of the extraordinary services he has rendered by the discovery of the laws of chemical dynamics and osmotic pressure in solutions\"                                                                                                 | 1/1                                                                                                                                                                                                                                                | 160                                                                                                                                                                                                                                                | Individual                                                                                                                                                                                                                                         | Jacobus Henricus van 't Hoff                                                                                                                                                                                                                       | 1852-08-30                                                                                                                                                                                                                                         | Rotterdam                                                                                                                                                                                                                                          | Netherlands                                                                                                                                                                                                                                        | Male                                                                                                                                                                                                                                               | Berlin University                                                                                                                                                                                                                                  | Berlin                                                                                                                                                                                                                                             | Germany                                                                                                                                                                                                                                            | 1911-03-01                                                                                                                                                                                                                                         | Berlin                                                                                                                                                                                                                                             | Germany                                                                                                                                                                                                                                            |\n",
       "| 1901                                                                                                                                                                                                                                               | Literature                                                                                                                                                                                                                                         | The Nobel Prize in Literature 1901                                                                                                                                                                                                                 | \"in special recognition of his poetic composition, which gives evidence of lofty idealism, artistic perfection and a rare combination of the qualities of both heart and intellect\"                                                                | 1/1                                                                                                                                                                                                                                                | 569                                                                                                                                                                                                                                                | Individual                                                                                                                                                                                                                                         | Sully Prudhomme                                                                                                                                                                                                                                    | 1839-03-16                                                                                                                                                                                                                                         | Paris                                                                                                                                                                                                                                              | France                                                                                                                                                                                                                                             | Male                                                                                                                                                                                                                                               | NA                                                                                                                                                                                                                                                 | NA                                                                                                                                                                                                                                                 | NA                                                                                                                                                                                                                                                 | 1907-09-07                                                                                                                                                                                                                                         | Châtenay                                                                                                                                                                                                                                           | France                                                                                                                                                                                                                                             |\n",
       "| 1901                                                                                                                                                                                                                                               | Medicine                                                                                                                                                                                                                                           | The Nobel Prize in Physiology or Medicine 1901                                                                                                                                                                                                     | \"for his work on serum therapy, especially its application against diphtheria, by which he has opened a new road in the domain of medical science and thereby placed in the hands of the physician a victorious weapon against illness and deaths\" | 1/1                                                                                                                                                                                                                                                | 293                                                                                                                                                                                                                                                | Individual                                                                                                                                                                                                                                         | Emil Adolf von Behring                                                                                                                                                                                                                             | 1854-03-15                                                                                                                                                                                                                                         | Hansdorf (Lawice)                                                                                                                                                                                                                                  | Prussia (Poland)                                                                                                                                                                                                                                   | Male                                                                                                                                                                                                                                               | Marburg University                                                                                                                                                                                                                                 | Marburg                                                                                                                                                                                                                                            | Germany                                                                                                                                                                                                                                            | 1917-03-31                                                                                                                                                                                                                                         | Marburg                                                                                                                                                                                                                                            | Germany                                                                                                                                                                                                                                            |\n",
       "| 1901                                                                                                                                                                                                                                               | Peace                                                                                                                                                                                                                                              | The Nobel Peace Prize 1901                                                                                                                                                                                                                         | NA                                                                                                                                                                                                                                                 | 1/2                                                                                                                                                                                                                                                | 462                                                                                                                                                                                                                                                | Individual                                                                                                                                                                                                                                         | Jean Henry Dunant                                                                                                                                                                                                                                  | 1828-05-08                                                                                                                                                                                                                                         | Geneva                                                                                                                                                                                                                                             | Switzerland                                                                                                                                                                                                                                        | Male                                                                                                                                                                                                                                               | NA                                                                                                                                                                                                                                                 | NA                                                                                                                                                                                                                                                 | NA                                                                                                                                                                                                                                                 | 1910-10-30                                                                                                                                                                                                                                         | Heiden                                                                                                                                                                                                                                             | Switzerland                                                                                                                                                                                                                                        |\n",
       "| 1901                                                                                                                                                                                                                                               | Peace                                                                                                                                                                                                                                              | The Nobel Peace Prize 1901                                                                                                                                                                                                                         | NA                                                                                                                                                                                                                                                 | 1/2                                                                                                                                                                                                                                                | 463                                                                                                                                                                                                                                                | Individual                                                                                                                                                                                                                                         | Frédéric Passy                                                                                                                                                                                                                                     | 1822-05-20                                                                                                                                                                                                                                         | Paris                                                                                                                                                                                                                                              | France                                                                                                                                                                                                                                             | Male                                                                                                                                                                                                                                               | NA                                                                                                                                                                                                                                                 | NA                                                                                                                                                                                                                                                 | NA                                                                                                                                                                                                                                                 | 1912-06-12                                                                                                                                                                                                                                         | Paris                                                                                                                                                                                                                                              | France                                                                                                                                                                                                                                             |\n",
       "| 1901                                                                                                                                                                                                                                               | Physics                                                                                                                                                                                                                                            | The Nobel Prize in Physics 1901                                                                                                                                                                                                                    | \"in recognition of the extraordinary services he has rendered by the discovery of the remarkable rays subsequently named after him\"                                                                                                                | 1/1                                                                                                                                                                                                                                                |   1                                                                                                                                                                                                                                                | Individual                                                                                                                                                                                                                                         | Wilhelm Conrad Röntgen                                                                                                                                                                                                                             | 1845-03-27                                                                                                                                                                                                                                         | Lennep (Remscheid)                                                                                                                                                                                                                                 | Prussia (Germany)                                                                                                                                                                                                                                  | Male                                                                                                                                                                                                                                               | Munich University                                                                                                                                                                                                                                  | Munich                                                                                                                                                                                                                                             | Germany                                                                                                                                                                                                                                            | 1923-02-10                                                                                                                                                                                                                                         | Munich                                                                                                                                                                                                                                             | Germany                                                                                                                                                                                                                                            |\n",
       "\n"
      ],
      "text/plain": [
       "  year category   prize                                         \n",
       "1 1901 Chemistry  The Nobel Prize in Chemistry 1901             \n",
       "2 1901 Literature The Nobel Prize in Literature 1901            \n",
       "3 1901 Medicine   The Nobel Prize in Physiology or Medicine 1901\n",
       "4 1901 Peace      The Nobel Peace Prize 1901                    \n",
       "5 1901 Peace      The Nobel Peace Prize 1901                    \n",
       "6 1901 Physics    The Nobel Prize in Physics 1901               \n",
       "  motivation                                                                                                                                                                                                                                        \n",
       "1 \"in recognition of the extraordinary services he has rendered by the discovery of the laws of chemical dynamics and osmotic pressure in solutions\"                                                                                                \n",
       "2 \"in special recognition of his poetic composition, which gives evidence of lofty idealism, artistic perfection and a rare combination of the qualities of both heart and intellect\"                                                               \n",
       "3 \"for his work on serum therapy, especially its application against diphtheria, by which he has opened a new road in the domain of medical science and thereby placed in the hands of the physician a victorious weapon against illness and deaths\"\n",
       "4 NA                                                                                                                                                                                                                                                \n",
       "5 NA                                                                                                                                                                                                                                                \n",
       "6 \"in recognition of the extraordinary services he has rendered by the discovery of the remarkable rays subsequently named after him\"                                                                                                               \n",
       "  prize_share laureate_id laureate_type full_name                    birth_date\n",
       "1 1/1         160         Individual    Jacobus Henricus van 't Hoff 1852-08-30\n",
       "2 1/1         569         Individual    Sully Prudhomme              1839-03-16\n",
       "3 1/1         293         Individual    Emil Adolf von Behring       1854-03-15\n",
       "4 1/2         462         Individual    Jean Henry Dunant            1828-05-08\n",
       "5 1/2         463         Individual    Frédéric Passy               1822-05-20\n",
       "6 1/1           1         Individual    Wilhelm Conrad Röntgen       1845-03-27\n",
       "  birth_city         birth_country     sex  organization_name \n",
       "1 Rotterdam          Netherlands       Male Berlin University \n",
       "2 Paris              France            Male NA                \n",
       "3 Hansdorf (Lawice)  Prussia (Poland)  Male Marburg University\n",
       "4 Geneva             Switzerland       Male NA                \n",
       "5 Paris              France            Male NA                \n",
       "6 Lennep (Remscheid) Prussia (Germany) Male Munich University \n",
       "  organization_city organization_country death_date death_city death_country\n",
       "1 Berlin            Germany              1911-03-01 Berlin     Germany      \n",
       "2 NA                NA                   1907-09-07 Châtenay   France       \n",
       "3 Marburg           Germany              1917-03-31 Marburg    Germany      \n",
       "4 NA                NA                   1910-10-30 Heiden     Switzerland  \n",
       "5 NA                NA                   1912-06-12 Paris      France       \n",
       "6 Munich            Germany              1923-02-10 Munich     Germany      "
      ]
     },
     "metadata": {},
     "output_type": "display_data"
    }
   ],
   "source": [
    "# Loading in required libraries\n",
    "library(tidyverse)\n",
    "library(ggplot2)\n",
    "\n",
    "# Reading in the Nobel Prize data\n",
    "nobel <- read_csv(\"datasets/nobel.csv\")\n",
    "\n",
    "# Taking a look at the first couple of winners\n",
    "head(nobel)"
   ]
  },
  {
   "cell_type": "markdown",
   "id": "8dcb56b6",
   "metadata": {},
   "source": [
    "## So, who gets the Nobel Prize?\n",
    "<p>Just looking at the first couple of prize winners, or Nobel laureates as they are also called, we already see a celebrity: Wilhelm Conrad Röntgen, the guy who discovered X-rays. And actually, we see that all of the winners in 1901 were guys that came from Europe. But that was back in 1901, looking at all winners in the dataset, from 1901 to 2016, which sex and which country is the most commonly represented? </p>\n",
    "<p>(For <em>country</em>, we will use the <code>birth_country</code> of the winner, as the <code>organization_country</code> is <code>NA</code> for all shared Nobel Prizes.)</p>"
   ]
  },
  {
   "cell_type": "code",
   "execution_count": 14,
   "id": "111615db",
   "metadata": {
    "scrolled": false
   },
   "outputs": [
    {
     "data": {
      "text/html": [
       "<table>\n",
       "<thead><tr><th scope=col>prize</th><th scope=col>n</th></tr></thead>\n",
       "<tbody>\n",
       "\t<tr><td>The Nobel Peace Prize 1901</td><td>2                         </td></tr>\n",
       "\t<tr><td>The Nobel Peace Prize 1902</td><td>2                         </td></tr>\n",
       "\t<tr><td>The Nobel Peace Prize 1903</td><td>1                         </td></tr>\n",
       "\t<tr><td>The Nobel Peace Prize 1904</td><td>1                         </td></tr>\n",
       "\t<tr><td>The Nobel Peace Prize 1905</td><td>1                         </td></tr>\n",
       "\t<tr><td>The Nobel Peace Prize 1906</td><td>1                         </td></tr>\n",
       "\t<tr><td>The Nobel Peace Prize 1907</td><td>2                         </td></tr>\n",
       "\t<tr><td>The Nobel Peace Prize 1908</td><td>2                         </td></tr>\n",
       "\t<tr><td>The Nobel Peace Prize 1909</td><td>2                         </td></tr>\n",
       "\t<tr><td>The Nobel Peace Prize 1910</td><td>1                         </td></tr>\n",
       "\t<tr><td>The Nobel Peace Prize 1911</td><td>2                         </td></tr>\n",
       "\t<tr><td>The Nobel Peace Prize 1912</td><td>1                         </td></tr>\n",
       "\t<tr><td>The Nobel Peace Prize 1913</td><td>1                         </td></tr>\n",
       "\t<tr><td>The Nobel Peace Prize 1917</td><td>1                         </td></tr>\n",
       "\t<tr><td>The Nobel Peace Prize 1919</td><td>1                         </td></tr>\n",
       "\t<tr><td>The Nobel Peace Prize 1920</td><td>1                         </td></tr>\n",
       "\t<tr><td>The Nobel Peace Prize 1921</td><td>2                         </td></tr>\n",
       "\t<tr><td>The Nobel Peace Prize 1922</td><td>1                         </td></tr>\n",
       "\t<tr><td>The Nobel Peace Prize 1925</td><td>2                         </td></tr>\n",
       "\t<tr><td>The Nobel Peace Prize 1926</td><td>2                         </td></tr>\n",
       "\t<tr><td>The Nobel Peace Prize 1927</td><td>2                         </td></tr>\n",
       "\t<tr><td>The Nobel Peace Prize 1929</td><td>1                         </td></tr>\n",
       "\t<tr><td>The Nobel Peace Prize 1930</td><td>1                         </td></tr>\n",
       "\t<tr><td>The Nobel Peace Prize 1931</td><td>2                         </td></tr>\n",
       "\t<tr><td>The Nobel Peace Prize 1933</td><td>1                         </td></tr>\n",
       "\t<tr><td>The Nobel Peace Prize 1934</td><td>1                         </td></tr>\n",
       "\t<tr><td>The Nobel Peace Prize 1935</td><td>1                         </td></tr>\n",
       "\t<tr><td>The Nobel Peace Prize 1936</td><td>1                         </td></tr>\n",
       "\t<tr><td>The Nobel Peace Prize 1937</td><td>1                         </td></tr>\n",
       "\t<tr><td>The Nobel Peace Prize 1938</td><td>1                         </td></tr>\n",
       "\t<tr><td>...</td><td>...</td></tr>\n",
       "\t<tr><td>The Sveriges Riksbank Prize in Economic Sciences 1987</td><td>1                                                    </td></tr>\n",
       "\t<tr><td>The Sveriges Riksbank Prize in Economic Sciences 1988</td><td>1                                                    </td></tr>\n",
       "\t<tr><td>The Sveriges Riksbank Prize in Economic Sciences 1989</td><td>1                                                    </td></tr>\n",
       "\t<tr><td>The Sveriges Riksbank Prize in Economic Sciences 1990</td><td>3                                                    </td></tr>\n",
       "\t<tr><td>The Sveriges Riksbank Prize in Economic Sciences 1991</td><td>1                                                    </td></tr>\n",
       "\t<tr><td>The Sveriges Riksbank Prize in Economic Sciences 1992</td><td>1                                                    </td></tr>\n",
       "\t<tr><td>The Sveriges Riksbank Prize in Economic Sciences 1993</td><td>2                                                    </td></tr>\n",
       "\t<tr><td>The Sveriges Riksbank Prize in Economic Sciences 1994</td><td>3                                                    </td></tr>\n",
       "\t<tr><td>The Sveriges Riksbank Prize in Economic Sciences 1995</td><td>1                                                    </td></tr>\n",
       "\t<tr><td>The Sveriges Riksbank Prize in Economic Sciences 1996</td><td>2                                                    </td></tr>\n",
       "\t<tr><td>The Sveriges Riksbank Prize in Economic Sciences 1997</td><td>2                                                    </td></tr>\n",
       "\t<tr><td>The Sveriges Riksbank Prize in Economic Sciences 1998</td><td>1                                                    </td></tr>\n",
       "\t<tr><td>The Sveriges Riksbank Prize in Economic Sciences 1999</td><td>1                                                    </td></tr>\n",
       "\t<tr><td>The Sveriges Riksbank Prize in Economic Sciences 2000</td><td>2                                                    </td></tr>\n",
       "\t<tr><td>The Sveriges Riksbank Prize in Economic Sciences 2001</td><td>3                                                    </td></tr>\n",
       "\t<tr><td>The Sveriges Riksbank Prize in Economic Sciences 2002</td><td>2                                                    </td></tr>\n",
       "\t<tr><td>The Sveriges Riksbank Prize in Economic Sciences 2003</td><td>2                                                    </td></tr>\n",
       "\t<tr><td>The Sveriges Riksbank Prize in Economic Sciences 2004</td><td>2                                                    </td></tr>\n",
       "\t<tr><td>The Sveriges Riksbank Prize in Economic Sciences 2005</td><td>2                                                    </td></tr>\n",
       "\t<tr><td>The Sveriges Riksbank Prize in Economic Sciences 2006</td><td>1                                                    </td></tr>\n",
       "\t<tr><td>The Sveriges Riksbank Prize in Economic Sciences 2007</td><td>3                                                    </td></tr>\n",
       "\t<tr><td>The Sveriges Riksbank Prize in Economic Sciences 2008</td><td>1                                                    </td></tr>\n",
       "\t<tr><td>The Sveriges Riksbank Prize in Economic Sciences 2009</td><td>2                                                    </td></tr>\n",
       "\t<tr><td>The Sveriges Riksbank Prize in Economic Sciences 2010</td><td>3                                                    </td></tr>\n",
       "\t<tr><td>The Sveriges Riksbank Prize in Economic Sciences 2011</td><td>2                                                    </td></tr>\n",
       "\t<tr><td>The Sveriges Riksbank Prize in Economic Sciences 2012</td><td>2                                                    </td></tr>\n",
       "\t<tr><td>The Sveriges Riksbank Prize in Economic Sciences 2013</td><td>3                                                    </td></tr>\n",
       "\t<tr><td>The Sveriges Riksbank Prize in Economic Sciences 2014</td><td>1                                                    </td></tr>\n",
       "\t<tr><td>The Sveriges Riksbank Prize in Economic Sciences 2015</td><td>1                                                    </td></tr>\n",
       "\t<tr><td>The Sveriges Riksbank Prize in Economic Sciences 2016</td><td>2                                                    </td></tr>\n",
       "</tbody>\n",
       "</table>\n"
      ],
      "text/latex": [
       "\\begin{tabular}{r|ll}\n",
       " prize & n\\\\\n",
       "\\hline\n",
       "\t The Nobel Peace Prize 1901 & 2                         \\\\\n",
       "\t The Nobel Peace Prize 1902 & 2                         \\\\\n",
       "\t The Nobel Peace Prize 1903 & 1                         \\\\\n",
       "\t The Nobel Peace Prize 1904 & 1                         \\\\\n",
       "\t The Nobel Peace Prize 1905 & 1                         \\\\\n",
       "\t The Nobel Peace Prize 1906 & 1                         \\\\\n",
       "\t The Nobel Peace Prize 1907 & 2                         \\\\\n",
       "\t The Nobel Peace Prize 1908 & 2                         \\\\\n",
       "\t The Nobel Peace Prize 1909 & 2                         \\\\\n",
       "\t The Nobel Peace Prize 1910 & 1                         \\\\\n",
       "\t The Nobel Peace Prize 1911 & 2                         \\\\\n",
       "\t The Nobel Peace Prize 1912 & 1                         \\\\\n",
       "\t The Nobel Peace Prize 1913 & 1                         \\\\\n",
       "\t The Nobel Peace Prize 1917 & 1                         \\\\\n",
       "\t The Nobel Peace Prize 1919 & 1                         \\\\\n",
       "\t The Nobel Peace Prize 1920 & 1                         \\\\\n",
       "\t The Nobel Peace Prize 1921 & 2                         \\\\\n",
       "\t The Nobel Peace Prize 1922 & 1                         \\\\\n",
       "\t The Nobel Peace Prize 1925 & 2                         \\\\\n",
       "\t The Nobel Peace Prize 1926 & 2                         \\\\\n",
       "\t The Nobel Peace Prize 1927 & 2                         \\\\\n",
       "\t The Nobel Peace Prize 1929 & 1                         \\\\\n",
       "\t The Nobel Peace Prize 1930 & 1                         \\\\\n",
       "\t The Nobel Peace Prize 1931 & 2                         \\\\\n",
       "\t The Nobel Peace Prize 1933 & 1                         \\\\\n",
       "\t The Nobel Peace Prize 1934 & 1                         \\\\\n",
       "\t The Nobel Peace Prize 1935 & 1                         \\\\\n",
       "\t The Nobel Peace Prize 1936 & 1                         \\\\\n",
       "\t The Nobel Peace Prize 1937 & 1                         \\\\\n",
       "\t The Nobel Peace Prize 1938 & 1                         \\\\\n",
       "\t ... & ...\\\\\n",
       "\t The Sveriges Riksbank Prize in Economic Sciences 1987 & 1                                                    \\\\\n",
       "\t The Sveriges Riksbank Prize in Economic Sciences 1988 & 1                                                    \\\\\n",
       "\t The Sveriges Riksbank Prize in Economic Sciences 1989 & 1                                                    \\\\\n",
       "\t The Sveriges Riksbank Prize in Economic Sciences 1990 & 3                                                    \\\\\n",
       "\t The Sveriges Riksbank Prize in Economic Sciences 1991 & 1                                                    \\\\\n",
       "\t The Sveriges Riksbank Prize in Economic Sciences 1992 & 1                                                    \\\\\n",
       "\t The Sveriges Riksbank Prize in Economic Sciences 1993 & 2                                                    \\\\\n",
       "\t The Sveriges Riksbank Prize in Economic Sciences 1994 & 3                                                    \\\\\n",
       "\t The Sveriges Riksbank Prize in Economic Sciences 1995 & 1                                                    \\\\\n",
       "\t The Sveriges Riksbank Prize in Economic Sciences 1996 & 2                                                    \\\\\n",
       "\t The Sveriges Riksbank Prize in Economic Sciences 1997 & 2                                                    \\\\\n",
       "\t The Sveriges Riksbank Prize in Economic Sciences 1998 & 1                                                    \\\\\n",
       "\t The Sveriges Riksbank Prize in Economic Sciences 1999 & 1                                                    \\\\\n",
       "\t The Sveriges Riksbank Prize in Economic Sciences 2000 & 2                                                    \\\\\n",
       "\t The Sveriges Riksbank Prize in Economic Sciences 2001 & 3                                                    \\\\\n",
       "\t The Sveriges Riksbank Prize in Economic Sciences 2002 & 2                                                    \\\\\n",
       "\t The Sveriges Riksbank Prize in Economic Sciences 2003 & 2                                                    \\\\\n",
       "\t The Sveriges Riksbank Prize in Economic Sciences 2004 & 2                                                    \\\\\n",
       "\t The Sveriges Riksbank Prize in Economic Sciences 2005 & 2                                                    \\\\\n",
       "\t The Sveriges Riksbank Prize in Economic Sciences 2006 & 1                                                    \\\\\n",
       "\t The Sveriges Riksbank Prize in Economic Sciences 2007 & 3                                                    \\\\\n",
       "\t The Sveriges Riksbank Prize in Economic Sciences 2008 & 1                                                    \\\\\n",
       "\t The Sveriges Riksbank Prize in Economic Sciences 2009 & 2                                                    \\\\\n",
       "\t The Sveriges Riksbank Prize in Economic Sciences 2010 & 3                                                    \\\\\n",
       "\t The Sveriges Riksbank Prize in Economic Sciences 2011 & 2                                                    \\\\\n",
       "\t The Sveriges Riksbank Prize in Economic Sciences 2012 & 2                                                    \\\\\n",
       "\t The Sveriges Riksbank Prize in Economic Sciences 2013 & 3                                                    \\\\\n",
       "\t The Sveriges Riksbank Prize in Economic Sciences 2014 & 1                                                    \\\\\n",
       "\t The Sveriges Riksbank Prize in Economic Sciences 2015 & 1                                                    \\\\\n",
       "\t The Sveriges Riksbank Prize in Economic Sciences 2016 & 2                                                    \\\\\n",
       "\\end{tabular}\n"
      ],
      "text/markdown": [
       "\n",
       "| prize | n |\n",
       "|---|---|\n",
       "| The Nobel Peace Prize 1901 | 2                          |\n",
       "| The Nobel Peace Prize 1902 | 2                          |\n",
       "| The Nobel Peace Prize 1903 | 1                          |\n",
       "| The Nobel Peace Prize 1904 | 1                          |\n",
       "| The Nobel Peace Prize 1905 | 1                          |\n",
       "| The Nobel Peace Prize 1906 | 1                          |\n",
       "| The Nobel Peace Prize 1907 | 2                          |\n",
       "| The Nobel Peace Prize 1908 | 2                          |\n",
       "| The Nobel Peace Prize 1909 | 2                          |\n",
       "| The Nobel Peace Prize 1910 | 1                          |\n",
       "| The Nobel Peace Prize 1911 | 2                          |\n",
       "| The Nobel Peace Prize 1912 | 1                          |\n",
       "| The Nobel Peace Prize 1913 | 1                          |\n",
       "| The Nobel Peace Prize 1917 | 1                          |\n",
       "| The Nobel Peace Prize 1919 | 1                          |\n",
       "| The Nobel Peace Prize 1920 | 1                          |\n",
       "| The Nobel Peace Prize 1921 | 2                          |\n",
       "| The Nobel Peace Prize 1922 | 1                          |\n",
       "| The Nobel Peace Prize 1925 | 2                          |\n",
       "| The Nobel Peace Prize 1926 | 2                          |\n",
       "| The Nobel Peace Prize 1927 | 2                          |\n",
       "| The Nobel Peace Prize 1929 | 1                          |\n",
       "| The Nobel Peace Prize 1930 | 1                          |\n",
       "| The Nobel Peace Prize 1931 | 2                          |\n",
       "| The Nobel Peace Prize 1933 | 1                          |\n",
       "| The Nobel Peace Prize 1934 | 1                          |\n",
       "| The Nobel Peace Prize 1935 | 1                          |\n",
       "| The Nobel Peace Prize 1936 | 1                          |\n",
       "| The Nobel Peace Prize 1937 | 1                          |\n",
       "| The Nobel Peace Prize 1938 | 1                          |\n",
       "| ... | ... |\n",
       "| The Sveriges Riksbank Prize in Economic Sciences 1987 | 1                                                     |\n",
       "| The Sveriges Riksbank Prize in Economic Sciences 1988 | 1                                                     |\n",
       "| The Sveriges Riksbank Prize in Economic Sciences 1989 | 1                                                     |\n",
       "| The Sveriges Riksbank Prize in Economic Sciences 1990 | 3                                                     |\n",
       "| The Sveriges Riksbank Prize in Economic Sciences 1991 | 1                                                     |\n",
       "| The Sveriges Riksbank Prize in Economic Sciences 1992 | 1                                                     |\n",
       "| The Sveriges Riksbank Prize in Economic Sciences 1993 | 2                                                     |\n",
       "| The Sveriges Riksbank Prize in Economic Sciences 1994 | 3                                                     |\n",
       "| The Sveriges Riksbank Prize in Economic Sciences 1995 | 1                                                     |\n",
       "| The Sveriges Riksbank Prize in Economic Sciences 1996 | 2                                                     |\n",
       "| The Sveriges Riksbank Prize in Economic Sciences 1997 | 2                                                     |\n",
       "| The Sveriges Riksbank Prize in Economic Sciences 1998 | 1                                                     |\n",
       "| The Sveriges Riksbank Prize in Economic Sciences 1999 | 1                                                     |\n",
       "| The Sveriges Riksbank Prize in Economic Sciences 2000 | 2                                                     |\n",
       "| The Sveriges Riksbank Prize in Economic Sciences 2001 | 3                                                     |\n",
       "| The Sveriges Riksbank Prize in Economic Sciences 2002 | 2                                                     |\n",
       "| The Sveriges Riksbank Prize in Economic Sciences 2003 | 2                                                     |\n",
       "| The Sveriges Riksbank Prize in Economic Sciences 2004 | 2                                                     |\n",
       "| The Sveriges Riksbank Prize in Economic Sciences 2005 | 2                                                     |\n",
       "| The Sveriges Riksbank Prize in Economic Sciences 2006 | 1                                                     |\n",
       "| The Sveriges Riksbank Prize in Economic Sciences 2007 | 3                                                     |\n",
       "| The Sveriges Riksbank Prize in Economic Sciences 2008 | 1                                                     |\n",
       "| The Sveriges Riksbank Prize in Economic Sciences 2009 | 2                                                     |\n",
       "| The Sveriges Riksbank Prize in Economic Sciences 2010 | 3                                                     |\n",
       "| The Sveriges Riksbank Prize in Economic Sciences 2011 | 2                                                     |\n",
       "| The Sveriges Riksbank Prize in Economic Sciences 2012 | 2                                                     |\n",
       "| The Sveriges Riksbank Prize in Economic Sciences 2013 | 3                                                     |\n",
       "| The Sveriges Riksbank Prize in Economic Sciences 2014 | 1                                                     |\n",
       "| The Sveriges Riksbank Prize in Economic Sciences 2015 | 1                                                     |\n",
       "| The Sveriges Riksbank Prize in Economic Sciences 2016 | 2                                                     |\n",
       "\n"
      ],
      "text/plain": [
       "    prize                                                 n  \n",
       "1   The Nobel Peace Prize 1901                            2  \n",
       "2   The Nobel Peace Prize 1902                            2  \n",
       "3   The Nobel Peace Prize 1903                            1  \n",
       "4   The Nobel Peace Prize 1904                            1  \n",
       "5   The Nobel Peace Prize 1905                            1  \n",
       "6   The Nobel Peace Prize 1906                            1  \n",
       "7   The Nobel Peace Prize 1907                            2  \n",
       "8   The Nobel Peace Prize 1908                            2  \n",
       "9   The Nobel Peace Prize 1909                            2  \n",
       "10  The Nobel Peace Prize 1910                            1  \n",
       "11  The Nobel Peace Prize 1911                            2  \n",
       "12  The Nobel Peace Prize 1912                            1  \n",
       "13  The Nobel Peace Prize 1913                            1  \n",
       "14  The Nobel Peace Prize 1917                            1  \n",
       "15  The Nobel Peace Prize 1919                            1  \n",
       "16  The Nobel Peace Prize 1920                            1  \n",
       "17  The Nobel Peace Prize 1921                            2  \n",
       "18  The Nobel Peace Prize 1922                            1  \n",
       "19  The Nobel Peace Prize 1925                            2  \n",
       "20  The Nobel Peace Prize 1926                            2  \n",
       "21  The Nobel Peace Prize 1927                            2  \n",
       "22  The Nobel Peace Prize 1929                            1  \n",
       "23  The Nobel Peace Prize 1930                            1  \n",
       "24  The Nobel Peace Prize 1931                            2  \n",
       "25  The Nobel Peace Prize 1933                            1  \n",
       "26  The Nobel Peace Prize 1934                            1  \n",
       "27  The Nobel Peace Prize 1935                            1  \n",
       "28  The Nobel Peace Prize 1936                            1  \n",
       "29  The Nobel Peace Prize 1937                            1  \n",
       "30  The Nobel Peace Prize 1938                            1  \n",
       "... ...                                                   ...\n",
       "550 The Sveriges Riksbank Prize in Economic Sciences 1987 1  \n",
       "551 The Sveriges Riksbank Prize in Economic Sciences 1988 1  \n",
       "552 The Sveriges Riksbank Prize in Economic Sciences 1989 1  \n",
       "553 The Sveriges Riksbank Prize in Economic Sciences 1990 3  \n",
       "554 The Sveriges Riksbank Prize in Economic Sciences 1991 1  \n",
       "555 The Sveriges Riksbank Prize in Economic Sciences 1992 1  \n",
       "556 The Sveriges Riksbank Prize in Economic Sciences 1993 2  \n",
       "557 The Sveriges Riksbank Prize in Economic Sciences 1994 3  \n",
       "558 The Sveriges Riksbank Prize in Economic Sciences 1995 1  \n",
       "559 The Sveriges Riksbank Prize in Economic Sciences 1996 2  \n",
       "560 The Sveriges Riksbank Prize in Economic Sciences 1997 2  \n",
       "561 The Sveriges Riksbank Prize in Economic Sciences 1998 1  \n",
       "562 The Sveriges Riksbank Prize in Economic Sciences 1999 1  \n",
       "563 The Sveriges Riksbank Prize in Economic Sciences 2000 2  \n",
       "564 The Sveriges Riksbank Prize in Economic Sciences 2001 3  \n",
       "565 The Sveriges Riksbank Prize in Economic Sciences 2002 2  \n",
       "566 The Sveriges Riksbank Prize in Economic Sciences 2003 2  \n",
       "567 The Sveriges Riksbank Prize in Economic Sciences 2004 2  \n",
       "568 The Sveriges Riksbank Prize in Economic Sciences 2005 2  \n",
       "569 The Sveriges Riksbank Prize in Economic Sciences 2006 1  \n",
       "570 The Sveriges Riksbank Prize in Economic Sciences 2007 3  \n",
       "571 The Sveriges Riksbank Prize in Economic Sciences 2008 1  \n",
       "572 The Sveriges Riksbank Prize in Economic Sciences 2009 2  \n",
       "573 The Sveriges Riksbank Prize in Economic Sciences 2010 3  \n",
       "574 The Sveriges Riksbank Prize in Economic Sciences 2011 2  \n",
       "575 The Sveriges Riksbank Prize in Economic Sciences 2012 2  \n",
       "576 The Sveriges Riksbank Prize in Economic Sciences 2013 3  \n",
       "577 The Sveriges Riksbank Prize in Economic Sciences 2014 1  \n",
       "578 The Sveriges Riksbank Prize in Economic Sciences 2015 1  \n",
       "579 The Sveriges Riksbank Prize in Economic Sciences 2016 2  "
      ]
     },
     "metadata": {},
     "output_type": "display_data"
    },
    {
     "data": {
      "text/html": [
       "<table>\n",
       "<thead><tr><th scope=col>sex</th><th scope=col>n</th></tr></thead>\n",
       "<tbody>\n",
       "\t<tr><td>NA    </td><td> 26   </td></tr>\n",
       "\t<tr><td>Female</td><td> 49   </td></tr>\n",
       "\t<tr><td>Male  </td><td>836   </td></tr>\n",
       "</tbody>\n",
       "</table>\n"
      ],
      "text/latex": [
       "\\begin{tabular}{r|ll}\n",
       " sex & n\\\\\n",
       "\\hline\n",
       "\t NA     &  26   \\\\\n",
       "\t Female &  49   \\\\\n",
       "\t Male   & 836   \\\\\n",
       "\\end{tabular}\n"
      ],
      "text/markdown": [
       "\n",
       "| sex | n |\n",
       "|---|---|\n",
       "| NA     |  26    |\n",
       "| Female |  49    |\n",
       "| Male   | 836    |\n",
       "\n"
      ],
      "text/plain": [
       "  sex    n  \n",
       "1 NA      26\n",
       "2 Female  49\n",
       "3 Male   836"
      ]
     },
     "metadata": {},
     "output_type": "display_data"
    },
    {
     "data": {
      "text/html": [
       "<table>\n",
       "<thead><tr><th scope=col>birth_country</th><th scope=col>n</th></tr></thead>\n",
       "<tbody>\n",
       "\t<tr><td>USA           </td><td>259           </td></tr>\n",
       "\t<tr><td>United Kingdom</td><td> 85           </td></tr>\n",
       "\t<tr><td>Germany       </td><td> 61           </td></tr>\n",
       "\t<tr><td>France        </td><td> 51           </td></tr>\n",
       "\t<tr><td>Sweden        </td><td> 29           </td></tr>\n",
       "\t<tr><td>NA            </td><td> 26           </td></tr>\n",
       "\t<tr><td>Japan         </td><td> 24           </td></tr>\n",
       "\t<tr><td>Canada        </td><td> 18           </td></tr>\n",
       "\t<tr><td>Netherlands   </td><td> 18           </td></tr>\n",
       "\t<tr><td>Italy         </td><td> 17           </td></tr>\n",
       "</tbody>\n",
       "</table>\n"
      ],
      "text/latex": [
       "\\begin{tabular}{r|ll}\n",
       " birth\\_country & n\\\\\n",
       "\\hline\n",
       "\t USA            & 259           \\\\\n",
       "\t United Kingdom &  85           \\\\\n",
       "\t Germany        &  61           \\\\\n",
       "\t France         &  51           \\\\\n",
       "\t Sweden         &  29           \\\\\n",
       "\t NA             &  26           \\\\\n",
       "\t Japan          &  24           \\\\\n",
       "\t Canada         &  18           \\\\\n",
       "\t Netherlands    &  18           \\\\\n",
       "\t Italy          &  17           \\\\\n",
       "\\end{tabular}\n"
      ],
      "text/markdown": [
       "\n",
       "| birth_country | n |\n",
       "|---|---|\n",
       "| USA            | 259            |\n",
       "| United Kingdom |  85            |\n",
       "| Germany        |  61            |\n",
       "| France         |  51            |\n",
       "| Sweden         |  29            |\n",
       "| NA             |  26            |\n",
       "| Japan          |  24            |\n",
       "| Canada         |  18            |\n",
       "| Netherlands    |  18            |\n",
       "| Italy          |  17            |\n",
       "\n"
      ],
      "text/plain": [
       "   birth_country  n  \n",
       "1  USA            259\n",
       "2  United Kingdom  85\n",
       "3  Germany         61\n",
       "4  France          51\n",
       "5  Sweden          29\n",
       "6  NA              26\n",
       "7  Japan           24\n",
       "8  Canada          18\n",
       "9  Netherlands     18\n",
       "10 Italy           17"
      ]
     },
     "metadata": {},
     "output_type": "display_data"
    }
   ],
   "source": [
    "# Counting the number of (possibly shared) Nobel Prizes handed\n",
    "# out between 1901 and 2016\n",
    "nobel %>% \n",
    "    count(prize)\n",
    "\n",
    "\n",
    "# Counting the number of prizes won by male and female recipients.\n",
    "nobel %>%\n",
    "    group_by(sex) %>%\n",
    "        count()\n",
    "\n",
    "# Replacing \"United States of America\" with \"USA\" in column birth_country\n",
    "nobel$birth_country <- sub(\"United States of America\", \"USA\", nobel$birth_country)\n",
    "\n",
    "# Counting the number of prizes won by different nationalities.\n",
    "nobel %>%\n",
    "    group_by(birth_country) %>%\n",
    "        count() %>% \n",
    "            arrange(desc(n)) %>% \n",
    "                head(10)"
   ]
  },
  {
   "cell_type": "markdown",
   "id": "1f220467",
   "metadata": {},
   "source": [
    "## USA dominance\n",
    "<p>Not so surprising perhaps: the most common Nobel laureate between 1901 and 2016 was a man born in the United States of America. But in 1901 all the laureates were European. When did the USA start to dominate the Nobel Prize charts?</p>"
   ]
  },
  {
   "cell_type": "code",
   "execution_count": 3,
   "id": "54014d57",
   "metadata": {},
   "outputs": [
    {
     "data": {
      "text/html": [
       "<table>\n",
       "<thead><tr><th scope=col>decade</th><th scope=col>proportion</th></tr></thead>\n",
       "<tbody>\n",
       "\t<tr><td>1900      </td><td>0.01785714</td></tr>\n",
       "\t<tr><td>1910      </td><td>0.07894737</td></tr>\n",
       "\t<tr><td>1920      </td><td>0.07407407</td></tr>\n",
       "\t<tr><td>1930      </td><td>0.25454545</td></tr>\n",
       "\t<tr><td>1940      </td><td>0.32500000</td></tr>\n",
       "\t<tr><td>1950      </td><td>0.29577465</td></tr>\n",
       "\t<tr><td>1960      </td><td>0.28000000</td></tr>\n",
       "\t<tr><td>1970      </td><td>0.32038835</td></tr>\n",
       "\t<tr><td>1980      </td><td>0.32978723</td></tr>\n",
       "\t<tr><td>1990      </td><td>0.41584158</td></tr>\n",
       "\t<tr><td>2000      </td><td>0.43697479</td></tr>\n",
       "\t<tr><td>2010      </td><td>0.30379747</td></tr>\n",
       "</tbody>\n",
       "</table>\n"
      ],
      "text/latex": [
       "\\begin{tabular}{r|ll}\n",
       " decade & proportion\\\\\n",
       "\\hline\n",
       "\t 1900       & 0.01785714\\\\\n",
       "\t 1910       & 0.07894737\\\\\n",
       "\t 1920       & 0.07407407\\\\\n",
       "\t 1930       & 0.25454545\\\\\n",
       "\t 1940       & 0.32500000\\\\\n",
       "\t 1950       & 0.29577465\\\\\n",
       "\t 1960       & 0.28000000\\\\\n",
       "\t 1970       & 0.32038835\\\\\n",
       "\t 1980       & 0.32978723\\\\\n",
       "\t 1990       & 0.41584158\\\\\n",
       "\t 2000       & 0.43697479\\\\\n",
       "\t 2010       & 0.30379747\\\\\n",
       "\\end{tabular}\n"
      ],
      "text/markdown": [
       "\n",
       "| decade | proportion |\n",
       "|---|---|\n",
       "| 1900       | 0.01785714 |\n",
       "| 1910       | 0.07894737 |\n",
       "| 1920       | 0.07407407 |\n",
       "| 1930       | 0.25454545 |\n",
       "| 1940       | 0.32500000 |\n",
       "| 1950       | 0.29577465 |\n",
       "| 1960       | 0.28000000 |\n",
       "| 1970       | 0.32038835 |\n",
       "| 1980       | 0.32978723 |\n",
       "| 1990       | 0.41584158 |\n",
       "| 2000       | 0.43697479 |\n",
       "| 2010       | 0.30379747 |\n",
       "\n"
      ],
      "text/plain": [
       "   decade proportion\n",
       "1  1900   0.01785714\n",
       "2  1910   0.07894737\n",
       "3  1920   0.07407407\n",
       "4  1930   0.25454545\n",
       "5  1940   0.32500000\n",
       "6  1950   0.29577465\n",
       "7  1960   0.28000000\n",
       "8  1970   0.32038835\n",
       "9  1980   0.32978723\n",
       "10 1990   0.41584158\n",
       "11 2000   0.43697479\n",
       "12 2010   0.30379747"
      ]
     },
     "metadata": {},
     "output_type": "display_data"
    }
   ],
   "source": [
    "# Calculating the proportion of USA born winners per decade\n",
    "prop_usa_winners <- nobel %>% \n",
    "                        mutate(usa_born_winner = birth_country == \"USA\",\n",
    "                                        decade = floor(year / 10) * 10 ) %>% \n",
    "                                            group_by(decade) %>%\n",
    "                                                summarize(proportion = mean(usa_born_winner, na.rm = TRUE))\n",
    "\n",
    "# Display the proportions of USA born winners per decade\n",
    "prop_usa_winners"
   ]
  },
  {
   "cell_type": "markdown",
   "id": "f7d6f544",
   "metadata": {},
   "source": [
    "## USA dominance, visualized\n",
    "<p>A table is OK, but to <em>see</em> when the USA started to dominate the Nobel charts we need a plot!</p>"
   ]
  },
  {
   "cell_type": "code",
   "execution_count": 4,
   "id": "1e195190",
   "metadata": {},
   "outputs": [
    {
     "data": {
      "image/png": "[encoded data removed]",
      "text/plain": [
       "plot without title"
      ]
     },
     "metadata": {},
     "output_type": "display_data"
    }
   ],
   "source": [
    "# Setting the size of plots in this notebook\n",
    "options(repr.plot.width=7, repr.plot.height=4)\n",
    "\n",
    "# Plotting USA born winners\n",
    "ggplot(prop_usa_winners, aes(x=decade, y=proportion)) +\n",
    "    geom_line() +\n",
    "        geom_point() +\n",
    "            scale_y_continuous(labels = scales::percent,\n",
    "                               limits = 0:1, expand = c(0,0))"
   ]
  },
  {
   "cell_type": "markdown",
   "id": "6903b3b2",
   "metadata": {},
   "source": [
    "## What is the gender of a typical Nobel Prize winner?\n",
    "<p>So the USA became the dominating winner of the Nobel Prize first in the 1930s and has kept the leading position ever since. But one group that was in the lead from the start, and never seems to let go, are <em>men</em>. Maybe it shouldn't come as a shock that there is some imbalance between how many male and female prize winners there are, but how significant is this imbalance? And is it better or worse within specific prize categories like physics, medicine, literature, etc.?</p>"
   ]
  },
  {
   "cell_type": "code",
   "execution_count": 5,
   "id": "4306b4f5",
   "metadata": {},
   "outputs": [
    {
     "data": {
      "image/png": "[encoded data removed]",
      "text/plain": [
       "plot without title"
      ]
     },
     "metadata": {},
     "output_type": "display_data"
    }
   ],
   "source": [
    "# Calculating the proportion of female laureates per decade\n",
    "prop_female_winners <- nobel %>%\n",
    "                        mutate(female_winner = sex == \"Female\",\n",
    "                            decade = floor(year / 10) * 10 ) %>%\n",
    "                                group_by(decade, category) %>%\n",
    "                                    summarize(proportion = mean(female_winner, na.rm = TRUE))\n",
    "\n",
    "# Plotting the proportion of female laureates per decade\n",
    "ggplot(prop_female_winners, aes(x=decade, y=proportion, color=category)) +\n",
    "    geom_line() +\n",
    "        geom_point() +\n",
    "            scale_y_continuous(labels = scales::percent,\n",
    "                               limits = 0:1, expand = c(0,0))"
   ]
  },
  {
   "cell_type": "markdown",
   "id": "79c3e4ea",
   "metadata": {},
   "source": [
    "## The first woman to win the Nobel Prize\n",
    "<p>The plot above is a bit messy as the lines are overplotting. But it does show some interesting trends and patterns. Overall the imbalance is pretty large with physics, economics, and chemistry having the largest imbalance. Medicine has a somewhat positive trend, and since the 1990s the literature prize is also now more balanced. The big outlier is the peace prize during the 2010s, but keep in mind that this just covers the years 2010 to 2016.</p>\n",
    "<p>Given this imbalance, who was the first woman to receive a Nobel Prize? And in what category?</p>"
   ]
  },
  {
   "cell_type": "code",
   "execution_count": 6,
   "id": "13e66c08",
   "metadata": {},
   "outputs": [
    {
     "data": {
      "text/html": [
       "<table>\n",
       "<thead><tr><th scope=col>full_name</th><th scope=col>year</th><th scope=col>category</th></tr></thead>\n",
       "<tbody>\n",
       "\t<tr><td>Marie Curie, née Sklodowska</td><td>1903                       </td><td>Physics                    </td></tr>\n",
       "</tbody>\n",
       "</table>\n"
      ],
      "text/latex": [
       "\\begin{tabular}{r|lll}\n",
       " full\\_name & year & category\\\\\n",
       "\\hline\n",
       "\t Marie Curie, née Sklodowska & 1903                        & Physics                    \\\\\n",
       "\\end{tabular}\n"
      ],
      "text/markdown": [
       "\n",
       "| full_name | year | category |\n",
       "|---|---|---|\n",
       "| Marie Curie, née Sklodowska | 1903                        | Physics                     |\n",
       "\n"
      ],
      "text/plain": [
       "  full_name                   year category\n",
       "1 Marie Curie, née Sklodowska 1903 Physics "
      ]
     },
     "metadata": {},
     "output_type": "display_data"
    }
   ],
   "source": [
    "# Picking out the first woman to win a Nobel Prize\n",
    "nobel %>%\n",
    "    filter(sex == \"Female\") %>%\n",
    "        top_n(1, desc(year)) %>%\n",
    "            select(full_name, year, category)"
   ]
  },
  {
   "cell_type": "markdown",
   "id": "a22007bd",
   "metadata": {},
   "source": [
    "## Repeat laureates\n",
    "<p>For most scientists/writers/activists a Nobel Prize would be the crowning achievement of a long career. But for some people, one is just not enough, and there are few that have gotten it more than once. Who are these few? "
   ]
  },
  {
   "cell_type": "code",
   "execution_count": 7,
   "id": "b3d36c09",
   "metadata": {},
   "outputs": [
    {
     "data": {
      "text/html": [
       "<table>\n",
       "<thead><tr><th scope=col>full_name</th><th scope=col>n</th></tr></thead>\n",
       "<tbody>\n",
       "\t<tr><td>Comité international de la Croix Rouge (International Committee of the Red Cross)</td><td>3                                                                                </td></tr>\n",
       "\t<tr><td>Frederick Sanger                                                                 </td><td>2                                                                                </td></tr>\n",
       "\t<tr><td>John Bardeen                                                                     </td><td>2                                                                                </td></tr>\n",
       "\t<tr><td>Linus Carl Pauling                                                               </td><td>2                                                                                </td></tr>\n",
       "\t<tr><td>Marie Curie, née Sklodowska                                                      </td><td>2                                                                                </td></tr>\n",
       "\t<tr><td>Office of the United Nations High Commissioner for Refugees (UNHCR)              </td><td>2                                                                                </td></tr>\n",
       "</tbody>\n",
       "</table>\n"
      ],
      "text/latex": [
       "\\begin{tabular}{r|ll}\n",
       " full\\_name & n\\\\\n",
       "\\hline\n",
       "\t Comité international de la Croix Rouge (International Committee of the Red Cross) & 3                                                                                \\\\\n",
       "\t Frederick Sanger                                                                  & 2                                                                                \\\\\n",
       "\t John Bardeen                                                                      & 2                                                                                \\\\\n",
       "\t Linus Carl Pauling                                                                & 2                                                                                \\\\\n",
       "\t Marie Curie, née Sklodowska                                                       & 2                                                                                \\\\\n",
       "\t Office of the United Nations High Commissioner for Refugees (UNHCR)               & 2                                                                                \\\\\n",
       "\\end{tabular}\n"
      ],
      "text/markdown": [
       "\n",
       "| full_name | n |\n",
       "|---|---|\n",
       "| Comité international de la Croix Rouge (International Committee of the Red Cross) | 3                                                                                 |\n",
       "| Frederick Sanger                                                                  | 2                                                                                 |\n",
       "| John Bardeen                                                                      | 2                                                                                 |\n",
       "| Linus Carl Pauling                                                                | 2                                                                                 |\n",
       "| Marie Curie, née Sklodowska                                                       | 2                                                                                 |\n",
       "| Office of the United Nations High Commissioner for Refugees (UNHCR)               | 2                                                                                 |\n",
       "\n"
      ],
      "text/plain": [
       "  full_name                                                                        \n",
       "1 Comité international de la Croix Rouge (International Committee of the Red Cross)\n",
       "2 Frederick Sanger                                                                 \n",
       "3 John Bardeen                                                                     \n",
       "4 Linus Carl Pauling                                                               \n",
       "5 Marie Curie, née Sklodowska                                                      \n",
       "6 Office of the United Nations High Commissioner for Refugees (UNHCR)              \n",
       "  n\n",
       "1 3\n",
       "2 2\n",
       "3 2\n",
       "4 2\n",
       "5 2\n",
       "6 2"
      ]
     },
     "metadata": {},
     "output_type": "display_data"
    }
   ],
   "source": [
    "# Selecting the laureates that have received 2 or more prizes.\n",
    "nobel %>%\n",
    "    group_by(full_name) %>%\n",
    "        count() %>%\n",
    "            filter(n>1)"
   ]
  },
  {
   "cell_type": "markdown",
   "id": "1021ddd4",
   "metadata": {},
   "source": [
    "## How old are you when you get the prize?\n",
    "<p>The list of repeat winners contains some illustrious names! We again meet Marie Curie, who got the prize in physics for discovering radiation and in chemistry for isolating radium and polonium. John Bardeen got it twice in physics for transistors and superconductivity, Frederick Sanger got it twice in chemistry, and Linus Carl Pauling got it first in chemistry and later in peace for his work in promoting nuclear disarmament. We also learn that organizations also get the prize as both the Red Cross and the UNHCR have gotten it twice.</p>\n",
    "<p>But how old are you generally when you get the prize?</p>"
   ]
  },
  {
   "cell_type": "code",
   "execution_count": 8,
   "id": "e9733222",
   "metadata": {},
   "outputs": [
    {
     "name": "stderr",
     "output_type": "stream",
     "text": [
      "\n",
      "Attaching package: 'lubridate'\n",
      "\n",
      "The following object is masked from 'package:base':\n",
      "\n",
      "    date\n",
      "\n",
      "Warning message:\n",
      "\"Removed 28 rows containing non-finite values (stat_smooth).\"Warning message:\n",
      "\"Removed 28 rows containing missing values (geom_point).\""
     ]
    },
    {
     "data": {
      "image/png": "[encoded data removed]",
      "text/plain": [
       "plot without title"
      ]
     },
     "metadata": {},
     "output_type": "display_data"
    }
   ],
   "source": [
    "# Loading the lubridate package\n",
    "library(lubridate)\n",
    "\n",
    "# Calculating the age of Nobel Prize winners\n",
    "nobel_age <- nobel %>%\n",
    "                mutate(age = year - year(birth_date))\n",
    "\n",
    "# Plotting the age of Nobel Prize winners\n",
    "ggplot(nobel_age, aes(x=year, y=age)) +\n",
    "    geom_point() +\n",
    "        geom_smooth(method=\"lm\")"
   ]
  },
  {
   "cell_type": "markdown",
   "id": "26f006a8",
   "metadata": {},
   "source": [
    "## Age differences between prize categories\n",
    "<p>The plot above shows us a lot! We see that people use to be around 55 when they received the price, but nowadays the average is closer to 65. But there is a large spread in the laureates' ages, and while most are 50+, some are very young.</p>\n",
    "<p>We also see that the density of points is much high nowadays than in the early 1900s -- nowadays many more of the prizes are shared, and so there are many more winners. We also see that there was a disruption in awarded prizes around the Second World War (1939 - 1945). </p>\n",
    "<p>Let's look at age trends within different prize categories.</p>"
   ]
  },
  {
   "cell_type": "code",
   "execution_count": 9,
   "id": "c91c5ae7",
   "metadata": {},
   "outputs": [
    {
     "name": "stderr",
     "output_type": "stream",
     "text": [
      "Warning message:\n",
      "\"Removed 28 rows containing non-finite values (stat_smooth).\"Warning message:\n",
      "\"Removed 28 rows containing missing values (geom_point).\""
     ]
    },
    {
     "data": {
      "image/png": "[encoded data removed]",
      "text/plain": [
       "plot without title"
      ]
     },
     "metadata": {},
     "output_type": "display_data"
    }
   ],
   "source": [
    "# Same plot as above, but faceted by the category of the Nobel Prize\n",
    "ggplot(nobel_age, aes(x=year, y=age)) +\n",
    "    geom_point() +\n",
    "        geom_smooth(method=\"lm\") +\n",
    "            facet_wrap(~category)"
   ]
  },
  {
   "cell_type": "markdown",
   "id": "f7514ece",
   "metadata": {},
   "source": [
    "## Oldest and youngest winners\n",
    "<p>Another plot with lots of exciting stuff going on! We see that both winners of the chemistry, medicine, and physics prize have gotten older over time. The trend is strongest for physics: the average age used to be below 50, and now it's almost 70. Literature and economics are more stable, and we also see that economics is a newer category. But peace shows an opposite trend where winners are getting younger! </p>\n",
    "<p>In the peace category we also a winner around 2010 that seems exceptionally young. This begs the questions, who are the oldest and youngest people ever to have won a Nobel Prize?</p>"
   ]
  },
  {
   "cell_type": "code",
   "execution_count": 10,
   "id": "d049519a",
   "metadata": {},
   "outputs": [
    {
     "data": {
      "text/html": [
       "<table>\n",
       "<thead><tr><th scope=col>full_name</th><th scope=col>year</th><th scope=col>category</th><th scope=col>age</th></tr></thead>\n",
       "<tbody>\n",
       "\t<tr><td>Malala Yousafzai</td><td>2014            </td><td>Peace           </td><td>17              </td></tr>\n",
       "</tbody>\n",
       "</table>\n"
      ],
      "text/latex": [
       "\\begin{tabular}{r|llll}\n",
       " full\\_name & year & category & age\\\\\n",
       "\\hline\n",
       "\t Malala Yousafzai & 2014             & Peace            & 17              \\\\\n",
       "\\end{tabular}\n"
      ],
      "text/markdown": [
       "\n",
       "| full_name | year | category | age |\n",
       "|---|---|---|---|\n",
       "| Malala Yousafzai | 2014             | Peace            | 17               |\n",
       "\n"
      ],
      "text/plain": [
       "  full_name        year category age\n",
       "1 Malala Yousafzai 2014 Peace    17 "
      ]
     },
     "metadata": {},
     "output_type": "display_data"
    },
    {
     "data": {
      "text/html": [
       "<table>\n",
       "<thead><tr><th scope=col>full_name</th><th scope=col>year</th><th scope=col>category</th><th scope=col>age</th></tr></thead>\n",
       "<tbody>\n",
       "\t<tr><td>Leonid Hurwicz</td><td>2007          </td><td>Economics     </td><td>90            </td></tr>\n",
       "</tbody>\n",
       "</table>\n"
      ],
      "text/latex": [
       "\\begin{tabular}{r|llll}\n",
       " full\\_name & year & category & age\\\\\n",
       "\\hline\n",
       "\t Leonid Hurwicz & 2007           & Economics      & 90            \\\\\n",
       "\\end{tabular}\n"
      ],
      "text/markdown": [
       "\n",
       "| full_name | year | category | age |\n",
       "|---|---|---|---|\n",
       "| Leonid Hurwicz | 2007           | Economics      | 90             |\n",
       "\n"
      ],
      "text/plain": [
       "  full_name      year category  age\n",
       "1 Leonid Hurwicz 2007 Economics 90 "
      ]
     },
     "metadata": {},
     "output_type": "display_data"
    }
   ],
   "source": [
    "# The oldest winner of a Nobel Prize as of 2016\n",
    "nobel_age %>% \n",
    "    top_n(1, desc(age)) %>% \n",
    "        select(full_name, year, category, age)\n",
    "\n",
    "# The youngest winner of a Nobel Prize as of 2016\n",
    "nobel_age %>% \n",
    "    top_n(1, age) %>% \n",
    "        select(full_name, year, category, age)"
   ]
  },
  {
   "cell_type": "markdown",
   "id": "306dfa12",
   "metadata": {},
   "source": [
    "## Category differences for birth country\n",
    "<p>Finally, in which categories were the 10 countries that had most Nobel Prizes most profitable? </p>\n",
    "    <p>Let's find out!</p>"
   ]
  },
  {
   "cell_type": "code",
   "execution_count": 11,
   "id": "52e496d4",
   "metadata": {},
   "outputs": [
    {
     "data": {
      "text/html": [
       "<ol class=list-inline>\n",
       "\t<li>'USA'</li>\n",
       "\t<li>'United Kingdom'</li>\n",
       "\t<li>'Germany'</li>\n",
       "\t<li>'France'</li>\n",
       "\t<li>'Sweden'</li>\n",
       "\t<li>'Japan'</li>\n",
       "\t<li>'Canada'</li>\n",
       "\t<li>'Netherlands'</li>\n",
       "\t<li>'Italy'</li>\n",
       "\t<li>'Russia'</li>\n",
       "</ol>\n"
      ],
      "text/latex": [
       "\\begin{enumerate*}\n",
       "\\item 'USA'\n",
       "\\item 'United Kingdom'\n",
       "\\item 'Germany'\n",
       "\\item 'France'\n",
       "\\item 'Sweden'\n",
       "\\item 'Japan'\n",
       "\\item 'Canada'\n",
       "\\item 'Netherlands'\n",
       "\\item 'Italy'\n",
       "\\item 'Russia'\n",
       "\\end{enumerate*}\n"
      ],
      "text/markdown": [
       "1. 'USA'\n",
       "2. 'United Kingdom'\n",
       "3. 'Germany'\n",
       "4. 'France'\n",
       "5. 'Sweden'\n",
       "6. 'Japan'\n",
       "7. 'Canada'\n",
       "8. 'Netherlands'\n",
       "9. 'Italy'\n",
       "10. 'Russia'\n",
       "\n",
       "\n"
      ],
      "text/plain": [
       " [1] \"USA\"            \"United Kingdom\" \"Germany\"        \"France\"        \n",
       " [5] \"Sweden\"         \"Japan\"          \"Canada\"         \"Netherlands\"   \n",
       " [9] \"Italy\"          \"Russia\"        "
      ]
     },
     "metadata": {},
     "output_type": "display_data"
    },
    {
     "data": {
      "image/png": "[encoded data removed]",
      "text/plain": [
       "plot without title"
      ]
     },
     "metadata": {},
     "output_type": "display_data"
    }
   ],
   "source": [
    "# Find the 10 birth countries that won the most\n",
    "major_winners <- nobel %>%\n",
    "                    filter(!is.na(birth_country)) %>%\n",
    "                                group_by(birth_country) %>%\n",
    "                                    count() %>% \n",
    "                                        arrange(desc(n)) %>% \n",
    "                                            head(10) %>%\n",
    "                                                pull(birth_country)\n",
    "major_winners\n",
    "\n",
    "# Filter by the major winners, group by country and category and count the total prizes\n",
    "prizes_by_country_and_category <- nobel %>%\n",
    "                                    filter(birth_country %in% major_winners) %>%\n",
    "                                        group_by(birth_country, category) %>%\n",
    "                                            count() \n",
    "\n",
    "# Plot the results\n",
    "ggplot(prizes_by_country_and_category, aes(x=category, y=n, fill=category)) +\n",
    "    geom_bar(stat=\"identity\") +\n",
    "        facet_wrap(~birth_country) + \n",
    "            scale_fill_brewer(palette=\"Set1\") +\n",
    "                theme(axis.text.x = element_text(angle = 90)) +\n",
    "                    ylab(\"prize counts\")"
   ]
  }
 ],
 "metadata": {
  "kernelspec": {
   "display_name": "R",
   "language": "R",
   "name": "ir"
  },
  "language_info": {
   "codemirror_mode": "r",
   "file_extension": ".r",
   "mimetype": "text/x-r-source",
   "name": "R",
   "pygments_lexer": "r",
   "version": "3.6.1"
  }
 },
 "nbformat": 4,
 "nbformat_minor": 5
}
