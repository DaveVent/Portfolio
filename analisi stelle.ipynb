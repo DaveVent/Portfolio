{
 "cells": [
  {
   "cell_type": "markdown",
   "id": "98186186",
   "metadata": {},
   "source": [
    "# Analisi delle 91 stelle principali\n",
    "**Il dataset Stelle contiene dati relativi alle 91 stelle principali della volta celeste, recuperati da Wikipedia (https://it.wikipedia.org/wiki/Stelle_pi%C3%B9_brillanti_del_cielo_notturno_osservabile), Astropix.it (http://www.astropix.it/) e dal database astronomico del centro di studi astronomici di Strasburgo SIMBAD (http://simbad.u-strasbg.fr/simbad/) e ordinati all'interno di un file excel. Vogliamo eseguire un'analisi esplorativa atta a individuare la natura dei dati e possibili relazioni tra questi. Utilizzeremo il linguaggio Python e in particolare le librerie Numpy, Pandas, Matplotlib e Seaborn.**"
   ]
  },
  {
   "cell_type": "markdown",
   "id": "c2a825b6",
   "metadata": {},
   "source": [
    "## Descrizione del dataset\n",
    "il dataset è costituito da 91 record e 9 campi. i campi sono i seguenti:\n",
    "\n",
    "**Nome**: il nome proprio della stella.\n",
    "\n",
    "**Bayer**: il nome della stella secondo la nomenclatura di Beyer, costituito da lettera greca e abbreviazione del genitivo del nome latino della costellazione.\n",
    "\n",
    "$$ Vega = \\alpha\\ Lyr $$\n",
    "$$ Rigel = \\beta\\ Ori $$\n",
    "\n",
    "**mag_app**: la magnitudine apparente della stella, ovvero la misura della sua luminosità in relazione alla distanza dalla terra. Minore è il numero, maggiore è la luminosità. Per il calcolo della magnitudine apparente si utilizza la formula di Pogson:\n",
    "$$ m_1 - m_2 = -2,5log_{10}(\\frac{S_1}{S_2}) $$\n",
    "\n",
    "dove m è la magnitudine apparente di una stella e S il suo splendore.\n",
    "\n",
    "\n",
    "**rag_sol**: il raggio della stella espresso in raggi solari (R⊙). $$ R⊙ = 696.340 Km $$\n",
    "\n",
    "**dist**: la distanza della stella dalla terra espressa in Anni Luce (AL). $$ 1 AL = 9,460e^{15} $$ \n",
    "\n",
    "**class_spet**: la classe spettrale della stella. In astronomia, le classi spettrali stellari sono indicate dalle seguenti lettere, a ognuna delle quali corrisponde un diverso colore e una diversa temperatura superficiale, misurata in Kelvin:\n",
    "\n",
    "| CLASSE |   COLORE   |      T (K)      |\n",
    "|:------:|:----------:|:---------------:|\n",
    "|    O   |     Blu    |     >30.000     |\n",
    "|    B   | Blu chiaro | 10.000 - 30.000 |\n",
    "|    A   |   Azzurro  |  7500 - 10.000  |\n",
    "|    F   |   Bianco   |   6000 - 7500   |\n",
    "|    G   |   Giallo   |   5200 - 6000   |\n",
    "|    K   |  Arancione |   3700 - 5200   |\n",
    "|    M   |    Rosso   |   2400 - 3700   |\n",
    "\n",
    "**tipo**: la tipologia della stella. Le tipologie più comuni sono le seguenti, a ognuna delle quali corrisponde una diversa classe di luminosità, dalla più luminosa alla meno luminosa:\n",
    "\n",
    "| TIPOLOGIA           | CLASSE LUMINOSITA' |\n",
    "|---------------------|:------------------:|\n",
    "| Supergigante        |          I         |\n",
    "| Gigante brillante   |         II         |\n",
    "| Gigante             |         III        |\n",
    "| Subgigante          |         IV         |\n",
    "| Sequenza principale |          V         |\n",
    "| Nana                |         VI         |\n",
    "\n",
    "**class**: la classificazione della stella, che prende in considerazione lo spettro e la tipologia (es. Gigante arancione).\n",
    "\n",
    "**costell**: il nome della costellazione a cui la stella appartiene."
   ]
  },
  {
   "cell_type": "markdown",
   "id": "db33bb96",
   "metadata": {},
   "source": [
    "### Inizio analisi\n",
    "Importiamo i moduli necessari."
   ]
  },
  {
   "cell_type": "code",
   "execution_count": 1,
   "id": "7c4bf1ea",
   "metadata": {},
   "outputs": [],
   "source": [
    "import numpy as np\n",
    "import pandas as pd\n",
    "import seaborn as sns\n",
    "import matplotlib.pyplot as plt"
   ]
  },
  {
   "cell_type": "markdown",
   "id": "9ae02bcc",
   "metadata": {},
   "source": [
    "Carichiamo il dataset e diamo un'occhiata alle prime 5 righe per accertarci che sia stato importato correttamente."
   ]
  },
  {
   "cell_type": "code",
   "execution_count": 2,
   "id": "5b9aea3f",
   "metadata": {},
   "outputs": [
    {
     "data": {
      "text/html": [
       "<div>\n",
       "<style scoped>\n",
       "    .dataframe tbody tr th:only-of-type {\n",
       "        vertical-align: middle;\n",
       "    }\n",
       "\n",
       "    .dataframe tbody tr th {\n",
       "        vertical-align: top;\n",
       "    }\n",
       "\n",
       "    .dataframe thead th {\n",
       "        text-align: right;\n",
       "    }\n",
       "</style>\n",
       "<table border=\"1\" class=\"dataframe\">\n",
       "  <thead>\n",
       "    <tr style=\"text-align: right;\">\n",
       "      <th></th>\n",
       "      <th>Nome</th>\n",
       "      <th>Bayer</th>\n",
       "      <th>mag_app</th>\n",
       "      <th>rag_sol</th>\n",
       "      <th>dist</th>\n",
       "      <th>clas_spet</th>\n",
       "      <th>tipo</th>\n",
       "      <th>class</th>\n",
       "      <th>costell</th>\n",
       "    </tr>\n",
       "  </thead>\n",
       "  <tbody>\n",
       "    <tr>\n",
       "      <th>0</th>\n",
       "      <td>Sole</td>\n",
       "      <td>NaN</td>\n",
       "      <td>-26.73</td>\n",
       "      <td>1.00</td>\n",
       "      <td>0.000016</td>\n",
       "      <td>G</td>\n",
       "      <td>Stella di sequenza principale</td>\n",
       "      <td>Stella di sequenza principale gialla</td>\n",
       "      <td>NaN</td>\n",
       "    </tr>\n",
       "    <tr>\n",
       "      <th>1</th>\n",
       "      <td>Sirio</td>\n",
       "      <td>α CMa</td>\n",
       "      <td>-1.47</td>\n",
       "      <td>1.88</td>\n",
       "      <td>8.600000</td>\n",
       "      <td>A</td>\n",
       "      <td>Stella di sequenza principale</td>\n",
       "      <td>Stella di sequenza principale bianca</td>\n",
       "      <td>Cane Maggiore</td>\n",
       "    </tr>\n",
       "    <tr>\n",
       "      <th>2</th>\n",
       "      <td>Canopo</td>\n",
       "      <td>α Car</td>\n",
       "      <td>-0.62</td>\n",
       "      <td>71.50</td>\n",
       "      <td>310.000000</td>\n",
       "      <td>F</td>\n",
       "      <td>Supergigante</td>\n",
       "      <td>Supergigante giallo-bianca</td>\n",
       "      <td>Carena</td>\n",
       "    </tr>\n",
       "    <tr>\n",
       "      <th>3</th>\n",
       "      <td>Arturo</td>\n",
       "      <td>α Boo</td>\n",
       "      <td>-0.04</td>\n",
       "      <td>35.56</td>\n",
       "      <td>37.000000</td>\n",
       "      <td>K</td>\n",
       "      <td>Gigante</td>\n",
       "      <td>Gigante arancione</td>\n",
       "      <td>Boote</td>\n",
       "    </tr>\n",
       "    <tr>\n",
       "      <th>4</th>\n",
       "      <td>Alfa Centauri A</td>\n",
       "      <td>α1 Cen</td>\n",
       "      <td>-0.01</td>\n",
       "      <td>1.20</td>\n",
       "      <td>4.400000</td>\n",
       "      <td>G</td>\n",
       "      <td>Nana</td>\n",
       "      <td>Nana gialla</td>\n",
       "      <td>Centauro</td>\n",
       "    </tr>\n",
       "  </tbody>\n",
       "</table>\n",
       "</div>"
      ],
      "text/plain": [
       "              Nome   Bayer  mag_app  rag_sol        dist clas_spet  \\\n",
       "0             Sole     NaN   -26.73     1.00    0.000016         G   \n",
       "1            Sirio   α CMa    -1.47     1.88    8.600000         A   \n",
       "2           Canopo   α Car    -0.62    71.50  310.000000         F   \n",
       "3           Arturo   α Boo    -0.04    35.56   37.000000         K   \n",
       "4  Alfa Centauri A  α1 Cen    -0.01     1.20    4.400000         G   \n",
       "\n",
       "                            tipo                                 class  \\\n",
       "0  Stella di sequenza principale  Stella di sequenza principale gialla   \n",
       "1  Stella di sequenza principale  Stella di sequenza principale bianca   \n",
       "2                   Supergigante            Supergigante giallo-bianca   \n",
       "3                        Gigante                     Gigante arancione   \n",
       "4                           Nana                           Nana gialla   \n",
       "\n",
       "         costell  \n",
       "0            NaN  \n",
       "1  Cane Maggiore  \n",
       "2         Carena  \n",
       "3          Boote  \n",
       "4       Centauro  "
      ]
     },
     "execution_count": 2,
     "metadata": {},
     "output_type": "execute_result"
    }
   ],
   "source": [
    "dati = pd.read_excel(\"Stelle.xlsx\")\n",
    "dati.head()"
   ]
  },
  {
   "cell_type": "markdown",
   "id": "11cdf681",
   "metadata": {},
   "source": [
    "Controlliamo la tipologia di dati delle colonne del dataframe appena caricato."
   ]
  },
  {
   "cell_type": "code",
   "execution_count": 3,
   "id": "2c8dda4a",
   "metadata": {},
   "outputs": [
    {
     "data": {
      "text/plain": [
       "Nome          object\n",
       "Bayer         object\n",
       "mag_app      float64\n",
       "rag_sol      float64\n",
       "dist         float64\n",
       "clas_spet     object\n",
       "tipo          object\n",
       "class         object\n",
       "costell       object\n",
       "dtype: object"
      ]
     },
     "execution_count": 3,
     "metadata": {},
     "output_type": "execute_result"
    }
   ],
   "source": [
    "dati.dtypes"
   ]
  },
  {
   "cell_type": "markdown",
   "id": "0f79355e",
   "metadata": {},
   "source": [
    "Si tratta di dati di natura principalmente categorica, con l'eccezione della magnitudine, del raggio solare e della distanza, variabili di natura numerica.\n",
    "Controlliamo la presenza di valori mancanti."
   ]
  },
  {
   "cell_type": "code",
   "execution_count": 4,
   "id": "4a16b78d",
   "metadata": {
    "scrolled": true
   },
   "outputs": [
    {
     "data": {
      "text/plain": [
       "Nome         0\n",
       "Bayer        1\n",
       "mag_app      0\n",
       "rag_sol      0\n",
       "dist         0\n",
       "clas_spet    0\n",
       "tipo         0\n",
       "class        0\n",
       "costell      1\n",
       "dtype: int64"
      ]
     },
     "execution_count": 4,
     "metadata": {},
     "output_type": "execute_result"
    }
   ],
   "source": [
    "dati.isnull().sum()"
   ]
  },
  {
   "cell_type": "markdown",
   "id": "1aaf240f",
   "metadata": {},
   "source": [
    "Esistono due valori nulli, rispettivamente nella colonna della nomenclatura di Bayer e in quella della costellazione. Vediamo quali stelle risultano mancanti di queste informazioni. "
   ]
  },
  {
   "cell_type": "code",
   "execution_count": 5,
   "id": "72b482fd",
   "metadata": {},
   "outputs": [
    {
     "data": {
      "text/html": [
       "<div>\n",
       "<style scoped>\n",
       "    .dataframe tbody tr th:only-of-type {\n",
       "        vertical-align: middle;\n",
       "    }\n",
       "\n",
       "    .dataframe tbody tr th {\n",
       "        vertical-align: top;\n",
       "    }\n",
       "\n",
       "    .dataframe thead th {\n",
       "        text-align: right;\n",
       "    }\n",
       "</style>\n",
       "<table border=\"1\" class=\"dataframe\">\n",
       "  <thead>\n",
       "    <tr style=\"text-align: right;\">\n",
       "      <th></th>\n",
       "      <th>Nome</th>\n",
       "      <th>Bayer</th>\n",
       "      <th>mag_app</th>\n",
       "      <th>rag_sol</th>\n",
       "      <th>dist</th>\n",
       "      <th>clas_spet</th>\n",
       "      <th>tipo</th>\n",
       "      <th>class</th>\n",
       "      <th>costell</th>\n",
       "    </tr>\n",
       "  </thead>\n",
       "  <tbody>\n",
       "    <tr>\n",
       "      <th>0</th>\n",
       "      <td>Sole</td>\n",
       "      <td>NaN</td>\n",
       "      <td>-26.73</td>\n",
       "      <td>1.0</td>\n",
       "      <td>0.000016</td>\n",
       "      <td>G</td>\n",
       "      <td>Stella di sequenza principale</td>\n",
       "      <td>Stella di sequenza principale gialla</td>\n",
       "      <td>NaN</td>\n",
       "    </tr>\n",
       "  </tbody>\n",
       "</table>\n",
       "</div>"
      ],
      "text/plain": [
       "   Nome Bayer  mag_app  rag_sol      dist clas_spet  \\\n",
       "0  Sole   NaN   -26.73      1.0  0.000016         G   \n",
       "\n",
       "                            tipo                                 class costell  \n",
       "0  Stella di sequenza principale  Stella di sequenza principale gialla     NaN  "
      ]
     },
     "execution_count": 5,
     "metadata": {},
     "output_type": "execute_result"
    }
   ],
   "source": [
    "dati[(dati[\"Bayer\"].isnull()) | (dati[\"costell\"].isnull())]"
   ]
  },
  {
   "cell_type": "markdown",
   "id": "6a534975",
   "metadata": {},
   "source": [
    "Entrambi i valori mancanti si riferiscono al Sole, il che ha perfettamente senso dal momento che la nostra stella non possiede né una costellazione di riferimento né di conseguenza una nomenclatura di Bayer.\n",
    "\n",
    "Poiché la colonna **Nome** identifica in maniera univoca ogni record, possiamo renderla l'indice del Dataframe. "
   ]
  },
  {
   "cell_type": "code",
   "execution_count": 6,
   "id": "34cd5994",
   "metadata": {
    "scrolled": true
   },
   "outputs": [],
   "source": [
    "dati.set_index(\"Nome\", inplace=True)"
   ]
  },
  {
   "cell_type": "markdown",
   "id": "7d371531",
   "metadata": {},
   "source": [
    "Procediamo con un'analisi delle variabili categoriche più interessanti. Possiamo anzitutto verificare quali delle tradizionali classi spettrali usate in astronomia sono presenti nel dataset. Trattandosi nel migliore dei casi di sole 7 unità, possiamo usare la funzione built-in di Python *set()*, che rimuove automaticamente i duplicati, e scorgerle a colpo d'occhio. "
   ]
  },
  {
   "cell_type": "code",
   "execution_count": 7,
   "id": "2be17607",
   "metadata": {},
   "outputs": [
    {
     "name": "stdout",
     "output_type": "stream",
     "text": [
      "{'F', 'B', 'O', 'K', 'G', 'A', 'M'}\n"
     ]
    }
   ],
   "source": [
    "print(set(dati[\"clas_spet\"]))"
   ]
  },
  {
   "cell_type": "markdown",
   "id": "50f26cfc",
   "metadata": {},
   "source": [
    "Nel nostro dataset compaiono tutte le classi spettrali! Il che significa che almeno una stella appartiene a una delle classi spettrali principali. \n",
    "\n",
    "Costruiamo dunque un diagramma a barre per vedere qual è la classe spettrale più frequente tra le 91 stelle più luminose della volta celeste. Utilizzeremo il modulo Seaborn e il metodo *.catplot()*."
   ]
  },
  {
   "cell_type": "code",
   "execution_count": 8,
   "id": "aaf3e048",
   "metadata": {},
   "outputs": [
    {
     "data": {
      "text/plain": [
       "<seaborn.axisgrid.FacetGrid at 0x1861e30ddf0>"
      ]
     },
     "execution_count": 8,
     "metadata": {},
     "output_type": "execute_result"
    },
    {
     "data": {
      "image/png": "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\n",
      "text/plain": [
       "<Figure size 360x360 with 1 Axes>"
      ]
     },
     "metadata": {},
     "output_type": "display_data"
    }
   ],
   "source": [
    "#Impostiamo il contesto di Seaborn\n",
    "sns.set_context(\"notebook\")\n",
    "#Impostiamo lo stile di Seaborn\n",
    "sns.set_style(\"dark\")\n",
    "#Creiamo una lista specificando l'ordine in cui vogliamo che le categorie appaiano\n",
    "classe_ord = [\"O\", \"B\", \"A\", \"F\", \"G\", \"K\", \"M\"]\n",
    "#Creiamo una palette di colori in linea col colore dello spettro\n",
    "pal = [\"darkblue\", \"blue\", \"lightblue\", \"azure\", \"yellow\", \"orange\", \"red\"]\n",
    "#Creiamo il diagramma a barre\n",
    "sns.catplot(x=\"clas_spet\", data=dati, kind=\"count\", \n",
    "            order=classe_ord,palette=pal, edgecolor=\"black\").set(xlabel=\"Classe spettrale\", ylabel=\"Frequenza\", \n",
    "                                                                title=\"FREQUENZA CLASSE SPETTRALE\")"
   ]
  },
  {
   "cell_type": "markdown",
   "id": "b404d92e",
   "metadata": {},
   "source": [
    "La classe più frequente è la B, seguita dalla K e dalla A. La maggior parte delle stelle più brillanti visibili ad occhio nudo, dunque, sono di colore blu, azzurro o arancione. La presenza di stelle di classe G, quella del nostro sole, è invece molto esigua.\n",
    "\n",
    "Per avere un'informazione più precisa, possiamo usare il metodo *value_counts()* specificando l'argomento *normalize*. La funzione restituirà la frequenza relativa di ogni classe."
   ]
  },
  {
   "cell_type": "code",
   "execution_count": 9,
   "id": "009d6b63",
   "metadata": {
    "scrolled": true
   },
   "outputs": [
    {
     "data": {
      "text/plain": [
       "B    34.065934\n",
       "K    21.978022\n",
       "A    19.780220\n",
       "F     9.890110\n",
       "M     6.593407\n",
       "G     4.395604\n",
       "O     3.296703\n",
       "Name: clas_spet, dtype: float64"
      ]
     },
     "execution_count": 9,
     "metadata": {},
     "output_type": "execute_result"
    }
   ],
   "source": [
    "dati.clas_spet.value_counts(normalize=True) * 100"
   ]
  },
  {
   "cell_type": "markdown",
   "id": "b1b5f9a1",
   "metadata": {},
   "source": [
    "Compiamo un'operazione analoga a quella svolta sulle classi spettrali sulla tipologia. Iniziamo a verificare le tipologie presenti nel dataset."
   ]
  },
  {
   "cell_type": "code",
   "execution_count": 10,
   "id": "ebc96e21",
   "metadata": {
    "scrolled": true
   },
   "outputs": [
    {
     "name": "stdout",
     "output_type": "stream",
     "text": [
      "{'Supergigante', 'Subgigante', 'Nana', 'Gigante', 'Stella di sequenza principale'}\n"
     ]
    }
   ],
   "source": [
    "print(set(dati[\"tipo\"]))"
   ]
  },
  {
   "cell_type": "markdown",
   "id": "c1946c34",
   "metadata": {},
   "source": [
    "L'unica tipologia mancante è quella delle giganti brillanti. \n",
    "\n",
    "Creiamo un diagramma a barre per verificare la frequenza di ogni tipologia e usiamo poi il metodo *value_counts()* per individuare le frequenze relative."
   ]
  },
  {
   "cell_type": "code",
   "execution_count": 11,
   "id": "b656d3e7",
   "metadata": {},
   "outputs": [
    {
     "data": {
      "text/plain": [
       "(array([0, 1, 2, 3, 4]),\n",
       " [Text(0, 0, 'Nana'),\n",
       "  Text(1, 0, 'Seq. princip.'),\n",
       "  Text(2, 0, 'Subgigante'),\n",
       "  Text(3, 0, 'Gigante'),\n",
       "  Text(4, 0, 'Supergigante')])"
      ]
     },
     "execution_count": 11,
     "metadata": {},
     "output_type": "execute_result"
    },
    {
     "data": {
      "image/png": "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\n",
      "text/plain": [
       "<Figure size 360x360 with 1 Axes>"
      ]
     },
     "metadata": {},
     "output_type": "display_data"
    }
   ],
   "source": [
    "#Sostituiamo la dicitura usata nel dataset per le stelle di sequenza principale con una più agevole\n",
    "dati.tipo.replace(\"Stella di sequenza principale\", \"Seq. princip.\", inplace=True)\n",
    "#Creiamo una lista specificando l'ordine in cui vogliamo che le categorie appaiano\n",
    "tipo_ord = [\"Nana\", \"Seq. princip.\", \"Subgigante\", \"Gigante\", \"Supergigante\"]\n",
    "#Creiamo il diagramma a barre\n",
    "sns.catplot(x=\"tipo\", data=dati, kind=\"count\", order=tipo_ord, palette=\"Blues\", edgecolor=\"black\").set(xlabel=\"Tipologia\", \n",
    "                                                                                    ylabel=\"Frequenza\", \n",
    "                                                                                    title=\"FREQUENZA TIPOLOGIA\")\n",
    "#Ruotiamo i nomi delle categorie di 90°\n",
    "plt.xticks(rotation=90)"
   ]
  },
  {
   "cell_type": "code",
   "execution_count": 12,
   "id": "73d9cb87",
   "metadata": {},
   "outputs": [
    {
     "data": {
      "text/plain": [
       "Gigante          41.758242\n",
       "Seq. princip.    24.175824\n",
       "Supergigante     20.879121\n",
       "Subgigante       10.989011\n",
       "Nana              2.197802\n",
       "Name: tipo, dtype: float64"
      ]
     },
     "execution_count": 12,
     "metadata": {},
     "output_type": "execute_result"
    }
   ],
   "source": [
    "dati.tipo.value_counts(normalize=True) * 100"
   ]
  },
  {
   "cell_type": "markdown",
   "id": "2046b6fe",
   "metadata": {},
   "source": [
    "Interessante notare una percentuale di oltre il 40% di stelle giganti, tendenzialmente molto più grandi e intrinsecamente luminose rispetto al nostro Sole. Discreta anche la percentuale di stelle supergiganti.\n",
    "\n",
    "Diamo ora un'occhiata ad alcune statistiche relative alle variabili numeriche."
   ]
  },
  {
   "cell_type": "code",
   "execution_count": 13,
   "id": "2e32842b",
   "metadata": {},
   "outputs": [
    {
     "data": {
      "text/html": [
       "<div>\n",
       "<style scoped>\n",
       "    .dataframe tbody tr th:only-of-type {\n",
       "        vertical-align: middle;\n",
       "    }\n",
       "\n",
       "    .dataframe tbody tr th {\n",
       "        vertical-align: top;\n",
       "    }\n",
       "\n",
       "    .dataframe thead th {\n",
       "        text-align: right;\n",
       "    }\n",
       "</style>\n",
       "<table border=\"1\" class=\"dataframe\">\n",
       "  <thead>\n",
       "    <tr style=\"text-align: right;\">\n",
       "      <th></th>\n",
       "      <th>mag_app</th>\n",
       "      <th>rag_sol</th>\n",
       "      <th>dist</th>\n",
       "    </tr>\n",
       "  </thead>\n",
       "  <tbody>\n",
       "    <tr>\n",
       "      <th>count</th>\n",
       "      <td>91.000000</td>\n",
       "      <td>91.000000</td>\n",
       "      <td>91.000000</td>\n",
       "    </tr>\n",
       "    <tr>\n",
       "      <th>mean</th>\n",
       "      <td>1.402198</td>\n",
       "      <td>51.378352</td>\n",
       "      <td>346.290110</td>\n",
       "    </tr>\n",
       "    <tr>\n",
       "      <th>std</th>\n",
       "      <td>3.076848</td>\n",
       "      <td>140.427221</td>\n",
       "      <td>473.288416</td>\n",
       "    </tr>\n",
       "    <tr>\n",
       "      <th>min</th>\n",
       "      <td>-26.730000</td>\n",
       "      <td>0.860000</td>\n",
       "      <td>0.000016</td>\n",
       "    </tr>\n",
       "    <tr>\n",
       "      <th>25%</th>\n",
       "      <td>1.375000</td>\n",
       "      <td>4.050000</td>\n",
       "      <td>76.000000</td>\n",
       "    </tr>\n",
       "    <tr>\n",
       "      <th>50%</th>\n",
       "      <td>1.980000</td>\n",
       "      <td>9.100000</td>\n",
       "      <td>150.000000</td>\n",
       "    </tr>\n",
       "    <tr>\n",
       "      <th>75%</th>\n",
       "      <td>2.250000</td>\n",
       "      <td>43.450000</td>\n",
       "      <td>480.000000</td>\n",
       "    </tr>\n",
       "    <tr>\n",
       "      <th>max</th>\n",
       "      <td>2.500000</td>\n",
       "      <td>1000.000000</td>\n",
       "      <td>3200.000000</td>\n",
       "    </tr>\n",
       "  </tbody>\n",
       "</table>\n",
       "</div>"
      ],
      "text/plain": [
       "         mag_app      rag_sol         dist\n",
       "count  91.000000    91.000000    91.000000\n",
       "mean    1.402198    51.378352   346.290110\n",
       "std     3.076848   140.427221   473.288416\n",
       "min   -26.730000     0.860000     0.000016\n",
       "25%     1.375000     4.050000    76.000000\n",
       "50%     1.980000     9.100000   150.000000\n",
       "75%     2.250000    43.450000   480.000000\n",
       "max     2.500000  1000.000000  3200.000000"
      ]
     },
     "execution_count": 13,
     "metadata": {},
     "output_type": "execute_result"
    }
   ],
   "source": [
    "dati.describe()"
   ]
  },
  {
   "cell_type": "markdown",
   "id": "fa46a732",
   "metadata": {},
   "source": [
    "Notiamo subito una deviazione standard più elevata rispetto alla media per ognuna delle variabili, il che significa che i dati sono molto dispersi. Questo può essere dovuto alla presenza di outliers, procediamo quindi con una verifica visualizzando la distribuzione di ogni variabile con il metodo *.histplot()* di Seaborn, iniziando dalla magnitudine apparente."
   ]
  },
  {
   "cell_type": "code",
   "execution_count": 14,
   "id": "0b5373ce",
   "metadata": {},
   "outputs": [
    {
     "data": {
      "text/plain": [
       "[Text(0.5, 0, 'Magnitudine apparente'),\n",
       " Text(0, 0.5, 'Frequenza'),\n",
       " Text(0.5, 1.0, 'DISTRIBUZIONE MAGNITUDINE APPARENTE')]"
      ]
     },
     "execution_count": 14,
     "metadata": {},
     "output_type": "execute_result"
    },
    {
     "data": {
      "image/png": "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\n",
      "text/plain": [
       "<Figure size 432x288 with 1 Axes>"
      ]
     },
     "metadata": {},
     "output_type": "display_data"
    }
   ],
   "source": [
    "#Impostare lo stile di Seaborn\n",
    "sns.set_style(\"white\")\n",
    "#Creiamo l'istogramma\n",
    "sns.histplot(x=\"mag_app\", data=dati, kde=True, edgecolor=\"black\").set(xlabel=\"Magnitudine apparente\", \n",
    "                                                                      ylabel=\"Frequenza\", \n",
    "                                                                      title=\"DISTRIBUZIONE MAGNITUDINE APPARENTE\")"
   ]
  },
  {
   "cell_type": "markdown",
   "id": "d11e0993",
   "metadata": {},
   "source": [
    "Risulta evidente la presenza di un outlier con una magnitudine inferiore a -25. Verifichiamo di quale stella si tratta."
   ]
  },
  {
   "cell_type": "code",
   "execution_count": 15,
   "id": "ef011dca",
   "metadata": {
    "scrolled": false
   },
   "outputs": [
    {
     "data": {
      "text/html": [
       "<div>\n",
       "<style scoped>\n",
       "    .dataframe tbody tr th:only-of-type {\n",
       "        vertical-align: middle;\n",
       "    }\n",
       "\n",
       "    .dataframe tbody tr th {\n",
       "        vertical-align: top;\n",
       "    }\n",
       "\n",
       "    .dataframe thead th {\n",
       "        text-align: right;\n",
       "    }\n",
       "</style>\n",
       "<table border=\"1\" class=\"dataframe\">\n",
       "  <thead>\n",
       "    <tr style=\"text-align: right;\">\n",
       "      <th></th>\n",
       "      <th>mag_app</th>\n",
       "    </tr>\n",
       "    <tr>\n",
       "      <th>Nome</th>\n",
       "      <th></th>\n",
       "    </tr>\n",
       "  </thead>\n",
       "  <tbody>\n",
       "    <tr>\n",
       "      <th>Sole</th>\n",
       "      <td>-26.73</td>\n",
       "    </tr>\n",
       "  </tbody>\n",
       "</table>\n",
       "</div>"
      ],
      "text/plain": [
       "      mag_app\n",
       "Nome         \n",
       "Sole   -26.73"
      ]
     },
     "execution_count": 15,
     "metadata": {},
     "output_type": "execute_result"
    }
   ],
   "source": [
    "dati[dati[\"mag_app\"] == min(dati[\"mag_app\"])][[\"mag_app\"]]"
   ]
  },
  {
   "cell_type": "markdown",
   "id": "144c9918",
   "metadata": {},
   "source": [
    "Si tratta naturalmente del Sole! Essendo la stella più vicina a noi, la sua magnitudine apparente è estremamente bassa. Procediamo dunque a rimuoverlo dal dataset e ricreiamo l'istogramma per avere un'idea più precisa della magnitudine apparente delle altre stelle ."
   ]
  },
  {
   "cell_type": "code",
   "execution_count": 16,
   "id": "f9639e4e",
   "metadata": {
    "scrolled": true
   },
   "outputs": [
    {
     "data": {
      "text/plain": [
       "[Text(0.5, 0, 'Magnitudine apparente'),\n",
       " Text(0, 0.5, 'Frequenza'),\n",
       " Text(0.5, 1.0, 'DISTRIBUZIONE MAGNITUDINE APPARENTE')]"
      ]
     },
     "execution_count": 16,
     "metadata": {},
     "output_type": "execute_result"
    },
    {
     "data": {
      "image/png": "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\n",
      "text/plain": [
       "<Figure size 432x288 with 1 Axes>"
      ]
     },
     "metadata": {},
     "output_type": "display_data"
    }
   ],
   "source": [
    "dati.drop(\"Sole\", axis=0, inplace = True)\n",
    "sns.histplot(x=\"mag_app\", data=dati, kde=True, edgecolor=\"black\").set(xlabel='Magnitudine apparente', \n",
    "                                                                      ylabel=\"Frequenza\", \n",
    "                                                                      title=\"DISTRIBUZIONE MAGNITUDINE APPARENTE\")"
   ]
  },
  {
   "cell_type": "markdown",
   "id": "4424557a",
   "metadata": {},
   "source": [
    "Notiamo un'evidente asimmetria a sinistra, la maggior parte delle stelle del nostro dataset ha una magnitudine apparente compresa fra 2 e 2,5. Poiché l'asimmetria è a sinistra, la media della magnitudine apparente è inferiore al 50° percentile della stessa (meglio noto come mediana), come viene confermato anche consultando le statistiche ricavate sopra col metodo *.describe()*.\n",
    "\n",
    "Costruiamo un istogramma per le altre due variabili numeriche, per metterne a confronto la distribuzione."
   ]
  },
  {
   "cell_type": "code",
   "execution_count": 17,
   "id": "3dee4bab",
   "metadata": {},
   "outputs": [
    {
     "data": {
      "text/plain": [
       "[Text(0.5, 0, 'Raggi solari'), Text(0, 0.5, 'Frequenza')]"
      ]
     },
     "execution_count": 17,
     "metadata": {},
     "output_type": "execute_result"
    },
    {
     "data": {
      "image/png": "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\n",
      "text/plain": [
       "<Figure size 1080x360 with 2 Axes>"
      ]
     },
     "metadata": {},
     "output_type": "display_data"
    }
   ],
   "source": [
    "#Creiamo 3 assi diversi con matplotlib, uno per ogni istogramma\n",
    "fig, ax = plt.subplots(1,2, figsize=[15,5])\n",
    "\n",
    "#Distanza\n",
    "sns.histplot(x=\"dist\", data=dati, kde=True,  edgecolor=\"black\",ax=ax[0]).set(xlabel=\"Distanza AL\",\n",
    "                                                                            ylabel=\"Frequenza\")\n",
    "#Raggio solare\n",
    "sns.histplot(x=\"rag_sol\", data=dati, kde=True, edgecolor=\"black\", ax=ax[1]).set(xlabel=\"Raggi solari\",\n",
    "                                                                            ylabel=\"Frequenza\")"
   ]
  },
  {
   "cell_type": "markdown",
   "id": "9cfcefe3",
   "metadata": {},
   "source": [
    "Anche in questo caso sono presenti degli outliers, individuiamoli."
   ]
  },
  {
   "cell_type": "code",
   "execution_count": 18,
   "id": "97273973",
   "metadata": {
    "scrolled": true
   },
   "outputs": [
    {
     "data": {
      "text/html": [
       "<div>\n",
       "<style scoped>\n",
       "    .dataframe tbody tr th:only-of-type {\n",
       "        vertical-align: middle;\n",
       "    }\n",
       "\n",
       "    .dataframe tbody tr th {\n",
       "        vertical-align: top;\n",
       "    }\n",
       "\n",
       "    .dataframe thead th {\n",
       "        text-align: right;\n",
       "    }\n",
       "</style>\n",
       "<table border=\"1\" class=\"dataframe\">\n",
       "  <thead>\n",
       "    <tr style=\"text-align: right;\">\n",
       "      <th></th>\n",
       "      <th>Bayer</th>\n",
       "      <th>mag_app</th>\n",
       "      <th>rag_sol</th>\n",
       "      <th>dist</th>\n",
       "      <th>clas_spet</th>\n",
       "      <th>tipo</th>\n",
       "      <th>class</th>\n",
       "      <th>costell</th>\n",
       "    </tr>\n",
       "    <tr>\n",
       "      <th>Nome</th>\n",
       "      <th></th>\n",
       "      <th></th>\n",
       "      <th></th>\n",
       "      <th></th>\n",
       "      <th></th>\n",
       "      <th></th>\n",
       "      <th></th>\n",
       "      <th></th>\n",
       "    </tr>\n",
       "  </thead>\n",
       "  <tbody>\n",
       "    <tr>\n",
       "      <th>Betelgeuse</th>\n",
       "      <td>α Ori</td>\n",
       "      <td>0.58</td>\n",
       "      <td>1000.0</td>\n",
       "      <td>640.0</td>\n",
       "      <td>M</td>\n",
       "      <td>Supergigante</td>\n",
       "      <td>Supergigante rossa</td>\n",
       "      <td>Orione</td>\n",
       "    </tr>\n",
       "    <tr>\n",
       "      <th>Antares</th>\n",
       "      <td>α Sco</td>\n",
       "      <td>1.09</td>\n",
       "      <td>838.0</td>\n",
       "      <td>600.0</td>\n",
       "      <td>M</td>\n",
       "      <td>Supergigante</td>\n",
       "      <td>Supergigante rossa</td>\n",
       "      <td>Scorpione</td>\n",
       "    </tr>\n",
       "  </tbody>\n",
       "</table>\n",
       "</div>"
      ],
      "text/plain": [
       "            Bayer  mag_app  rag_sol   dist clas_spet          tipo  \\\n",
       "Nome                                                                 \n",
       "Betelgeuse  α Ori     0.58   1000.0  640.0         M  Supergigante   \n",
       "Antares     α Sco     1.09    838.0  600.0         M  Supergigante   \n",
       "\n",
       "                         class    costell  \n",
       "Nome                                       \n",
       "Betelgeuse  Supergigante rossa     Orione  \n",
       "Antares     Supergigante rossa  Scorpione  "
      ]
     },
     "execution_count": 18,
     "metadata": {},
     "output_type": "execute_result"
    }
   ],
   "source": [
    "#Outliers Raggi solari\n",
    "dati[dati[\"rag_sol\"] > 800 ]"
   ]
  },
  {
   "cell_type": "code",
   "execution_count": 19,
   "id": "efd2b41e",
   "metadata": {},
   "outputs": [
    {
     "data": {
      "text/html": [
       "<div>\n",
       "<style scoped>\n",
       "    .dataframe tbody tr th:only-of-type {\n",
       "        vertical-align: middle;\n",
       "    }\n",
       "\n",
       "    .dataframe tbody tr th {\n",
       "        vertical-align: top;\n",
       "    }\n",
       "\n",
       "    .dataframe thead th {\n",
       "        text-align: right;\n",
       "    }\n",
       "</style>\n",
       "<table border=\"1\" class=\"dataframe\">\n",
       "  <thead>\n",
       "    <tr style=\"text-align: right;\">\n",
       "      <th></th>\n",
       "      <th>Bayer</th>\n",
       "      <th>mag_app</th>\n",
       "      <th>rag_sol</th>\n",
       "      <th>dist</th>\n",
       "      <th>clas_spet</th>\n",
       "      <th>tipo</th>\n",
       "      <th>class</th>\n",
       "      <th>costell</th>\n",
       "    </tr>\n",
       "    <tr>\n",
       "      <th>Nome</th>\n",
       "      <th></th>\n",
       "      <th></th>\n",
       "      <th></th>\n",
       "      <th></th>\n",
       "      <th></th>\n",
       "      <th></th>\n",
       "      <th></th>\n",
       "      <th></th>\n",
       "    </tr>\n",
       "  </thead>\n",
       "  <tbody>\n",
       "    <tr>\n",
       "      <th>Aludra</th>\n",
       "      <td>η CMa</td>\n",
       "      <td>2.4</td>\n",
       "      <td>47.0</td>\n",
       "      <td>3200.0</td>\n",
       "      <td>B</td>\n",
       "      <td>Supergigante</td>\n",
       "      <td>Supergigante azzurra</td>\n",
       "      <td>Cane Maggiore</td>\n",
       "    </tr>\n",
       "  </tbody>\n",
       "</table>\n",
       "</div>"
      ],
      "text/plain": [
       "        Bayer  mag_app  rag_sol    dist clas_spet          tipo  \\\n",
       "Nome                                                              \n",
       "Aludra  η CMa      2.4     47.0  3200.0         B  Supergigante   \n",
       "\n",
       "                       class        costell  \n",
       "Nome                                         \n",
       "Aludra  Supergigante azzurra  Cane Maggiore  "
      ]
     },
     "execution_count": 19,
     "metadata": {},
     "output_type": "execute_result"
    }
   ],
   "source": [
    "#Outliers distanza\n",
    "dati[dati[\"dist\"] > 3000]"
   ]
  },
  {
   "cell_type": "markdown",
   "id": "2971cb7e",
   "metadata": {},
   "source": [
    "Creiamo un dataframe privo di outliers per ognuna delle due variabili e mettiamo a confronto la distribuzione con outliers con quella senza outliers."
   ]
  },
  {
   "cell_type": "code",
   "execution_count": 20,
   "id": "c638714f",
   "metadata": {},
   "outputs": [
    {
     "data": {
      "text/plain": [
       "[Text(0.5, 0, 'Raggi solari'),\n",
       " Text(0, 0.5, 'Frequenza'),\n",
       " Text(0.5, 1.0, 'RAGGIO SOLARE SENZA OUTLIERS')]"
      ]
     },
     "execution_count": 20,
     "metadata": {},
     "output_type": "execute_result"
    },
    {
     "data": {
      "image/png": "iVBORw0KGgoAAAANSUhEUgAAA3cAAAJdCAYAAACRc47yAAAAOXRFWHRTb2Z0d2FyZQBNYXRwbG90bGliIHZlcnNpb24zLjQuMywgaHR0cHM6Ly9tYXRwbG90bGliLm9yZy/MnkTPAAAACXBIWXMAAAsTAAALEwEAmpwYAACfLklEQVR4nOzdd3wT9R/H8XeSbkqBQlsKFBBkCbIFqkIFpSClLBURnDgQlakgIDhQAVFBUHHhApkqyPhBHaB1sGTIUGRTKKOU0UJ3m9zvj0qkUqBA06Tp6/l49NHk7nL3+V7afPK5+973TIZhGAIAAAAAFGtmZwcAAAAAALh6FHcAAAAA4AYo7gAAAADADVDcAQAAAIAboLgDAAAAADdAcQcAAAAAbsDD2QGgZIqPj1f79u1Vu3ZtSZLNZlOpUqV0//33q1OnTpKktWvX6uWXX9bSpUslST/99JPee+89paeny2q16tprr9XIkSNVsWJFDRw4UHFxcZKkv//+W7Vr15bZbFZAQIBmzpwpSRowYIDWrVunn376Sb6+vvZY2rVrp2bNmun111+3T9u6dasGDRqklStXasWKFZo6dep58V9//fX67LPP7NMutP5zWa1WzZgxQ0uWLJHValV2drbatm2rQYMGycvLS5J08uRJTZo0SWvXrpWvr6/MZrM6d+6shx56SBaLRfHx8br11lv1yiuv6K677rKv++OPP9auXbs0YcKEfLc9Z84czZkzRzk5OTKZTLruuus0ZMgQVapUSZI0YsQI1apVSw8//HCe1zVp0kRLlizRsmXL9L///U+SdODAAZUrV06lS5eWJL399tt67rnn1KdPH3Xs2PG8bbdr105TpkzR9ddfr/vuu0+HDh2yv/as/v37q2PHjufNt9lsysrKUv/+/dWtWzdJ0h9//KE333xTSUlJMgxDFStW1LPPPqtatWrl23YAcDUlNQ9e6vO7Tp069tjP9e6770rSJfPflClTtHLlyjyv3blzpwYMGKAnnnhCkuy5t27dupo+ffoF36O0tDS9/fbbWrlypT1Ht2vXTv3795ePj4/9+dn8lt++u9T7UqdOHa1evVqBgYHn7d/o6Ght2rTpkvulSpUqeeabTCalp6fL399fL774oj22BQsW6IsvvlBOTo6sVqsaN26sESNGnJePUcwZgBMcPHjQaNy4cZ5p8fHxxm233WbExMQYhmEYa9asMaKiogzDMIyjR48aLVq0MOLj4+3LT5s2zbj77rvPW3ft2rWNEydO5Jl29OhRo2XLlsZjjz1mzJ49O8+8tm3bGg0aNDC++eYb+7QtW7YYbdu2zTf2tWvXGs2aNTM2b95coPWfa/To0caAAQOM06dPG4ZhGKmpqUb//v2NZ555xjAMw0hOTjYiIyONjz76yMjOzjYMwzCSkpKMgQMHGkOHDjUMI3ff1a1b12jWrJmxZ88e+7qnT59uPPvss/lud8KECcaDDz5oHD582DAMw7BarcbChQuNm2++2Thy5IhhGIbx7LPPGtOnTz/vtY0bNzYOHjyYZ9q9995rLF++/JLTzmrbtq2xZcuWSy53oflbtmwx6tevb5w5c8bIzMw0WrRoYWzbts0+/5tvvjEiIiKMnJycC64XAFxJScyDBfn8zi/2s64k/33wwQdG+/btjVOnTtmn/e9//zMefvhho2XLlsbu3bvzfV12drbRs2dPY9y4cUZaWpphGIaRlpZmvPzyy0bv3r3tOfrc/HbWhfZdfm27UHv/+/dxsf1yofnTp083evbsaRiGYWzevNlo166dfT/k5OQYY8aMsX+3gPugWyZcRuXKlTVw4EB9/PHH5807deqUsrOzlZaWZp/2wAMPqF+/fgVa9/z58xUeHq7u3btrxowZMgwjz/whQ4bolVde0cGDBy+6ngMHDmjAgAF68cUX1bBhwwKvX8o9CrdkyRKNGzfOfpTMz89PL730km677TZJuWfX6tWrp0ceeUQeHrkn1suUKaOJEydq9erV2rJliyTJx8dHDz30kJ555hllZWVdNOajR49q7ty5euuttxQaGipJMpvN6tatmzp06KAPPvjgoq93BQcPHpSfn5+8vLyUnp6uM2fO5Plb6NKli8aMGSOr1erEKAHg6rh7HiyMz+/LyX/ff/+9PvroI7333nsqW7asffqcOXN06623qlOnTvr888/zfW1MTIxsNptGjhxpPwvp6+ur5557TikpKfr+++8LFK+z5OTk6MiRIypTpowkKTExUYZhKCMjQ5JksVg0aNCgPGdA4R4o7uBS6tatq507d+Y7vWfPnurevbs6deqk0aNH68cff1Tr1q0vuc6cnBzNnz9fXbp0Ubt27XTixAn9/PPPeZa54YYb1Lt3bz3zzDPKycnJdz0pKSl64okn1KtXL3Xu3Pmy1i9Jf/75p6699lr5+/vnmR4UFKQOHTpIkjZt2qQbbrjhvNd6e3urWbNm2rhxo31a//795efnp8mTJ1+0/Zs3b1aNGjXsH/DnuvHGG7Vhw4aLvt4RJk6cqK5du+b5OXXq1Hnz27ZtqxtvvFE//PCDPvvsM3l5ealMmTIaNmyYHnnkEd16660aNmyYvv76a9144432bjMAUFy5cx4s6Of3Aw88kCc/PPnkk3nWU5D89/fff2vkyJF68803VbNmTfv03bt3a9OmTerYsaO6deumRYsW5ck/Z23atEnNmzc/b7rJZFJ4eLhTcuel9ssDDzyg6Oho3XzzzfbvFePHj5cktWnTRk2aNFG7du3UvXt3jR07Vlu3blXLli2LvB1wLIo7uBSTyWTvx/5fI0aM0C+//KJBgwbJx8dHEydO1L333nvJo30rVqyQzWZT69at5eXlpU6dOmnGjBnnLTdgwAAZhqG33377vHk2m03PPPOMqlevrsGDB1/R+s1ms2w220VjlXKvBcjPf49Qms1mvf7661qwYIF+++23i67zQok6KytLJpNJkuy//8tms8lisVwq7MsyfPhwLVq0KM9PuXLlzpv/9ddfKzQ0VCEhIbruuuvs8x966CH99ttvGj16tIKCgvTRRx+pW7duOnPmTKHGCQBFzZ3zoFSwz+/PP/88T344e73dWZfKfydPntQTTzyhp556Sm3atMkzb86cOWrbtq3KlSunhg0bqkqVKpo/f36+sV5p7jQM47xr4wrDpfbL559/riVLluiDDz5QRkaGWrZsqfLly0uSPD099eabb+rHH3/UQw89pOzsbD377LMaMmRIoccJ56K4g0vZunWr/eLyc61YsUJff/21ypUrpw4dOmj06NFatmyZdu/erb/++uui65w9e7YyMjIUGRmpdu3a6YcfftCvv/6qXbt25VnOw8NDb775pmbPnq3169fnmTd58mQdOXJEEydOPO+DvKDrb9iwofbu3auUlJQ80xMSEvTYY48pIyNDTZs21bp1685rQ2pqqrZu3aqmTZvmmR4aGqqXXnpJzz77bL5HHiWpcePGiouLU2Ji4nnz1q5dqyZNmkiSypUrp6SkpDzzU1JSlJmZqYCAgHzX7WiBgYF66623NHv2bH333XeSpA0bNmj69Ony9/dX27ZtNXz4cP3vf/+TyWS6ZJELAK7OnfNgYX5+Xyj/ZWdna+DAgQoPD9eDDz6Y5zVpaWlatGiRNmzYoHbt2qldu3ZKTEzUF198cd6B1aZNm2r9+vXnHZS12Wz6/fffL5o7jx8/nqcbaFGrX7++Ro4cqREjRig+Pl6S9NVXX2nFihUKCQlRly5d9PLLL2vhwoWKiYnRyZMnnRYrCh/FHVzGvn37NG3aNPXt2/e8eaVKldKkSZO0e/du+7SDBw/KYrGoatWqF13n77//rgULFmjlypVauXKlfv31V91www35HlUMCwvTc889p0mTJtmnLV26VAsXLtR7770nPz+/K15/SEiIoqOjNWrUKHuBl5KSohdffFFly5aVj4+PevfurT179ujDDz+0H4lNTk7WiBEj1Lx58zzXN5zVsWNHtWnT5oLXDYSEhOi+++7T0KFDlZCQYJ/+9ddf67vvvtOjjz4qKbfLxvLly+3LGIahzz//XDfccINKlSp1wX3saGFhYXr88cf16quvKi0tTYGBgXrvvffyfPFITExUSkpKvl+IAKC4cPc8WNif3/nlv5dfflkmk0kvvvjiecsvWbJEZcuW1S+//GKP9YcfflBaWppiYmLyLNuhQwf5+vpq3Lhx9uvUMjIy9PLLL6tUqVJq3769pNzcOWfOHHvvmvT0dM2bN08RERGX3Z7C1LlzZzVs2NDeLdNsNuuNN97Q0aNH7cvs2rVLlSpVyveyDRRf3AoBTpORkaGuXbtKyv3Q8fb21tChQ3XLLbect2yrVq00ZswYPfvsszpz5owsFou9O8fFPpTmzJmj2267TdWqVcsz/cknn1S/fv3y7Y7QrVs3/frrr/br29566y0ZhqH+/fvnWa5ChQqqWbPmJdd/7vDGL7zwgqZNm6ZevXrJYrEoKytLt912mwYMGCBJ8vf317x58zRlyhR16tRJnp6eMplM6ty5c77J/qzRo0dftP//008/rS+//FL9+/dXVlaWsrKydP3112vu3LmqXLmypNx9/Oijj+qxxx6TlPv+XHfddXrzzTcvuN7/Gj58uEaOHGl/3rt3bw0bNuy85SZOnKj33nsvz7T27dvrqaeeyne9Dz/8sL755hu99957evrpp/Xuu+9q8uTJOnr0qLy9vVW6dGmNGzdONWrUKHCsAOBsJS0PXnPNNQX6/H7ggQfO69Y4dOjQPNfOnXVu/jty5IjmzZunqlWr6s4778yz3C233KLY2Fj7bYXOCggI0H333afPPvtM0dHR9ukeHh765JNPNG3aNPXo0UNms1lWq1Xt2rXTJ598Ik9PT0nS448/rkmTJql79+6yWCzKycnRrbfeWuCBbqTc2zuca9KkSfne2udC++VCheSYMWPUpUsX/fLLL+rRo4fS09P16KOP2ruVVq9eXR9//HGhX3oB5zIZ+Q1nBAAAAAAoVuiWCQAAAABugOIOAAAAANwAxR0AAAAAuAGHDqhy33336eTJk/LwyN3M2LFjlZqaqvHjxyszM1O3334799cAAAAAgELgsOLOMAzt379fP/74o724y8jIUMeOHTVz5kyFhoaqX79+io2NLdBwsRkZGdq2bZuCgoIY1QcA3JjValViYqIaNGhwwZs541/kRwAoOS6VIx1W3O3du1eS1LdvXyUlJalnz56qXbu2qlWrprCwMElSdHS0YmJiClTcbdu2TX369HFUuAAAFzNr1iw1b97c2WG4PPIjAJQ8F8qRDivuTp8+rfDwcI0ZM0bZ2dm6//779cgjjygoKMi+THBwcJ6bKl/M2dfNmjVLFStWdEjMAADnO3r0qPr06ZMnX+DCyI8AUHJcKkc6rLhr0qSJmjRpYn9+5513aurUqWrWrJl9mmEYMplMBVrf2a4mFStWVJUqVQo3WACAy6GLYcGQHwGg5LlQjnTYaJnr16/X6tWr7c8Nw1DlypWVmJhon5aYmKjg4GBHhQAAAAAAJYbDirszZ85o4sSJyszMVEpKihYuXKihQ4dq3759iouLk9Vq1dKlS9WmTRtHhQAAAAAAJYbDumW2bdtWmzdvVrdu3WSz2dS7d281adJEEyZM0IABA5SZmamIiAh17NjRUSEAAAAAQInh0PvcDR48WIMHD84zLTw8XIsXL3bkZgEAAACgxHFYt0wAAAAAQNGhuAMAAAAAN0BxBwAAAABugOIOAAAAANxAiSvuwqpWk8lkKpSfsKrVnN0cAAAKTWHmSHIqABQ9h46W6YriDx7QpO92FMq6hkbWKZT1AADgCgozR14ucioAXL0Sd+YOAAAAANwRxR0AAAAAuAGKOwAAAABwAxR3AAAAAOAGKO4AAAAAwA1Q3AEAAACAG6C4AwAAAAA3QHEHAAAAAG6A4g4AAAAA3ADFHQAAAAC4AYo7AAAAAHADFHcAAAAA4AYo7gAAAADADVDcAQAAAIAboLgDAAAAADdAcQcAAAAAboDiDgAAAADcAMUdAAAAALgBijsAAAAAcAMUdwAAAADgBijuAAAAAMANUNwBAOAkr732mkaMGCFJWrVqlaKjoxUZGanJkyc7OTIAQHFEcQcAgBOsXr1aCxculCRlZGRo1KhRmjZtmpYtW6Zt27YpNjbWyRECAIobijsAAIpYUlKSJk+erMcff1yStGXLFlWrVk1hYWHy8PBQdHS0YmJinBwlAKC4obgDAKCIPf/88xoyZIgCAgIkSceOHVNQUJB9fnBwsBISEpwVHgCgmKK4AwCgCH355ZcKDQ1VeHi4fZrNZpPJZLI/Nwwjz3MAAArCw9kBAABQkixbtkyJiYnq2rWrkpOTlZaWpkOHDslisdiXSUxMVHBwsBOjBAAURxR3AAAUoU8//dT+eMGCBVq3bp1eeuklRUZGKi4uTlWqVNHSpUt1xx13ODFKAEBxRHEHAICTeXt7a8KECRowYIAyMzMVERGhjh07OjssAEAxQ3EHAICT9OjRQz169JAkhYeHa/HixU6OCABQnDGgCgAAAAC4AYo7AAAAAHADFHcAAAAA4AYo7gAAAADADTi8uHvttdc0YsQISdKqVasUHR2tyMhITZ482dGbBgAAAIASw6HF3erVq7Vw4UJJUkZGhkaNGqVp06Zp2bJl2rZtm2JjYx25eQAAAAAoMRxW3CUlJWny5Ml6/PHHJUlbtmxRtWrVFBYWJg8PD0VHRysmJsZRmwcAAACAEsVhxd3zzz+vIUOGKCAgQJJ07NgxBQUF2ecHBwcrISHBUZsHAAAAgBLFIcXdl19+qdDQUIWHh9un2Ww2mUwm+3PDMPI8BwAAAABcOQ9HrHTZsmVKTExU165dlZycrLS0NB06dEgWi8W+TGJiooKDgx2xeQAAAAAocRxS3H366af2xwsWLNC6dev00ksvKTIyUnFxcapSpYqWLl2qO+64wxGbBwAAAIASxyHFXX68vb01YcIEDRgwQJmZmYqIiFDHjh2LavMAAAAA4NYcXtz16NFDPXr0kCSFh4dr8eLFjt4kAAAAAJQ4Dr+JOQAAAADA8SjuAAAAAMANUNwBAAAAgBuguAMAAAAAN0BxBwAAAABugOIOAAAAANwAxR0AAAAAuAGKOwAAAABwAxR3AAAAAOAGKO4AAAAAwA1Q3AEAAACAG6C4AwAAAAA3QHEHAAAAAG6A4g4AAAAA3ADFHQAAAAC4AYo7AAAAAHADFHcAAAAA4AYo7gAAAADADVDcAQAAAIAboLgDAAAAADdAcQcAAAAAboDiDgAAAADcAMUdAAAAALgBijsAAAAAcAMUdwAAAADgBijuAAAAAMANUNwBAAAAgBuguAMAAAAAN0BxBwAAAABugOIOAAAAANwAxR0AAEVsypQp6tSpk6KiovTpp59KklatWqXo6GhFRkZq8uTJTo4QAFAceTg7AAAASpJ169ZpzZo1Wrx4sXJyctSpUyeFh4dr1KhRmjlzpkJDQ9WvXz/FxsYqIiLC2eECAIoRztwBAFCEWrRooRkzZsjDw0MnTpyQ1WrV6dOnVa1aNYWFhcnDw0PR0dGKiYlxdqgAgGKG4g4AgCLm6empqVOnKioqSuHh4Tp27JiCgoLs84ODg5WQkODECAEAxRHFHQAATjBw4ECtXr1aR44c0f79+2UymezzDMPI8xwAgIKguAMAoAjt2bNH27dvlyT5+voqMjJSa9euVWJion2ZxMREBQcHOytEAEAxRXEHAEARio+P1+jRo5WVlaWsrCytWLFCvXr10r59+xQXFyer1aqlS5eqTZs2zg4VAFDMMFomAABFKCIiQlu2bFG3bt1ksVgUGRmpqKgoBQYGasCAAcrMzFRERIQ6duzo7FABAMUMxR0AAEVswIABGjBgQJ5p4eHhWrx4sZMiAgC4A7plAgAAAIAbcGhxN2XKFHXq1ElRUVH69NNPJUmrVq1SdHS0IiMjNXnyZEduHgAAAABKjAJ1yzx58qQWL16s1NRUGYYhm82muLg4vfnmmxd8zbp167RmzRotXrxYOTk56tSpk8LDwzVq1CjNnDlToaGh6tevn2JjYxUREVFoDQIAoChdSY4EAMARClTcDR48WD4+Ptq9e7duvPFGrVq1Ss2aNbvoa1q0aKEZM2bIw8NDCQkJslqtOn36tKpVq6awsDBJUnR0tGJiYijuAADF1pXkSAAAHKFA3TIPHz6sDz/8UG3atNG9996rOXPmaO/evZd8naenp6ZOnaqoqCiFh4fr2LFjCgoKss8PDg5WQkLClUcPAICTXWmOBACgsBWouKtQoYIkqXr16tq5c6dCQkKUk5NToA0MHDhQq1ev1pEjR7R//36ZTCb7PMMw8jwHAKC4uZocCQBAYSpQt8zy5ctr+vTpaty4sd5++235+/srIyPjoq/Zs2ePsrKyVK9ePfn6+ioyMlIxMTGyWCz2ZRITExUcHHx1LQAAwImuJEcCAOAIBTpzN3bsWHl5eal58+Zq0KCBpk6dqmHDhl30NfHx8Ro9erSysrKUlZWlFStWqFevXtq3b5/i4uJktVq1dOlStWnTplAaAgCAM1xJjgQAwBEKdOZu165duv/++yVJw4YN07BhwzRv3ryLviYiIkJbtmxRt27dZLFYFBkZqaioKAUGBmrAgAHKzMxURESEOnbsePWtAADASa4kRwIA4AgFOnP34IMPauzYsTIMwz5t7ty5l3zdgAEDtGzZMi1ZskQDBgyQJIWHh2vx4sX69ttvNWrUKK65AwAUa1eaIwEAKGwFKu5q1qyp5ORk9e/f334dwblJDACAkoocCQBwFQUq7ry8vPTmm2+qWrVq6tOnj44fPy6zuUAvBQDArZEjAQCuokDZ5+wRyJEjRyoqKkq9evXSmTNnHBoYAADFATkSAOAqClTc1atXz/64b9++Gjx4sI4ePeqwoAAAKC7IkQAAV1Gg4m78+PF5nnfu3Flbt251SEAAABQn5EgAgKso0K0QfvjhB40bN07Jycl5LhLfuHGjwwIDAKA4IEcCAFxFgYq7119/XSNGjNB1113HrQsAADgHORIA4CoKVNwFBAQoMjLS0bEAAFDskCMBAK6iQNfcNWrUSLGxsY6OBQCAYoccCQBwFQU6cxcbG6svvvhCnp6e8vT0lGEYMplMXE8AACjxyJEAAFdRoOLus88+c3AYAAAUT+RIAICrKFC3zMqVK2vr1q2aP3++AgMDtWnTJlWuXNnRsQEA4PLIkQAAV1Gg4u7DDz/UnDlzFBMTo4yMDL3zzjt69913HR0bAAAujxwJAHAVBSru/ve//+mjjz6Sr6+vypUrp/nz52vp0qWOjg0AAJdHjgQAuIoCFXceHh7y8vKyPw8ICJCHR4Eu1wMAwK2RIwEArqJA2Sc0NFQ//fSTTCaTsrKy9PHHH3M9AQAAIkcCAFxHgYq7MWPGaPjw4dqxY4caN26sRo0a6Y033nB0bAAAuDxyJADAVRSouAsJCdHnn3+u9PR0Wa1W+fv7OzouAACKBXIkAMBVFKi4+/TTT/Od/tBDDxVqMAAAFDfkSACAqyhQcbdz507746ysLP3+++8KDw93WFAAABQX5EgAgKsoUHE3fvz4PM8TEhL03HPPOSQgAACKE3Lkv3KsNh1OztDhpHSdychRVo5NPp5mBfh6qnJZX1UM8JHZbHJ2mADgtq5orOaQkBAdOnSosGMBAKDYK4k5Mi0rRxvjkvTnkWRlZNtkklTK20NeFrPSs61Kz7ZKkvy8LGpQuYwaVSkjPy9uFwEAhe2yr7kzDEPbtm1T+fLlHRYUAADFRUnOkYZhaHN8slbvPaFsq001K/jrukoBqlTWR94eFvty6dlWHTyZpu1HTmvdvpP640CSWtYIVKMqZWXhTB4AFJrLvuZOyr2nz/Dhwx0SEAAAxUlJzZEZ2VZ9++dR7T+RpqqBfoqoHaTAUl75LuvraVHtkNKqHVJaJ1Oz9POuRP2y67h2JaSoY4OKKuPrWcTRA4B7uqJr7gAAQK6SmCNPp2drwaZDOpORrVvqBKlh5TIymQp2Bi6wlJe6Na6snQlntPLvY5q99oBub1DRwREDQMlQoOLuvvvuu+iH9owZMwotIAAAipOSliNPpWZpwaZDyrbadEfTKqpU1veK1lM7pLQqlvHR0i1HtHjzYfk36VTIkQJAyVOg4q5Bgwbas2ePevbsKU9PTy1atEg5OTmKiopydHwAALi0kpQjz2TknrGz2gzd0bSKgkp7X9X6Anw8dWfTKor586iMyCf03k971P+WmoUULQCUPAUq7jZu3KjZs2fLYsm9OLp169bq2bOnOnTo4NDgAABwdSUlR2ZmW/XNH4eVlWPTnc2uvrA7y8vDrM7Xh2rCu9P1miSbYejJttcWyroBoKQxF2ShkydPKjMz0/48NTVVGRkZDgsKAIDioiTkSMMwFPPnUSWlZalzw9BCK+zOMptNOr50kro3qazXv92hGav3F+r6AaCkKNCZu86dO+vuu+9W+/btZRiGli9frvvvv9/RsQEA4PJKQo5cu++k9p9I0y11ghQW6OeYjRg2Tbyzoc5k5Oj5RX8qyN9bt18f6phtAYCbKlBxN2jQIF133XVas2aNvL29NXbsWLVo0cLRsQEA4PLcPUfGn0rT2n0nVa9iaTWsXMah2/K0mPVO7ya656M1Gjp/s8IC/dTAwdsEAHdSoG6ZkhQSEqJatWpp8ODB8vTkfjQAAJzlrjkyM9uqb/9MUFlfT7WtG1zg2x1cDR9Piz64r5nK+nnqsRnrdeyMe3VxBQBHKlBx9/XXX2vkyJGaPn26zpw5oyeeeELz5893dGwAALg8d86RP+1MVGpWjjo0qChPS4GPB1+14NI++uj+5jqVlq1+MzcoI9taZNsGgOKsQJ/UX3zxhebNmyd/f3+VL19eCxYs0Oeff+7o2AAAcHnumiP3H0/V30fP6IbqgaoY4FPk229QuYze7NlImw4kafQ324p8+wBQHBWouDObzfL397c/Dw0NtQ/5DABASXYlOfKdd95RVFSUoqKiNHHiREnSqlWrFB0drcjISE2ePNmhMV9KVo5NK3ccU6Cfl26oXs5pcXS6PlQD212rrzbE66sN8U6LAwCKiwIVd2XLltX27dvtfe0XL16sMmW4wBkAgMvNkatWrdKvv/6qhQsX6ptvvtGff/6ppUuXatSoUZo2bZqWLVumbdu2KTY2tqiacJ51+0/qTEaObq0XLA9z0XXHzM+g22qrVY1Ajflmm3YfS3FqLADg6go0WuaoUaM0aNAgHThwQDfffLO8vb01bdo0R8cGAIDLu9wcGRQUpBEjRsjLy0uSVLNmTe3fv1/VqlVTWFiYJCk6OloxMTGKiIgokjacKzk9W38cSFK90NKqVNa3yLf/XxazSVN6NdHtU37RU7M36psnb5KPJ72HACA/BSruMjIytGjRIu3fv19Wq1XXXHONW40GdiHHUzK1JzFFyenZshlSOV9PhQX6KbSMT5GMGAYAcH2XmyNr1aplf7x//34tX75c9957r4KCguzTg4ODlZCQ4NC4L+TXXcdlNks31qzglO3nJyTAR5N6NtKDn/6usUv/0rju1zs7JABwSQUq7p555hktX75cNWvWdHQ8LuF4SqZ+3HFMh5Nyh18u5W2R2WTSjqNntGbfSVXw99JN17pO0gMAOM+V5shdu3apX79+Gj58uCwWi/bv32+fZxiGUw4ielepr92JKWpVI1D+3gX6ilBkbqkTrMcjaur92D1qfW0FbnAOAPko0Cd3nTp1tGTJEjVr1kx+fn726WXLlnVUXE6z+WCSftl1XF4eZrWuVUH1QgPk+0/3j6wcm3YmnNHGA6e06I/DKt9pkNKzrPL1onsIAJRUV5IjN2zYoIEDB2rUqFGKiorSunXrlJiYaJ+fmJio4OBgR4Z9HpvNULl2j8jf20NNqzpvEJWLeTqytlbtOa5RC7eqWbVyCnbCKJ4A4MoKVNytWLFCMTExeaaZTCZt3779oq975513tHz5cklSRESEhg8frlWrVmn8+PHKzMzU7bffriFDhlxh6IXLMAyt3XdSa/ed1DUVSum2esHy88q7e7w8zGpQuYzqhpbWun0ntc64Vb0+WqOPH2iuCv7eToocAOBMl5sjjxw5oieffFKTJ09WeHi4JKlRo0bat2+f4uLiVKVKFS1dulR33HGHw2M/14JNh+QdWks3XVu+SO9pdzk8LWZN6tlYUVN/0bNfb9EnD97AZRIAcI4CFXdbt2697BWfOxqYyWTSI488oqVLl+qNN97QzJkzFRoaqn79+ik2NtYpF4z/1/q4U1q776TqhZbWbfVCZL5IsvAwm3VjzQr636SntePu53XX+6s1v1+4gkpT4AFASXO5OfLjjz9WZmamJkyYYJ/Wq1cvTZgwQQMGDFBmZqYiIiLUsWPHwg71oj76ea8yD+9QnXbXFul2L9e1wf4acXtdvbTkL81Zd1C9W1Z1dkgA4DIuemhuzJgx9scnT568rBWfOxqYp6fneaOBeXh42EcDc7a9x1O0as8J1QkprfaXKOzOlb5rjb54uKWOJmfo/k/WKTkt28GRAgBcxZXmyNGjR2vTpk1atGiR/eeee+5ReHi4Fi9erG+//VajRo0q8jNSz95eR4nfjC8WZ8IeCK+um64tr1f+95fiTqQ6OxwAcBkXLe62bdtmf/zwww9f1opr1aqlxo0bS/p3NDCTyeQyo4GdlZSWpW+3JSi4tLduqxd82UmtefVAfXh/M+05lqLHv9igbKvNQZECAFzJ1eRIV9SuboisZ447O4wCMZtNev3ORrKYTRo6f7OsNsPZIQGAS7hocWcYRr6PL8euXbvUt29fDR8+XGFhYXmKJ2eNBnbu9n/YfkwySVHXh8rjCq8xaF0rSBPuuF6r957Qq/+7+HWIAAD3UBg5EleuUllfvdy1gTbEndIHP+9xdjgA4BIKXM1cSRG2YcMGPfjgg3r66afVvXt3VaxY0emjgZ1rS3yyDiWlq02tCgrwvbr79vVoWkV9b7pGn63ar0V/HCqkCAEAxUFx6Mrojro2rqSo60M1+fud+vNwsrPDAQCnu2hxZ7PZlJycrKSkJFmtVvvjsz8Xc3Y0sDfeeENRUVGS8o4GZrVatXTpUrVp06bQGnM5UjJz9Nue46oW6KfrQgMKZZ2jOtVV82rl9NzCbVwDAABu7mpyJAqHyWTSK90aqJyfl4bO26zMHKuzQwIAp7roaJk7d+5Uq1at7N1NWrZsaZ93qVshuOpoYGet2nNcNpvUtu7lX2d3IR4Ws97q1VidpvyigXM26av+N7rscNIAgKtzNTkShadcKS+9dkdDPfTZ75r8/S6NuL2us0MCAKe5aHH3999/X/GKR48erdGjR+c7b/HixVe83sKQcDpD24+cUbOq5VTmKrtj/leVcn4a1+N6PTV7kz76Za+euMW1h5QGAFyZq8mRKFxt6wbrnhZh+uDnPbqtXrCaVw90dkgA4BQl8rTSr7uPy9fTohuuKeeQ9XduWEkd61fUWz/s0p7EFIdsAwAA/Ou5qOtUpZyvnv5ys1Izc5wdDgA4RYkr7rzDrlf8qXTdUL2cvD0sDtvO2G715etp0bNfbZGNIZoBAHAof28PvXFnIx04mabxy+kSC6BkKlHFnWEYKntzb5Xysuj6ymUcuq3g0j4a0/k6rY87pZlr4hy6LQAAILWsUV6P3HyNvlhzQLE7Ey/9AgBwMyWquFuz96R8ql6v5tUDr/iedpfjjqaV1aZ2kF6L+VsHT6Y5fHsAAJR0T0fWUa1gfw3/arOS07KdHQ4AFKkSVdxlWW3KiNusBpUK59YHl2IymTSuewOZJL2w+M8i2SYAACWZj6dFk3o21omULL2weJuzwwGAIlWiiruI2kFKmPtckZy1O6tKOT8Nuq2WVv59TD/8lVBk2wUAoKS6vkoZDWhXS9/8cVjLth5xdjgAUGRKVHHnLA/ddI1qBfvrxSV/KiObG6wCAOBoT7StqYZVyui5hVt17EyGs8MBgCJBcVcEPC1mvdS1vuJPpWvaT3ucHQ4AAG7P02LWpJ6NlJpl1agFW+03mwcAd0ZxV0RurFlBXRpV0vuxexR3ItXZ4QAA4PauDS6t4R3q6Iftx/Tl+nhnhwMADkdxV4Sei6onT7NJLy7+kyOIAAAUgb43XaOW1wRq7NK/dOAEI1cDcG8Ud0UoJMBHg2+rrR93JOqH7cecHQ4AAG7PbDbpjbsayWSSBs7dpGyrzdkhAYDDUNwVsQdvqq5awf56icFVAAAoEmGBfprQo6H+OJikSd/vdHY4AOAwFHdFzNNi1tiuDRhcBQCAIhTVMFT3tAjT+7F79Ouu484OBwAcguLOCcJrllfXxgyuAgBAUXq+c33VDPLXkPl/6HhKprPDAYBCR3HnJKM6MbgKAABFydfLond6N1FyeraGzPtDVhv5F4B7obhzkpAAHw1pnzu4yvd/JTg7HAAASoS6FQM0tkt9/bLruN76gevvALgXijsneuDG6qoTUlovLflLaVk5zg4HAIASoVeLqrq7eZjeXrlbP3CAFYAbobhzIk+LWa90b6BDSemasmKXs8MBAKDEeKlrfV1fuYyGzP9D+49z/TsA90Bx52Q3VA9Uz+ZV9PEv+7Tj6BlnhwMAQIng42nRtD5NZTGb9PgXG5SaSQ8aAMUfxZ0LGHF7Pfn7eGj0N1tl4+JuAACKRFign6b2aqKdCWc0mAFWALgBijsXEFjKS6Nur6ff95/SVxvjnR0OAABFz2SWyWQq8p+IOsE6/t37+v6vBL0W87ez9wIAXBUPZweAXHc2q6L56w9q3LLtalc3WBX8vZ0dEgAARcewadJ3O5y2+ZcnTtaH6qwaFUqpV4uqTosDAK4GZ+5chNls0vge1yst06oXFv/p7HAAAChRTq34UBG1gzT6m236dddxZ4cDAFeE4s6F1AoprYG3Xqv/bTmimG1HnB0OAAAlh2HTO72bqGaQv/rNXK8/DiY5OyIAuGwUdy6mX0RNXRcaoNHf/KmktCxnhwMAQIlR2sdTMx5uofL+3nrw03WMYg2g2KG4czGeFrNev6uhktKyNHbpX84OBwCAEiUkwEezHmkpbw+z7vt4rQ6cSHN2SABQYBR3Lqh+pTLqf0tNLdh4SCu2Jzg7HAAASpSwQD/NfLilsqw29Z6+RgdPUuABKB4o7lzUU+2uVd2KpfXs11uUeCbT2eEAAFCi1A4prRl9W+h0erZ6frBaexNTnB0SAFwSxZ2L8vawaOo9TXQmI0fPfLmZm5sDAFDEGlYpq7mPhSsrx6aeH6zR30dPOzskALgoirurUcg3XA2rWi3P6muHlNboqHqK3ZmoT1ftd04bAQAowa6rFKB5/cJlMUu9PlyjTQdOOTskALggbmJ+NQr5hqtDI+ucN+3eVtUUuzNRry3/W+E1yuu6SgGFtj0AAHBp1wb768t+N6rPx2vU68M1mtSzsaIahjo7LAA4D2fuXJzJZNLEOxuprJ+nBszZqJTMHGeHBABAiVO1vJ8WPnGTGlQuoydnb9Q7K3fJMLhkAoBrobgrBgJLeemtXo21/0Sanp7/B9ffAQDgBBX8vTXrkZbq3qSy3vhup4bM+0NpWRx0BeA6KO6KiRtrVtDI2+vq2z8T9F7sHmeHAwBAieTjadGkno30TGRtLdp8WF3e+Y2bnQNwGRR3xcjDN1+jLo0q6Y3vdujHHcecHQ4AACWSyWTSU+1q6YuHWyopLVtd3vlVs9ceoJsmAKejuCtGTCaTXrujoepWDNCgOZu073iqs0MCAKDEuunaClo+qLVaXBOoUQu36tEZ63UkOd3ZYQEowSjuihlfL4s+vK+ZLGaTHvp0nU6kcINzAACcJai0tz5/qIWe61RPv+4+rshJP2vW2jiujwfgFBR3xVBYoJ+mP3CDjiRnqO/n65WeZXV2SACAy5SSkqLOnTsrPj5ekrRq1SpFR0crMjJSkydPdnJ0uBxms0mPtqmhbwe3UYPKZfTcwm26+8PV2nYo2dmhAShhKO6KqWbVymnqPU20JT5JA+ZsVI7V5uyQAAAFtHnzZt1zzz3av3+/JCkjI0OjRo3StGnTtGzZMm3btk2xsbHODRKXrVr5Upr9aEu9dsf12pOYquh3ftXT8zfraHKGs0MDUEJQ3BVjHepX1Etd6uuH7cf0/OI/81zIHVa1mkwmU6H8hFWt5sRWAoD7mT9/vl544QUFBwdLkrZs2aJq1aopLCxMHh4eio6OVkxMjJOjxJUwmUy6+4aq+mnYLXqsTQ0t2XxYbd/4SROW/63jXEoBwME8HLnylJQU9erVS++//76qVKmiVatWafz48crMzNTtt9+uIUOGOHLzJcL94dV1JDlD7/20R76eFo2OqieTyaT4gwc06bsdhbKNoZF1CmU9AIBcr776ap7nx44dU1BQkP15cHCwEhISijosFKIAH0+NvL2e7m1ZTW98t0Mf/rxHn6/arz4tq+qxNjUUHOBjXzasajXFHzzgtFirhFXVwQNxTts+gMLjsOJu8+bNGj169HldTmbOnKnQ0FD169dPsbGxioiIcFQIJcbwDnWUnmXVx7/uk5eHWcM7UIwBQHFis9lkMpnszw3DyPMcxVdYoJ+m9GqigbfW0rs/7tanq/Zrxuo4RTeqpIduqq4GlcsU6gHZK8FBXMB9OKy4O9vlZPjw4ZLydjmRZO9yQnF39Uwmk16Ivk7ZVpve+2mPvCz0tgWA4qRixYpKTEy0P09MTLR32YR7qBnkr0k9G2vQrbX0ya/79OWGeH29MV4tqgfKr16Ecqw2eZC/AVwlhxV3dDkpWiaTSS93baBsq01TVuxSmdb3cuQXAIqJRo0aad++fYqLi1OVKlW0dOlS3XHHHc4OCw5QrXwpvdS1gYZG1tGX6w/q89X7FdRlmKb/uk91QkqrfqUABZX2Jn8DuCIOvebuXHQ5cTyz2aTxPRrKJJPmqZdidyYqonYQ+xkAXJy3t7cmTJigAQMGKDMzUxEREerYsaOzw4IDlfH11COta6jvTdeo1DWN1Wbw2/rzyGltOZSsCv5eui40QLVDSquUd5F9VQPgBorsE4MuJ0XDYjZpwh3X66NpU7VZ3ZVltem2uiEymynwAMDVrFy50v44PDxcixcvdmI0cAaz2aSMA1vUsUFFZWRbtSPhjP46fFo/7zquX3YfV7VAP9WtGKAaQaXkSbdNAJdQZMUdXU6Kjslk0qkfP1Zkr4e1Zu9JZeXY1LFBRXmYSQoAALgqH0+LGlUpq0ZVyupESqb+PnpGfx89o5g/j8rLYlbN4FKqVzFAVcr50isHQL6KrLijy0nRa3lNeXl7WBS7M1FLNh9R54ahHPUDAKAYKO/vrZuu9daNNcsr/lS6/j56RruPpWj7kTPy9/ZQ3YqlVbdiaZX393Z2qABciMOLO7qcOFfjsLLyspj1w/YEfb0xXl0aVZKfF/33AQAoDkwmk8IC/RQW6Kdb6gRpb2Kq/j56WhsOnNL6uFMKLu2tuhVLc30eAElFeOYOznNdpQB5e5oVs+2o5q+PV7fGlVTWz8vZYQEAgMvgaTGrTsXSqlOxtFIzc7QzIbfb5tnr86oG+qluxdKqGeRPTx2ghKK4KyFqBvmrR9PKWrz5sOavzz2DV7GMj7PDAgAAV6CUt4eaVC2nJlXL5bk+79s/E+RpOaZrg/1V95/r88xcnweUGBR3JUhoGV/1bB6mRX8c1tcb43V7g4qqEeTv7LAAAHA+k7nYDlJy7vV5h5LStf1I3uvz6vxzfV4Frs8D3B7FXQlTzs9LdzWrosWbD2vpliO6pU6QGlYp6+ywAABwLsOmSd/tcMqmh0bWKZT1mEwmVSnnpyrlcq/P23c8VduPnNbGA6e0Ie6UQsv4qElYWdUM8ucWSYCborgrgUp5e+jOZlW0bOsR/bgjUSmZOQqvUb7YHrEEAAB5eVrMqh2SO9BKWlaO/j56Rlvik7Vs21H5e3uoUVgZNahURj6eFmeHCqAQUdy5kiLsEuJpMSu6YSX9uOOYft9/SmcycnRbvRBZOJIHAIBb8fPyUNOq5dQ4rKz2HU/VHweT9NvuE1q796TqVwqQpXSQs0MEUEgo7lxJIXYJKUgXD7PZpHZ1g1Xax1Or955QalaOoq4PlbcHR/EAAHA3ZpNJNYP8VTPIX4lnMvXHwSRtPZSsyv0+0rNfbVH/W2qqeoVSzg4TwFVgnNwSzmQyqcU1gWpfL0SHTqXrqw3xSsnIcXZYAADAgYJKe6v9dSF64MbqOvPHcn3zxyG1e/MnDZq7STsTzjg7PABXiOIOknLvhdelUSUlp2dr3vqDOpGS6eyQAACAgwX4eOrUDx/ol2fb6tHWNfT9Xwnq8NbPGjLvDx04kebs8ABcJoo72FUrX0p3Nqsim2Fo/oZ4xZ/iQx0AgJIguLSPRnaqp9+ebad+bWpq+bYjavfmTxr9zVYlnM5wdngACojiDnkEl/bR3c3DVMrLom82HaZrBgAAJUi5Ul4acXtdxQ5rq14twjR33UG1mfijxi/fruT0bGeHB+ASKO5wngBfT/VsHqaQAG8t33ZUpW/oLsMwnB0WAAAoIiEBPnql2/Va+fQt6nR9qD78ea/avvGTZq7erxyrzdnhAbgAijvky8fTou5NKuvaYH8FtntYY5f+JauNAg8AALfzz62Y8vupVqGU3urVRIc+GajDf63XmEV/qmq/D+Rbs/kFX3M5P2FVqzm79YBb4VYIuCAPi1mdGlTUK6+9oU/VTUeTMzT57sbc8BQAAHdSwFsxGYahvcdT9csuT3nd9ZKqBfqpda0KKu/vfcWbLsitmwAUHGfucFEmk0mnVk7X6Kh6Wr7tqO6dvlZJaVnODgsAABQx0z/3ybuvVTW1rlVBR09naNbaA1r59zGlZ1mdHR4AUdyhgB5pXUPv9G6iLfHJuuO9VTp4kpE0AQAoiSxmk5pWLacHbqyuhlXKaNvhZH2+er/+OJjEJRyAk1HcocA6N6ykmQ+3UOKZTPV4b5W2HUp2dkgAAMBJfD0tuqVOsPq0qKrgAG/F7kzU7HUHdIADwIDTUNzhsrSsUV5f9b9RnmaT7v5gtWJ3Jjo7JAAA4ETl/b3VvXFldW4YKqvN0MJNh7R0y2FunQA4AcUdLlvtkNJa+ORNqlq+lB7+7Hd9uf6gs0MCAABOdPZ6vHtbVtWNNcvrwMk0zVwTp1V7jisrh1snAEWF4g5XJCTAR/P7tVKrGuU17KstenvFLu6FBwBACedhMeuG6oG6v1V11Qr21+/7T2nGmv36++hpvicARYDiDlestI+nPnnwBvVoUllvfr9ToxZu5camAABA/j4e6lC/ono2r6JSXh769s8EfbkhXgmnM5wdGuDWKO5wVbw8zHqzZyM92bam5qw7qMdmblBaVo6zwwIAAC4gtIyvet0QptvqBSspLVtzfz+o7/9KUGom3xUAR+Am5rhqJpNJwzrUVWgZXz2/aJvu+XCNPn7wBlW4ipuaAgAA92AymVS/UhldG+yvdftO6o+DSdp9LEUtrwmUzHwVBQoTZ+5QaO5tVU0f3tdcOxLOqMe0VdqTmOLskAAAgIvw9rCoda0g3duymiqV9dEvu4+rUt+39eOOY84ODXAbFHe4NJNZJpOpQD/t61fUvo8Ha9/Bw2o7bpn8rm2RZ35Y1WrObg0AAHCicqW81LVxZXVpVEmSSQ99+rv6fva79h1PdXZoQLHHuXBcmmHTpO92XNZLTmdk639bjsh85wsKr1FeN1QvJ5PJpKGRdRwUJAAAKE6uqVBKhz95Sh/8+LemrtityMmx6nvTNXqq3bUq7ePp7PCAYokzd3CIAB9P3dmsiuqElNbqvSf0v61HlJltdXZYAADAldhy9Fibmlr5TIS6Na6sD37eq7ZvxGr+7wcZgRu4AhR3cBhPi1kd6oeoda0K2nc8VbPXHZBXaG1nhwUAAFxMcGkfvX5XIy168iZVDfTV8K+3KPKtn7V0y2HZbNwfDygoijs4lMlkUtOq5XRnsyoyJFXsM1Ef/byXD2oAAHCeRmFl9XX/G/X+vc1kMZn01OxN6vz2r1r5dwI3QQcKgOIORSK0jK96t6iqtN1r9eqy7eozfa0OnEhzdlh5hFWtVuCBYy71w8AxAABcGZPJpI4NKipmcBtNvruRUjJz1Pez9brjvVX68e9jFHnARTCgCoqMj6dFx78Zr3fWxemVpdvV4a2fNbxjHT0QXl1ms8nZ4Sn+4IHLHjjmQhg4BgCAq2Mxm9S9SRV1blhJX66P1zsrd+mhz35XvdAA9b+lpqKuD5XFBb4/AK6EM3cocnffUFXfDmmjljUC9dKSv3TH+6v0x8EkZ4cFAABckKfFrN4tq+qnYW31+p0NlZVj1cA5m9TuzZ80e+0BZTBgG2BHcQenqFTWV58+eIPeuKuRDp5MV7d3f9PQeX/oSHK6s0MDAAAuyMvDrLuah+n7IRF6/96mKuPrqVELt6rV+BUat2y7y13uATgD3TLhNCaTSXc2q6IO9UM07ac9+vjXfVq27Yh6t6imR9tco9Ayvs4OEQAAuBiz2aSODULVoX5Frdl7UjPX7NfHv+7TR7/sVUTtIN3XqppuqRNMl82LCKtaTfEHDzht+1XCqurggTinbd+dUdzB6Ur7eOrZjnXVu0VVTf5+pz5fvV8z1+xXt8aV9UjrGqpTsbSzQwQAAC7GZDIpvGZ5hdcsr6PJGZqz7oDmrDughz9fr5AAb0U3rKSujSurQeUAmUwUeucq6DgDhmEox2Yo22pTtjX3t80wZBiSIUmGZMiQyWSSxWSSh8Ukizn3safFLE+LKd99z9gEjkNxB5cRFuinSXc31tDI2pr+yz7N/f2AvtwQrwaVA3RH0yrq0qiSyvt7OztMAADgYiqW8dGQ9rX1VLtr9f1fCVq46ZA+X71f03/dpxpBpdStcWVFNQxVjQqlKPQkmTy9dSIlU8np2TqdkaMzGdlKz7IqPfufnyyrMrJtyrrKG8mbTbkD6vl4WOTtaf7nsVll2/bV9F/2KiTARyEBPqoY4KPgAG/5eFoKqYUlF8UdXE6Vcn56sUt9Dby1lr7ZdEgLNsXrpSV/6ZX/bVejKmV0c60gta5VQY2qlJWXR+FfNmqzGUrLtio1M0epWTlKyzz72Kq0rBxl5tiUbbUpKyf3Qy87x5ChvMMyhw35Uo3Hfid/b49/f3w8VMbXU0H+3goO8FZQaW8Fl/ZRSIC3Kpf1k68XH2gAAFwNT4tZna4PVafrQ5WUlqVlW49q0R+HNOn7nZr0/U5VK++ntnWCdUudILWqUd5ti4kcq01HkjN08FSaDp5M08GT6TpwMu2f5+mqOvRrfbH2326ZFrNJfl4W+Xrm/pTz85KPp0Ve/5x987SY5elhlqfZJLPZJJNyz5yaJMkkGYaUY7PJajNktf17ti8z26aMbKsycmzKzLYqJTNHJ1KsKt2kk1753/bz4i7r56mK/xR8oWV8FFrGV5XK+qhSWV+Flsn97a7vWWGhuIPLCizlpb43X6O+N1+jHUfPaMnmw/pl93G9s3KXpq7YJQ+zSTWCSqlOxQDVDvZXSICPKpT2UgV/b5Xy9pCn2SwPi0lmk0mZOf8eiUpKz9bJlCydTM3S8dRMnUzJ0vGUTIU+OEUf/bJX6VlW5XcHHV9Pi/y8LPLyyD3yFODjKS8PszwtZv23W/9PXy3Qg4MGKyUzRykZOUrJzNHJ1CztTUzVsTMZysg+/0hYBX8vVSnnpyrlfFWlnJ/CAn3tzyvzYQYAwGUp6+el3i2rqnfLqjqclK4V2xP0445Ezf39gD5btV8+nma1vKa8bqheTk2rllOjsLIq5V08vhobhqFTadk6eDLtnKLt3yLucFK6cmz/fpuxmE2qVNZHYeX8dFu9YL33xiu654lnVcbXUwG+HvL1tBTpGc2hkXWUlJalhNMZOpqcoaOnM3TsdO7vo8mZSjidoT8Pn9bxlMzzXhtYyste+FUu66PQfwq/ymV9FVrWVyGlveVhKbljRhaPv2CUeHUqlladinX0TIc6Sk7L1uq9x7UlPlk7jp7RxrhTWrL58BWt18tiVmApL1Uo7aWcMyd0TYVSKuXloVLeFpXy9rA/9vPyuKwLsxf++LHGrpye7zzDMJSSmaPEM5k6dib3Ayz+VLriT6Up/lS6th1K1rd/HlW2NW+JGVzaW5X/KfQql/NVlX9+VyqbO620j+cV7QMAANxdpbK+ui+8uu4Lr66MbKtW7z2hn/4+pt/2nFDsd4mScrsQ1gsNUJOqZVUnpLRqBvvr2mB/Bfl7F3lXzrPF2+GkdMWfStfhpHQdSkq3F3Pxp9KVkpmT5zXlS3mpSqCfGoWVVeeGoaoa6KewQD9VDfRTaBmfPAXPa3d+qTpjXynSNv1XGV9PlfH1VO2QC4+tkJFtVcLpDB1OytDhpHQdSU7X4eQMHflnX6zdd0JnMvLuB7NJ/575K+urSmV8FFzaR4GlvBTo76XypbwUWMpL5Ut5u2WvKYo7FDtl/DzVsUGoOjYItU/LyLYq8Uymjqdk6nhKltKycpRtNZRjtclmSD6eZvl6WnLPuPl6qnwpL5X395K/t4f9A9s0sI1u69encII0ma8uEZjMsviXk0dAiIJrXKdnXhingyfTdCgpXVsPJeu7PxPO6wcf4OOhyuX8VLlsbheG4NL/dv3M/e2tZtfXVXwhjk7FaFfuozBHTuPvAkCBXW2+vApnP6uS07K18eApbYo7pQ0HTmnRpsM6c07hFODjoWuD/VWprO8/14h5KyQgN7eW9fWSn1duzx5fr7wHg41zBh7JttpyL/HIzO2amJqVox697tWp1CxZ/MrKXKqMLH5lZSlVVh4BQbKUDpLZyydPvLasDOWcTlBOUoJyko4qJ/noOY8TFJedoY1FuQOvRiG+7yYv33/2WQX779MBQdpbOkgeARVkKV1BZs/8x2ywZWXIlp4sa1qybJmpsmWmychKky0z7bzHtqx0GTmZMnKyZGRn/fM485/HuT/Kt+9XXo7OkU4p7pYsWaL33ntPOTk5euCBB9SnTyF9oUaJ5eNpUdg/R6hcgmEr0ChUBTE0so4G3vplnmk2m6HjKZmKT0rXoVO5R/PO/o4/laZ1+07o9H+OZEmS+e6pqufjpVJeHvLztqiUl4d8/+ljf7YA9j2nz72Xx8U/fBntyn0UdOS0guDv4sqRH1HiFGK+vFxnP6vK+HmqbZ1gta0TnBuSYSjhdKZ2H0vRrmNntPtYivYkpmjboWSt2H5M6Ze4abrFbLKPKHnR5W55UhX+eexx9po3L4v8vT0U4OOp0j4eKu3jqYB/fvt4mmUyXX+1zZbkAp/TRfi+G4ahLKvNPmDMOyMf0z2j3/l3AJmsIKVnW3PHUsixKTPn33EVLpfFbJKHOXfUUI9/Lg/yMP/z2GySt4dZK1+6ywGt/FeRF3cJCQmaPHmyFixYIC8vL/Xq1UstW7bUtddeW9ShAMWW2WxScICPggN81LRquXyXOXs2MzElU8dO5/4eMOw5XX9XP6Vm5Q4ScyIlS+lZVlkvkIFMJtkLPZ+zv73M9mml6rfV938lKMDHQwG+uYkowNdT/l4eMnN/IZdnGIYysm1KzcqRR5kQHU/JtA8WlGMzlP1Pcsux5ibGc4fCzrEZMgxDNkP2LzFnfwe06OHsphVL5EfANZhMJlUs46OKZXx0c60KeeadvbQi4XSmjp3O0OmMbKVlWZWWlXtdf1qWVVlWqyym3FsAmEyS2ZR7e4BSXrmXfPh7e6iUt4fat22tEdO+kp+XxwVvGYCrZzKZ5O1hkbeHRWUlpe9epwaVylzydYZhKNtqKDMnt/DLthrKsf3722rNHTjm7OAxOTbjn2k2+zSrzVDOP8tl5FiVmWOT2dPnktu+GkVe3K1atUqtWrVS2bJlJUkdOnRQTEyMnnrqqaIOBXBr+Z3NvP/XWbr1+efzLHf2wysj+98hkDP+MxxyenbukMgn07KUnmRVRo5VhiFV6Py0Hp2x/rxtm0zKc+QxwCf3gu3cI495zxT6eFrk43X+NC8PsyxmkzzNub/PPfplsZjkaTb9Mz33aJj5nyR6dvsmmf75rX+73p6dV8gJ9NyuN4bx79ipxj/3/zlbO599/u/jf5c3DP2TBGzKPvv7bJI4p6DK/qfYyrHljkKWZn9//vliYR/C2nr+vH9GfE3NsiotM0dp2VZ7bJUf/1iz1l68W6aH+d/7FnmYzTKZc7+0mCT7/jebTDKMqxs6u6QiPwKuz2QyqbSPp0r7eOraYP+rWlfW4R0q6+dVSJGhsJlMJnl5mAp9ZPa1Jw4W6vr+q8iLu2PHjikoKMj+PDg4WFu2bLnk66zW3FPgR48evarte3h46PSJhKtahyPWVdjrc+V1xcfHF8q6CltJ2GeXisv3nx95/fNjZ/nn559BWwxDmVabJg/qo6Xf/pA7KmhmtlIyrP88ztGZjBylZuYoJTNTKWeyFZdoVeo/t5LIzLIq85/ixZnOFn+5j03/Fn/SvzPsRVj+xZur8bTkdvvw+adY9vbILZ59PMwK9LSocimLfAMt8vX0ka+nWT6eHvLzMmvMqBHq8fgIefwz5LWHJbew9vynePa4jKPK6zYtvaq/2bOf82c/90sKZ+dHqfDzWnHZtrO3T9udt21nfidxdtv5m3OOq/27u1SONBlG0X49ee+995SZmanBgwdLkubPn69t27Zp7NixF33d+vXrufYAAEqQWbNmqXnz5s4Oo8iQHwEABXWhHFnkZ+4qVqyo9ev/7caVmJio4ODgS76uQYMGmjVrloKCgmSxuN+wpQCAXFarVYmJiWrQoIGzQylS5EcAwKVcKkcW+Zm7hIQE3XPPPfrqq6/k6+urXr166eWXX1bDhg2LMgwAAFwK+REAcLWK/MxdSEiIhgwZovvvv1/Z2dm68847SVwAgBKP/AgAuFpFfuYOAAAAAFD4CndsTwAAAACAU1DcAQAAAIAboLgDAAAAADdAcQcAAAAAboDiDgAAAADcQIkp7pYsWaJOnTopMjJSs2bNcnY4l+2+++5TVFSUunbtqq5du2rz5s1atWqVoqOjFRkZqcmTJ9uX3b59u3r06KEOHTroueeeU05OjhMjz19KSoo6d+6s+Ph4Sbrsthw+fFh9+vRRx44d1b9/f6WmpjqlHf/133aNHDlSkZGR9vft+++/l1S82vXOO+8oKipKUVFRmjhxoiT3eL/ya5c7vF+SNGXKFHXq1ElRUVH69NNPJbnHewbHKC75sTD+Z52tOOfyL7/80h53165d1axZM40dO9bl3wN3+L7x3zbMmzdPnTt3VnR0tEaOHKmsrCxJuf8jbdu2tb8XZ/+fnd2G4v7d6Nz4Y2Nj8/wftGrVSv369ZPkQvvfKAGOHj1qtG3b1jh16pSRmppqREdHG7t27XJ2WAVms9mMm2++2cjOzrZPS09PNyIiIowDBw4Y2dnZRt++fY2ffvrJMAzDiIqKMjZt2mQYhmGMHDnSmDVrljPCvqA//vjD6Ny5s1G/fn3j4MGDV9SWxx57zFi6dKlhGIbxzjvvGBMnTnRKW87133YZhmF07tzZSEhIOG/Z4tKu3377zbj77ruNzMxMIysry7j//vuNJUuWFPv3K792fffdd8X+/TIMw1i7dq3Rq1cvIzs720hPTzfatm1rbN++vdi/Z3CM4pIfC+t/1pncKZfv3LnTaN++vXHixAmXfg/c4fvGf9uwd+9eo3379saZM2cMm81mDB8+3Pj0008NwzCMfv36GRs3bjxvHc5sQ3H/bpRf/GcdO3bMuPXWW419+/YZhuE6+79EnLlbtWqVWrVqpbJly8rPz08dOnRQTEyMs8MqsL1790qS+vbtqy5duuiLL77Qli1bVK1aNYWFhcnDw0PR0dGKiYnRoUOHlJGRocaNG0uSevTo4XJtnT9/vl544QUFBwdL0mW3JTs7W7///rs6dOiQZ7qz/bdd6enpOnz4sEaNGqXo6GhNnTpVNputWLUrKChII0aMkJeXlzw9PVWzZk3t37+/2L9f+bXr8OHDxf79kqQWLVpoxowZ8vDw0IkTJ2S1WnX69Oli/57BMYpLfiyM/1lnc6dc/uKLL2rIkCHy9fV16ffAHb5v/LcNXl5eeuGFF+Tv7y+TyaTatWvr8OHDkqRt27bpgw8+UHR0tMaOHavMzEynt6G4fzf6b/znmjhxonr16qXq1atLcp39XyKKu2PHjikoKMj+PDg4WAkJCU6M6PKcPn1a4eHhevfdd/XZZ59p7ty5Onz4cL5t+m9bg4KCXK6tr776qpo3b25/fqH350JtOXXqlPz9/eXh4ZFnurP9t13Hjx9Xq1atNG7cOM2fP1/r16/XV199VazaVatWLfsH7f79+7V8+XKZTKZi/37l167WrVsX+/frLE9PT02dOlVRUVEKDw93m/8xFL7ikh8L43/W2dwll69atUoZGRm6/fbbLzvPFTV3+L7x3zZUrlxZN910kyTp5MmTmjVrlm699ValpqaqXr16GjZsmBYuXKjTp09r2rRpTm9Dcf9u9N/4z9q/f7/WrVun+++/X5Jcav+XiOLOZrPJZDLZnxuGkee5q2vSpIkmTpyo0qVLKzAwUHfeeaemTp2ab5uKY1svFPOFpufXJldsY1hYmN59910FBwfL19dX9913n2JjY4tlu3bt2qW+fftq+PDhCgsLc5v369x21ahRw23eL0kaOHCgVq9erSNHjmj//v1u856hcBW3nHE1/7PO5i65fO7cuXrooYckXX6eczZ3+r6RkJCgBx54QHfccYdatmypUqVK6aOPPlLNmjXl4eGhvn37KjY21uXa4C7fjebNm6fevXvLy8tLklxq/5eI4q5ixYpKTEy0P09MTMz39KqrWr9+vVavXm1/bhiGKleunG+b/tvW48ePu3xbL/T+XKgtgYGBOnPmjKxWa57lXc2OHTv07bff2p8bhiEPD49i164NGzbowQcf1NNPP63u3bu7zfv133a5y/u1Z88ebd++XZLk6+uryMhIrV271i3eMxS+4pQfr/Z/1tncIZdnZWXp999/V7t27SRdfp5zNnfJX3v27FGvXr3UvXt3Pfnkk5JyB+346quv7MucfS9crQ3ukmtXrFihTp062Z+70v4vEcXdjTfeqNWrV+vkyZNKT0/Xd999pzZt2jg7rAI7c+aMJk6cqMzMTKWkpGjhwoUaOnSo9u3bp7i4OFmtVi1dulRt2rRR5cqV5e3trQ0bNkiSFi1a5PJtbdSo0WW1xdPTU82bN9eyZcskSd98841LttEwDI0bN07JycnKzs7WvHnz1L59+2LVriNHjujJJ5/UG2+8oaioKEnu8X7l1y53eL8kKT4+XqNHj1ZWVpaysrK0YsUK9erVq9i/Z3CM4pIfC+N/1tncIZfv2LFD1atXl5+fn6Ti9x64Q/5KSUnRww8/rEGDBqlv37726T4+Pnr99dd18OBBGYahWbNmqX379i7XBnfItSdPnlRGRobCwsLs01xp/5sMwzAcugUXsWTJEn3wwQfKzs7WnXfeqUcffdTZIV2Wt956S99++61sNpt69+6tBx54QKtXr9b48eOVmZmpiIgIjRw5UiaTSX///bdGjx6tlJQU1a9fX+PHj7efNnYl7dq104wZM1SlSpXLbsuhQ4c0YsQInThxQqGhoZo0aZLKlCnj7CZJytuuWbNmadasWcrJyVFkZKSeeeYZSSo27XrllVf09ddfq2rVqvZpZy8eLs7v14XaZbPZivX7ddbbb7+t5cuXy2KxKDIyUgMGDHCr/zEUruKQHwvrf9bZinsuX7Zsmb7//vs8txC43DznDO7wfeNsG3744Qe98cYbqlmzZp55gwYN0rfffqu3335b2dnZatq0qV566SWXaUNx/250bvxbtmzRK6+8ovnz5+dZxlX2f4kp7gAAAADAnZWIbpkAAAAA4O4o7gAAAADADVDcAQAAAIAboLgDAAAAADdAcQcAAAAAboDiDriE+Ph41atXT127dlXXrl0VHR2tXr162e9ZIklTpkzRN998c9H1vPPOO/rhhx8cHO2lDRgwQC1btlR6enqe6e3atdPWrVudFBUAoDgiRwKuxcPZAQDFgY+PjxYtWmR/fujQIT344IOyWCzq0KGDBg0adMl1rF27Vtdee60jw7ykhIQE/f7772rcuLG++eYb3XPPPU6NBwBQ/JEjAddBcQdcgcqVK2vgwIH6+OOP1aFDB40YMUK1atXSww8/rKlTp+r777+Xp6enypUrp/Hjx+v777/Xtm3bNHHiRFksFl177bUaO3asUlNTlZiYqLp16+qtt96St7e3rr/+ej322GP67bffdOzYMT3yyCPq3bu3Jk+erJ9++kmSZBiGduzYoVdeeUVRUVF68cUXFRcXp6SkJJUqVUpvvPGGatSocV7c8+fPV3h4uDp06KApU6aoV69eMplMRbz3AADujBwJOA/dMoErVLduXe3cuTPPtCNHjujzzz/X119/rQULFuimm27Sli1b1KdPHzVo0EDDhw9X+/btNX/+fHXr1k3z58/Xd999p/j4eHtSysrKUrly5TR37lxNnTpV48ePV2ZmpoYMGaJFixZp0aJFat26tW655Rb16NFDP//8swICAjRv3jx9++23atCggWbNmnVevDk5OZo/f766dOmidu3a6cSJE/r555+LYlcBAEoYciTgHJy5A66QyWSSj49PnmkhISGqW7euunfvrjZt2qhNmzYKDw8/77XDhg3Tb7/9po8++kj79+/XsWPHlJaWZp9/6623SpLq16+vrKwspaWlydvbW5I0Y8YMrV69Wl988YUsFos6duyosLAwzZw5U3FxcVq3bp2aNGly3jZXrFghm82m1q1by8PDQ506ddKMGTMUERFRmLsFAAByJOAkFHfAFdq6datq166dZ5rZbNYXX3yhrVu3avXq1Ro3bpxat26t4cOH51lu6NChslqtuv3223XLLbfoyJEjMgzDPv9skjrbHeTsvOXLl+vzzz/X3Llz5efnJ0maPXu25s+frz59+ig6Olply5ZVfHz8efHOnj1bGRkZioyMlJR79DMxMVG7du1SrVq1CmmvAABAjgSchW6ZwBXYt2+fpk2bpr59++aZ/vfff6tz586qWbOm+vXrpwcffNA+upbFYlFOTo4k6ddff9WTTz6pTp06SZI2b94sq9V60W2uW7dOr776qj744AMFBQXZp//666/q3r277rrrLl1zzTVauXLleevat2+ffv/9dy1YsEArV67UypUr9euvv+qGG27QjBkzrnp/AABwFjkScB7O3AEFkJGRoa5du0rKPfLo7e2toUOH6pZbbsmzXN26dXX77bfrjjvukJ+fn3x8fDR69GhJucMoT5o0SdnZ2RoyZIiefPJJ+fn5yd/fXzfccIMOHDhw0RjGjBkjk8mk4cOH2xNTu3bt1LdvXz3//PP66quvJEmNGzc+7zqHOXPm6LbbblO1atXyTH/yySfVr18/DRkyRJJ07733ymz+95jPM888oz59+lzm3gIAlCTkSMB1mIxzz3MDAAAAAIolumUCAAAAgBuguAMAAAAAN0BxBwAAAABugAFVcEl16tRR7dq1ZTabZTKZlJ6eLn9/f7344ou6/vrr7cvt2LFDXbp00dNPP63HHnsszzrS09P1/vvv64cffrA/b9asmYYNG6bg4GD7cj/88IM+++wzHT9+XDabTYGBgerfv7/9PjMLFizQt99+qw8++ECSlJaWprffflsrV66Ul5eXpNwLqPv373/e/XUkKTs7W5MnT9Yvv/wik8kkwzAUFRWlfv362YdUPnjwoCZNmqStW7fKz89PXl5e6tWrl+68805J0tq1a/Xyyy9r6dKlF9xnM2fO1CuvvKJ58+apcePG9ulvv/22Zs2apZCQEEm5wzenpKSoffv2GjFihEwmk+677z4dOnRIpUuXzrPO/v37q2PHjudtKyEhQZMnT9aff/4pk8kkb29v9evXT7fddpt9mdWrV2vatGlKSEiQj4+PypcvryeffFLNmze3xzV79mwtXrw4zyhjnTt31pgxY9SyZcvztnvy5ElNmjRJa9eula+vr8xmszp37qyHHnpIFotFUu7fzurVqxUYGGh/XUxMjGbNmqWZM2eqV69eSk9PV3Z2tvbt22cfNvvaa6/VkCFDFB0drU2bNp237XPfg/j4eLVv3/68Ibcl6csvv9SxY8fOm5+WlqaKFStq3LhxCgsLkyR99NFHWrp0qQzDsN/raMiQIfa/KwAlG7nQtXPhxT7DFyxYoFdffVVVqlTJ85o6depo4sSJBcqBZweMOevMmTM6dOiQYmNjVbFiRUnSypUr1b9/f02ePNk+0md+/vrrL02ZMkV79+6Vn5+f/Pz89PDDD9vz9oX27dixY1WuXDndfvvtevrppyVJycnJOnPmjL1t3bt3V0BAQJ6/j3O9/fbbOnXqlJ5//vlL7pf/zj/7PjVv3lwvv/yyvL29lZKSogkTJmjz5s0ymUwym83q06eP7rrrrgu2Hw5mAJdQu3Zt48SJE3mmTZ8+3ejZs2eeac8//7zx9NNPG23atDGys7Pt03NycozevXsbzz//vJGammoYhmFYrVbjgw8+MLp06WLYbDbDMAxj7ty5xu23327s2LHD/trt27cbN910k7F582bDMAzj66+/Nh577DHDMAwjOzvb6NmzpzFu3DgjLS3NMAzDSEtLM15++WWjd+/eeWI466OPPjIGDBhgn3f69Gmje/fuxty5cw3DMIyDBw8abdq0MRYsWGCP6+jRo8a9995rvPHGG4ZhGMaaNWuMqKioi+6zTp06GU8//bQxePDgPNOnTp1qvPTSS3mmJSUlGW3atDF+/vlnwzAM49577zWWL19+0fWfdeLECeOWW24xFi5caI93+/btRqtWrYxff/3VMAzD+OGHH4zbbrvN2Lhxo/11mzZtMm655Rbjp59+ssfVoEED46GHHrKvxzAMIyoqylizZs15201OTjYiIyONjz76yL4vk5KSjIEDBxpDhw61L5ff387y5cuNe++9N8+0gwcPGo0bN77ktLPOfQ8uttyF5ttsNmPs2LHGkCFDDMMwjGXLlhk9e/Y00tPTDcMwjIyMDOOxxx4z3nzzzQuuF0DJQi503Vx4qc/wc/dXfi43B6amphrdu3c3xo8fn2f6ww8/bDz99NPGXXfddcFtbd682WjdurXx448/2qft3r3biIqKMubMmWMYxoX37UsvvWRMnTo1z7T82nax9p677y+1X/Kbn5GRYXTv3t0e64svvmi8+uqref5OIiIijF9++eWC64Vj0S0Tly0nJ0dHjhxRmTJl7NNSUlK0ZMkS9e/fX6VLl9a3335rn/fDDz/o9OnTeuGFF+w3FTWbzXrssccUFRWl1NRUZWVladKkSXrttdfynGGpW7euXnrpJdlstvPiiImJkc1m08iRI+Xr6ytJ8vX11XPPPaeUlBR9//33570mMTFR2dnZysrKkiSVLl1aEydOVJMmTSRJH374oTp37qzu3bvbj16GhIRo8uTJmjFjho4dO3bJ/bN27VolJydr2LBhWrFihY4cOXLR5Y8fP66MjIw8+7OgZs+eraZNm6pbt272eOvWraupU6eqQoUKkqSJEydq9OjR9jZKuUNBjxo1ShMnTrRP69Kli44dO6ZPPvnkktudM2eO6tWrp0ceeUQeHrkdAMqUKaOJEydq9erV2rJly2W3pShlZmbq2LFj9n2emJgoq9WqjIwMSbk3yB0zZkyes58AcC5y4cUVZS4sjM/wguZAwzA0fPhwlS9fXsOGDbNPP3jwoNatW6eRI0cqLi5Of/zxR76vnzJlih5//PE8t4moWbOmJk6cqEmTJtnfE1eVlJSklJSUPPkzMzNT2dnZknL/Tt5+++3zbiuBokO3TBTIAw88IEk6deqUvL291bZtW40fP94+f9GiRapevbpq1qypbt266bPPPlNUVJQkaf369brpppvy3BvmrLNdVrZv3y5Jebq2nHXrrbfmG9OmTZvs3QrPZTKZFB4erg0bNuj222/PM++hhx7SE088oVatWqlRo0Zq2rSpOnTooOuuu86+zrNdHc5VoUIF1axZU5s3b1ZAQEC+8Zw1e/ZsRUdHKyQkRK1atdIXX3yRJwEsW7ZMGzZsUHp6upKTk3XdddfppZdeUsOGDe3LTJw4Ue+9916e9X722WcqV65cnmnbtm1T69atz4vhhhtukJT7fu3fv9/+/Fzh4eF66qmnlJycLCk3Gb755pvq3bu3WrVqpfr161+wjZs2bcp3u97e3mrWrJk2btyYpz2Odu49ls5q2rSpXnjhhTzzbTabTpw4oTJlyigyMtL+99e9e3f99NNPuvnmm1W/fn01adJEt956a777DUDJRS50zVxYkM/w9evXn5cn7r//ft1xxx2SCp4Dz3annD9/vv0SBCn3oOctt9yi8uXLq1OnTvrss8/01ltvnff6jRs3asSIEedNv+6662QymbR79+58t+sol9ovZ+dnZmYqKSlJ1atXV9++fe1/U0899ZQGDRqkVq1aqUmTJmratKk6depkv+QBRY/iDgXy+eefKzAwUH/++acee+wxtWzZUuXLl7fPnzt3rnr27Ckp9+jXpEmTtGnTJjVp0kSGYdiP/EnSmjVr7MkwOTlZL7zwgr3f/bl69+6t1NRUZWRkqGHDhnr99dfPWyYnJyffeLOysvJ86J5VsWJFLViwQLt379batWu1du1a3X333RoxYoT9RqQXW+e57chPYmKiVqxYoa+//lqS1K1bN7344ov2m7FKUqdOnfT8888rKytLL7/8snbv3q127drlWc/w4cPzvabgv85eK3Ep+bXp7FG2c9tUp04dDR48WE8//bQWLFhw0XWeff1/nXvUMb/9ZbPZ8v1yczV8fHy0aNGiAs3/5ZdfNGzYMLVt21alSpWSlHvU+pNPPtHBgwe1Zs0arVu3To899ph69+6d58sIgJKNXOiaubAgn+HNmzfP9xq0c10qBy5fvlxz5szRl19+KX9//zz7ZMGCBRo3bpyk3GLznnvu0ZEjRxQaGnreei61by+UIx2RPy+1X87Ot9lsmjZtmpYuXZrnPalbt65iYmL0559/6vfff9dvv/2m999/X1OmTDnv/UTRoFsmLkv9+vU1cuRIjRgxQvHx8ZJyj+rs2rVL06dPV7t27dSrVy95enrqs88+k5R7BmXdunX2dbRq1UqLFi3SokWLFBYWpszMTNWsWVOGYWjnzp325WbPnq1FixapX79+On369HmxNG3aVOvXrz+vm4rNZtPvv/+epxviWRMnTtS+fft07bXXqk+fPpo6dapeeeUVzZkzR5LUpEkTrV279rzXJSQkKD4+Pt+jqeeaP3++pNwLvtu1a6eJEycqJSVFCxcuPG9ZLy8vjRkzRikpKXm6R16Oxo0b59v1Y+7cufr0009Vrlw5XXPNNXn2/1lr1qxRzZo1zzv6et9996latWp69dVXL7jd/76nZ6Wmpmrr1q1q2rSpJKlcuXJKSkrKs8yJEydUtmzZSzfOQVq3bq2HHnpIgwYNUkpKiqTcC/E3btyosLAw3XXXXXr99df10Ucfafbs2U6LE4DrIhe6Vi4szM/wC+XAv/76S2PGjNGUKVNUtWrVPPOWLVum06dP6+WXX1a7du00ePBgmUwmzZw587z1N23aNN99u2XLFnl6eqpGjRr55k7JufnTbDbrqaeeUuXKle1nHnNycvT8888rOTlZDRo00EMPPaTp06erf//+mjdvnlPiBMUdrkDnzp3VsGFD+xHHOXPmqGvXroqNjdXKlSu1cuVKvf/++/r+++91+PBhRUZGys/PT6+++qpSU1Pt69m8ebMOHjwoi8Uib29vPfPMM3rmmWfydEk4ceKEfvvtt3yPVHXo0EG+vr4aN26cvZ99RkaGXn75ZZUqVUrt27c/7zUnT57UlClTlJ6eLim37/yuXbvsXVH69++v5cuX50lAR48e1dChQ3XPPffke1T1LKvVqi+//FIvvfSSfT/89NNP6tevn2bMmJHvGTYvLy+98MILmj17tv7666+L7vf83H333Vq3bp0WL15sX/+2bds0depU+/UaI0eO1Lhx4/IUgZs2bdKECRP0zDPP5Lve8ePHKzY2VnFxcfnO7927t/bs2aMPP/xQVqtVUu6R5xEjRqh58+b2bjVt2rTRzJkz7V86kpOTtXDhQvuIb87St29flSpVSlOnTpWU+3fz5ptv5kmmO3futP9dAMB/kQvz54xcWNif4f/NgcePH9cTTzyhYcOGqVWrVuctP3fuXD3++OP68ccf7W1+8cUX9eWXXyotLS3Psk8//bSmT5+u2NhY+7Q9e/Zo5MiRGjRokLy9vVWjRg15eXlp2bJl9mXOnmW96aabrqhNheWFF17Qb7/9ph9++EEeHh7at2+fpk2bZu/Nk5OToz179pA/nYhumbgiY8aMUZcuXbRs2TJ999139q4XZ4WHh6tx48aaOXOmnn32WU2fPl3Tp0/XvffeK5vNpuTkZF1zzTUaPny4/YLnnj17KiQkRK+++qpOnjyp9PR0eXl56bbbbrNf53AuDw8PffLJJ5o2bZp69Oghs9ksq9Wqdu3a6ZNPPpGnp+d5r3nhhRc0efJkdenSRV5eXsrJyVGrVq30/PPPS5JCQ0M1b948vfXWW3r//ffl4eEhb29v9ezZU3fffbd9PXv27DnvaOjrr78um82m6OjoPNMffPBBzZgxI88H+bmaN2+u6OhojR071n7UNL/rDNq3b6+nnnoqz7SyZctq5syZev311/XBBx/IbDbL19dXr776qj0BRERE6LXXXtOUKVOUkJAgm82mihUr6rXXXss3SUlSYGCgJkyYoEceeSTf+f7+/po3b56mTJmiTp06ydPTUyaTSZ07d1bfvn3tyz333HOaMGGCOnfubO8a1LVrV3Xv3j3f9f5XWlraeft57ty55y2X3zV3kjRhwoTzhtGWJE9PT40ZM0aPPPKI7rzzTj3xxBMymUzq1auXTCaTbDabGjRokO/1EgBwFrnQNXJhQT7D87u2zGKx5Nv98r85cN68eTp+/Lhmz5593tnA5557Ttu3b9e0adPyTO/WrZvee+89LVy40N7VVcq9tu7jjz/WlClTNG7cOFksFgUEBGjAgAH27o5ms1kffPCBJkyYoPfee0+GYcjPz08TJ05U9erV891///XLL7/keW9Kly6tn3/++bzlLme/SFLVqlX16KOPavz48WrdurWmTJmi119/3X6QwWazqX379nryyScLFCcKn8koyAU7AAAAAACXRrdMAAAAAHADFHcAAAAA4AYo7gAAAADADRSbAVUyMjK0bds2BQUF5XvPFgCAe7BarUpMTFSDBg3k4+Pj7HBcHvkRAEqOS+VIhxZ3K1eu1DvvvKP09HTddNNNGj16tFatWqXx48crMzNTt99+u4YMGVKgdW3bti3PaEMAAPc2a9YsNW/e3NlhOAT5EQBwNS6UIx1W3B08eFAvvPCCvvzyS5UvX14PPPCAYmNj9cILL2jmzJkKDQ1Vv379FBsbW6B7XgUFBUnKbUjFihUdFTYAwMmOHj2qPn362D/33Q35EQBwpS6VIx1W3H3//ffq1KmTPdFMnjxZcXFxqlatmsLCwiRJ0dHRiomJKVDyOtvVpGLFiqpSpYqjwgYAuAh37WJIfgQAXK0L5UiHFXdxcXHy9PTU448/riNHjuiWW25RrVq18lSZwcHBSkhIcFQIAAC4HPIjAMBRHFbcWa1WrV+/XjNnzpSfn5/69+8vHx8fmUwm+zKGYeR5DgCAuyM/AgAcxWHFXYUKFRQeHq7AwEBJ0m233aaYmJg8pxATExMVHBzsqBAAAHA55EcAgKM47D53bdu21a+//qrTp0/LarXql19+UceOHbVv3z7FxcXJarVq6dKlatOmjaNCAADA5ZAfAQCO4rAzd40aNdIjjzyi3r17Kzs7WzfddJPuuece1ahRQwMGDFBmZqYiIiLUsWNHR4UAAIDLIT8CABzFofe5u/POO3XnnXfmmRYeHq7Fixc7crMAALg08iMAwBEc1i0TAAAAAFB0KO4AAAAAwA1Q3AEAAACAG3DoNXeuqG+/J3T81OnzplcoF6BPPpjmhIgAAHANYVWrKf7gAYdvp0pYVR08EOfw7QBASVPiirvjp06r7aPPnzf9x4/GOiEaAABcR/zBA5r03Q6Hb2doZB2HbwMASiK6ZQIAAACAG6C4AwAAAAA3QHEHAAAAAG6A4g4AAAAA3ADFHQAAAAC4AYo7AAAAAHADFHcAAAAA4AYo7gAAAADADVDcAQAAAIAboLgDAAAAADdAcQcAAAAAboDiDgAAAADcAMUdAAAAALgBijsAAAAAcAMUdwAAAADgBijuAAAAAMANUNwBAAAAgBuguAMAAAAAN0BxBwAAAABugOIOAAAAANwAxR0AAAAAuAGKOwAAAABwAxR3AAAAAOAGKO4AAAAAwA1Q3AEAAACAG6C4AwAAAAA3QHEHAAAAAG7Aw5Erv++++3Ty5El5eORuZuzYsUpNTdX48eOVmZmp22+/XUOGDHFkCAAAuBzyIwDAERxW3BmGof379+vHH3+0J6+MjAx17NhRM2fOVGhoqPr166fY2FhFREQ4KgwAAFwK+REA4CgOK+727t0rSerbt6+SkpLUs2dP1a5dW9WqVVNYWJgkKTo6WjExMSQvAECJQX4EADiKw665O336tMLDw/Xuu+/qs88+09y5c3X48GEFBQXZlwkODlZCQoKjQgAAwOWQHwEAjuKwM3dNmjRRkyZN7M/vvPNOTZ06Vc2aNbNPMwxDJpPJUSEAAOByyI8AAEdx2Jm79evXa/Xq1fbnhmGocuXKSkxMtE9LTExUcHCwo0IAAMDlkB8BAI7isOLuzJkzmjhxojIzM5WSkqKFCxdq6NCh2rdvn+Li4mS1WrV06VK1adPGUSEAAOByyI8AAEdxWLfMtm3bavPmzerWrZtsNpt69+6tJk2aaMKECRowYIAyMzMVERGhjh07OioEAABcDvkRAOAoDr3P3eDBgzV48OA808LDw7V48WJHbhYAAJdGfgQAOILDumUCAAAAAIoOxR0AAAAAuAGKOwAAAABwAxR3AAAAAOAGKO4AAAAAwA1Q3AEAAACAG6C4AwAAAAA3QHEHAAAAAG6A4g4AAAAA3ADFHQAAAAC4AYo7AAAAAHADFHcAAAAA4AYo7gAAAADADVDcAQAAAIAboLgDAAAAADdAcQcAAAAAboDiDgAAAADcAMUdAAAAALgBijsAAAAAcAMUdwAAAADgBijuAAAAAMANUNwBAAAAgBuguAMAAAAAN0BxBwAAAABugOIOAAAAANwAxR0AAAAAuAGKOwAAAABwAxR3AAAAAOAGKO4AAAAAwA1Q3AEAAACAG6C4AwAAAAA3QHEHAAAAAG7A4cXda6+9phEjRkiSVq1apejoaEVGRmry5MmO3jQAAC6NHAkAKEwOLe5Wr16thQsXSpIyMjI0atQoTZs2TcuWLdO2bdsUGxvryM0DAOCyyJEAgMLmsOIuKSlJkydP1uOPPy5J2rJli6pVq6awsDB5eHgoOjpaMTExjto8AAAuixwJAHAEhxV3zz//vIYMGaKAgABJ0rFjxxQUFGSfHxwcrISEBEdtHgAAl0WOBAA4gkOKuy+//FKhoaEKDw+3T7PZbDKZTPbnhmHkeQ4AQElAjgQAOIqHI1a6bNkyJSYmqmvXrkpOTlZaWpoOHToki8ViXyYxMVHBwcGO2DwAAC6LHAkAcBSHFHeffvqp/fGCBQu0bt06vfTSS4qMjFRcXJyqVKmipUuX6o477nDE5gEAcFnkSACAozikuMuPt7e3JkyYoAEDBigzM1MRERHq2LFjUW0eAACXRY4EABQGhxd3PXr0UI8ePSRJ4eHhWrx4saM3CQBAsUCOBAAUJoffxBwAAAAA4HgUdwAAAADgBijuAAAAAMANUNwBAAAAgBuguAMAAAAAN0BxBwAAAABugOIOAAAAANxAge5zd/LkSS1evFipqakyDEM2m01xcXF68803HR0fAAAujRwJAHAVBSruBg8eLB8fH+3evVs33nijVq1apWbNmjk6NgAAXB45EgDgKgrULfPw4cP68MMP1aZNG917772aM2eO9u7d6+jYAABweeRIAICrKFBxV6FCBUlS9erVtXPnToWEhCgnJ8ehgQEAUByQIwEArqJA3TLLly+v6dOnq3Hjxnr77bfl7++vjIwMR8cGAIDLI0cCAFxFgc7cjR07Vl5eXmrevLkaNGigqVOnatiwYY6ODQAAl0eOBAC4igIVd7t27dL9998vSRo2bJi++eYbnThxwqGBAQBQHJAjAQCuokDF3YMPPqixY8fKMAz7tLlz5zosKAAAigtyJADAVRSouKtZs6aSk5PVv39/+3UE5yYxAABKKnIkAMBVFKi48/Ly0ptvvqlq1aqpT58+On78uMzmAr0UAAC3Ro4EALiKAmWfs0cgR44cqaioKPXq1UtnzpxxaGAAABQH5EgAgKsoUHFXr149++O+fftq8ODBOnr0qMOCAgCguCBHAgBcRYGKu/Hjx+d53rlzZ23dutUhAQEAUJyQIwEArqJANzH/4YcfNG7cOCUnJ+e5SHzjxo0OCwwAgOKAHAkAcBUFKu5ef/11jRgxQtddd51MJpOjYwIAoNggRwIAXEWBiruAgABFRkY6OhYAAIodciQAwFUU6Jq7Ro0aKTY21tGxAABQ7JAjAQCuokBn7mJjY/XFF1/I09NTnp6eMgxDJpOJ6wkAACUeORIA4CoKVNx99tlnDg4DAIDiiRwJAHAVBeqWWblyZW3dulXz589XYGCgNm3apMqVKzs6NgAAXB45EgDgKgpU3H344YeaM2eOYmJilJGRoXfeeUfvvvuuo2MDAMDlkSMBAK6iQMXd//73P3300Ufy9fVVuXLlNH/+fC1dutTRsQEA4PLIkQAAV1Gg4s7Dw0NeXl725wEBAfLwKNDlegAAuDVyJADAVRQo+4SGhuqnn36SyWRSVlaWPv74Y64nAABA5EgAgOso0Jm7MWPG6NNPP9WOHTvUuHFj/fzzzxozZswlXzdlyhR16tRJUVFR+vTTTyVJq1atUnR0tCIjIzV58uSrix4AACe7khxJfgQAOEKBztyFhITo888/V3p6uqxWq/z9/S/5mnXr1mnNmjVavHixcnJy1KlTJ4WHh2vUqFGaOXOmQkND1a9fP8XGxioiIuKqGwIAgDNcbo4kPwIAHKVAxd3Zo4r/9dBDD13wNS1atNCMGTPk4eGhhIQEWa1WnT59WtWqVVNYWJgkKTo6WjExMSQvAECxdbk5kvwIAHCUAhV3O3futD/OysrS77//rvDw8Eu+ztPTU1OnTtUnn3yijh076tixYwoKCrLPDw4OVkJCwhWEDQCAa7iSHEl+BAA4QoGKu/Hjx+d5npCQoOeee65AGxg4cKAeffRRPf7449q/f79MJpN9nmEYeZ4DAFDcXGmOJD8CAApbgQZU+a+QkBAdOnToosvs2bNH27dvlyT5+voqMjJSa9euVWJion2ZxMREBQcHX0kIAAC4pEvlSPIjAMBRLvuaO8MwtG3bNpUvX/6ir4mPj9fUqVM1Z84cSdKKFSvUq1cvTZw4UXFxcapSpYqWLl2qO+644yrCBwDAuS43R5IfAQCOctnX3Em59/QZPnz4RV8TERGhLVu2qFu3brJYLIqMjFRUVJQCAwM1YMAAZWZmKiIiQh07drzy6AEAcLLLzZHkRwCAo1zRNXcFNWDAAA0YMCDPtPDwcC1evPiK1gcAgKu5khxJfgQAOEKBirv77rvvohd2z5gxo9ACAgCgOCFHAgBcRYGKuwYNGmjPnj3q2bOnPD09tWjRIuXk5CgqKsrR8QEA4NLIkQAAV1Gg4m7jxo2aPXu2LBaLJKl169bq2bOnOnTo4NDgAABwdeRIAICrKNCtEE6ePKnMzEz789TUVGVkZDgsKAAAigtyJADAVRTozF3nzp119913q3379jIMQ8uXL9f999/v6NgAAHB55EgAgKsoUHE3aNAgXXfddVqzZo28vb01duxYtWjRwtGxAQDg8siRAABXUaBumZIUEhKiWrVqafDgwfL09HRkTAAAFCvkSACAKyhQcff1119r5MiRmj59us6cOaMnnnhC8+fPd3RsAAC4PHIkAMBVFKi4++KLLzRv3jz5+/urfPnyWrBggT7//HNHxwYAgMsjRwIAXEWBijuz2Sx/f3/789DQUPuQzwAAlGTkSACAqyhQcVe2bFlt375dJpNJkrR48WKVKVPGoYEBAFAckCMBAK6iQKNljho1SoMGDdKBAwd08803y9vbW9OmTXN0bAAAuDxyJADAVRSouMvIyNCiRYu0f/9+Wa1WXXPNNYwGBgCAyJEAANdRoG6ZzzzzjCwWi2rWrKnatWuTtAAA+Ac5EgDgKgpU3NWpU0dLlizR4cOHlZSUZP8BAKCkI0cCAFxFgbplrlixQjExMXmmmUwmbd++3SFBAQBQXJAjAQCuokDF3datWx0dBwAAxRI5EgDgKi7aLXPMmDH2xydPnnR4MAAAFBfkSACAq7locbdt2zb744cfftjhwQAAUFyQIwEAruaixZ1hGPk+BgCgpCNHAgBcTYFGy5RyLw4HAADnI0cCAFzBRQdUsdlsSk5OlmEYslqt9sdnlS1b1tHxAQDgksiRAABXc9HibufOnWrVqpU9WbVs2dI+j2GeAQAlGTkSAOBqLlrc/f3330UVBwAAxQo5EgDgagp8zR0AAAAAwHVR3AEAAACAG6C4AwAAAAA3QHEHAAAAAG6A4g4AAAAA3ADFHQAAAAC4AYo7AAAAAHADFHcAAAAA4AYcWty98847ioqKUlRUlCZOnChJWrVqlaKjoxUZGanJkyc7cvMAALgk8iMAwBEcVtytWrVKv/76qxYuXKhvvvlGf/75p5YuXapRo0Zp2rRpWrZsmbZt26bY2FhHhQAAgMtxl/xoGIYMw3B2GACAc3g4asVBQUEaMWKEvLy8JEk1a9bU/v37Va1aNYWFhUmSoqOjFRMTo4iICEeFAQCASymO+THHZtOhU+k6cDJNx85kKiktW+lZVlkNQxaTSX7eFpXx8VRIgI8ql/NVWDlfeVi48gMAiprDirtatWrZH+/fv1/Lly/Xvffeq6CgIPv04OBgJSQkOCoEAABcTnHKjydSMrXlULL+PnpGWTk2WcwmVfD3Ulg5X/l5echiMclqM5SamaNTaVnadPCUNhw4JS+LWTWDS6lhlbKqGODj7GYAQInhsOLurF27dqlfv34aPny4LBaL9u/fb59nGIZMJpOjQwAAwOW4cn5MSsvS6j0ntPNYiixmk64N9ledkNKXPCOXY7UpPildu4+laGfCGW0/ckZVyvmqVY3yqlzWtwhbAAAlk0OLuw0bNmjgwIEaNWqUoqKitG7dOiUmJtrnJyYmKjg42JEhAADgclw2P1o8tXrPCW2IOyWzWWperZyaVi0nXy9LgV7uYTGrevlSql6+lFrXqqA/D5/WhrhT+mpDvGoF+6t1rQoq7ePp4EYAQMnlsOLuyJEjevLJJzV58mSFh4dLkho1aqR9+/YpLi5OVapU0dKlS3XHHXc4KgQAAFyOq+bHv4+eVuj9k7Ru/0nVqVhara+toFLeV/41wdvDoqZVy+n6ymW08cAprd9/SnEn0hRRJ+jSLwYAXBGHFXcff/yxMjMzNWHCBPu0Xr16acKECRowYIAyMzMVERGhjh07OioEAABcjqvmx8Fz/5DFr6y6NKqkayqUKrT1elrManlNedWrGKDv/krQ938lqELXZ5WUlqWyfl6Fth0AgAOLu9GjR2v06NH5zlu8eLGjNgsAgEtz1fz4/r3NVLNKJ13TdaND1h/g66keTStrQ9wp/WYNV8e3ftG7fZqqWbVyDtkeAJREjFMMAABUvUIp2TJTHboNs8mkG6oH6ujMp+XlYdY9H63RN5sOOXSbAFCSUNwBAIAilZWwR4uevEmNw8pq8Lw/NOm7HbLZuCE6AFwtijsAAFDkypXy0hcPt1TP5lU0deVuDZy7SVk5NmeHBQDFmsPvcwcAAJAfLw+zXrujoa6p4K/XYv5WamaO3ru3mXw8C3brBQBAXpy5AwAATmMymdT/lpoa1/16/bQzUQ9+uk4pmTnODgsAiiWKOwAA4HS9W1bVW3c31u/7T6nP9LVKTst2dkgAUOxQ3AEAAJfQtXFlvdenqbYfPq37P1mr0xkUeABwOSjuAACAy4isX1HT+jTVn4dP66FPf6eLJgBcBoo7AADgUm67LkRv39NEfxxMUt/PfldaFgUeABQExR0AAHA5t18fqsl3N9b6/SfVb+YGZeZYnR0SALg8ijsAAOCSujSqpNfuaKhfdh3X0PmbZeVG5wBwUdznDgAAuKy7mofpVFqWxi37W4F+Xhrbtb5MJpOzwwIAl0RxBwAAXNpjbWrqRGqWPojdq8BSXhrSvrazQwIAl0RxBwAAXN6IjnV1MiVLU1bsUnl/L90fXt3ZIQGAy6G4AwAALs9kMml8j+t1Ki1bLyz+U2X9vNSlUSVnhwUALoUBVQAAQLHgYTHrnd5NdEP1QD09/w/9vDPR2SEBgEuhuAMAAMWGj6dF0x9ormuDS+vxLzboj4NJzg4JAFwGxR0AAChWAnw89XnfG1TB31sPfbpOu4+dcXZIAOASKO4AAECxE1zaRzMfbiGL2az7P16nw0npzg4JAJyO4g4AABRL1cqX0ud9b9CZjBzd/8k6nUrNcnZIAOBUFHcAAKDYql+pjKY/0FwHTqbpoc9+V2pmjrNDAgCnobgDAADFWssa5fXOPU20JT5Jj3+xQVk5NmeHBABOQXEHAACKvcj6FTXhjob6ZddxPf3lZtlshrNDAoAix03MAQCAW+jZPEwnU7M0YfnfCvTz1Itd6stkMjk7LAAoMhR3AADAbTweUVMnU7P04c97Vd7fWwNvreXskACgyFDcAQAAtzLy9ro6kZKlSd/vVLlSXrqvVTVnhwQARYLiDgAAuBWTyaTX7rheSWlZen7RNgX4eKhr48rODgsAHI4BVQAAgNvxsJj1bp+malE9UEPnb9b/thxxdkgA4HAUdwAAwC35eFr0yYM3qGnVsho4d5NitlHgAXBvFHcAAMBtlfL20KcPtVCjKmX01OxN+v6vBGeHBAAOQ3EHAADcmr+3hz7r20L1K5fRE7M2aOXfFHgA3JNDi7uUlBR17txZ8fHxkqRVq1YpOjpakZGRmjx5siM3DQCASyNHFq0AH0/N6NtCdSsG6PGZG/XjjmPODgkACp3DirvNmzfrnnvu0f79+yVJGRkZGjVqlKZNm6Zly5Zp27Ztio2NddTmAQBwWeRI5yjj66mZD7dQrRB/PTZjPdfgAXA7Divu5s+frxdeeEHBwcGSpC1btqhatWoKCwuTh4eHoqOjFRMT46jNAwDgssiRzlPWz0uzH2ml6yuX0ROzNurrDfHODgkACo3D7nP36quv5nl+7NgxBQUF2Z8HBwcrIYE+7wCAkocc6Vxl/Dw18+GWemzmej395WalZuXo/vDqzg4LAK5akQ2oYrPZZDKZ7M8Nw8jzHACAkoocWfRKeXvo4wdu0G31QvT8oj/15nc7ZBiGs8MCgKtSZMVdxYoVlZiYaH+emJho744CAEBJRo50Dh9Pi967t6nubh6mt1fu1tNfblZWjs3ZYQHAFXNYt8z/atSokfbt26e4uDhVqVJFS//f3p3HR1Hffxx/zR65L3KRCAEEA1huxXKD2JaAAVGkAirQoiJW0R/0wqNolSKiD8CrVq1SW7FFEUUQEQUUKFiMVaLIZTWEQAgBQhJIstljfn9sWAjhSgi7Ift+Ph557OzszM5nv9mZ73z2+/3OLFvGjTfe6K/NV+NyeygocVBQUsGRSheVLg8F8d148dP/0bFZLF3T4ogM9VvRiIhIkGtIdWSwsVstzLqxE82ahDPnox3sL3Hw51uvICbMHujQRERqzW8ZTGhoKLNmzWLy5Mk4HA4GDBjA4MGD/bV5APaXVpCb1JOX1n2P0+3temGzGITYLFTEtOHxD7Z5Y7VZGNgumZt7tKBfeqK6xoiIyAXVEOrIYGYYBvf+JJ1L4sKZ9nY2N/55Ay+P606rxMhAhyYiUisXPLlbvXq1b7pXr1689957F3qTp/XfXUUcCW9Ku6bRtE6KJCUmjIgQbxGseflRXpv/Ktl7ilm9tYD3v85nxZZ9XJ4aw7Qh7RnQNuks7y4iIlI7DamObKzSWrQkb3fuOS8f2qITjuHT6DdjHwfem03FD/8953Wbp7Vgd+6uuoQpIlIvgqrv4eCOqfwodwkDM6af8vUmkSEMaJvEgLZJPJB5OUu+2svza75j/Kub+En7ZGbc0JHU2HA/Ry0iIiJ1lbc7lzkrt9dqneJyJ8uy92K76VH6XJbIFS3izqkXz9RB7eoapohIvfDbBVUuNqE2Kzd1T2PllP48cG17NvzvIIPmrmXJV3sCHZqIiIhcQLHhdm7qnkab5CjWf3eAZdn5VDjdgQ5LROSslNydRajNysT+bVjxf/1onxLNff/6ikfe24LTratpiYiINFZ2q4VrO6bQPz2RnINHeWNTLvnF5YEOS0TkjJTcnaOWCZG8cUdPbu97KX/bkMPNL3/G/pKKQIclIiIiF4hhGHRr0YSbuqdhMQze+iKP//xwELdH98MTkYZJyV0t2K0WHhr6I54Z041v9pQw9Nn1fLOnONBhiYiIyAXUNCaMMT9OIz05is++P8SbWbs5eMQR6LBERGpQclcH13W5hHfu7o3damH0S5+xfueBQIckIiIiF1CozcqQjqlc2zGF0goX/9y0m89zDqkVT0QaFCV3ddQ+JYa37+pN8ybh/GL+Jt79UhdaERERaezSm0Zza88WtEqMYMP/DvLPTbnsKdJYPBFpGILqVghnsnnzZq676dYa87dv/ZZ2l/+oxvzEJjG8+uKfWXhnL+78Rxb/t/ArCksd3NG/tT/CFRERkQCJCLExtPMlfF94hE92FLLov3lcnhqNJSIu0KGJSJBTclfF6YGBd9S8/13Wr2485fw1Lz8KeC+X/NqEHzN14Wb+tHwrh8sr+c2gdud0PxwRERG5eLVOiiItPoLPcw7xxa4imk18iac/3skd/S8lIkSnWCLif+qWWQ9CbVaeGdONMT9O4/k1/+PBd79RH3wREZEgYLda6N0mkVt7tqQ850vmfryDq5/8hDf+k0ulS7dNEhH/UnJXT6wWg5k3dOKuq9vwxn9yue9fX+qgLiIiEiSaRIRw4N3HefuuXqTFR/DAO18z8CkleSLiX0ru6pFhGPx+cHvuH9KeZdn53PH3LMoqXYEOS0RERPzkypbxLJrUi/m/vIqk6FAeeOdrrn5yDX9d9z0lFc5AhycijZySuwvgzgFtmDWiE+t2FjL2lU0Ul+lgLiIiEiwMw2Bgu2Te+VVv/j7hxzRvEsGM97fSa+YqHnlvCz8cOBroEEWkkdJo3wtk9I9bEBtu575/fcWolzby9wk/JjkmLNBhiYiIiJ8YhkH/tkn0b5vE13nFzP/3Dyz4zy5e25jDwHbJjO3Zkn7pidis+q1dROqHjiYX0JBOqbz6i6vIPVTGyL9sJPdgWaBDEhERkQDo1DyWOaO68u9p13DvNelk5x3ml3/7nF6zVvP48q3sKCgNdIgi0ggoubvA+qYnsuD2HhSXOxn5lw18s6c40CGJiIgElmHBMAy//DU0ydFhTPlZWzZM+wkvjr2SrmlxvLL+BwbNXcuwZ9fz6vofyC/WTdFFpG7ULdMPurVowluTejH+1U38/C8bmTuqK4M7pgQ6LBERkcAwPcxZud0vm5o6qJ1ftlNbITYLGR1SyOiQwoEjDpZ8tZdFX+Tx6LJveXTZt3RrEceQjikM6ZhKWnxEoMMVkYuEWu78pG3TaJbc3Ye2KdFMev0Lnl/zHaape+GJiIgEu8SoUG7reykf3NePVb8ewG8z2uF0e5i5fBv9Zq/h2qfX8dSH28nKOYTLrdsqiMjpqeXOj5Jjwlg4sSe/XZTNkx9uZ/u+UmaO6ERUqP4NIiIiAm2Sorh74GXcPfAydh8qY8U3+1j57T5e+PR/PLfmO2LD7fRNT+Tqtkn0uSyRS+LCAx2yiDQgyiougAl3/ooDRSU15ic2ieHVF//MM6O70q5pFHM+2sHXe4p57uZudLgkNgCRioiISEOVFh/BHf1bc0f/1hSXO1m/8wCfbN/Pm+u38H52PgDOor1U5H6NI/drKnKzcR85VK8xNE9rwe7cXfX6niJy4Si5uwAOFJUw8I7pNeaveflRwHtp5HuuSad7q3ju+9eX3PDnDTyUeTlje7ZskIO/RUREJLBiw+1kdk4ls3MqT93Ujfvf3kxeURl5RZHsSWqOo0sGAHERdprHhZMaF05qbBhx4fbzOrdoqGMWReTUlNwFUM/WCSy/tx+/fmsz05dsYcU3+5h5QydaJUYGOjQRERFpsEySokNJig6lW4smeEyTA6UO8g6Xk1dUzo79R/hmr7cHUZjNQkpsGKmx4aTEhtE0JpRQmzXA8YvIhaLkLsASokJ5dfxVLNiUy+wPtpExby33/iSdif1bY9dNTUVEROQsLIZBckwYyTFhXNGiCaZpcuhoJfklFewrriC/uIKcgwd9yydEhZASE0ZydCjJ0WEkRoXoRuoijYSSuwbAYjEY27Mlg37UlEfe28KTH27n7f/m8euftWNIxxQslurdKc42pk9ERESCl2EYJESFkhAVSseqMf0Op5t9Jd5Eb19xBd/tP8KWqtY9w4CEyBCSqpK95KpWQf3IfPFIa9GSvN25ftlWYxyH2ZjKT8ldA9I0JowXbr2SVVsLmPXBNu5+4790bBbDrwe14+q2Sb4+82cb0yciIiJyolC7lZYJkbRM8A79ME2T0goX+0sd7C+tYH+pg5wDZWzNLwXAAJpEhJCQOZUXP/0f7VKiaZcSTUpMmK4P0ADl7c4N+ntHno/GVH5K7hqgn1zelKvbJbPkqz3M+WgHv5z/Oe2aRjO+dyuu73ZJoMMTERGRi5xhGMSE24kJt3NZchTgTfiOOty+ZG9/qYOwlp15/INtvvViw+20axrtS/bap0TTNiWamDB7oD6KiJxAyV0DZbUYjLiiOUM7X8K7X+3hb//O4YF3vmbWB1uxJ1zJ3sPlpMbq1zMRERGpH4ZhEBVmIyositZJ3oRv6m8HUnTUwbZ9pWzfV1r1WMI7X+7hiMPlW7dZXDjpTaNonRhFm+RI72NSJEnRoTpXEfEjJXd1tHnzZq676dZTvpb9zTcMrMU6ZxorF2KzcFP3NH5+ZXOydhXx2oYc3i9rw1tf5BEVaiO9aRStEiK5JDas1p9BY/dERETqkWFpfImMYaFJZOgpX7LGJBGS1Ap7UiuOJrXkh4QW2OIvwWI/fk7icRzFeWgPzkN7cB3Mw3kozztdXIBZWe5brjGO4xIJBCV3deT0cMpxbwBZv7qxVuucy1g5wzC4qlU8V7WK54clz9A88x527D/C5t2H+TL3MDaLQXjKAP78yXd0bR5Hx+axZ+0iobF7IiIi9cj0+GXcjl/HPNXyM5mmSanDRdHRSorKnBSVxVKUmkjR0R9Va+kDCLNbiAmzExNm54tlr/H3jTmkNYmgeZNwmjUJJyJEp6ln4vGYuDwmbo+JERJBudONaZqA97zRwDt2EgMMDI797mAxDCwGje+HCAGU3F2UrKaL9qkxtE+NodLlYc/hcnIPlrH1+8PMXnH8ANwmKZIuaXF0vCSW9KZRpCdH0zRG3SNERETkwjAMw5ewtUyo/prT7aGorJLDZU5Kyp0UVzgpLXdx8KiDmCuHMX3JlmrLR4XavLdriPFexbNp1WNidAhxESHEhdtpEhFCXIR3eydfXTxQTNOk3OmmrNJNeWXVo9NNWaXr+PNK7/My5/FlvPNdvuVPXres0o3L7U3mnB4PVXkcAC2mvMlLa7+vVZxWi+H9MwzftM1yfPrYc5vFgs16fDpuwHjmfbyDMLuVMJvF+2i3Elo1HWqvmmezEmY//nqY3UKYzdpg/k+NlZK7i1yIzcKliZFcmhiJZ+0L/P1vr5KdV8zm3YfZnHeYtTsKWfzfPb7lo0NtXNY0ijZJURTEdWDbvhJiw70HxYgQqxI/ERERuSDsVkvVrRZqDiWZOqg9BcVl7C4qI6+onD2Hy9lf4qCw1EFBSQVf7T5MQUkFDpfnlO9tGN6LvUSH2Yiw2wgPsRJR9RceYiOiKuk4nsBYfImMzWJgAm6Picf0toZ5qlrEXCfMczg9VLjcVFS6qXB5k68Kp4cKp5sKpzcJq3B6KHe6a1UuhgER9qo4Q6yE262++OMi7L74w0OshNgsNZIuq8Xgd7/9DTdMup9jZ3Em+FrxvNNV800Tj+n9rMf+XKan2nP3CZ+90uXB5XHhcntwVc2L6X498z7eWavPeKIQq+V4AliV8Pmm7VZCbSdOW7AY3lZHg+OtjUZVa6S3BfJ4SyUnn8aaZ3zqK6O4gRNYt7OwxutnWx+ongwb1ZPjExNmm8VCmP3C315EyV0DdroxcWca0zfuFxOqzUsF2scn8qvfPsR3+4/w3f4j7Cw4wtodheyP78yHWwp8y9osBrHhdg6Ed6H7XXOwu45id5UR4irD7iojJcbOfI3FE6mV0+3HcPGPb9W4XRGpP6bvRuxXtjzNEqZJSYWLA0ccFJc7OVzVCuj9q+RwuZPSCpevlau80s3hMqev5cvh8iYxJaVHwLCAxYphsVbfhscNpgfT44Fj06YHPB5MVyWmy4HH6cB0ObzPnQ7vn6vyhPkOzEoHHmcFTaIjeeHZeVVJpjdxOzYdUZXMhdrOf6zmXZ+/S9c/PXFe73GupmZcDoBhs2PYQjFsIVV/oRj249OWY/PtVctYQ6q9bpz0uuWk+bawCBKTU/CYpi9BNaumMb2Jlsc0vfM59lgzvzu5aI2TljAMiO46hK/3FJ/y8568/MncpjcZPldhrbqd87J1EZDkbunSpbzwwgu4XC7Gjx/PLbfcEogwGrzTjYmry5i+3m0S6d0msdr8oaPG023Mbykud1JcXtVFotxJYUQTiuMvwemu/kXdanro/fgqUuPCSYkN45LYMFJiw0mNDSMxKpTEqBASo0OJDrWpBVCkyun2Y7j4x7dq3G79U/0ocnqG4f0ROjb8/G67YBiGbxzhsZYsb6tQ/Y9DmzqoHZmdF9brewacH8eW7jLPPWk6Hyd+J+rCNE1fkneqFtBjj6Zp8vTszfUYeU1+T+4KCgqYO3cuixcvJiQkhNGjR9OjRw8uu+wyf4cS9Cymm/jIEOIjQ6rNf/LFyfzf84twuDyUVrg44nBRWuFky2dr6HllBvuKK/h2bwkff1twyu4RITYLSVXJXkLVY3xkKDHhNm8//HA7MWG2449V8+rjlysRkYuV6kcR/zMMA6tOPeQ8GYa3S6btXHpdmqfuWlxf/J7cbdiwgZ49exIXFwdARkYGK1as4J577jnjem63t//yvn37zmv7zkoHJQcLasw3MOtlfl3WcVY6yMvLu2Cx1uX9Sw/tByAUCDUgIRz2FWQxtffxX5GPdY8oLHVw6GglRWWVFB11cqjs2PNydu+uJLuskuJyZ42WwBrbNbxXzgq1eQfhhtgNQq1Vg3Srpq0WA6u1+uDf6oOBLdis3itB2SwnNKSfkDQemzzxylHGSfNrrnZiH+9TO9WnO/0PTjVfqM2PU+Y5rl+bmM71PU8f1CnWvwDbr+17ejzeLhPHxk94MH1XGPN4vL/YekxweTx4PN4uHtWWN03cVe9hnvCrnGmaeDjeJcT3WHXM9pjebR1OHMCODz6vitP0xWsC7uRruPzXC04d/EXAkXwNW9/fVGN+ZGS7Ux5zztWx4/yx436wCHT9CGCz2U5bt9Unf22nsW6rsX6m8zlu1HZb/iw/f3wufSfOf1sXy3fibHWkYZp+au+s8uKLL1JWVsaUKVMAeOutt8jOzuaxxx4743pZWVnqniIiEkQWLFhA9+7dAx2G36h+FBGRc3W6OtLvLXcej6da1zvTNM+pK17Hjh1ZsGABSUlJWK3Wsy4vIiIXJ7fbTWFhIR07dgx0KH6l+lFERM7mbHWk35O7lJQUsrKyfM8LCwtJTk4+63phYWFB9QuuiEgwa9nyNJfLa8RUP4qIyLk4Ux154W+2cJLevXuzceNGDh06RHl5OStXrqR///7+DkNERKRBUf0oIiLny+8td02bNmXKlCmMGzcOp9PJyJEj6dy5s7/DEBERaVBUP4qIyPny+wVVREREREREpP75vVumiIiIiIiI1D8ldyIiIiIiIo2AkjsREREREZFGQMmdiIiIiIhIIxA0yd3SpUu59tprGTRoEAsWLAh0OH713HPPkZmZSWZmJrNnzwZgw4YNDBs2jEGDBjF37lzfslu3bmXEiBFkZGTw4IMP4nK5AhW2XzzxxBNMmzYNUJkArF69mhEjRjBkyBBmzJgBqFyWLFni23+eeOIJIHjL5MiRIwwdOpS8vDyg9uWwd+9ebrnlFgYPHsxdd93F0aNHA/I5pLpgrh/rauzYsWRmZjJ8+HCGDx/O5s2bT7s/SHXnexyRmmV4//33M2jQIN/38aOPPgJUhqfT6M+LzSCwb98+c+DAgWZRUZF59OhRc9iwYebOnTsDHZZf/Pvf/zZHjRplOhwOs7Ky0hw3bpy5dOlSc8CAAWZubq7pdDrNCRMmmJ988olpmqaZmZlpfvnll6Zpmub9999vLliwIIDRX1gbNmwwe/ToYf7+9783y8vLg75McnNzzb59+5r5+flmZWWlOWbMGPOTTz4J6nIpKyszr7rqKvPgwYOm0+k0R44caa5atSooy+Srr74yhw4danbo0MHcvXt3nfaZiRMnmsuWLTNN0zSfe+45c/bs2QH5LHJcMNePdeXxeMy+ffuaTqfTN+9M+4McVx/HkWB3chmapmkOHTrULCgoqLGsyrCmYDgvDoqWuw0bNtCzZ0/i4uKIiIggIyODFStWBDosv0hKSmLatGmEhIRgt9tp06YNOTk5tGzZkrS0NGw2G8OGDWPFihXs2bOHiooKunbtCsCIESMabTkdPnyYuXPnMmnSJACys7ODvkw++ugjrr32WlJSUrDb7cydO5fw8PCgLhe3243H46G8vByXy4XL5SIqKiooy+TNN9/k4YcfJjk5Gaj9PuN0Ovn888/JyMioNl8CK5jrx7r6/vvvAZgwYQLXXXcdr7/++mn3B6nufI8jUrMMy8vL2bt3Lw888ADDhg3jmWeewePxqAxPIxjOi/1+E/NA2L9/P0lJSb7nycnJZGdnBzAi/0lPT/dN5+Tk8MEHH3DrrbfWKI+CgoIa5ZSUlERBQYFf4/WX6dOnM2XKFPLz84FTf0eCrUx27dqF3W5n0qRJ5Ofnc/XVV5Oenh7U5RIVFcV9993HkCFDCA8P56qrrgra78qf/vSnas9rWw5FRUVERUVhs9mqzZfACub6sa5KSkro1asXf/jDH3A6nYwbN47bb7/9lPuDVHe+xxGpWYYHDhygZ8+ePPzww0RHR3PnnXeyaNGiGvW3ytArGM6Lg6LlzuPxYBiG77lpmtWeB4OdO3cyYcIEfve735GWlnbK8giWcnrrrbdITU2lV69evnmn++zBUibgbaXauHEjM2fOZOHChWRnZ7N79+6gLpdt27bx9ttvs2bNGtatW4fFYiEnJyeoy+SY2u4zpyqPxlw+F4tg+97Wh27dujF79myio6OJj49n5MiRPPPMMyrHOlDde/7S0tJ4/vnnSU5OJjw8nLFjx/Lpp5+qDM+iMZ8XB0XLXUpKCllZWb7nhYWFvubsYPDFF19w77338sADD5CZmcmmTZsoLCz0vX6sPFJSUqrNP3DgQKMsp+XLl1NYWMjw4cMpLi6mrKyMPXv2YLVafcsEW5kAJCYm0qtXL+Lj4wH46U9/yooVK4K6XNavX0+vXr1ISEgAvF0yXnnllaAuk2NO/rxnK4f4+HhKS0txu91YrdagOw43VMFeP9ZFVlYWTqfT9wOhaZo0a9bslPuDnFltjyNS0/bt28nJyfF1eTdNE5vNpjI8g8Z+XhwULXe9e/dm48aNHDp0iPLyclauXEn//v0DHZZf5Ofnc/fdd/PUU0+RmZkJQJcuXfjhhx/YtWsXbrebZcuW0b9/f5o1a0ZoaChffPEF4L1KYGMsp/nz57Ns2TKWLFnCvffeyzXXXMNf//rXoC4TgIEDB7J+/XpKSkpwu92sW7eOwYMHB3W5tG/fng0bNlBWVoZpmqxevTro959jalsOdrud7t27s3z5cgDefffdRl0+F4tgrh/rqrS0lNmzZ+NwODhy5AjvvPMOU6dOPeX+IGem4+n5M02TmTNnUlxcjNPpZOHChfzsZz9TGZ5GMJwXB0XLXdOmTZkyZQrjxo3D6XQycuRIOnfuHOiw/OKVV17B4XAwa9Ys37zRo0cza9YsJk+ejMPhYMCAAQwePBiAp556ioceeogjR47QoUMHxo0bF6jQ/So0NDToy6RLly7cfvvt3HzzzTidTvr06cOYMWNo3bp10JZL3759+fbbbxkxYgR2u51OnToxefJk+vTpE7Rlckxd9pmHH36YadOm8cILL5CamsqcOXMC+RGE4K4f62rgwIFs3ryZ66+/Ho/Hw80330y3bt1Ouz/I6anuPX/t27dn4sSJjBkzBpfLxaBBgxg6dCigMjyVYDgvNkzTNAMdhIiIiIiIiJyfoOiWKSIiIiIi0tgpuRMREREREWkElNyJiIiIiIg0AkruREREREREGgEldyIiIiIiIo1AUNwKQaQ+tGvXjrZt22KxWDAMg/LycqKionjkkUfo1KlTvW/v6aefpmXLllx//fXn/V7t2rVj48aNvhuUn4sHH3yQzMxMevfufd7bFxGRxkv1o0jDoVshiJyjU1UAr7zyCitXrmThwoUBjOzs6lJ5iYiInAvVjyINh1ruROrI5XKRn59PbGwsAAcOHGD69OkcPHiQwsJCmjVrxrx580hISCA7O5tHHnkEp9NJixYt2Lt3L9OmTaNHjx689NJLLFq0iMjISLp3786qVatYvXo106ZNIz09ndtuu63adrOyspg1axYejweAO++8k4yMDEpLS/njH//Itm3bMAyDfv36MXXqVGy247t5WVkZjzzyCLt27eLw4cNERkby1FNP0bp1a8aOHUtsbCzff/89Y8aMYeXKldxyyy26Ea+IiNSK6keRwNGYO5FaGD9+PMOGDaNv375kZGQA8PjjjwPw/vvv07VrVxYuXMiqVasICwtjyZIluFwuJk+ezH333cfSpUsZO3YsW7duBWDdunUsXryYRYsWsXjxYo4ePXrWGJ599ll++ctfsnjxYmbOnMlnn30GwIwZM4iLi2Pp0qW8/fbbbN++nVdffbXaumvXriUmJoaFCxfy4Ycf0rFjRxYsWOB7PSYmhuXLlzN27Nh6KS8REQkOqh9FGga13InUwmuvvUZ8fDxbtmxh4sSJ9OjRg4SEBMBbsWVlZTF//nxycnLYuXMnXbp0YceOHQAMGDAAgJ49e5Keng7Ap59+yuDBg4mJiQHglltu8VVGpzNkyBAeffRRVq9eTe/evZk6dSrgrZj++c9/YhgGISEhjB49mtdee42JEyf61h08eDBpaWn84x//YNeuXWzatIlu3br5Xu/evXs9lZSIiAQT1Y8iDYNa7kTqoEOHDtx///1MmzaNvLw8AJ588kmefvppmjRpwqhRo+jTpw+maWK1Wjl5aKvVagXAZrNVe+3Y/DMZPXo07733Hn369GH9+vVcd911OBwOPB4PhmH4lvN4PLhcrmrrvvHGGzz44IOEhYUxbNgwhg4dWm37ERERtS8MERGRKqofRQJLyZ1IHQ0dOpTOnTv7up2sX7+e8ePHc/3115OQkMCGDRtwu920adOGkJAQ1q5dC0B2djY7duzAMAwGDBjAypUrKS0tBWDRokVn3e7o0aPZunUrI0aM4LHHHqOkpITCwkL69u3L66+/jmmaVFZW8uabb9a4ktf69eu54YYb+PnPf86ll17K6tWrcbvd9VwyIiISzFQ/igSOumWKnIc//OEPXHfddaxbt467776b2bNn8/TTT2O327niiivIzc3FZrPx7LPP8vDDDzNnzhxatWpFYmIiYWFhdO7cmZtuuolRo0YRFhZGeno64eHhZ9zmb37zG2bOnMm8efMwDIN77rmH5s2b89BDDzFjxgyGDRuG0+mkX79+TJo0qdq6EyZMYPr06b5KsmvXrr5uMSIiIvVF9aNIYOhWCCJ+8MQTT3DbbbeRmJhIfn4+w4cP5+OPP2bXrl18+eWXjBs3DoD58+ezefNm5s2bF9iARURE/ED1o0j9UsudiB80a9aMX/ziF74xBDNmzCAmJoZLL72Ul19+mTfffBPDMEhNTeWxxx4LdLgiIiJ+ofpRpH6p5U5ERERERKQR0AVVREREREREGgEldyIiIiIiIo2AkjsREREREZFGQMmdiIiIiIhII6DkTkREREREpBFQciciIiIiItII/D9+oGot6e8k6QAAAABJRU5ErkJggg==\n",
      "text/plain": [
       "<Figure size 1080x720 with 4 Axes>"
      ]
     },
     "metadata": {},
     "output_type": "display_data"
    }
   ],
   "source": [
    "#Creazione dataframes\n",
    "rag_no_outliers = dati.drop([\"Betelgeuse\", \"Antares\"], axis=0)\n",
    "dist_no_outliers = dati.drop(\"Aludra\", axis=0)\n",
    "\n",
    "#Creiamo 4 assi diversi con matplotlib, uno per ogni istogramma\n",
    "fig, ax = plt.subplots(2,2, figsize=[15,10])\n",
    "\n",
    "#Distanza con outliers\n",
    "sns.histplot(x=\"dist\", data=dati, kde=True,  edgecolor=\"black\",ax=ax[0,0]).set(xlabel=\"Distanza AL\",\n",
    "                                                                            ylabel=\"Frequenza\",\n",
    "                                                                            title = \"DISTANZA CON OUTLIERS\")\n",
    "#Distanza senza outliers\n",
    "sns.histplot(x=\"dist\", data=dist_no_outliers, kde=True, edgecolor=\"black\", ax=ax[0,1]).set(xlabel=\"Distanza AL\",\n",
    "                                                                            ylabel=\"Frequenza\",\n",
    "                                                                            title = \"DISTANZA SENZA OUTLIERS\")\n",
    "#Raggio solare con outliers\n",
    "sns.histplot(x=\"rag_sol\", data=dati, kde=True,  edgecolor=\"black\",ax=ax[1,0]).set(xlabel=\"Raggi solari\",\n",
    "                                                                            ylabel=\"Frequenza\",\n",
    "                                                                            title = \"RAGGIO SOLARE CON OUTLIERS\")\n",
    "#Raggio solare senza outliers\n",
    "sns.histplot(x=\"rag_sol\", data=rag_no_outliers, kde=True, edgecolor=\"black\", ax=ax[1,1]).set(xlabel=\"Raggi solari\",\n",
    "                                                                            ylabel=\"Frequenza\",\n",
    "                                                                            title = \"RAGGIO SOLARE SENZA OUTLIERS\")\n"
   ]
  },
  {
   "cell_type": "markdown",
   "id": "6d7f8d10",
   "metadata": {},
   "source": [
    "La distribuzione di entrambe le variabili manifesta un'asimemtria a destra, la maggior parte delle stelle più brillanti sono relativamente vicine a noi e grandi fino a 15 volte il nostro Sole.\n",
    "\n",
    "Poichè entrambe le stelle Betelgeuse e Antares appartengono alla classe M, si può pensare che vi sia una correlazione tra la classe e la dimensione della stella. Possiamo quindi procedere a calcolare un valore medio di raggio solare, magnitudine apparente e raggio solare per ognuna delle classi spettrali mediante una tabella pivot , tenendo a mente che nel dataframe **Dati** non è più presente il Sole."
   ]
  },
  {
   "cell_type": "code",
   "execution_count": 21,
   "id": "647cfe50",
   "metadata": {},
   "outputs": [
    {
     "data": {
      "text/html": [
       "<div>\n",
       "<style scoped>\n",
       "    .dataframe tbody tr th:only-of-type {\n",
       "        vertical-align: middle;\n",
       "    }\n",
       "\n",
       "    .dataframe tbody tr th {\n",
       "        vertical-align: top;\n",
       "    }\n",
       "\n",
       "    .dataframe thead th {\n",
       "        text-align: right;\n",
       "    }\n",
       "</style>\n",
       "<table border=\"1\" class=\"dataframe\">\n",
       "  <thead>\n",
       "    <tr style=\"text-align: right;\">\n",
       "      <th></th>\n",
       "      <th>dist</th>\n",
       "      <th>mag_app</th>\n",
       "      <th>rag_sol</th>\n",
       "    </tr>\n",
       "    <tr>\n",
       "      <th>clas_spet</th>\n",
       "      <th></th>\n",
       "      <th></th>\n",
       "      <th></th>\n",
       "    </tr>\n",
       "  </thead>\n",
       "  <tbody>\n",
       "    <tr>\n",
       "      <th>A</th>\n",
       "      <td>137.033333</td>\n",
       "      <td>1.607222</td>\n",
       "      <td>14.720000</td>\n",
       "    </tr>\n",
       "    <tr>\n",
       "      <th>B</th>\n",
       "      <td>461.516129</td>\n",
       "      <td>1.787097</td>\n",
       "      <td>11.604516</td>\n",
       "    </tr>\n",
       "    <tr>\n",
       "      <th>F</th>\n",
       "      <td>628.333333</td>\n",
       "      <td>1.556667</td>\n",
       "      <td>67.815556</td>\n",
       "    </tr>\n",
       "    <tr>\n",
       "      <th>G</th>\n",
       "      <td>29.466667</td>\n",
       "      <td>0.553333</td>\n",
       "      <td>7.336667</td>\n",
       "    </tr>\n",
       "    <tr>\n",
       "      <th>K</th>\n",
       "      <td>201.870000</td>\n",
       "      <td>1.936500</td>\n",
       "      <td>55.214000</td>\n",
       "    </tr>\n",
       "    <tr>\n",
       "      <th>M</th>\n",
       "      <td>316.333333</td>\n",
       "      <td>1.651667</td>\n",
       "      <td>377.500000</td>\n",
       "    </tr>\n",
       "    <tr>\n",
       "      <th>O</th>\n",
       "      <td>1020.000000</td>\n",
       "      <td>1.896667</td>\n",
       "      <td>16.033333</td>\n",
       "    </tr>\n",
       "  </tbody>\n",
       "</table>\n",
       "</div>"
      ],
      "text/plain": [
       "                  dist   mag_app     rag_sol\n",
       "clas_spet                                   \n",
       "A           137.033333  1.607222   14.720000\n",
       "B           461.516129  1.787097   11.604516\n",
       "F           628.333333  1.556667   67.815556\n",
       "G            29.466667  0.553333    7.336667\n",
       "K           201.870000  1.936500   55.214000\n",
       "M           316.333333  1.651667  377.500000\n",
       "O          1020.000000  1.896667   16.033333"
      ]
     },
     "execution_count": 21,
     "metadata": {},
     "output_type": "execute_result"
    }
   ],
   "source": [
    "pivot_clas = dati.pivot_table(values=[\"rag_sol\", \"mag_app\", \"dist\"], \n",
    "                         index=\"clas_spet\", aggfunc=np.mean)\n",
    "pivot_clas"
   ]
  },
  {
   "cell_type": "markdown",
   "id": "5c55572d",
   "metadata": {},
   "source": [
    "Possiamo creare un diagramma a barre per ogni variabile numerica che mostri con chiarezza quale classe spettrale ha il valore medio più alto. Per farlo, useremo un ciclo for iterando su una lista contenente i nomi delle variabili in questione."
   ]
  },
  {
   "cell_type": "code",
   "execution_count": 22,
   "id": "ae9ce5af",
   "metadata": {
    "scrolled": true
   },
   "outputs": [
    {
     "data": {
      "image/png": "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\n",
      "text/plain": [
       "<Figure size 1440x360 with 3 Axes>"
      ]
     },
     "metadata": {},
     "output_type": "display_data"
    }
   ],
   "source": [
    "#Trasformare la tabella pivot in un dataframe\n",
    "pivot_clas_df = pd.DataFrame(pivot_clas)\n",
    "#Impostiamo lo stile di Seaborn\n",
    "sns.set_style(\"dark\")\n",
    "#Creiamo 3 assi diversi con matplotlib, uno per ogni diagramma a barre\n",
    "fig, ax = plt.subplots(1,3, figsize=[20,5])\n",
    "#Inizializziamo un contatore\n",
    "counter = 0\n",
    "#Iteriamo sulle variabili\n",
    "for x in [\"rag_sol\", \"mag_app\", \"dist\"]:\n",
    "    sns.barplot(x=pivot_clas_df.index,y=x, data=pivot_clas_df, order=classe_ord, palette=pal, \n",
    "                edgecolor=\"black\",ax=ax[counter]).set(xlabel=\"Classe spettrale\")\n",
    "    counter += 1"
   ]
  },
  {
   "cell_type": "markdown",
   "id": "7dd5a0b1",
   "metadata": {},
   "source": [
    "Risulta chiaro che per ciò che riguarda la dimensione, le stelle di classe M hanno il valore medio più alto in assoluto, distaccando di gran lunga le altre classi (pur tenendo conto degli outliers Betelgeuse e Antares). Per quanto riguarda la magnitudine apparente e la distanza, il valore medio di magnitudine più basso prima appartiene alla classe G mentre le altre classi risultano abbastanza omogenee, le stelle di classe O e F risultano invece mediamente le più lontane da noi.\n",
    "\n",
    "Effettuiamo un'operazione analoga calcolando distanza, magnitudine apparente e raggio solare medio ma questa volta raggrupando le stelle per tipologia."
   ]
  },
  {
   "cell_type": "code",
   "execution_count": 23,
   "id": "b6acc01e",
   "metadata": {},
   "outputs": [
    {
     "data": {
      "text/html": [
       "<div>\n",
       "<style scoped>\n",
       "    .dataframe tbody tr th:only-of-type {\n",
       "        vertical-align: middle;\n",
       "    }\n",
       "\n",
       "    .dataframe tbody tr th {\n",
       "        vertical-align: top;\n",
       "    }\n",
       "\n",
       "    .dataframe thead th {\n",
       "        text-align: right;\n",
       "    }\n",
       "</style>\n",
       "<table border=\"1\" class=\"dataframe\">\n",
       "  <thead>\n",
       "    <tr style=\"text-align: right;\">\n",
       "      <th></th>\n",
       "      <th>dist</th>\n",
       "      <th>mag_app</th>\n",
       "      <th>rag_sol</th>\n",
       "    </tr>\n",
       "    <tr>\n",
       "      <th>tipo</th>\n",
       "      <th></th>\n",
       "      <th></th>\n",
       "      <th></th>\n",
       "    </tr>\n",
       "  </thead>\n",
       "  <tbody>\n",
       "    <tr>\n",
       "      <th>Gigante</th>\n",
       "      <td>219.868421</td>\n",
       "      <td>1.842368</td>\n",
       "      <td>40.031842</td>\n",
       "    </tr>\n",
       "    <tr>\n",
       "      <th>Nana</th>\n",
       "      <td>4.400000</td>\n",
       "      <td>0.660000</td>\n",
       "      <td>1.030000</td>\n",
       "    </tr>\n",
       "    <tr>\n",
       "      <th>Seq. princip.</th>\n",
       "      <td>95.790476</td>\n",
       "      <td>1.525714</td>\n",
       "      <td>3.495714</td>\n",
       "    </tr>\n",
       "    <tr>\n",
       "      <th>Subgigante</th>\n",
       "      <td>291.700000</td>\n",
       "      <td>2.093000</td>\n",
       "      <td>5.460000</td>\n",
       "    </tr>\n",
       "    <tr>\n",
       "      <th>Supergigante</th>\n",
       "      <td>958.947368</td>\n",
       "      <td>1.580526</td>\n",
       "      <td>159.113158</td>\n",
       "    </tr>\n",
       "  </tbody>\n",
       "</table>\n",
       "</div>"
      ],
      "text/plain": [
       "                     dist   mag_app     rag_sol\n",
       "tipo                                           \n",
       "Gigante        219.868421  1.842368   40.031842\n",
       "Nana             4.400000  0.660000    1.030000\n",
       "Seq. princip.   95.790476  1.525714    3.495714\n",
       "Subgigante     291.700000  2.093000    5.460000\n",
       "Supergigante   958.947368  1.580526  159.113158"
      ]
     },
     "execution_count": 23,
     "metadata": {},
     "output_type": "execute_result"
    }
   ],
   "source": [
    "pivot_tipo = dati.pivot_table(values=[\"rag_sol\", \"mag_app\", \"dist\"], \n",
    "                         index=\"tipo\", aggfunc=np.mean)\n",
    "pivot_tipo"
   ]
  },
  {
   "cell_type": "code",
   "execution_count": 24,
   "id": "244ca525",
   "metadata": {
    "scrolled": true
   },
   "outputs": [
    {
     "data": {
      "image/png": "iVBORw0KGgoAAAANSUhEUgAABJQAAAFBCAYAAAAhYfV+AAAAOXRFWHRTb2Z0d2FyZQBNYXRwbG90bGliIHZlcnNpb24zLjQuMywgaHR0cHM6Ly9tYXRwbG90bGliLm9yZy/MnkTPAAAACXBIWXMAAAsTAAALEwEAmpwYAABLGklEQVR4nO3deViU9f7/8dcIiCKZS4wYGmVZmntRLhkuRwUFMkczReNYabmbFUrKETU5LqHmnlnH8z1qC18VQSI0pWMqVmrlFnasxCOogLmBgsowvz/8Nd/IjVFmBuH5uK6u5v7c9z3zum9g3s577sVgsVgsAgAAAAAAAEqokrMDAAAAAAAA4M5CQwkAAAAAAAA2oaEEAAAAAAAAm9BQAgAAAAAAgE1oKAEAAAAAAMAmNJQAAAAAAABgExpKAAAAAJwqLy9PwcHBysjIkCSlpqYqJCRE3bp109y5c63LpaWlyWQyKSAgQBMnTlRhYaEk6dixYxowYIACAwM1bNgwnT9/3inbAQAVCQ0lAAAAAE6zZ88e9e/fX+np6ZKkgoICTZgwQYsXL1ZSUpL279+vLVu2SJLCw8M1adIkbdiwQRaLRbGxsZKkKVOmKDQ0VMnJyWratKkWL17srM0BgArD1dkBSsvp0+dVVGRxdgwAKDMqVTKoZs1qzo5RZlAnAKC4slInYmNjFRUVpXHjxkmS9u7dK19fX9WvX1+SFBISouTkZD300EMqKChQy5YtJUkmk0nz58/Xc889p507d2rRokXW8YEDByo8PNymHNQJACjuZnWi3DSUioosFAAAwHVRJwCgbIqOji42nZ2dLS8vL+u00WhUVlbWVeNeXl7KysrS6dOn5enpKVdX12LjtqJOAIBtOOUNAAAAQJlRVFQkg8FgnbZYLDIYDNcd//3/f/TnaQBA6aOhBAAAAKDM8Pb2Vk5OjnU6JydHRqPxqvGTJ0/KaDSqVq1ays3NldlsLrY8AMC+aCgBAAAAKDNatGihw4cP68iRIzKbzUpMTJS/v798fHzk7u6u3bt3S5Li4+Pl7+8vNzc3+fn5KSkpSZK0bt06+fv7O3MTAKBCKDfXUAIAAABw53N3d9eMGTM0atQoXbx4UR06dFBgYKAkKSYmRpGRkcrLy1OTJk0UFhYmSYqKilJERISWLFmiunXras6cOc7cBACoEAwWi6VcXHnut9/yuIgeAPxBpUoG1a7t6ewYZQZ1AgCKo04UR50AgOJuVic45Q0AAAAAAAA2sWtDKS8vT8HBwcrIyJAkff/99+rbt6+CgoL0+uuv69KlS5KktLQ0mUwmBQQEaOLEiSosLLRnLAAAAAAAANwGuzWU9uzZo/79+ys9PV3SlebSqFGjNHXqVH322WeSpNWrV0uSwsPDNWnSJG3YsEEWi0WxsbH2igUAAAAAAIDbZLeGUmxsrKKioqy37Ny+fbtatmypRo0aSZIiIyPVtWtXZWZmqqCgQC1btpQkmUwmJScn2ysWAAAAAAAAbpPd7vIWHR1dbPrIkSPy8PDQ2LFj9euvv+qxxx5TRESEfvzxR3l5eVmX8/LyUlZWlr1iAQAAAAAA4DbZraH0Z2azWdu2bdOnn36qe++9VxMnTtT777+vdu3ayWAwWJezWCzFpgGgtDVt3ljZJzKdHaNUGb19tH9vmrNjAHe0Fq0e1fHMDGfHKDV1feppz/c/OjsGAADlDp8nrnBYQ+mee+5RixYtVL9+fUlS9+7dtXLlSplMJuXk5FiXO3nypPU0OQCwh+wTmWowYJ6zY5SqX1eNcXYE4I53PDNDEbFfOztGqZnRt42zIwAAUC7xeeIKu97l7Y/at2+vAwcO6Pjx45KkL7/8Uk2aNJGPj4/c3d21e/duSVJ8fLz8/f0dFQsAAAAAAAA2ctgRSnXr1tXUqVM1dOhQXbx4UY0bN9b48eMlSTExMYqMjFReXp6aNGmisLAwR8UCAAAAAACAjezeUEpJSbE+7tixozp27HjVMo0aNdLq1avtHQUAAAAAAAClwGGnvAEAAAAAAKB8oKEEAAAAAAAAm9BQAgAAAAAAgE1oKAEAAAAAAMAmNJQAAA6zcOFCBQUFKSgoSLNmzbpqflpamkwmkwICAjRx4kQVFhZKko4dO6YBAwYoMDBQw4YN0/nz5x0dHQAAAMAf0FACADhEamqqtm3bpri4OK1bt04HDhzQF198UWyZ8PBwTZo0SRs2bJDFYlFsbKwkacqUKQoNDVVycrKaNm2qxYsXO2MTAAAAAPx/NJQAAA7h5eWliIgIVa5cWW5ubnrwwQd17Ngx6/zMzEwVFBSoZcuWkiSTyaTk5GRdvnxZO3fuVEBAQLFxAAAAAM7j6uwAAICKoWHDhtbH6enp+vzzz/Xxxx9bx7Kzs+Xl5WWd9vLyUlZWlk6fPi1PT0+5uroWGwcAAADgPByhBABwqEOHDumll17SuHHjdP/991vHi4qKZDAYrNMWi0UGg8H6/z/68zQAAAAAx6KhBABwmN27d2vQoEF644031KtXr2LzvL29lZOTY50+efKkjEajatWqpdzcXJnNZklSTk6OjEajQ3MDAAAAKI6GEgDAIY4fP64RI0YoJiZGQUFBV8338fGRu7u7du/eLUmKj4+Xv7+/3Nzc5Ofnp6SkJEnSunXr5O/v79DsAAAAAIrjGkoAAIf48MMPdfHiRc2YMcM61q9fP6WkpGj06NFq1qyZYmJiFBkZqby8PDVp0kRhYWGSpKioKEVERGjJkiWqW7eu5syZ46zNAAAAACAaSgAAB4mMjFRkZORV4/3797c+btSokVavXn3VMj4+PlqxYoVd8wEAAAAoOU55AwAAAAAAgE1oKAEAAAAAAMAmNJQAAAAAAABgExpKAAAAAAAAsAkNJQAAAAAAANiEhhIAAAAAAABsQkMJAAAAAAAANqGhBAAAAAAAAJvQUAIAAAAAAIBNaCgBAAAAAADAJnZtKOXl5Sk4OFgZGRnFxleuXKkXXnjBOp2WliaTyaSAgABNnDhRhYWF9owFAAAAAACA22C3htKePXvUv39/paenFxv/+eef9f777xcbCw8P16RJk7RhwwZZLBbFxsbaKxYAAAAAAABuk90aSrGxsYqKipLRaLSOXbp0SZMmTdLo0aOtY5mZmSooKFDLli0lSSaTScnJyfaKBQAAAAAAgNvkaq8njo6Ovmps9uzZ6t27t+rVq2cdy87OlpeXl3Xay8tLWVlZ9ooFAACA62je4lGdOJ5x8wXvIN5162nvnh+dHQMAgHLHbg2lP9u+fbuOHz+ut956S9988411vKioSAaDwTptsViKTQMAAMAxThzPUOC0OGfHKFXJkb2cHQEAgHLJYQ2lxMREHTp0SD179tSFCxd08uRJvfbaawoPD1dOTo51uZMnTxY7TQ4AAAAAAABli8MaStOnT7c+/uabb7Rw4UK9++67kiR3d3ft3r1bjz/+uOLj4+Xv7++oWAAAAAAAALCRwxpKNxITE6PIyEjl5eWpSZMmCgsLc3YkAAAAAAAAXIfdG0opKSlXjbVu3VqtW7e2Tjdq1EirV6+2dxQAAAAAAACUgkrODgAAAAAAAIA7Cw0lAAAAAAAA2ISGEgAAAAAAAGxCQwkA4FB5eXkKDg5WRkZGsfG0tDT17NnT+t/TTz+t4OBgSVJcXJzat29vnTd37lxnRAcAOFB8fLyCgoIUFBSkmTNnSpJSU1MVEhKibt26FasFaWlpMplMCggI0MSJE1VYWOis2ABQYZSJu7wBACqGPXv2KDIyUunp6VfNa9y4seLj4yVJ+fn5eu655zR58mRJ0v79+xUREWFtMAEAyrf8/HxFR0crOTlZ1atXV//+/ZWSkqKpU6dqxYoVqlu3rl599VVt2bJFHTp0UHh4uKZNm6aWLVtqwoQJio2NVWhoqLM3AwDKNY5QAgA4TGxsrKKiomQ0Gm+43NKlS/XEE0/Iz89PkrRv3z7FxcUpJCREb775ps6ePeuIuAAAJzGbzSoqKlJ+fr4KCwtVWFgoT09P+fr6qn79+nJ1dVVISIiSk5OVmZmpgoICtWzZUpJkMpmUnJzs3A0AgAqAhhIAwGGio6OtTaLryc3NVWxsrEaOHGkd8/Ly0vDhw5WQkKC6detq6tSp9o4KAHAiT09PjRkzRt27d1eHDh3k4+Oj7OxseXl5WZcxGo3Kysq6atzLy0tZWVnOiA0AFQoNJQBAmZKQkKAuXbqodu3a1rFFixbp8ccfl8Fg0ODBg7V161YnJgQA2NvBgwe1Zs0affnll9q6dasqVaqk9PR0GQwG6zIWi0UGg0FFRUXXHAcA2BcNJQBAmbJp0yb16NHDOp2bm6t//vOf1mmLxSIXFxcnJAMAOMq2bdvUtm1b1a5dW5UrV5bJZNI333yjnJwc6zI5OTkyGo3y9vYuNn7y5MmbnloNALh9NJQAAGWGxWLRgQMH1KpVK+uYh4eHPvjgA+3Zs0eStHLlSnXt2tVZEQEADtCoUSOlpqbqwoULslgsSklJUYsWLXT48GEdOXJEZrNZiYmJ8vf3l4+Pj9zd3bV7925JV+4O5+/v7+QtAIDyj7u8AQCcasiQIRo9erSaNWumU6dOyc3NTe7u7tb5Li4uevfddzV58mQVFBTo/vvv16xZs5yYGABgb+3bt9ePP/4ok8kkNzc3NWvWTKNGjdJTTz2lUaNG6eLFi+rQoYMCAwMlSTExMYqMjFReXp6aNGmisLAwJ28BAJR/NJQAAA6XkpJifbxs2TLr49q1a2v79u1XLe/n56e4uDiHZAMAlA2vvPKKXnnllWJjbdu2VUJCwlXLNmrUSKtXr3ZUNACAOOUNAAAAAAAANqKhBAAAAAAAAJvQUAIAAAAAAIBNaCgBAAAAAADAJjSUAAAAAAAAYBMaSgAAAAAAALAJDSUAAAAAAADYhIYSAAAAAAAAbEJDCQAAAAAAADahoQQAAAAAAACb0FACAAAAAACATWgoAQAAAAAAwCZ2bSjl5eUpODhYGRkZkqRPP/1UwcHBCgkJ0VtvvaVLly5JktLS0mQymRQQEKCJEyeqsLDQnrEAAAAAAABwG+zWUNqzZ4/69++v9PR0SdLhw4f14Ycf6pNPPlFCQoKKior00UcfSZLCw8M1adIkbdiwQRaLRbGxsfaKBQAAAAAAgNtkt4ZSbGysoqKiZDQaJUmVK1dWVFSUPD09ZTAY9PDDD+vYsWPKzMxUQUGBWrZsKUkymUxKTk62VywAAAAAAADcJld7PXF0dHSxaR8fH/n4+EiSTp06pVWrVmn69OnKzs6Wl5eXdTkvLy9lZWXZKxYAAABwQ02bN1b2iUxnxyhVRm8f7d+b5uwYAIByxG4NpevJysrS4MGD1bt3b7Vu3Vq7d++WwWCwzrdYLMWmAQAAAEfKPpGpBgPmOTtGqfp11RhnRwAAlDMOvcvbL7/8on79+qlXr14aMWKEJMnb21s5OTnWZU6ePGk9TQ4AAAAAAABlj8MaSnl5eXr55Zc1ZswYvfTSS9ZxHx8fubu7a/fu3ZKk+Ph4+fv7OyoWAAAAAAAAbOSwU95Wr16tkydPavny5Vq+fLkkqXPnzhozZoxiYmIUGRmpvLw8NWnSRGFhYY6KBQAAAAAAABvZvaGUkpIiSRo0aJAGDRp0zWUaNWqk1atX2zsKAAAAAAAASoFDr6EEAAAAAACAO5/D7/IGAKjY8vLy1K9fP7333nuqV69esXkLFy7UmjVrVL16dUlS3759NWDAAB07dkzh4eH67bff9MADDygmJkbVqlVzRvxyqdVjTZSZcdTZMUqVT736+v67A86OAQAAUG7RUAIAOMyePXsUGRmp9PT0a87fv3+/5syZo1atWhUbnzJlikJDQxUUFKRFixZp8eLFCg8Pd0DiiiEz46jWf/ers2OUqpDHGjg7AgAAQLnGKW8AAIeJjY1VVFSUjEbjNefv379fS5cuVUhIiKZOnaqLFy/q8uXL2rlzpwICAiRJJpNJycnJjowNAAAA4E9oKAEAHCY6Olp+fn7XnHf+/Hk1btxY4eHhiouL07lz57R48WKdPn1anp6ecnW9clCtl5eXsrKyHBkbAAAAwJ/QUAIAlAnVqlXTsmXL9OCDD8rV1VUvvfSStmzZIovFIoPBUGzZP08DAAAAcCwaSgCAMuHYsWNavXq1ddpiscjV1VW1atVSbm6uzGazJCknJ+e6p8wBAAAAcAwaSgCAMqFKlSp65513dPToUVksFq1atUpdu3aVm5ub/Pz8lJSUJElat26d/P39nZwWAAAAqNhoKAEAnGrIkCHat2+fatWqpalTp2rYsGEKDAyUxWLRiy++KEmKiopSbGysevTooV27dum1115zbmgAAACggnN1dgAAQMWTkpJifbxs2TLr44CAAOvd3P7Ix8dHK1ascEg2AAAAADfHEUoAAAAAAACwCQ0lAAAAAAAA2ISGEgAAAAAAAGxCQwkAAAAAAAA2oaEEAAAAAAAAm9BQAgAAAAAAgE1oKAEAAAAAAMAmNJQAAAAAAABgExpKAAAAAAAAsAkNJQAAAAAAANiEhhIAAAAAAABsQkMJAAAAAAAANqGhBAAAAAAAAJvYtaGUl5en4OBgZWRkSJJSU1MVEhKibt26ae7cudbl0tLSZDKZFBAQoIkTJ6qwsNCesQAAAAAAAHAb7NZQ2rNnj/r376/09HRJUkFBgSZMmKDFixcrKSlJ+/fv15YtWyRJ4eHhmjRpkjZs2CCLxaLY2Fh7xQIAAABwB0hJSZHJZFL37t01bdo0SXxBDQBlid0aSrGxsYqKipLRaJQk7d27V76+vqpfv75cXV0VEhKi5ORkZWZmqqCgQC1btpQkmUwmJScn2ysWAAAAgDLu6NGjioqK0uLFi5WQkKAff/xRW7Zs4QtqAChD7NZQio6Olp+fn3U6OztbXl5e1mmj0aisrKyrxr28vJSVlWWvWAAAAADKuC+++EI9evSQt7e33NzcNHfuXFWtWpUvqAGgDHF11AsVFRXJYDBYpy0WiwwGw3XHAQAAAFRMR44ckZubm4YOHarjx4+rY8eOatiwIV9QA0AZ4rCGkre3t3JycqzTOTk5MhqNV42fPHnSepocAAAAgIrHbDZr165dWrFihTw8PDRs2DBVqVKFL6gBoAyx613e/qhFixY6fPiwjhw5IrPZrMTERPn7+8vHx0fu7u7avXu3JCk+Pl7+/v6OigUAAACgjLnnnnvUtm1b1apVS1WqVFGXLl2UmprKF9QAUIY4rKHk7u6uGTNmaNSoUerRo4caNGigwMBASVJMTIymT5+uwMBAXbhwQWFhYY6KBQAAAKCM6dSpk7Zt26Zz587JbDZr69atCgwM5AtqAChD7H7KW0pKivVx27ZtlZCQcNUyjRo10urVq+0dBQBQysxms3766SdVqlRJjzzyCKcYAABKRYsWLTR48GCFhobq8uXLeuqpp9S/f381aNBAo0aN0sWLF9WhQ4diX1BHRkYqLy9PTZo04QtqAHAAh11DCQBQvuzatUtjx46Vi4uLioqK5ObmpsWLF+uRRx654Xp5eXnq16+f3nvvPdWrV6/YvE2bNmnBggWyWCyqV6+epk+frrvvvltxcXGaPXu2ateuLUnq2LGjxo4da7dtAwA4X58+fdSnT59iY3xBDQBlBw0lAMAtmTZtmqKjo62nFaSkpCgqKkqffPLJddfZs2ePIiMjlZ6eftW8vLw8TZ48WWvWrFGdOnU0b948LViwQJGRkdq/f78iIiIUHBxsr80BAAAAYAOHXUMJAFD+/PEaFZ07d1Z+fv4Nl4+NjVVUVNQ1L5Z6+fJlRUVFqU6dOpKkRx55RMePH5ck7du3T3FxcQoJCdGbb76ps2fPluJWAAAAALAVDSUAwC1p3ry5kpKSrNPbtm3Tww8/fMN1oqOj5efnd815NWvWVNeuXSVJBQUFev/999WlSxdJkpeXl4YPH66EhATVrVtXU6dOLaWtAAAAAHArOOUNAHBLtm3bptjYWE2ZMkUuLi46deqU3N3dtWnTJhkMBn333Xe39Ly5ubkaMWKEGjVqpF69ekmSFi1aZJ0/ePBga+MJAAAAgHPcsKG0cePGG67crVu3Ug0DALhzrFixotSfMzs7Wy+//LLatGmjCRMmSLrSYFqzZo0GDRokSbJYLHJxcSn11wYAAABQcjdsKN3ow4LBYKChBAAVmI+Pj7Zs2aKtW7fKxcVFnTt3VuvWrW/5+cxms4YOHaru3btr+PDh1nEPDw998MEHatWqlVq0aKGVK1dyhBIAAADgZDY1lAoLC2WxWOTm5mbXUACAsm/BggVKSkpSYGCgioqKNGnSJA0YMEBhYWE2Pc+QIUM0evRonThxQj/++KPMZrM2bNggSWratKmio6P17rvvavLkySooKND999+vWbNm2WOTAAAAAJRQia6h9NtvvykiIkI7duyQ2WzWE088oXfeecd6Jx4AQMWTkJCgtWvX6q677pIkvfTSS+rXr1+JGkopKSnWx8uWLZMkNWvWTAcPHrzm8n5+foqLiyuF1AAAAABKQ4nu8jZ16lS1aNFCqampSk1NlZ+fnyZPnmznaACAsqxGjRqqVq2adbp69ery8PBwYiIAAAAAjlKiI5TS09M1b9486/To0aMVFBRkt1AAgLLv8ccf1/Dhw/X888/LxcVFCQkJuvfee603dOA6ewAAAED5VaKGUmFhoS5evCh3d3dJUn5+vgwGg12DAQDKtgMHDkiS/vGPfxQbX7FiBTduAAAAAMq5EjWUevTooUGDBslkMslgMGjNmjUKCAiwdzYAQBl2ozuBAgAAACjfStRQGjFihLy9vbV161YVFRXJZDKpT58+9s4GACjD0tPTtXLlSl24cEEWi0VFRUU6cuSIPvnkE2dHAwAAAGBnJbootyQFBATo3Xff1auvvio3NzcVFhbaMxcAoIx74403dPnyZX3//ffy8fHRzz//rIcfftjZsQAAAAA4QIkaSvPmzVNUVJSOHTumIUOGaO3atdzlDQAquPPnz2vKlClq3769/P39tXz5cv3www/OjgUAcJJNmzZdNbZu3TrHBwEAOESJTnnbsmWLVq1apU8//VRBQUGaOHGievfube9sAIAyrEaNGpIkX19fHTp0SM2bN+eGDQBQAaWkpKiwsFCzZs1SUVGRdbywsFALFizQs88+67xwAAC7KVFDSZKqVq2q1NRUPf/885KkS5cu2S0UAKDs8/X1VXR0tHr16qWJEyfqwoULnA4NABVQWlqavv76a/3222/Fbtjg6uqqQYMGOS8YAMCuStRQqlmzpiZPnqz9+/dr3rx5iomJkdFotHc2AEAZNnnyZH311Vd69NFH9dxzz2n79u2aOnWqJOnChQvy8PBwckIAgCOMGDFCI0aM0KpVqzRgwABnxwEAOEiJrqE0c+ZMGY1GLV26VFWrVpXBYNDMmTMlXfnQAACoeKpWraqAgABJUmhoqBYtWqTHH39ckvhAAQAVULdu3bR582ZJUkxMjP7617/q4MGDTk4FALCXEjWU7rnnHg0fPlzNmjWTdOXOPvfcc48kPjQAAK5msVicHQEA4GBvvfWWjh49qh07duirr75Sz549NW3aNGfHAgDYSYkaSjfChwYAwJ9xcW4AqHjOnDmjQYMG6auvvlJwcLBMJpPy8/OdHQsAYCe33VDiQwMAAACAy5cv6/Lly9q6davatWun/Px8Lo8BAOXYbTeUAAAAAOAvf/mL2rZtq5o1a6pp06Z67rnnFBwc7OxYAAA7KdFd3kpbfHy83n//fUmSv7+/xo8fr9TUVE2fPl0XL15U9+7dNXbsWGdEAwAAAHALRo8erb59+6pOnTqSrlyYu1GjRk5OBQCwF4c3lPLz8xUdHa3k5GRVr15d/fv3V0pKiqZOnaoVK1aobt26evXVV7VlyxZ16NDB0fEAAKXAw8PD2REAAA4SHx+vnj17avny5VfN27Fjh1588UUnpAIA2NttN5Rs/dBgNptVVFSk/Px8eXh4qLCwUJ6envL19VX9+vUlSSEhIUpOTqahBABl2MKFC4tNGwwGVa1aVQ0bNtSqVauclAoA4Gj//e9/JUn/+c9/nJwEAOBIJWooleaHBk9PT40ZM0bdu3dX1apV9cQTTyg7O1teXl7WZYxGo7Kysmx6XgCAY/3nP//R999/r4CAALm4uOiLL76Qj4+PPv/8c+3du1cjRoxwdkQAgAN8++23CgsLk8VikcFgKHYXaG7gAwDlV4kaSqX5oeHgwYNas2aNvvzyS91111168803lZ6eXqzY/F6MAABl12+//aa1a9davxAYOnSoxowZo1WrVql37940lACgghg4cKAk6YsvvlBeXp569+4tFxcXxcfHq3r16k5OBwCwlxI1lErzQ8O2bdvUtm1b1a5dW5JkMpn04YcfysXFxbpMTk6OjEajLdsBAHCwM2fOFDu6tGbNmjpz5owqV64sV1en3PMBAOAEAQEBkqQPP/xQn3zyiSpVunIj6Y4dO+r55593ZjQAgB1VKslCpfmhoVGjRkpNTdWFCxdksViUkpKiFi1a6PDhwzpy5IjMZrMSExPl7+9v25YAAByqfv36mj17to4ePaqjR49q7ty5uu+++7Rnzx7rh4lrycvLU3BwsDIyMq6al5aWJpPJpICAAE2cOFGFhYWSpGPHjmnAgAEKDAzUsGHDdP78ebttFwDg1pw+fVoXL160Tp8/f15nz551YiIAgD2VqKF0qx8arqV9+/YKCgqSyWTSM888o8LCQo0aNUozZszQqFGj1KNHDzVo0ECBgYG3tEEAAMf4+9//rszMTPXq1Ut9+vRRVlaWpk2bpgMHDmj8+PHXXGfPnj3q37+/0tPTrzk/PDxckyZN0oYNG2SxWBQbGytJmjJlikJDQ5WcnKymTZtq8eLF9tosAMAtCg4OVt++fTV//nzNmzdPffv2Vd++fZ0dCwBgJyU6vOjvf/+7pk2bpl69esnFxUWdOnXStGnTlJSUdN0PDTfyyiuv6JVXXik21rZtWyUkJNj8XAAA56hVq5bmzJlz1XhoaOh114mNjVVUVJTGjRt31bzMzEwVFBSoZcuWkq6cEj1//nw999xz2rlzpxYtWmQdHzhwoMLDw0tnQwAApWLMmDFq0qSJvv76a0lSREQEd20GgHKsRA2lW/nQAAAo377//nu9//771lOYi4qKlJGRoX//+9/XXSc6Ovq68/58x08vLy9lZWXp9OnT8vT0tJ5i/fs4AKDs6dKli7p06eLsGAAAByhRQ+lWPjQAAMq3yMhI9ezZUxs2bFC/fv20efNmdevW7Zafr6io6Jp3/LzWnT+5EygAAADgXCW6AFJkZKRatWqlvLw8hYSEyNPT87Y+NAAA7nwGg0GvvPKKnnzySTVo0EDvvvuutm/ffsvP5+3trZycHOv0yZMnZTQaVatWLeXm5spsNkviTqAAAABAWVCihlJpf2gAANz5qlWrJkm67777dOjQIVWpUsXmGzX8kY+Pj9zd3bV7925JUnx8vPz9/eXm5iY/Pz8lJSVJktatW8edQAEAAAAnK9G//D08PCSV3ocGAMCdr1mzZnrttdfUpk0b/eMf/9CMGTOs1zmyxZAhQ7Rv3z5JUkxMjKZPn67AwEBduHBBYWFhkqSoqCjFxsaqR48e2rVrl1577bXS3BQAAAAANirRv/wfffRRvfbaaxozZoxeffVVpaen39KHBgBA+TFx4kT98MMPMpvNGjhwoP7973/rnXfeKdG6KSkp1sfLli2zPm7UqJFWr1591fI+Pj5asWLF7YcGAAAAUCpK1BX67rvv9Pbbb+uBBx7QhAkTlJqaqtmzZ9s7GwCgDJs5c6ZWrlwpT09P69gLL7ygHTt2ODEVAAAAAEcoUUPJw8NDderUkSR17NhRHTt2tGcmAMAdYOPGjdq6datq1qzp7CgAAAAAHKxEDaX8/Hz95S9/kbe3t/V6SpK0fv16uwUDAJRt999/v6pXr+7sGAAAAACcoEQNpYkTJ9o7BwDgDvPCCy9o4MCBat26dbHr6o0cOdKJqQAAAAA4QokaSk8++aS9cwAA7jDvv/++PD09lZub6+woAAAAAByMW7UBAG5Jfn6+Pv74Y2fHAAAAAOAElZwdAABwZ3rggQd08OBBZ8cAAAAA4AQcoQQAuCXHjx9Xnz595OPjo8qVK1vHuWEDAKA0zZw5U6dPn9aMGTOUmpqq6dOn6+LFi+revbvGjh0rSUpLS9PEiRN1/vx5+fn5acqUKcWu7wcAKH28ywIAbsnrr7/u7AgAgHJux44diouLU8eOHVVQUKAJEyZoxYoVqlu3rl599VVt2bJFHTp0UHh4uKZNm6aWLVtqwoQJio2NVWhoqLPjA0C5RkMJAHBLuGEDAMCezpw5o7lz52ro0KE6ePCg9u7dK19fX9WvX1+SFBISouTkZD300EMqKChQy5YtJUkmk0nz58+noQQAdsY1lAAAAACUOZMmTdLYsWNVvXp1SVJ2dra8vLys841Go7Kysq4a9/LyUlZWlsPzAkBFQ0MJAAAAQJnyv//7v6pbt67atm1rHSsqKpLBYLBOWywWGQyG644DAOyLU94AAAAAlClJSUnKyclRz549dfbsWV24cEGZmZlycXGxLpOTkyOj0Shvb2/l5ORYx0+ePCmj0eiM2ABQodBQAgAAAFCmLF++3Pp47dq1+vbbbzVlyhR169ZNR44cUb169ZSYmKjevXvLx8dH7u7u2r17tx5//HHFx8fL39/fiekBoGKgoQQAAACgzHN3d9eMGTM0atQoXbx4UR06dFBgYKAkKSYmRpGRkcrLy1OTJk0UFhbm5LQAUP7RUAIAAABQZplMJplMJklS27ZtlZCQcNUyjRo10urVqx0dDQAqNC7KDQAAAAAAAJvQUAIAAAAAAIBNnNJQSklJkclkUvfu3TVt2jRJUmpqqkJCQtStWzfNnTvXGbEAAAAAAABQAg5vKB09elRRUVFavHixEhIS9OOPP2rLli2aMGGCFi9erKSkJO3fv19btmxxdDQAAAAAAACUgMMbSl988YV69Oghb29vubm5ae7cuapatap8fX1Vv359ubq6KiQkRMnJyY6OBgAAAAAAgBJw+F3ejhw5Ijc3Nw0dOlTHjx9Xx44d1bBhQ3l5eVmXMRqNysrKcnQ0AAAAAAAAlIDDG0pms1m7du3SihUr5OHhoWHDhqlKlSoyGAzWZSwWS7FpAED5sH79ei1ZskSFhYX661//qgEDBljnpaWlKSIiwjp96tQp3X333UpMTFRcXJxmz56t2rVrS5I6duyosWPHOjw/AAAAgCsc3lC655571LZtW9WqVUuS1KVLFyUnJ8vFxcW6TE5OjoxGo6OjAQDsKCsrS3PnztXatWtVuXJl9evXT61bt9ZDDz0kSWrcuLHi4+MlSfn5+Xruuec0efJkSdL+/fsVERGh4OBgZ8UHAAAA8AcOv4ZSp06dtG3bNp07d05ms1lbt25VYGCgDh8+rCNHjshsNisxMVH+/v6OjgYAsKPU1FS1adNGNWrUkIeHhwICAq57vbylS5fqiSeekJ+fnyRp3759iouLU0hIiN58802dPXvWkdEBAAAA/InDG0otWrTQ4MGDFRoaqh49eujee+9V//79NWPGDI0aNUo9evRQgwYNFBgY6OhoAAA7ys7OLtH18nJzcxUbG6uRI0dax7y8vDR8+HAlJCSobt26mjp1qkMyAwAAALg2h5/yJkl9+vRRnz59io21bdtWCQkJzogDAHCAoqKiEl0vLyEhQV26dLFeL0mSFi1aZH08ePBgde3a1b5hAQAAANyQw49QAgBUTN7e3srJybFOX+96eZs2bVKPHj2s07m5ufrnP/9pnbZYLMWuuwcAAADA8WgoAQAcol27dtqxY4dOnTql/Px8bdy48arr5VksFh04cECtWrWyjnl4eOiDDz7Qnj17JEkrV67kCCUAAADAyZxyyhsAoOKpU6eOxo4dq7CwMF2+fFl9+vRR8+bNNWTIEI0ePVrNmjXTqVOn5ObmJnd3d+t6Li4uevfddzV58mQVFBTo/vvv16xZs5y4JQAAAABoKAEAHCYkJEQhISHFxpYtW2Z9XLt2bW3fvv2q9fz8/BQXF2f3fAAAAABKhlPeAAAAAAAAYBMaSgAAAAAAALAJDSUAAAAAAADYhIYSAAAAAAAAbEJDCQAAAAAAADahoQQAAAAAAACbuDo7AAAAzvTYY02VkfFfZ8coNfXq3afvvtvv7BgAAAAo52goAQAqtIyM/+o/x846O0apefjeu50dAQAAABUAp7wBAAAAAADAJhyhBAAAAADATbRo9aiOZ2Y4O0apqetTT3u+/9HZMXAHo6EEAAAAAMBNHM/MUETs186OUWpm9G3j7Ai4w3HKGwAAAAAAAGxCQwkAAAAAAAA2oaEEAAAAAAAAm9BQAgAAAAAAgE1oKAEAAAAAAMAmNJQAAAAAAABgExpKAAAAAAAAsAkNJQAAAAAAANjEqQ2lmTNnKiIiQpKUmpqqkJAQdevWTXPnznVmLAAAAAAAANyA0xpKO3bsUFxcnCSpoKBAEyZM0OLFi5WUlKT9+/dry5YtzooGAAAAAACAG3BKQ+nMmTOaO3euhg4dKknau3evfH19Vb9+fbm6uiokJETJycnOiAYAAAAAAICbcHXGi06aNEljx47V8ePHJUnZ2dny8vKyzjcajcrKynJGNKDca97iUZ04nuHsGKXGu2497d3zo7NjoITWr1+vJUuWqLCwUH/96181YMCAYvMXLlyoNWvWqHr16pKkvn37asCAATp27JjCw8P122+/6YEHHlBMTIyqVavmjE0AAAAAICc0lP73f/9XdevWVdu2bbV27VpJUlFRkQwGg3UZi8VSbBpA6TlxPEOB0+KcHaPUJEf2cnYElFBWVpbmzp2rtWvXqnLlyurXr59at26thx56yLrM/v37NWfOHLVq1arYulOmTFFoaKiCgoK0aNEiLV68WOHh4Y7eBAAAAAD/n8MbSklJScrJyVHPnj119uxZXbhwQZmZmXJxcbEuk5OTI6PR6OhoAAA7Sk1NVZs2bVSjRg1JUkBAgJKTkzVy5EjrMvv379fSpUuVmZmpJ554QuPHj1elSpW0c+dOLVq0SJJkMpk0cOBAGkoAAACAEzn8GkrLly9XYmKi4uPjNXr0aHXu3FkffPCBDh8+rCNHjshsNisxMVH+/v6OjgYAsKObnd58/vx5NW7cWOHh4YqLi9O5c+e0ePFinT59Wp6ennJ1vfIdiJeXF6dFAwAAAE7mtLu8/ZG7u7tmzJihUaNGqUePHmrQoIECAwOdHQsAUIpudnpztWrVtGzZMj344INydXXVSy+9pC1btlzzNGhOiwYAAACcyykX5f6dyWSSyWSSJLVt21YJCQnOjAMAsCNvb2/t2rXLOv3n05uPHTum1NRU9enTR9KVhpOrq6tq1aql3Nxcmc1mubi4cFo0AAAAUAY4taEEAKg42rVrpwULFujUqVOqWrWqNm7cqLfffts6v0qVKnrnnXfUunVr1atXT6tWrVLXrl3l5uYmPz8/JSUlKSQkROvWreO0aAAAACcob3eMlrhr9O2goQQAcIg6depo7NixCgsL0+XLl9WnTx81b95cQ4YM0ejRo9WsWTNNnTpVw4YN0+XLl/XYY4/pxRdflCRFRUUpIiJCS5YsUd26dTVnzhwnbw0AAEDFU97uGC1x1+jbQUMJAOAwISEhCgkJKTa2bNky6+OAgAAFBARctZ6Pj49WrFhh93wAgLJj4cKF+vzzzyVJHTp00Lhx45Samqrp06fr4sWL6t69u8aOHStJSktL08SJE3X+/Hn5+flpypQp1ps5AADso0xclBsAAAAAfpeamqpt27YpLi5O69at04EDB5SYmKgJEyZo8eLFSkpK0v79+7VlyxZJUnh4uCZNmqQNGzbIYrEoNjbWyVsAAOUfDSUAAAAAZYqXl5ciIiJUuXJlubm56cEHH1R6erp8fX1Vv359ubq6KiQkRMnJycrMzFRBQYFatmwp6cqNf5KTk527AQBQAdBQAgAAAFCmNGzY0NogSk9P1+effy6DwSAvLy/rMkajUVlZWcrOzi427uXlpaysLEdHBoAKh4YSAAAAgDLp0KFDeumllzRu3DjVr19fBoPBOs9ischgMKioqOia4wAA+6KhBAAAAKDM2b17twYNGqQ33nhDvXr1kre3t3Jycqzzc3JyZDQarxo/efKkjEajMyIDQIVCQwkAAABAmXL8+HGNGDFCMTExCgoKkiS1aNFChw8f1pEjR2Q2m5WYmCh/f3/5+PjI3d1du3fvliTFx8fL39/fmfEBoELgXpoAAAAAypQPP/xQFy9e1IwZM6xj/fr104wZMzRq1ChdvHhRHTp0UGBgoCQpJiZGkZGRysvLU5MmTRQWFuas6ABQYdBQAgAAAFCmREZGKjIy8przEhISrhpr1KiRVq9ebe9YAIA/4JQ3AAAAAAAA2ISGEgAAAAAAAGxCQwkAAAAAAAA2oaEEAAAAAAAAm9BQAgAAAAAAgE1oKAEAAAAAAMAmNJQAAAAAAABgExpKAAAAAAAAsAkNJQAAAAAAANiEhhIAAAAAAABsQkMJAAAAAAAANqGhBAAAAAAAAJvQUAIAAAAAAIBNnNJQWrhwoYKCghQUFKRZs2ZJklJTUxUSEqJu3bpp7ty5zogFAAAAAACAEnB4Qyk1NVXbtm1TXFyc1q1bpwMHDigxMVETJkzQ4sWLlZSUpP3792vLli2OjgYAsLP169erR48e6tatm1atWnXV/E2bNqlnz5565plnNHz4cJ09e1aSFBcXp/bt26tnz57q2bMnXzwAAAAATubq6Bf08vJSRESEKleuLEl68MEHlZ6eLl9fX9WvX1+SFBISouTkZHXo0MHR8QAAdpKVlaW5c+dq7dq1qly5svr166fWrVvroYcekiTl5eVp8uTJWrNmjerUqaN58+ZpwYIFioyM1P79+xUREaHg4GAnbwUAAAAAyQlHKDVs2FAtW7aUJKWnp+vzzz+XwWCQl5eXdRmj0aisrCxHRwMA2FFqaqratGmjGjVqyMPDQwEBAUpOTrbOv3z5sqKiolSnTh1J0iOPPKLjx49Lkvbt26e4uDiFhITozTfftB65BAAAAMA5nHZR7kOHDumll17SuHHjVL9+fRkMBus8i8VSbBoAcOfLzs6+4ZcHNWvWVNeuXSVJBQUFev/999WlSxdJV45uHT58uBISElS3bl1NnTrVseEBAAAAFOOUhtLu3bs1aNAgvfHGG+rVq5e8vb2Vk5NjnZ+TkyOj0eiMaAAAOykqKirRlwe5ubl65ZVX1KhRI/Xq1UuStGjRIj3++OMyGAwaPHiwtm7d6rDcAAAAAK7m8IbS8ePHNWLECMXExCgoKEiS1KJFCx0+fFhHjhyR2WxWYmKi/P39HR0NAGBHJfnyIDs7W6GhoXrkkUcUHR0t6UqD6Z///Kd1GYvFIhcXF4dkBgAAAHBtDr8o94cffqiLFy9qxowZ1rF+/fppxowZGjVqlC5evKgOHTooMDDQ0dEAAHbUrl07LViwQKdOnVLVqlW1ceNGvf3229b5ZrNZQ4cOVffu3TV8+HDruIeHhz744AO1atVKLVq00MqVK62nxgEAAABwDoc3lCIjIxUZGXnNeQkJCQ5OAwBwlDp16mjs2LEKCwvT5cuX1adPHzVv3lxDhgzR6NGjdeLECf34448ym83asGGDJKlp06aKjo7Wu+++q8mTJ6ugoED333+/Zs2a5eStAQAAACo2hzeUAAAVV0hIiEJCQoqNLVu2TJLUrFkzHTx48Jrr+fn5KS4uzu75AADA1Vo91kSZGUedHaNU+dSrr++/O+DsGMAdjYYSAAAAAOC6MjOOav13vzo7RqkKeayBsyMAdzyn3OUNAAAAAAAAdy4aSgAAAAAAALAJDSUAAAAAAADYhIYSAAAAAAAAbEJDCQAAAAAAADahoQQAAAAAAACb0FACAAAAAACATWgoAQAAAAAAwCY0lAAAAAAAAGATGkoAAAAAAACwCQ0lAAAAAAAA2ISGEgAAAAAAAGxCQwkAAAAAAAA2oaEEAAAAAAAAm9BQAgAAAAAAgE1cnR0AcJQWrR7V8cwMZ8coNXV96mnP9z86OwYAAAAAoAKioYQK43hmhiJiv3Z2jFIzo28bZ0cAAAAAAFRQnPIGAAAAAAAAm9BQAgAAAAAAgE045a0CaPVYE2VmHHV2jFLlU6++vv/ugLNjAAAAAABQIdFQqgAyM45q/Xe/OjtGqQp5rIGzIwAAAAAAUGGVqVPe1q9frx49eqhbt25atWqVs+MAAErZzd7n09LSZDKZFBAQoIkTJ6qwsFCSdOzYMQ0YMECBgYEaNmyYzp8/7+joAIA7AJ8nAMBxykxDKSsrS3PnztVHH32kdevW6dNPP9XPP//s7FgAgFJSkvf58PBwTZo0SRs2bJDFYlFsbKwkacqUKQoNDVVycrKaNm2qxYsXO2MTAABlGJ8nAMCxyswpb6mpqWrTpo1q1KghSQoICFBycrJGjhxZovUrVTJcczw4OEDHj2eWVkynq1vXR4mJG2xax9fXV1Url5kfdanw9fW97s/8RuvU8Khsp0SOdyv74Pf1jHd72CGRc9zq74LPPXfZKZFzmK+xH27l98OebvY+n5mZqYKCArVs2VKSZDKZNH/+fD333HPauXOnFi1aZB0fOHCgwsPDbXr96+0PX19fubqUrX11O271b4I6QZ34fZ3yVCMk6sTv7oQ6cbvs8XmivH2WkPg88TvqBHXid9SJK26lTpSZd4Xs7Gx5eXlZp41Go/bu3Vvi9WvWrHbN8R07tt92tjtdenq6syOUulvZpvK2H8YHpd/SeuVtP2hkus2rlLt9IEnvvujsBDd1s/f5P8/38vJSVlaWTp8+LU9PT7m6uhYbt9X16kR5+33g/fEK9sOt1Ynytg8kUSd+dwfUidtlj88TfJa4ojz+TVAnqBNW1IkrbqFOlJlT3oqKimQw/F/3y2KxFJsGANzZbvY+f73516oH1AcAwJ/xeQIAHKvMNJS8vb2Vk5Njnc7JyZHRaHRiIgBAabrZ+/yf5588eVJGo1G1atVSbm6uzGbzNdcDAEDi8wQAOFqZaSi1a9dOO3bs0KlTp5Sfn6+NGzfK39/f2bEAAKXkZu/zPj4+cnd31+7duyVJ8fHx8vf3l5ubm/z8/JSUlCRJWrduHfUBAHAVPk8AgGMZLBaLxdkhfrd+/XotXbpUly9fVp8+fTRkyBBnRwIAlKJrvc8PGTJEo0ePVrNmzXTw4EFFRkYqLy9PTZo00fTp01W5cmVlZmYqIiJCv/32m+rWras5c+bo7rvvdvbmAADKGD5PAIDjlKmGEgAAAAAAAMq+MnPKGwAAAAAAAO4MNJQAAAAAAABgExpKAAAAAAAAsAkNJQAAAAAAANiEhhIAAAAAAABsQkPpOjIyMvTII49o+/btxcY7d+6sjIwMJ6UqueTkZJlMJj3zzDMKCQnRBx984LQs8+bN0+bNm21e7+OPP9bHH39cajls3ScvvPCCvvnmmxI//+bNmzVv3rzbjVnM3r179c4775Tqc95MYWGhlixZou7du6tHjx4KCAjQe++9J4vFcss/yxuJjY1VYmJiqT7nH5WVv4U7cd/h+u70GiGVnb8NiTpxO6gTt6+s/C3cifsO10edKF1loU5QI0qOOmEfZXLfWXBNR48etTRp0sTSqVMnS25urnW8U6dOlqNHjzox2c2dOHHC0rFjR8upU6csFovFkpeXZ+nVq5dl06ZNTk7mPLeyTwYOHGj5+uuvHRXxmtasWWMZP368Q18zMjLSMnToUMvZs2ctFovFkpubawkLC7OsXLnSLq83fvx4y5o1a+zy3OX9b8Ge+w43difXCIul/P9t3ArqRMlRJ+4c1AnnoU6UL9QI21An7hy3u+9cS6+3Vf4YjUa1a9dOM2fO1Ntvv20dN5vNioyM1KFDh3Ty5Ek98sgjmjNnjk6ePKmRI0eqYcOGSktLU+3atTVv3jzVqFFDK1euVHx8vPLz8+Xm5qbZs2erQYMGdsl9+vRpXb58WQUFBZKkatWqacaMGXJ3d5d0pVM9ffp0FRQUqGbNmpoyZYrq16+v/fv3629/+5sk6emnn1ZiYqJSUlKu+zoLFizQsWPH9Msvv+j06dN6/vnnNXjwYK1du1ZxcXE6c+aMOnXqpOzsbD355JN68sknr7t/1q9fryVLlshgMKhZs2Z6++239d5770mSRo0apbZt26pr1676/vvvVa1aNcXExKhevXqlsk86d+6sf/3rX6pXr56++eYbLVy4UCtWrJB0pWM7ffp0SdJbb72l1q1bKzc3V+PGjdN///tf1a9fXydOnNDChQv17bff6ttvv9WMGTP0zTffaNq0aXJxcVHLli31yy+/aMWKFfr22281d+5cFRQU6Ny5c3rrrbfUpUsXRUREyNPTUwcOHFBWVpZGjBihrl27av78+bpw4YKWLFmiV155RbNmzdK3334rs9ksk8mkQYMG2fbLcRMnTpxQQkKCvvrqK1WvXl2S5OnpqUmTJunnn39WRESEnnzySZlMJv3rX//SypUrddddd6lBgwa67777NGrUqOv+rnfu3FnPPPOMtm3bpvz8fM2cOVPnzp1TSkqKvv76a3l5ealx48aaNGmSTpw4IYPBoDfeeEPt2rW75e25lZ/7Cy+8oEaNGmnXrl26ePGiJkyYoPbt2+vkyZPXzLZgwQL98MMPOn78uAYOHCg/Pz9FRETIbDbLz89PX331lb744os7bt/h5u7UGiFRJ2zdJ9SJ/0OdoE6g5KgT5adOUCNKjjpRseoEp7zdREREhLZt21bscNXs7Gy5ubnp008/1RdffKHc3Fxt2bJFknTw4EG9+OKLSkxMVPXq1bV+/Xrl5eVp06ZNWrFihRITE9WxY0etWrXKbpkbNWqkv/zlL+rSpYv69Omjd955R0VFRfL19dWlS5cUGRmp2bNnKy4uTi+++KL1TX/cuHF6/fXXFRcXp8qVK5fotfbv36/ly5dr7dq1+vTTT3XgwAFJUlZWluLi4vT6668XW/5a+ycrK0vTp0/XP/7xD3322Wcym83W/fm7U6dOqVWrVlq/fr2CgoI0bdq0UtsnN+Lh4aF169ZpxowZCg8P16VLl7Ro0SI98MAD+uyzzzRixAj95z//KbbO5cuXNW7cOL3zzjtat26dXF3/r2+7cuVKTZs2TXFxcZo2bVqxw1pPnDihjz76SEuWLNGsWbNUvXp1jR49Wp07d9awYcMUGxsrSYqLi9Pq1au1efNm7dq1y6b9cDN79+7Vgw8+qLvvvrvY+IMPPqiAgADr9MGDB7Vq1SqtXbtWH330kY4cOSJJN/1dr1GjhlavXq1+/fpp6dKlateunTp37qzRo0fr6aefVnR0tHr37q21a9dqyZIlmjRpkvLy8m55e271556Xl6e4uDjNnj1bERERunTp0g2zXbp0SUlJSQoNDVVERITGjBmj+Ph41a9fX2azudhz3yn7DiVzJ9YIiTph6z65EerEFdQJ6gSujTpxc3dCnaBGlBx1QtbtqAh1giOUbsLT01Nvv/22/va3vykhIUGSVLduXYWGhmrVqlX69ddflZ6ergsXLkiSateurUcffVSS1LBhQ509e1aenp6aPXu2PvvsM6Wnp2vr1q1q3LixXXNPmTJFw4cP17Zt27Rt2zb17dtXMTExuv/++3X06FENGzbMumxeXp5OnTqlkydP6umnn5YkPffcc1q7du1NXyc4OFjVqlWTdOWc8K+//lo1a9bUo48+WuzN73fX2j/ff/+9HnvsMXl7e0uS9TzftLQ063ru7u569tlnJUm9evXSnDlzSm2f3EifPn0kXXkjqV27tn799Vdt377dul6zZs308MMPF1vnP//5j2rXrq1GjRpZnyM6Otq6bV9++aWSk5O1Z88enT9/3rreU089JYPBoIcfflhnzpy5KsuOHTuUlpamr7/+WpJ04cIF/fTTT/Lz87N5X9yIwWCwPk5OTtaSJUtUVFSkypUrq2HDhtYsnTp1kqenpyQpKChI586du+nv+u+/Xw0bNtTGjRuveu3U1FT9+uuvmj9/vqQr518fPXr0tv5ebuXn3rdvX0lS48aN5eXlpZ9++um62SSpefPmkqQzZ84oMzNTHTp0kCT17t1b//rXv4o9952073Bzd2qNkKgTtuyTG6FOUCeoE7gR6kT5qRPUiJKjTlScOkFDqQTat29vPVxVklJSUrRmzRqFhYXJZDLp9OnTslgskmQ9DFS68odksVh0/PhxvfDCCxo4cKD8/f11zz33FHtzK23//ve/deHCBfXo0UO9e/dW7969FRsbq9WrV+v1119XvXr1FB8fL+nKIbcnT54slluS3NzcSvRaLi4u1sdFRUXW6SpVqlxz+WvtH1dX12JvOqdOnbpqvUqVKlmX+ePrlNSN9okk68+vsLDwhtvn6uoqFxcX6/LX4uLioqKiomvOCw0NVevWrdW6dWu1bdtWb775pnXe7/vmj/vij8xms8LDw9WtWzdJV/bT78W3tDRt2lS//PKL8vLy5OnpqcDAQAUGBiojI0NhYWHW5SpVqnTNbbzZ7/rNtrGoqEj/8z//oxo1aki68g1e7dq1b3l7SvPnfr1smzZtsv6+3+x3Q7pz9h1K7k6rERJ14lqoEyVDnbiCOgFbUCdu7E6oE9SIkqNOXFFR6gSnvJXQ74erZmdnKzU1Vd27d1fv3r1VvXp1ffPNN1cdhvZH+/btk6+vrwYNGqRmzZpp06ZNN1z+dlWpUkWzZ8+23kHCYrEoLS1NjRs3VoMGDXT27Fnr4Y1r1qzRm2++qWrVqqlBgwbWq8avX7++RK+1adMmXbp0SWfPntWXX36p9u3b25y3WbNm+uGHH5STkyNJ+vvf/37V1evz8/Ot51+vXbtW/v7+Nr3GjfZJzZo19fPPP0vSVa/7+37Yt2+fzp8/L19fX7Vt29Y6/tNPP+nQoUPF/igbNGigc+fO6aeffir2HGfOnFF6errGjBkjf39/bd68+aa/By4uLtY3pzZt2ig2NlaXL1/W+fPnFRoaqh9++MGm/XAz9957r5555hmNHz9e586dk3TlzfHf//63KlX6v7eLtm3basuWLcrLy9OlS5e0ceNGGQyGW/pdd3FxsS7Tpk0bffTRR5Kkn3/+WSEhIcrPz7/l7bnVn3tSUpKkKz/3c+fO6eGHHy5Rtrvuukv169e3HmJ9rb+jO2XfwTZ3Uo2QqBPXQp0oGerEFdQJ2Io6cX13Qp2gRpQcdeKKilInOEKphH4/XPXll1/W2LFj9eabb+qzzz6Tm5ubHnvssRve/vOpp57Sxx9/rB49eshiseiJJ57QoUOH7Ja1TZs2GjlypIYOHarLly9LunJ424gRI1S5cmXNmzdP0dHRunjxojw9Pa3flsycOVORkZFasGCBHnzwQevzbd68WSkpKdZDLf/I3d1doaGhysvL06uvvqqHHnpIe/futSlvnTp1NHHiRL388ssqKipSy5YtZTKZtHjx4mLLJScna+7cuTIajdbM8+bNk9FoVP/+/W95nzz22GN6++23tXDhwqsK2IULF/Tss8+qUqVKmj17ttzc3DRixAi99dZbCgkJ0X333ad77rmn2DcolStX1qxZszR+/HhVqlRJDzzwgKpUqaIaNWqoT58+CgoKkqurq9q0aaOCggLrIc7X0rx5cy1cuFAxMTEaM2aMjhw5ol69eqmwsFAmk0mtW7e2aV+XxOTJk7V8+XKFhYXJbDbr/Pnzat26tZYtW6alS5dKkh5++GGFhYXp+eefl4eHh2rWrCl3d/db+l1v166d5syZo7vuukuRkZGaNGmSQkJCJEmzZs2yHsp5K27153706FH16tVLkjR37ly5uLiUONusWbM0YcIEvfvuu3rkkUeu+nbtTtl3sM2dVCMk6oSt+4Q6URx1gjoB21En7uw6QY2wDXWiAtWJW74/HMq1o0ePWjp16nTDZebPn2+ZP3++Q/I8/PDDDnmdkli3bp1l165dFovFYsnMzLR06tTJYjabrfPNZrNl5syZlvPnz1ssFovlH//4h2X69OlOyWovv/76q2X58uXW6aFDh1o2b97svECl6HZv8bpgwQJLVlaWxWKxWDZs2GAZOXJksfnled+hYqFOXB91ony/11EngJKhTlwbNeKK8vxeV5HqBEcoATZq0KCBoqKiVFRUpEqVKmnq1KnFDt+sVKmS9RsENzc3+fj4XPPbmDuZj4+P9u3bp+DgYBkMBrVv316dOnVydqwy4d5779VLL70kV1dXVa9e/aqfPfsOKP+oE7zX3Qh1AqjYqBFX8F53fXdSnTBYLDe54hMAAAAAAADwB1yUGwAAAAAAADahoQQAAAAAAACb0FACAAAAAACATbgoNyqkadOmaefOnZKkX375RT4+PqpSpYp+/fVXjRw5Uq+++uotPW9ERIQaNmyol19++ZbWnzhxooKCgtSuXbtbWh8AcPuoEQCAG6FOAFfQUEKFFBkZaX3cuXNnxcTEqFmzZk5MdEV5vIMDANxpqBEAgBuhTgBX0FAC/mDBggU6ffq0Jk2apM6dOysoKEjbt29Xbm6uXnzxRYWGhkqSPv30U61YsUKVKlXSPffco7/97W964IEHij3Xrl27NGvWLOXn58vNzU2vvfaa/P39ZTabNWvWLKWkpOiuu+5S8+bN9csvv2jFihV64YUXNGDAAAUGBuq9997T5s2bVVBQoPz8fI0fP15du3Z1xm4BAIgaAQC4MeoEKhoaSsANnD17VmvWrFFWVpaeffZZPf744zp16pQ++OADffrpp6pVq5bWrl2rESNG6LPPPrOud/r0aY0ePVpLlixRixYtdOjQIQ0cOFCrV6/W9u3bdeDAASUmJspgMGjYsGFXvW5mZqZSU1O1YsUKValSRZ999pnmz59PEQCAMoQaAQC4EeoEyjsuyg3cQGhoqAwGg7y9vfX0009r+/bt2rp1q3r06KFatWpJkkwmk7KyspSRkWFdb+/evbrvvvvUokULSVLDhg312GOP6dtvv9WWLVvUs2dPubu7q3Llynr++eevel0fHx/NmjVL69evV0xMjD755BOdP3/eMRsNACgRagQA4EaoEyjvaCgBN+Dq+n8H8RUVFalSpUoqKiq6ajmLxaLCwkLrtNlslsFguOYyf3xOSapU6eo/wwMHDuj5559XXl6ennrqKQ0ePPh2NwUAUMqoEQCAG6FOoLyjoQTcwLp16yRJx44d0/bt2+Xv76+nn35aSUlJOnXqlCRpzZo1qlGjhnx9fa3rtWzZUr/++qv27t0rSTp06JB27typJ598Uh06dFBCQoIuXbqkwsJCxcXFXfW6O3fuVNOmTfXiiy/qySef1ObNm2U2m+2/wQCAEqNGAABuhDqB8o5rKAE3kJGRIZPJpIKCAkVGRqpBgwZq0KCBBg0apL/+9a8qKipSrVq1tHTp0mLfDtSqVUvz5s3T22+/rYKCAhkMBk2fPl0PPPCAfH19dfjwYT377LPy8PBQvXr1VLVq1WKvGxwcrI0bN6p79+4qKipSp06ddPbsWeXl5cnT09PRuwEAcA3UCADAjVAnUN4ZLBaLxdkhgLKoc+fOmjdvXqnfAnTbtm367bff1LNnT0nStGnT5O7urvDw8FJ9HQCA/VAjAAA3Qp1ARcApb4CDNWzYUOvWrVNISIiCgoJ0+vRpDR061NmxAABlADUCAHAj1AmUJRyhBAAAAAAAAJtwhBIAAAAAAABsQkMJAAAAAAAANqGhBAAAAAAAAJvQUAIAAAAAAIBNaCgBAAAAAADAJv8PL3pBhbtcC24AAAAASUVORK5CYII=\n",
      "text/plain": [
       "<Figure size 1440x360 with 3 Axes>"
      ]
     },
     "metadata": {},
     "output_type": "display_data"
    }
   ],
   "source": [
    "pivot_tipo_df = pd.DataFrame(pivot_tipo)\n",
    "fig, ax = plt.subplots(1,3, figsize=[20,5])\n",
    "counter = 0\n",
    "for x in [\"rag_sol\", \"mag_app\", \"dist\"]:\n",
    "    sns.barplot(x=pivot_tipo_df.index,y=x, data=pivot_tipo_df, order=tipo_ord, palette=\"Blues\", \n",
    "               edgecolor=\"black\",ax=ax[counter]).set(xlabel=\"Tipologia\")\n",
    "    counter += 1"
   ]
  },
  {
   "cell_type": "markdown",
   "id": "985b0f87",
   "metadata": {},
   "source": [
    "Nelle stelle supergiganti si osservano i valori medi più alti sia di raggio solare che di distanza, c'è invece maggiore omogeneità tra le tipologie per quanto riguarda la magnitudine apparente, con le stelle nane che risultano mediamente le più luminose. A questo proposito, vediamo quali stelle nane sono presenti nelle 91 più brillanti della sfera celeste con il metodo *.query()*."
   ]
  },
  {
   "cell_type": "code",
   "execution_count": 25,
   "id": "ee950c89",
   "metadata": {},
   "outputs": [
    {
     "data": {
      "text/html": [
       "<div>\n",
       "<style scoped>\n",
       "    .dataframe tbody tr th:only-of-type {\n",
       "        vertical-align: middle;\n",
       "    }\n",
       "\n",
       "    .dataframe tbody tr th {\n",
       "        vertical-align: top;\n",
       "    }\n",
       "\n",
       "    .dataframe thead th {\n",
       "        text-align: right;\n",
       "    }\n",
       "</style>\n",
       "<table border=\"1\" class=\"dataframe\">\n",
       "  <thead>\n",
       "    <tr style=\"text-align: right;\">\n",
       "      <th></th>\n",
       "      <th>Bayer</th>\n",
       "      <th>mag_app</th>\n",
       "      <th>rag_sol</th>\n",
       "      <th>dist</th>\n",
       "      <th>clas_spet</th>\n",
       "      <th>tipo</th>\n",
       "      <th>class</th>\n",
       "      <th>costell</th>\n",
       "    </tr>\n",
       "    <tr>\n",
       "      <th>Nome</th>\n",
       "      <th></th>\n",
       "      <th></th>\n",
       "      <th></th>\n",
       "      <th></th>\n",
       "      <th></th>\n",
       "      <th></th>\n",
       "      <th></th>\n",
       "      <th></th>\n",
       "    </tr>\n",
       "  </thead>\n",
       "  <tbody>\n",
       "    <tr>\n",
       "      <th>Alfa Centauri A</th>\n",
       "      <td>α1 Cen</td>\n",
       "      <td>-0.01</td>\n",
       "      <td>1.20</td>\n",
       "      <td>4.4</td>\n",
       "      <td>G</td>\n",
       "      <td>Nana</td>\n",
       "      <td>Nana gialla</td>\n",
       "      <td>Centauro</td>\n",
       "    </tr>\n",
       "    <tr>\n",
       "      <th>Alfa Centauri B</th>\n",
       "      <td>α2 Cen</td>\n",
       "      <td>1.33</td>\n",
       "      <td>0.86</td>\n",
       "      <td>4.4</td>\n",
       "      <td>K</td>\n",
       "      <td>Nana</td>\n",
       "      <td>Nana arancione</td>\n",
       "      <td>Centauro</td>\n",
       "    </tr>\n",
       "  </tbody>\n",
       "</table>\n",
       "</div>"
      ],
      "text/plain": [
       "                  Bayer  mag_app  rag_sol  dist clas_spet  tipo  \\\n",
       "Nome                                                              \n",
       "Alfa Centauri A  α1 Cen    -0.01     1.20   4.4         G  Nana   \n",
       "Alfa Centauri B  α2 Cen     1.33     0.86   4.4         K  Nana   \n",
       "\n",
       "                          class   costell  \n",
       "Nome                                       \n",
       "Alfa Centauri A     Nana gialla  Centauro  \n",
       "Alfa Centauri B  Nana arancione  Centauro  "
      ]
     },
     "execution_count": 25,
     "metadata": {},
     "output_type": "execute_result"
    }
   ],
   "source": [
    "dati.query('tipo == \"Nana\"')"
   ]
  },
  {
   "cell_type": "markdown",
   "id": "e63847fb",
   "metadata": {},
   "source": [
    "Si tratta del sistema binario di Alfa Centauri. Non stupisce che la magnitudine apparente media sia la più bassa, dal momento che questo sistema è costituito dalle due stelle più vicine alla Terra, come possiamo verificare immediatamente."
   ]
  },
  {
   "cell_type": "code",
   "execution_count": 26,
   "id": "8c5c47ce",
   "metadata": {},
   "outputs": [
    {
     "data": {
      "text/html": [
       "<div>\n",
       "<style scoped>\n",
       "    .dataframe tbody tr th:only-of-type {\n",
       "        vertical-align: middle;\n",
       "    }\n",
       "\n",
       "    .dataframe tbody tr th {\n",
       "        vertical-align: top;\n",
       "    }\n",
       "\n",
       "    .dataframe thead th {\n",
       "        text-align: right;\n",
       "    }\n",
       "</style>\n",
       "<table border=\"1\" class=\"dataframe\">\n",
       "  <thead>\n",
       "    <tr style=\"text-align: right;\">\n",
       "      <th></th>\n",
       "      <th>dist</th>\n",
       "    </tr>\n",
       "    <tr>\n",
       "      <th>Nome</th>\n",
       "      <th></th>\n",
       "    </tr>\n",
       "  </thead>\n",
       "  <tbody>\n",
       "    <tr>\n",
       "      <th>Alfa Centauri A</th>\n",
       "      <td>4.4</td>\n",
       "    </tr>\n",
       "    <tr>\n",
       "      <th>Alfa Centauri B</th>\n",
       "      <td>4.4</td>\n",
       "    </tr>\n",
       "  </tbody>\n",
       "</table>\n",
       "</div>"
      ],
      "text/plain": [
       "                 dist\n",
       "Nome                 \n",
       "Alfa Centauri A   4.4\n",
       "Alfa Centauri B   4.4"
      ]
     },
     "execution_count": 26,
     "metadata": {},
     "output_type": "execute_result"
    }
   ],
   "source": [
    "dati[dati.dist == dati.dist.min()][[\"dist\"]]"
   ]
  },
  {
   "cell_type": "markdown",
   "id": "51c1fc67",
   "metadata": {},
   "source": [
    "Dal momento che abbiamo rilevato una forte presenza di stelle giganti e supergiganti, ci potremmo chiedere se esiste un valore di raggio solare a partire dal quale una stella inizia a venire considerata gigante. Per rispondere, possiamo inizializzare una dummy variable e rappresentare le stelle su un grafico a dispersione mettendo in relazione il raggio solare e la proprietà di essere o meno una stella gigante o più."
   ]
  },
  {
   "cell_type": "code",
   "execution_count": 27,
   "id": "49351f07",
   "metadata": {
    "scrolled": false
   },
   "outputs": [
    {
     "data": {
      "text/plain": [
       "[Text(0.5, 0, 'Raggi solari')]"
      ]
     },
     "execution_count": 27,
     "metadata": {},
     "output_type": "execute_result"
    },
    {
     "data": {
      "image/png": "iVBORw0KGgoAAAANSUhEUgAAAYQAAAEJCAYAAACUk1DVAAAAOXRFWHRTb2Z0d2FyZQBNYXRwbG90bGliIHZlcnNpb24zLjQuMywgaHR0cHM6Ly9tYXRwbG90bGliLm9yZy/MnkTPAAAACXBIWXMAAAsTAAALEwEAmpwYAAAg2UlEQVR4nO3df1yV9d3H8dcB/AGRongOoBWrZrYMdGYT0TBbgSFYIqXWpHt5Y+222Ohud04I3TQ150ZqPbbcGvZDu2HqNLwdsnLOH7BMHy4fmaY+nFiAcEQtkKMeONf9h8ezkSDnEAeF837+5ff6Xj8+n+OBN9d1nR8mwzAMRETE5/ld7QJEROTaoEAQERFAgSAiIk4KBBERARQIIiLipEAQERFAgSAiIk4BV7uAb+L06bM4HJ6/jSI0NJiamjovVHTtUs++QT37hrb27Odnok+f61qc79SB4HAYbQqES9v6GvXsG9Szb/BGz7pkJCIigAJBREScFAgiIgJ4ORDq6upISkriiy++uGzuwIEDpKSkkJCQQFZWFg0NDd4sRUREWuG1m8off/wx2dnZHDt2rNn5n/70p8yfP5+hQ4cye/ZsCgoKeOyxx7xVzr9xsGfPHsrLy7FYLNTX13P69GnCw8NpaGigoaGBAQNu4Pz5C/zzn0cJCelNSEgIp0+fxmq1Eh4eTu/evTlxoooePbpjNodhsUTw2Wf7qagop3///phMfoSE9KGhoZHTp2vo2bMnX31VS3h4OBERNwGmFmozqKg4TlXVia+t6+Do0c8oLy+nd+/ehIdHYLEMAGhh/cv3e/jwYb74opy6ujoiI7+Fn58/FRXlbtQk0hW09LPV2VzsY//+k/Tt26/d+/DaGUJBQQFz5szBYrFcNldeXs65c+cYOnQoACkpKRQVFXmrlH/joKiokHvuuYeZM2eydetWkpKSSE1N5YEHHuDo0aO8++67bN++jZEjRzBx4sOkp6ezZ88exo8fz+TJkxk3bhy7du2isrKC9PR0tmx5n40b/0R8/ANMnjyZ+Ph4Dhz4lG3btpKaOpHS0hLuu28sCQkPEBPzPbZsKQKae3WAwZYtRYwc+b2vrdvIpk3rGTv2XiZNSiE5OYnCwg2UlGylpGRrM+t/fd8GJSVbWbt2LePHJzJhQjIxMd9j48YNTJ/+w1ZqEukKWvrZ6mzP+X/1MXbsWK/0YfL29yHcd999vPXWW9xwww2uZXv37mXx4sW8++67AJSVlTFjxgw2b97s0b5rauo8eunVkSOf8v3vj8VmszF79mxyc3Ox2Wyu+cDAQDZu3EhSUpJreUvr5eXlsW/fPvz9/VmyZMll888//zyNjY3Nbltauov+/SOb1FZRUcbIkd+7bN3i4r8QH/9As/sHmDdv3hX3XVFRxtq1Bc3WmJmZyYIFC1qsqbMzm6/Haq292mV0KPV8uZZ+tjrbc749+vDzMxEaGtzi/FV5H4LD4cBk+tdpjmEYTcbuulJjzdmxo8L1YJpMpiYPLIDNZqO6urrJ8pbWq6urw2Qy4XA4mp2/1GNzc6dPn2TIkDubLN+//2Sz61ZUlLe4/69rbt/7959sscZLj3lLNXUFZvP1V7uEDqeem2rpZ6uzPec7oo+rEgjh4eFYrVbX+OTJk81eWmqNp2cIERH9CQwMdD2o//7vS2OLxdLs8q+Pg4ODMQyDgICAZuf9/PxwOBzNzvXp0++yv2j69u3X7LoDBgxocf9f19y++/bth7+/f7P7uHRy2FJNnZ3+WvYNrfXc0s9WZ3vOt0cfrZ0hXJWXnQ4YMIAePXqwZ88eADZs2EBcXJzXj3vrrbfz+usrCAwM5M033yQnJ4fAwEDg4gP72muvsXr1apYuXepanp+fz/Lly5ust3TpUmw2GwUFBfTr14/XXnutyfyyZcuIiIggPz+fF198sclcXt5K+ve/6bLaIiJuIi9v5WXr3nbbYH7zm980WZ6Tk8Nddw3nrruGt7rviIibGDbsrst6zcnJ4a233rpiTSJdQUs/W53tOd8RfXToPYT09HQyMjKIiori4MGDZGdnU1dXx+DBg1m4cCHdu3f3aN+eniFc5OD48SOUl5djNpudp1ynCQsLw+FwYLfb6d//Bi5cuMCxY0fp3fviq4zOnDmD1WrFYrEQEhLiepVRv35hhIVdfJVRZWUF4eHh+Pv706tXHxobGzlz5hTdu/egrq4WiyXc+Z935VcZVVdXYbGE/du6F19lVFFRTq9evQgL609Y2L9eZXT5+pfv98yZKsrLy6mtreOmmyLx9w+gsrKile06N/217Bvc67mln63O5mIfp0+fpE+ffh730doZgtcDwZvaFgj6ofEV6tk3qGf3XZOXjERE5NqjQBAREUCBICIiTgoEEREBFAgiIuKkQBAREUCBICIiTgoEEREBFAgiIuKkQBAREUCBICIiTgoEEREBFAgiIuKkQBAREUCBICIiTgoEEREBFAgiIuKkQBAREUCBICIiTgoEEREBFAgiIuKkQBAREUCBICIiTgoEEREBFAgiIuKkQBAREUCBICIiTgoEEREBFAgiIuKkQBAREUCBICIiTl4NhMLCQhITE4mPj2fVqlWXze/fv59JkyYxYcIEnnrqKb766itvliMiIlfgtUCoqqoiNzeX1atXs379evLz8zly5EiTdV566SUyMjJ47733uPnmm3njjTe8VY6IiLTCa4FQUlJCTEwMISEhBAUFkZCQQFFRUZN1HA4HZ8+eBcBms9GzZ09vlSMiIq0I8NaOq6urMZvNrrHFYmHfvn1N1pk1axZPPvkkCxYsIDAwkIKCAo+OERoa3Ob6zObr27xtZ6WefYN69g3e6NlrgeBwODCZTK6xYRhNxufOnSMrK4uVK1cSHR1NXl4eL7zwAitWrHD7GDU1dTgchse1mc3XY7XWerxdZ6aefYN69g1t7dnPz3TFP6S9dskoPDwcq9XqGlutViwWi2t86NAhevToQXR0NACTJ09m165d3ipHRERa4bVAiI2NpbS0lFOnTmGz2SguLiYuLs41HxkZyYkTJzh69CgAH3zwAVFRUd4qR0REWuG1S0ZhYWFkZmaSlpaG3W4nNTWV6Oho0tPTycjIICoqioULF/KTn/wEwzAIDQ1lwYIF3ipHRERaYTIMw/OL8NcI3UNwn3r2DerZN3S6ewgiItK5KBBERARQIIiIiJMCQUREAAWCiIg4KRBERARQIIiIiJMCQUREAAWCiIg4KRBERARQIIiIiJMCQUREAAWCiIg4KRBERARQIIiIiJMCQUREAAWCiIg4KRBERARQIIiIiJMCQUREAAWCiIg4KRBERARQIIiIiJMCQUREAAWCiIg4KRBERARQIIiIiJMCQUREAAWCiIg4KRBERATwciAUFhaSmJhIfHw8q1atumz+6NGjTJs2jQkTJjB9+nS+/PJLb5YjIiJX4LVAqKqqIjc3l9WrV7N+/Xry8/M5cuSIa94wDH70ox+Rnp7Oe++9x3e+8x1WrFjhrXJERKQVXguEkpISYmJiCAkJISgoiISEBIqKilzz+/fvJygoiLi4OACefvppHn/8cW+VIyIirfAoEF5//XW3162ursZsNrvGFouFqqoq1/j48eP069eP2bNnM3HiRObMmUNQUJAn5YiISDsK8GTloqIinnrqKbfWdTgcmEwm19gwjCbjhoYGdu3axTvvvENUVBSvvPIKixYtYtGiRW7XExoa7H7xX2M2X9/mbTsr9ewb1LNv8EbPbgXCRx99BEB9fb3r33ffffcVtwkPD2f37t2usdVqxWKxuMZms5nIyEiioqIASEpKIiMjw6Pia2rqcDgMj7a5eOzrsVprPd6uM1PPvkE9+4a29uznZ7riH9JuXTJatmwZy5Ytw2q1smzZMpYvX97qNrGxsZSWlnLq1ClsNhvFxcWu+wUA3/3udzl16hQHDx4EYMuWLQwePNidckRExAvcOkN4++23AZg4caLr360JCwsjMzOTtLQ07HY7qampREdHk56eTkZGBlFRUbz22mtkZ2djs9kIDw9n8eLFbe9ERES+EY/uIRiGZ5dnkpOTSU5ObrLsd7/7nevfQ4YMYc2aNR7tU0REvMOjVxmtXLnSS2WIiMjV5lYgOBwOfv/737No0SLq6up4/fXXaWxs9HZtIiLSgdwKhMWLF3Po0CE+/vhjALZv387ChQu9WpiIiHQstwKhtLSURYsW0aNHD4KDg/nDH/7Azp07vV2biIh0ILcCISAgAD+/f63avXt3AgI8uh8tIiLXOLd+q992222sWrWKxsZGjh49ysqVKxk0aJC3axMRkQ7k1hlCVlYW+/fvp6amhqlTp1JfX092dra3axMRkQ7k1hnC0aNHWbBgQZNlJSUlxMbGeqUoERHpeFcMhE8//RTDMHjhhRf41a9+5XpjWkNDA3PnzqW4uLhDihQREe+7YiC8++677Ny5k+rqap555pl/bRQQwAMPPOD14kREpONcMRDmzZsHQG5uLpmZmR1SkIiIXB1u3UP4yU9+wq5du/jyyy+bfJ5RfHy81woTEZGO5VYg5OTk8Le//Y3IyEjXMpPJpEAQEelC3AqEnTt3smnTJoKD2/4NZSIicm1z630I/fv3VxiIiHRxbp0hDBs2jMzMTMaOHUvPnj1dy3XJSESk63ArEPbu3QvAH//4R9cy3UMQEelaPPoKTRER6brcCoRjx47xzjvvUF9fj2EYOBwOysrK+N///V9v1yciIh3ErZvK//3f/43dbmfv3r0MGDCAI0eOcNttt3m7NhER6UBuBcLZs2f5+c9/zujRo4mLiyMvL49//OMfXi5NREQ6kluBEBISAkBkZCSHDx+mV69emEwmb9YlIiIdzK17CJGRkbz00ktMnDiRrKws6uvraWho8HZtIiLSgdw6Q5g7dy7Dhw/njjvu4JFHHuHvf/87v/jFL7xdm4iIdCC3zhBOnz5NVFQUFRUV3HvvvZe9QU1ERDo/twJh6tSpVFdXc9111+Hn50dtbS3+/v706dOHpUuXMmzYMG/XKSIiXuZWIMTGxjJixAgefvhhADZv3szOnTuZMmUKc+bMafIOZhER6Zzcuodw8OBBVxgAJCQk8Mknn3DHHXdgt9u9VZuIiHQgtwKhoaGBQ4cOucaHDh3C4XBw/vx5vdpIRKSLcOuS0fPPP8+0adMYOHCg62MrlixZwrJly7j//vu9XaOIiHQAtwJhzJgxbN68md27d+Pv78+wYcPo3bs3UVFR+p4EEZEu4oqXjDZs2ABAXl4ef/rTn/j88885duwY69atIy8vr9UwKCwsJDExkfj4eFatWtXielu3buW+++5rQ/kiItJerniGUFZWBtDk/oG7qqqqyM3NZd26dXTv3p0pU6YwYsQIvv3tbzdZ7+TJk7z88sse719ERNrXFc8QMjIyAPjwww/ZtWsXH374IR9++CEfffQRn3zyCc899xzV1dXNbltSUkJMTAwhISEEBQWRkJBAUVHRZetlZ2fzzDPPtEMrIiLyTbh1D+H+++/n7NmzPP744/j5+bFmzRrOnj3LoEGDyMnJ4be//e1l21RXV2M2m11ji8XCvn37mqzz1ltvcccddzBkyJA2FR8a2vb7F2bz9W3etrNSz75BPfsGb/TsViDs3r2bdevWucbZ2dmkpqaycOFC1q5d2+w2DoejySeiGobRZHzo0CGKi4tZuXIlJ06caFPxNTV1OByGx9uZzddjtda26ZidlXr2DerZN7S1Zz8/0xX/kHb7+xDq6upc47q6Os6dO3fFbcLDw7Fara6x1WrFYrG4xkVFRVitViZNmsSMGTOorq7msccec6ccERHxArfOECZNmsSjjz7KuHHjMAyD4uJiHnnkEd5++21uueWWZreJjY1l+fLlnDp1isDAQIqLi5k3b55rPiMjw3WP4osvviAtLY3Vq1e3Q0siItIWbgXCjBkz+M53vsO2bdsICAjgxRdfJCYmhk8++YSJEyc2u01YWBiZmZmkpaVht9tJTU0lOjqa9PR0MjIyiIqKatdGRETkmzEZhuH5RfhrhO4huE89+wb17Buu6j0EERHp+hQIIiICKBBERMRJgSAiIoACQUREnBQIIiICKBBERMRJgSAiIoACQUREnBQIIiICKBBERMRJgSAiIoACQUREnBQIIiICKBBERMRJgSAiIoACQUREnBQIIiICKBBERMRJgSAiIoACQUREnBQIIiICKBBERMRJgSAiIoACQUREnBQIIiICKBBERMRJgSAiIoACQUREnBQIIiICeDkQCgsLSUxMJD4+nlWrVl02//777/PQQw8xYcIE/uu//osvv/zSm+WIiMgVeC0QqqqqyM3NZfXq1axfv578/HyOHDnimq+rq2Pu3LmsWLGC9957j0GDBrF8+XJvlSMiIq3wWiCUlJQQExNDSEgIQUFBJCQkUFRU5Jq32+3MmTOHsLAwAAYNGkRlZaW3yhERkVZ4LRCqq6sxm82uscVioaqqyjXu06cPDzzwAADnzp1jxYoV3H///d4qR0REWhHgrR07HA5MJpNrbBhGk/EltbW1zJw5k9tvv52JEyd6dIzQ0OA212c2X9/mbTsr9ewb1LNv8EbPXguE8PBwdu/e7RpbrVYsFkuTdaqrq5k+fToxMTHMnj3b42PU1NThcBgeb2c2X4/VWuvxdp2ZevYN6tk3tLVnPz/TFf+Q9tolo9jYWEpLSzl16hQ2m43i4mLi4uJc842NjTz99NM8+OCDZGVlNXv2ICIiHcdrZwhhYWFkZmaSlpaG3W4nNTWV6Oho0tPTycjI4MSJE3z66ac0NjayefNmAO68805eeuklb5UkIiJXYDIMw/NrLtcIXTJyn3r2DerZN3S6S0YiItK5KBBERARQIIiIiJMCQUREAAWCiIg4KRBERARQIIiIiJMCQUREAAWCiIg4KRBERARQIIiIiJMCQUREAAWCiIg4KRBERARQIIiIiJMCQUREAAWCiIg4KRBERARQIIiIiJMCQUREAAWCiIg4KRBERARQIIiIiJMCQUREAAWCiIg4KRBERARQIIiIiJMCQUREAAWCiIg4KRBERARQIIiIiJNXA6GwsJDExETi4+NZtWrVZfMHDhwgJSWFhIQEsrKyaGho8GY5gIPGxrNs27aN0tK/cuDAXrZv/wtHjnwCNHr52CIi1zavBUJVVRW5ubmsXr2a9evXk5+fz5EjR5qs89Of/pScnBw2b96MYRgUFBR4qxzAQX39GTZt2sT06dPZv38/48aNY9KkSXz/+99n48Y/oVAQEV/mtUAoKSkhJiaGkJAQgoKCSEhIoKioyDVfXl7OuXPnGDp0KAApKSlN5tvbkSMHKSsr45lnnuHRRx9l3rx52Gw2AGw2GzNnzuSzz/Z77fgiIte6AG/tuLq6GrPZ7BpbLBb27dvX4rzZbKaqqsqjY4SGBru97o4dFZw/fx6bzYbJZHKFwSU2m43KygpGjx7lUQ2didl8/dUuocOpZ9+gntuH1wLB4XBgMplcY8Mwmoxbm3dHTU0dDofh1roREf2x2y8QGBgIQGBgYJNQCAwMJCKiP1ZrrUc1dBZm8/VdtreWqGffoJ7d5+dnuuIf0l67ZBQeHo7VanWNrVYrFoulxfmTJ082mW9vt956OzfddBOvvvoq+fn5vPjii03C4bXXXmPQoMFeO76IyLXOa2cIsbGxLF++nFOnThEYGEhxcTHz5s1zzQ8YMIAePXqwZ88e7rrrLjZs2EBcXJy3ygH8CAoKITExkW9/+9ucOXOGoqIiampqCAsLY+DAOwB/Lx5fROTa5rVACAsLIzMzk7S0NOx2O6mpqURHR5Oenk5GRgZRUVEsWbKE7Oxs6urqGDx4MGlpad4qx8kPf//riIuL87lTTBGR1pgMw3DvIvw1yJN7CP9O1xx9g3r2DerZfVftHoKIiHQuCgQREQEUCCIi4uS1m8odwc/Ps/cttNe2nZV69g3q2Te0pefWtunUN5VFRKT96JKRiIgACgQREXFSIIiICKBAEBERJwWCiIgACgQREXFSIIiICKBAEBERJwWCiIgAPhgIhYWFJCYmEh8fz6pVq652Oe3m1VdfZfz48YwfP57FixcDUFJSQnJyMvHx8eTm5rrWPXDgACkpKSQkJJCVlUVDQ8PVKrtdvPzyy8yaNQvo+j1v2bKFlJQUHnzwQebPnw90/Z43bNjgem6//PLLQNftua6ujqSkJL744gvA8z4rKip4/PHHGTduHD/60Y84e/asZwUYPuTEiRPG2LFjjdOnTxtnz541kpOTjcOHD1/tsr6xnTt3GpMnTzbOnz9vXLhwwUhLSzMKCwuNMWPGGMePHzfsdrvx5JNPGlu3bjUMwzDGjx9v7N271zAMw/jZz35mrFq16ipW/82UlJQYI0aMMF544QXDZrN16Z6PHz9ujB492qisrDQuXLhgTJ061di6dWuX7rm+vt64++67jZqaGsNutxupqanGBx980CV7/sc//mEkJSUZgwcPNj7//PM2PZ9nzJhhbNy40TAMw3j11VeNxYsXe1SDT50hlJSUEBMTQ0hICEFBQSQkJFBUVHS1y/rGzGYzs2bNonv37nTr1o1bb72VY8eOERkZyY033khAQADJyckUFRVRXl7OuXPnGDp0KAApKSmd9jE4c+YMubm5PP300wDs27evS/f8l7/8hcTERMLDw+nWrRu5ubkEBgZ26Z4bGxtxOBzYbDYaGhpoaGggODi4S/ZcUFDAnDlzXN8t7+nz2W6389FHH5GQkNBkuSc69aedeqq6uhqz2ewaWywW9u3bdxUrah8DBw50/fvYsWP8+c9/5gc/+MFlvVZVVV32GJjNZqqqqjq03vaSk5NDZmYmlZWVQPP/v12p57KyMrp168bTTz9NZWUl9957LwMHDuzSPQcHB/PjH/+YBx98kMDAQO6+++4u+//80ksvNRl72ufp06cJDg4mICCgyXJP+NQZgsPhwGT618e/GobRZNzZHT58mCeffJL/+Z//4cYbb2y2167yGPzxj38kIiKCkSNHupa11FtX6bmxsZHS0lIWLFhAfn4++/bt4/PPP+/SPR88eJC1a9fy17/+le3bt+Pn58exY8e6dM+XePp8bq5fT/v3qTOE8PBwdu/e7RpbrVbX6Vlnt2fPHjIyMpg9ezbjx49n165dWK1W1/ylXsPDw5ssP3nyZKd8DDZt2oTVauWhhx7iyy+/pL6+nvLycvz9/V3rdLWe+/Xrx8iRI+nbty8A999/P0VFRV265x07djBy5EhCQ0OBi5dB3njjjS7d8yVf76e1Pvv27UttbS2NjY34+/u36febT50hxMbGUlpayqlTp7DZbBQXFxMXF3e1y/rGKisrmTlzJkuWLGH8+PEADBkyhH/+85+UlZXR2NjIxo0biYuLY8CAAfTo0YM9e/YAF1/B0Rkfg7y8PDZu3MiGDRvIyMjgvvvu4/e//32X7nns2LHs2LGDr776isbGRrZv3864ceO6dM+33347JSUl1NfXYxgGW7Zs6fLP7Us87bNbt24MHz6cTZs2AbB+/XqP+/epM4SwsDAyMzNJS0vDbreTmppKdHT01S7rG3vjjTc4f/48ixYtci2bMmUKixYt4tlnn+X8+fOMGTOGcePGAbBkyRKys7Opq6tj8ODBpKWlXa3S21WPHj26dM9DhgzhP//zP3nsscew2+2MGjWKqVOncsstt3TZnkePHs2nn35KSkoK3bp1IyoqimeffZZRo0Z12Z4vacvzec6cOcyaNYvf/OY3RERE8Otf/9qjY+ob00REBPCxS0YiItIyBYKIiAAKBBERcVIgiIgIoEAQEREnn3rZqfiWQYMGcdttt+Hn54fJZMJmsxEcHMzcuXOJiopq9+MtXbqUyMhIHn744W+8r0GDBlFaWup6E5o7srKyGD9+PLGxsd/4+OKb9LJT6bKa+6X6xhtvUFxcTH5+/lWsrHVtCQSRb0pnCOIzGhoaqKyspHfv3sDFt/zn5ORQU1OD1WplwIABvPLKK4SGhrJv3z7mzp2L3W7npptuoqKiglmzZjFixAhWrFjBmjVruO666xg+fDgffPABW7ZsYdasWQwcOJDp06c3Oe7u3btZtGgRDocDgKeeeoqEhARqa2v5+c9/zsGDBzGZTNxzzz0899xzrg8nA6ivr2fu3LmUlZVx5swZrrvuOpYsWcItt9zCtGnT6N27N0ePHmXq1KkUFxe7PgtfpC10D0G6tCeeeILk5GRGjx7t+ljghQsXAvB///d/DB06lPz8fD744AN69uzJhg0baGho4Nlnn+XHP/4xhYWFTJs2jQMHDgCwfft21q1bx5o1a1i3bp1bX0CyfPlyfvjDH7Ju3ToWLFjA3//+dwDmz59PSEgIhYWFrF27ls8++4w//OEPTbbdtm0bvXr1Ij8/n82bN3PnnXc2+WKnXr16sWnTJqZNm9Yuj5f4Np0hSJf25ptv0rdvX/bv38+MGTMYMWKE64PSnnjiCXbv3k1eXh7Hjh3j8OHDDBkyhEOHDgEwZswYAGJiYlwfMf63v/2NcePG0atXLwAef/xx1y/4ljz44IP84he/YMuWLcTGxvLcc88BF3/Zv/vuu5hMJrp3786UKVN48803mTFjhmvbcePGceONN/L2229TVlbGrl27+O53v+uaHz58eDs9UiI6QxAfMXjwYH72s58xa9Ys19cT/vKXv2Tp0qX06dOHyZMnM2rUKAzDwN/fn6/fWrv06ZoBAQFN5v79UzdbMmXKFN577z1GjRrFjh07mDBhAufPn7/sY4wdDsdlX/m4evVqsrKy6NmzJ8nJySQlJTU5flBQkOcPhkgLFAjiM5KSkoiOjnZdMtqxYwdPPPEEDz/8MKGhoZSUlNDY2Mitt95K9+7d2bZtG3Dxm6sOHTqEyWRizJgxFBcXU1tbC8CaNWtaPe6UKVNc34E7b948vvrqK6xWK6NHj+add97BMAwuXLhAQUHBZa8Q2rFjBxMnTuSRRx7h5ptvZsuWLTQ2NrbzIyNykS4ZiU958cUXmTBhAtu3b2fmzJksXryYpUuX0q1bN4YNG8bx48cJCAhg+fLlzJkzh1//+td861vfol+/fvTs2ZPo6GgeffRRJk+eTM+ePRk4cCCBgYFXPObzzz/PggULeOWVVzCZTDzzzDPccMMNZGdnM3/+fJKTk7Hb7dxzzz2urwO95MknnyQnJ8cVPEOHDnVd0hJpb3rZqUgzXn75ZaZPn06/fv2orKzkoYce4v3336esrIy9e/e6Pm44Ly+Pjz/+mFdeeeXqFizSDnSGINKMAQMG8B//8R+uewbz58+nV69e3Hzzzfzud7+joKAAk8lEREQE8+bNu9rlirQLnSGIiAigm8oiIuKkQBAREUCBICIiTgoEEREBFAgiIuKkQBAREQD+HwT78DnJ1fMEAAAAAElFTkSuQmCC\n",
      "text/plain": [
       "<Figure size 432x288 with 1 Axes>"
      ]
     },
     "metadata": {},
     "output_type": "display_data"
    }
   ],
   "source": [
    "#Inizializzare la dummy variable\n",
    "dati[\"gigante+\"] = [1 if x == \"Gigante\" or x == \"Supergigante\" else 0 for x in dati.tipo]\n",
    "#Impostare lo stile di Seaborn\n",
    "sns.set_style(\"darkgrid\")\n",
    "#Creare il grafico a dispersione\n",
    "sns.scatterplot(x=\"rag_sol\", y=\"gigante+\", data=dati, color=\"black\").set(xlabel=\"Raggi solari\")"
   ]
  },
  {
   "cell_type": "markdown",
   "id": "e088b95d",
   "metadata": {},
   "source": [
    "La presenza degli outliers Antares e Betelgeuse impedisce di individuare una netta demarcazione, di conseguenza individuiamo il valore massimo di raggio solare tra le stelle non considerate giganti o supergiganti e riduciamo l'asse della ascisse del grafico in modo che i singoli punti siano meglio identificabili."
   ]
  },
  {
   "cell_type": "code",
   "execution_count": 28,
   "id": "f7d4e7de",
   "metadata": {},
   "outputs": [
    {
     "data": {
      "text/plain": [
       "10.0"
      ]
     },
     "execution_count": 28,
     "metadata": {},
     "output_type": "execute_result"
    }
   ],
   "source": [
    "#raggio solare massimo per stelle non giganti o più\n",
    "dati[(dati[\"tipo\"] != \"Gigante\") & (dati[\"tipo\"] != \"Supergigante\")].rag_sol.max()"
   ]
  },
  {
   "cell_type": "code",
   "execution_count": 29,
   "id": "6e114672",
   "metadata": {
    "scrolled": true
   },
   "outputs": [
    {
     "data": {
      "text/plain": [
       "(0.0, 200.0)"
      ]
     },
     "execution_count": 29,
     "metadata": {},
     "output_type": "execute_result"
    },
    {
     "data": {
      "image/png": "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\n",
      "text/plain": [
       "<Figure size 432x288 with 1 Axes>"
      ]
     },
     "metadata": {},
     "output_type": "display_data"
    }
   ],
   "source": [
    "#grafico a dispersione con asse X ridotto\n",
    "sns.scatterplot(x=\"rag_sol\", y=\"gigante+\", data=dati, color=\"black\").set(xlabel=\"Raggi solari\")\n",
    "plt.xlim([0,200])"
   ]
  },
  {
   "cell_type": "markdown",
   "id": "4b6774ca",
   "metadata": {},
   "source": [
    "Sebbene esistano stelle di raggio solare inferiore a 10 che vengono comunque considerate giganti (per via della loro massa e luminosità intrinseche), tutte le stelle con un raggio solare maggiore di 10 vengono classificate come giganti o più.\n",
    "\n",
    "il metodo *.corr()* restituisce il coefficiente di correlazione tra tutte le variabili numeriche presenti in un dataframe. Applichiamolo a **Dati** in modo da individuare possibili correlazioni. Come noto, la formula del coefficiente di correlazione (𝜌) è la seguente:\n",
    "\n",
    "$$ \\rho_{x,y} = \\frac{\\sigma_xy}{\\sigma_x \cdot \\sigma_y} $$"
   ]
  },
  {
   "cell_type": "code",
   "execution_count": 30,
   "id": "5c8ad24c",
   "metadata": {
    "scrolled": true
   },
   "outputs": [
    {
     "data": {
      "text/html": [
       "<div>\n",
       "<style scoped>\n",
       "    .dataframe tbody tr th:only-of-type {\n",
       "        vertical-align: middle;\n",
       "    }\n",
       "\n",
       "    .dataframe tbody tr th {\n",
       "        vertical-align: top;\n",
       "    }\n",
       "\n",
       "    .dataframe thead th {\n",
       "        text-align: right;\n",
       "    }\n",
       "</style>\n",
       "<table border=\"1\" class=\"dataframe\">\n",
       "  <thead>\n",
       "    <tr style=\"text-align: right;\">\n",
       "      <th></th>\n",
       "      <th>mag_app</th>\n",
       "      <th>rag_sol</th>\n",
       "      <th>dist</th>\n",
       "      <th>gigante+</th>\n",
       "    </tr>\n",
       "  </thead>\n",
       "  <tbody>\n",
       "    <tr>\n",
       "      <th>mag_app</th>\n",
       "      <td>1.000000</td>\n",
       "      <td>-0.132512</td>\n",
       "      <td>0.144755</td>\n",
       "      <td>0.069821</td>\n",
       "    </tr>\n",
       "    <tr>\n",
       "      <th>rag_sol</th>\n",
       "      <td>-0.132512</td>\n",
       "      <td>1.000000</td>\n",
       "      <td>0.238633</td>\n",
       "      <td>0.260251</td>\n",
       "    </tr>\n",
       "    <tr>\n",
       "      <th>dist</th>\n",
       "      <td>0.144755</td>\n",
       "      <td>0.238633</td>\n",
       "      <td>1.000000</td>\n",
       "      <td>0.323341</td>\n",
       "    </tr>\n",
       "    <tr>\n",
       "      <th>gigante+</th>\n",
       "      <td>0.069821</td>\n",
       "      <td>0.260251</td>\n",
       "      <td>0.323341</td>\n",
       "      <td>1.000000</td>\n",
       "    </tr>\n",
       "  </tbody>\n",
       "</table>\n",
       "</div>"
      ],
      "text/plain": [
       "           mag_app   rag_sol      dist  gigante+\n",
       "mag_app   1.000000 -0.132512  0.144755  0.069821\n",
       "rag_sol  -0.132512  1.000000  0.238633  0.260251\n",
       "dist      0.144755  0.238633  1.000000  0.323341\n",
       "gigante+  0.069821  0.260251  0.323341  1.000000"
      ]
     },
     "execution_count": 30,
     "metadata": {},
     "output_type": "execute_result"
    }
   ],
   "source": [
    "dati.corr()"
   ]
  },
  {
   "cell_type": "markdown",
   "id": "5086012e",
   "metadata": {},
   "source": [
    "Risulta sorprendente che la correlazione tra distanza e magnitudine apparente sia così bassa, dal momento che come noto la seconda mantiene una stretta relazione con la prima. Diamo un'occhiata alle due variabili mediante un grafico a dispersione."
   ]
  },
  {
   "cell_type": "code",
   "execution_count": 31,
   "id": "4a37999b",
   "metadata": {},
   "outputs": [
    {
     "data": {
      "text/plain": [
       "[Text(0.5, 0, 'Distanza AL'), Text(0, 0.5, 'Magnitudine apparente')]"
      ]
     },
     "execution_count": 31,
     "metadata": {},
     "output_type": "execute_result"
    },
    {
     "data": {
      "image/png": "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\n",
      "text/plain": [
       "<Figure size 432x288 with 1 Axes>"
      ]
     },
     "metadata": {},
     "output_type": "display_data"
    }
   ],
   "source": [
    "sns.scatterplot(x=\"dist\", y=\"mag_app\", data=dati, alpha=0.5, color=\"black\").set(xlabel=\"Distanza AL\",\n",
    "                                                                               ylabel=\"Magnitudine apparente\")"
   ]
  },
  {
   "cell_type": "markdown",
   "id": "e40b3044",
   "metadata": {},
   "source": [
    "Si nota distintamente un cluster situato in alto a sinistra, corrispondente a bassa distanza e alta magnitudine apparente. Il fatto che la maggior parte dei punti siano così concentrati impedisce l'individuazione di una chiara relazione, dobbiamo pertanto limitare l'asse in modo da rendere più evidente il comportamento delle osservazioni. \n",
    "\n",
    "Dall'analisi della distribuzione della distanza abbiamo rilevato che la maggior parte delle stelle prese in esame distano da 0 a 200 anni luce. Generiamo allora un dataframe che contenga solo stelle con distanze comprese tra quest'intervallo e ricalcoliamo il coefficiente di correlazione."
   ]
  },
  {
   "cell_type": "code",
   "execution_count": 32,
   "id": "456ca060",
   "metadata": {
    "scrolled": true
   },
   "outputs": [
    {
     "data": {
      "text/plain": [
       "0.5057556453015325"
      ]
     },
     "execution_count": 32,
     "metadata": {},
     "output_type": "execute_result"
    }
   ],
   "source": [
    "stelle_vicine = dati[(dati[\"dist\"] > 0) & (dati[\"dist\"] < 200)]\n",
    "\n",
    "stelle_vicine[\"dist\"].corr(stelle_vicine[\"mag_app\"])"
   ]
  },
  {
   "cell_type": "markdown",
   "id": "1ff79953",
   "metadata": {},
   "source": [
    "La correlazione appare decisamente più forte! Utilizzando il metodo *.regplot()* possiamo renderla immediatamente visibile creando un grafico a dispersione con linea di regressione."
   ]
  },
  {
   "cell_type": "code",
   "execution_count": 33,
   "id": "fe827c7e",
   "metadata": {
    "scrolled": true
   },
   "outputs": [
    {
     "data": {
      "text/plain": [
       "[Text(0.5, 0, 'Distanza AL'), Text(0, 0.5, 'Magnitudine apparente')]"
      ]
     },
     "execution_count": 33,
     "metadata": {},
     "output_type": "execute_result"
    },
    {
     "data": {
      "image/png": "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\n",
      "text/plain": [
       "<Figure size 432x288 with 1 Axes>"
      ]
     },
     "metadata": {},
     "output_type": "display_data"
    }
   ],
   "source": [
    "sns.regplot(x=\"dist\", y = \"mag_app\", data = stelle_vicine, scatter_kws={\"color\" : \"black\"}).set(xlabel=\"Distanza AL\",\n",
    "                                                                               ylabel=\"Magnitudine apparente\")"
   ]
  }
 ],
 "metadata": {
  "kernelspec": {
   "display_name": "Python 3 (ipykernel)",
   "language": "python",
   "name": "python3"
  },
  "language_info": {
   "codemirror_mode": {
    "name": "ipython",
    "version": 3
   },
   "file_extension": ".py",
   "mimetype": "text/x-python",
   "name": "python",
   "nbconvert_exporter": "python",
   "pygments_lexer": "ipython3",
   "version": "3.9.7"
  }
 },
 "nbformat": 4,
 "nbformat_minor": 5
}
