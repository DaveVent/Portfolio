{
 "cells": [
  {
   "cell_type": "markdown",
   "id": "4de1df74",
   "metadata": {},
   "source": [
    "# Hypothesis Testing On Death Penalty in USA"
   ]
  },
  {
   "cell_type": "markdown",
   "id": "fecd9ed2",
   "metadata": {},
   "source": [
    "#### Does sex affect favouring or not the capital punishment (cappun) in USA?\n",
    "    \n",
    "  ##### Let's find out by using a sample drawn from GSS (General Social Survey)!"
   ]
  },
  {
   "cell_type": "code",
   "execution_count": 1,
   "id": "ceccbc51",
   "metadata": {},
   "outputs": [
    {
     "name": "stderr",
     "output_type": "stream",
     "text": [
      "Registered S3 methods overwritten by 'ggplot2':\n",
      "  method         from \n",
      "  [.quosures     rlang\n",
      "  c.quosures     rlang\n",
      "  print.quosures rlang\n",
      "Registered S3 method overwritten by 'rvest':\n",
      "  method            from\n",
      "  read_xml.response xml2\n",
      "-- Attaching packages --------------------------------------- tidyverse 1.2.1 --\n",
      "v ggplot2 3.1.1       v purrr   0.3.2  \n",
      "v tibble  2.1.1       v dplyr   0.8.0.1\n",
      "v tidyr   0.8.3       v stringr 1.4.0  \n",
      "v readr   1.3.1       v forcats 0.4.0  \n",
      "-- Conflicts ------------------------------------------ tidyverse_conflicts() --\n",
      "x dplyr::filter() masks stats::filter()\n",
      "x dplyr::lag()    masks stats::lag()\n",
      "Warning message:\n",
      "\"package 'infer' was built under R version 3.6.3\""
     ]
    }
   ],
   "source": [
    "# Load packages\n",
    "library(tidyverse)\n",
    "library(ggplot2)\n",
    "library(infer)"
   ]
  },
  {
   "cell_type": "code",
   "execution_count": 1,
   "id": "8c816725",
   "metadata": {},
   "outputs": [],
   "source": [
    "# Load data\n",
    "load(\"datasets/gss.RData\")"
   ]
  },
  {
   "cell_type": "code",
   "execution_count": 1,
   "id": "4f657058",
   "metadata": {
    "scrolled": false
   },
   "outputs": [
    {
     "name": "stdout",
     "output_type": "stream",
     "text": [
      "Observations: 50,346\n",
      "Variables: 28\n",
      "$ id       <dbl> 1, 2, 3, 4, 5, 6, 7, 8, 9, 10, 11, 12, 13, 14, 15, 16, 17,...\n",
      "$ year     <dbl> 1982, 1982, 1982, 1982, 1982, 1982, 1982, 1982, 1982, 1982...\n",
      "$ age      <fct> 41, 49, 27, 24, 57, 29, 21, 68, 54, 80, 74, 30, 53, 39, 36...\n",
      "$ class    <fct> WORKING CLASS, WORKING CLASS, MIDDLE CLASS, MIDDLE CLASS, ...\n",
      "$ degree   <fct> LT HIGH SCHOOL, HIGH SCHOOL, HIGH SCHOOL, HIGH SCHOOL, LT ...\n",
      "$ sex      <fct> MALE, FEMALE, FEMALE, FEMALE, MALE, MALE, FEMALE, MALE, FE...\n",
      "$ marital  <fct> MARRIED, MARRIED, NEVER MARRIED, NEVER MARRIED, NEVER MARR...\n",
      "$ race     <fct> WHITE, WHITE, WHITE, WHITE, WHITE, WHITE, WHITE, WHITE, WH...\n",
      "$ region   <fct> NEW ENGLAND, NEW ENGLAND, NEW ENGLAND, NEW ENGLAND, NEW EN...\n",
      "$ partyid  <fct> \"STRONG DEMOCRAT\", \"STRONG DEMOCRAT\", \"IND,NEAR DEM\", \"IND...\n",
      "$ happy    <fct> PRETTY HAPPY, NOT TOO HAPPY, VERY HAPPY, PRETTY HAPPY, VER...\n",
      "$ grass    <fct> NA, NA, NA, NA, NA, NA, NA, NA, NA, NA, NA, NA, NA, NA, NA...\n",
      "$ relig    <fct> CATHOLIC, CATHOLIC, CATHOLIC, CATHOLIC, CATHOLIC, CATHOLIC...\n",
      "$ cappun2  <fct> NA, NA, NA, NA, NA, NA, NA, NA, NA, NA, NA, NA, NA, NA, NA...\n",
      "$ cappun   <fct> FAVOR, FAVOR, FAVOR, OPPOSE, OPPOSE, FAVOR, OPPOSE, FAVOR,...\n",
      "$ finalter <fct> STAYED SAME, WORSE, BETTER, BETTER, STAYED SAME, BETTER, B...\n",
      "$ protest3 <fct> NA, NA, NA, NA, NA, NA, NA, NA, NA, NA, NA, NA, NA, NA, NA...\n",
      "$ natspac  <fct> ABOUT RIGHT, TOO MUCH, TOO LITTLE, TOO LITTLE, ABOUT RIGHT...\n",
      "$ natarms  <fct> TOO LITTLE, TOO LITTLE, ABOUT RIGHT, TOO MUCH, TOO LITTLE,...\n",
      "$ conclerg <fct> ONLY SOME, ONLY SOME, A GREAT DEAL, ONLY SOME, A GREAT DEA...\n",
      "$ confed   <fct> ONLY SOME, ONLY SOME, ONLY SOME, ONLY SOME, A GREAT DEAL, ...\n",
      "$ conpress <fct> ONLY SOME, ONLY SOME, A GREAT DEAL, ONLY SOME, A GREAT DEA...\n",
      "$ conjudge <fct> HARDLY ANY, ONLY SOME, A GREAT DEAL, A GREAT DEAL, A GREAT...\n",
      "$ consci   <fct> ONLY SOME, ONLY SOME, A GREAT DEAL, A GREAT DEAL, A GREAT ...\n",
      "$ conlegis <fct> ONLY SOME, ONLY SOME, ONLY SOME, ONLY SOME, A GREAT DEAL, ...\n",
      "$ zodiac   <fct> TAURUS, CAPRICORN, VIRGO, PISCES, CAPRICORN, LEO, LIBRA, C...\n",
      "$ oversamp <dbl> 1.235, 1.235, 1.235, 1.235, 1.235, 1.235, 1.235, 1.235, 1....\n",
      "$ postlife <fct> NA, NA, NA, NA, NA, NA, NA, NA, NA, NA, NA, NA, NA, NA, NA...\n"
     ]
    }
   ],
   "source": [
    "# Glimpse data\n",
    "glimpse(gss)"
   ]
  },
  {
   "cell_type": "code",
   "execution_count": 1,
   "id": "603154d0",
   "metadata": {},
   "outputs": [],
   "source": [
    "# Filter for 2016 (most recent year in gss)\n",
    "gss2016 <- gss %>%\n",
    "              filter(year == 2016, !is.na(cappun))"
   ]
  },
  {
   "cell_type": "code",
   "execution_count": 1,
   "id": "6e3ec5f3",
   "metadata": {
    "scrolled": true
   },
   "outputs": [],
   "source": [
    "# Extract a random sample of 150 individuals \n",
    "id_randomly_chosen <- sample(gss2016$id, size=150)"
   ]
  },
  {
   "cell_type": "code",
   "execution_count": 1,
   "id": "98586701",
   "metadata": {},
   "outputs": [],
   "source": [
    "# Create the sample by filtering gss2016\n",
    "sample <- gss2016 %>%\n",
    "            filter(id %in% id_randomly_chosen)"
   ]
  },
  {
   "cell_type": "code",
   "execution_count": 1,
   "id": "2eac5c24",
   "metadata": {
    "scrolled": false
   },
   "outputs": [
    {
     "data": {
      "image/png": "[encoded data removed]",
      "text/plain": [
       "plot without title"
      ]
     },
     "metadata": {},
     "output_type": "display_data"
    }
   ],
   "source": [
    "# Setting the size of plots in this notebook\n",
    "options(repr.plot.width=7, repr.plot.height=4)\n",
    "\n",
    "# Plot distribution of sex filled by cappun\n",
    "ggplot(sample, aes(x = sex, fill = cappun)) +\n",
    "  geom_bar(position = \"fill\")"
   ]
  },
  {
   "cell_type": "code",
   "execution_count": 1,
   "id": "7489467b",
   "metadata": {
    "scrolled": true
   },
   "outputs": [
    {
     "data": {
      "text/html": [
       "<ol class=list-inline>\n",
       "\t<li>0.657534246575342</li>\n",
       "\t<li>0.545454545454545</li>\n",
       "</ol>\n"
      ],
      "text/latex": [
       "\\begin{enumerate*}\n",
       "\\item 0.657534246575342\n",
       "\\item 0.545454545454545\n",
       "\\end{enumerate*}\n"
      ],
      "text/markdown": [
       "1. 0.657534246575342\n",
       "2. 0.545454545454545\n",
       "\n",
       "\n"
      ],
      "text/plain": [
       "[1] 0.6575342 0.5454545"
      ]
     },
     "metadata": {},
     "output_type": "display_data"
    }
   ],
   "source": [
    "# Compute two proportions\n",
    "p_hats <- sample %>%\n",
    "  group_by(sex) %>%\n",
    "      summarize(prop_favor = mean(cappun==\"FAVOR\")) %>%\n",
    "          pull()\n",
    "\n",
    "# See the result\n",
    "p_hats"
   ]
  },
  {
   "cell_type": "code",
   "execution_count": 1,
   "id": "325cb62a",
   "metadata": {},
   "outputs": [
    {
     "data": {
      "text/html": [
       "-0.112079701120797"
      ],
      "text/latex": [
       "-0.112079701120797"
      ],
      "text/markdown": [
       "-0.112079701120797"
      ],
      "text/plain": [
       "[1] -0.1120797"
      ]
     },
     "metadata": {},
     "output_type": "display_data"
    }
   ],
   "source": [
    "# Compute difference in proportions\n",
    "d_hat <- diff(p_hats)\n",
    "\n",
    "# See the result\n",
    "d_hat"
   ]
  },
  {
   "cell_type": "markdown",
   "id": "864f15fb",
   "metadata": {},
   "source": [
    "The difference seems to be remarkable! Now we have to verify if it's simply due to random sampling or not."
   ]
  },
  {
   "cell_type": "code",
   "execution_count": 1,
   "id": "abbef03d",
   "metadata": {},
   "outputs": [],
   "source": [
    "# Create null distribution\n",
    "null <- sample %>%\n",
    "  specify(cappun ~ sex, success = \"FAVOR\") %>%\n",
    "      hypothesize(null = \"independence\") %>%\n",
    "          generate(reps = 1000, type = \"permute\") %>%\n",
    "              calculate(stat = \"diff in props\", order = c(\"FEMALE\", \"MALE\"))"
   ]
  },
  {
   "cell_type": "code",
   "execution_count": 1,
   "id": "7e3feacf",
   "metadata": {
    "scrolled": false
   },
   "outputs": [
    {
     "data": {
      "image/png": "[encoded data removed]",
      "text/plain": [
       "plot without title"
      ]
     },
     "metadata": {},
     "output_type": "display_data"
    }
   ],
   "source": [
    "# Visualize null\n",
    "ggplot(null, aes(x=stat)) +\n",
    "  geom_density() +\n",
    "      geom_vline(xintercept = d_hat, color = \"red\")"
   ]
  },
  {
   "cell_type": "code",
   "execution_count": 1,
   "id": "258d8deb",
   "metadata": {
    "scrolled": true
   },
   "outputs": [
    {
     "data": {
      "text/html": [
       "0.256"
      ],
      "text/latex": [
       "0.256"
      ],
      "text/markdown": [
       "0.256"
      ],
      "text/plain": [
       "[1] 0.256"
      ]
     },
     "metadata": {},
     "output_type": "display_data"
    }
   ],
   "source": [
    "# Compute two-tailed p-value\n",
    "null %>%\n",
    "  summarize(\n",
    "    one_tailed_pval = mean(stat <= d_hat),\n",
    "    two_tailed_pval = 2 * one_tailed_pval) %>%\n",
    "      pull(two_tailed_pval)"
   ]
  },
  {
   "cell_type": "markdown",
   "id": "7ca58d22",
   "metadata": {},
   "source": [
    "The p-value is higher than any acceptable level of significance, so we can conclude that the difference observed is just due to random sampling!"
   ]
  }
 ],
 "metadata": {
  "kernelspec": {
   "display_name": "R",
   "language": "R",
   "name": "ir"
  },
  "language_info": {
   "codemirror_mode": "r",
   "file_extension": ".r",
   "mimetype": "text/x-r-source",
   "name": "R",
   "pygments_lexer": "r",
   "version": "3.6.1"
  }
 },
 "nbformat": 4,
 "nbformat_minor": 5
}
