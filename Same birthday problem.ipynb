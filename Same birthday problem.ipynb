{
 "cells": [
  {
   "cell_type": "markdown",
   "id": "93a26565",
   "metadata": {},
   "source": [
    "# The birthday problem"
   ]
  },
  {
   "cell_type": "markdown",
   "id": "28fb0e50",
   "metadata": {},
   "source": [
    "**Having a certain number of people, what's the probability that at least 2 of them are born on the same day, considering a year of 365 days? It of course depends on the amount of people! Let's see.**"
   ]
  },
  {
   "cell_type": "markdown",
   "id": "6ee2c2c3",
   "metadata": {},
   "source": [
    "According to theory of probability, the probability of two or more events to happen in sequence is equal to the product of the probability of each event: \n",
    "\n",
    "$$ P(A, B,...n) = P(A) \\cdot P(B)\\ ...\\ \\cdot  P(n) $$\n",
    " \n",
    "If the probability of an event affects the probability of the following one, we have to use the conditional probability:\n",
    "\n",
    "$$ P(A, B) = P(A) \\cdot P(B|A) $$\n",
    "\n",
    "So, the probability of two persons to be born on different days is equal to:\n",
    "\n",
    "$$ \\frac{365}{365} \\cdot \\frac{364}{365} = 0,99726 $$\n",
    "\n",
    "Therefore, the probability that the two persons are born on the same day is equal to:\n",
    "\n",
    "$$ 1 - \\frac{365}{365} \\cdot \\frac{364}{365} = 0,00274 $$"
   ]
  },
  {
   "cell_type": "markdown",
   "id": "e92a3e3b",
   "metadata": {},
   "source": [
    "### Experiment start\n",
    "Import the modules numpy and matplotlib.pyplot"
   ]
  },
  {
   "cell_type": "code",
   "execution_count": 1,
   "id": "e74db376",
   "metadata": {},
   "outputs": [],
   "source": [
    "import numpy as np\n",
    "import matplotlib.pyplot as plt"
   ]
  },
  {
   "cell_type": "markdown",
   "id": "53c2c131",
   "metadata": {},
   "source": [
    "**Let's assume we have a group of 10 people. What's the probability that at least 2 of them are born in the same day?**\n",
    "\n",
    "We start by setting a variable *people*, consisting of a sequence of 10 numbers, using the method *.arange()*."
   ]
  },
  {
   "cell_type": "code",
   "execution_count": 2,
   "id": "c380ad20",
   "metadata": {},
   "outputs": [
    {
     "data": {
      "text/plain": [
       "array([ 1,  2,  3,  4,  5,  6,  7,  8,  9, 10])"
      ]
     },
     "execution_count": 2,
     "metadata": {},
     "output_type": "execute_result"
    }
   ],
   "source": [
    "people = np.arange(1,11)\n",
    "people"
   ]
  },
  {
   "cell_type": "markdown",
   "id": "ef738144",
   "metadata": {},
   "source": [
    "We then store the number of days in a year into the variable *days* and the ratios into the result of a list comprehension (365/365 for the 1st person, 364/365 for the 2nd and so on) named *ratios*."
   ]
  },
  {
   "cell_type": "code",
   "execution_count": 3,
   "id": "4a6d46ba",
   "metadata": {},
   "outputs": [],
   "source": [
    "days = 365\n",
    "ratios = [(days - (x-1))/days for x in people]"
   ]
  },
  {
   "cell_type": "markdown",
   "id": "7c03a20d",
   "metadata": {},
   "source": [
    "In order to determine the probability that all n persons are born on different days for each of the numbers stored in *people*, we have to calculate the product of each number in *ratios* for the number that follows it. We can achieve this task by using a while loop."
   ]
  },
  {
   "cell_type": "code",
   "execution_count": 4,
   "id": "fae549e2",
   "metadata": {},
   "outputs": [],
   "source": [
    "ratios_prob = []\n",
    "y = 0\n",
    "prod = 1\n",
    "\n",
    "while y < len(ratios):\n",
    "    prod = prod * ratios[y]\n",
    "    ratios_prob.append(prod)\n",
    "    y += 1"
   ]
  },
  {
   "cell_type": "markdown",
   "id": "6be54948",
   "metadata": {},
   "source": [
    "To determine the probability that at least 2 persons are born on the same day for each n stored in *people*, we simply subtract each element in *ratios_prob* from 1."
   ]
  },
  {
   "cell_type": "code",
   "execution_count": 5,
   "id": "219384c5",
   "metadata": {},
   "outputs": [],
   "source": [
    "ratios_not_prob = [1 - x for x in ratios_prob]"
   ]
  },
  {
   "cell_type": "markdown",
   "id": "eb1cfa86",
   "metadata": {},
   "source": [
    "Let's plot and see the results."
   ]
  },
  {
   "cell_type": "code",
   "execution_count": 6,
   "id": "fc153e4e",
   "metadata": {
    "scrolled": false
   },
   "outputs": [
    {
     "data": {
      "text/plain": [
       "Text(0, 0.5, 'Probability')"
      ]
     },
     "execution_count": 6,
     "metadata": {},
     "output_type": "execute_result"
    },
    {
     "data": {
      "image/png": "[encoded data removed]",
      "text/plain": [
       "<Figure size 432x288 with 1 Axes>"
      ]
     },
     "metadata": {
      "needs_background": "light"
     },
     "output_type": "display_data"
    }
   ],
   "source": [
    "plt.plot(people, ratios_not_prob, color=\"darkblue\")\n",
    "plt.grid(color=\"black\", linestyle=\":\", axis=\"y\")\n",
    "plt.xlabel(\"Persons\")\n",
    "plt.ylabel(\"Probability\")"
   ]
  },
  {
   "cell_type": "markdown",
   "id": "dd75b581",
   "metadata": {},
   "source": [
    "The probability that at least 2 persons are born on the same day in a group of 10 people is below 12%. In order to look at the data without building a dataframe, we can combine the built-in function *zip()* and *dict()*."
   ]
  },
  {
   "cell_type": "code",
   "execution_count": 7,
   "id": "4dfc1256",
   "metadata": {
    "scrolled": true
   },
   "outputs": [
    {
     "data": {
      "text/plain": [
       "{1: 0.0,\n",
       " 2: 0.002739726027397249,\n",
       " 3: 0.008204165884781345,\n",
       " 4: 0.016355912466550215,\n",
       " 5: 0.02713557369979347,\n",
       " 6: 0.040462483649111425,\n",
       " 7: 0.056235703095975365,\n",
       " 8: 0.07433529235166902,\n",
       " 9: 0.09462383388916673,\n",
       " 10: 0.11694817771107768}"
      ]
     },
     "execution_count": 7,
     "metadata": {},
     "output_type": "execute_result"
    }
   ],
   "source": [
    "dict(zip(people, ratios_not_prob))"
   ]
  },
  {
   "cell_type": "markdown",
   "id": "e0c778fa",
   "metadata": {},
   "source": [
    "We can draw a function that plots the probability of at least two persons to be born on the same day as the number of persons increases. The function will take 2 parameters: the number of persons and the number of days (default parameter = 365)."
   ]
  },
  {
   "cell_type": "code",
   "execution_count": 15,
   "id": "06716827",
   "metadata": {},
   "outputs": [],
   "source": [
    "def same_birthday_prob(persons, days=365):\n",
    "    people = np.arange(1,persons + 1)\n",
    "    ratios = [(days - (x-1))/days for x in people]\n",
    "    ratios_prob = []\n",
    "    y = 0\n",
    "    prod = 1\n",
    "\n",
    "    while y < len(ratios):\n",
    "        prod = prod * ratios[y]\n",
    "        ratios_prob.append(prod)\n",
    "        y += 1\n",
    "    ratios_not_prob = [1 - x for x in ratios_prob]\n",
    "    plt.plot(people, ratios_not_prob, color=\"darkblue\")\n",
    "    plt.grid(color=\"black\", linestyle=\":\", axis=\"y\")\n",
    "    plt.xlabel(\"Persons\")\n",
    "    plt.ylabel(\"Probability\") "
   ]
  },
  {
   "cell_type": "markdown",
   "id": "eda05942",
   "metadata": {},
   "source": [
    "So, the probability distribution for 15 persons and 365 days is:"
   ]
  },
  {
   "cell_type": "code",
   "execution_count": 16,
   "id": "f85faa43",
   "metadata": {
    "scrolled": false
   },
   "outputs": [
    {
     "data": {
      "image/png": "[encoded data removed]",
      "text/plain": [
       "<Figure size 432x288 with 1 Axes>"
      ]
     },
     "metadata": {
      "needs_background": "light"
     },
     "output_type": "display_data"
    }
   ],
   "source": [
    "same_birthday_prob(15) "
   ]
  },
  {
   "cell_type": "markdown",
   "id": "357b9358",
   "metadata": {},
   "source": [
    "The probability distribution for 25 persons and 180 days is:"
   ]
  },
  {
   "cell_type": "code",
   "execution_count": 25,
   "id": "56300483",
   "metadata": {
    "scrolled": true
   },
   "outputs": [
    {
     "data": {
      "image/png": "[encoded data removed]",
      "text/plain": [
       "<Figure size 432x288 with 1 Axes>"
      ]
     },
     "metadata": {
      "needs_background": "light"
     },
     "output_type": "display_data"
    }
   ],
   "source": [
    "same_birthday_prob(25, days=180)"
   ]
  },
  {
   "cell_type": "markdown",
   "id": "3895e2dd",
   "metadata": {},
   "source": [
    "**Now, what is the lowest number of people that can assure we a 100% probability that at least 2 of them are born on the same day in a year?**"
   ]
  },
  {
   "cell_type": "markdown",
   "id": "84d1a456",
   "metadata": {},
   "source": [
    "We can answer by using a double while loop, which iterates until an element stored in *ratios_not_prob* gets to 1."
   ]
  },
  {
   "cell_type": "code",
   "execution_count": 11,
   "id": "094f2bc7",
   "metadata": {},
   "outputs": [],
   "source": [
    "days = 365\n",
    "counter = 1\n",
    "while ratios_not_prob.count(1) < 1:\n",
    "    people = np.arange(1, counter)\n",
    "    ratios = [(days - (x-1))/days for x in people]\n",
    "    ratios_prob = []\n",
    "    y = 0\n",
    "    prod = 1\n",
    "    while y < len(ratios):\n",
    "        prod = prod * ratios[y]\n",
    "        ratios_prob.append(prod)\n",
    "        y += 1\n",
    "    ratios_not_prob = [1 - x for x in ratios_prob]\n",
    "    counter += 1"
   ]
  },
  {
   "cell_type": "markdown",
   "id": "d0ffb315",
   "metadata": {},
   "source": [
    "Let's plot the results, create the dictionary *results* and see the max value stored in it."
   ]
  },
  {
   "cell_type": "code",
   "execution_count": 12,
   "id": "f6710a69",
   "metadata": {
    "scrolled": true
   },
   "outputs": [
    {
     "data": {
      "image/png": "[encoded data removed]",
      "text/plain": [
       "<Figure size 432x288 with 1 Axes>"
      ]
     },
     "metadata": {
      "needs_background": "light"
     },
     "output_type": "display_data"
    }
   ],
   "source": [
    "plt.plot(people, ratios_not_prob, color=\"darkblue\")\n",
    "plt.grid(color=\"black\", linestyle=\":\", axis=\"y\")"
   ]
  },
  {
   "cell_type": "code",
   "execution_count": 27,
   "id": "8e652a88",
   "metadata": {},
   "outputs": [
    {
     "data": {
      "text/plain": [
       "153"
      ]
     },
     "execution_count": 27,
     "metadata": {},
     "output_type": "execute_result"
    }
   ],
   "source": [
    "results = dict(zip(people, ratios_not_prob))\n",
    "max(results)"
   ]
  },
  {
   "cell_type": "markdown",
   "id": "7ac141f5",
   "metadata": {},
   "source": [
    "Although the minimum number of persons we need to get a 100% probability that at least 2 of them are born on the same day of the year is 153, the line plot shows a stable probability of 1 starting from about 60 persons. How is that possible?\n",
    "\n",
    "Let's take a closer look at the results."
   ]
  },
  {
   "cell_type": "code",
   "execution_count": 61,
   "id": "3081e6fe",
   "metadata": {},
   "outputs": [
    {
     "name": "stdout",
     "output_type": "stream",
     "text": [
      "60 : 0.994122660865348\n",
      "61 : 0.9950887988052908\n",
      "62 : 0.9959095748953655\n",
      "63 : 0.9966043868309472\n",
      "64 : 0.9971904789669755\n",
      "65 : 0.9976831073124921\n",
      "66 : 0.9980957046404045\n",
      "67 : 0.9984400429793998\n",
      "68 : 0.9987263912544141\n",
      "69 : 0.9989636663083863\n",
      "70 : 0.9991595759651571\n",
      "71 : 0.9993207531773187\n",
      "72 : 0.9994528806414568\n",
      "73 : 0.9995608055560187\n",
      "74 : 0.9996486444448149\n",
      "75 : 0.9997198781738114\n",
      "76 : 0.9997774374531652\n",
      "77 : 0.999823779243739\n",
      "78 : 0.9998609545813611\n",
      "79 : 0.9998906683968511\n",
      "80 : 0.9999143319493135\n",
      "81 : 0.999933108508368\n",
      "82 : 0.9999479529215796\n",
      "83 : 0.9999596456898823\n",
      "84 : 0.9999688221494433\n",
      "85 : 0.9999759973260097\n",
      "86 : 0.9999815869898157\n",
      "87 : 0.9999859253976947\n",
      "88 : 0.9999892801659155\n",
      "89 : 0.9999918646738591\n",
      "90 : 0.9999938483561236\n",
      "91 : 0.9999953651998191\n",
      "92 : 0.9999965207253437\n",
      "93 : 0.9999973976932023\n",
      "94 : 0.9999980607467152\n",
      "95 : 0.9999985601708488\n",
      "96 : 0.9999989349209019\n",
      "97 : 0.9999992150512947\n",
      "98 : 0.9999994236541013\n",
      "99 : 0.9999995783990275\n",
      "100 : 0.9999996927510721\n",
      "101 : 0.9999997769288606\n",
      "102 : 0.9999998386553951\n",
      "103 : 0.9999998837434765\n",
      "104 : 0.9999999165501119\n",
      "105 : 0.9999999403276142\n",
      "106 : 0.999999957493643\n",
      "107 : 0.9999999698379549\n",
      "108 : 0.9999999786799791\n",
      "109 : 0.9999999849883688\n",
      "110 : 0.9999999894712943\n",
      "111 : 0.9999999926443289\n",
      "112 : 0.999999994881259\n",
      "113 : 0.9999999964519412\n",
      "114 : 0.9999999975503813\n",
      "115 : 0.9999999983154677\n",
      "116 : 0.9999999988462107\n",
      "117 : 0.9999999992128945\n",
      "118 : 0.9999999994651996\n",
      "119 : 0.9999999996380939\n",
      "120 : 0.9999999997560852\n",
      "121 : 0.9999999998362764\n",
      "122 : 0.9999999998905519\n",
      "123 : 0.9999999999271345\n",
      "124 : 0.9999999999516892\n",
      "125 : 0.9999999999681016\n",
      "126 : 0.9999999999790258\n",
      "127 : 0.9999999999862662\n",
      "128 : 0.9999999999910448\n",
      "129 : 0.9999999999941852\n",
      "130 : 0.9999999999962403\n",
      "131 : 0.9999999999975794\n",
      "132 : 0.9999999999984481\n",
      "133 : 0.9999999999990093\n",
      "134 : 0.9999999999993704\n",
      "135 : 0.9999999999996015\n",
      "136 : 0.9999999999997489\n",
      "137 : 0.9999999999998425\n",
      "138 : 0.9999999999999016\n",
      "139 : 0.9999999999999388\n",
      "140 : 0.9999999999999621\n",
      "141 : 0.9999999999999767\n",
      "142 : 0.9999999999999857\n",
      "143 : 0.9999999999999912\n",
      "144 : 0.9999999999999947\n",
      "145 : 0.9999999999999968\n",
      "146 : 0.999999999999998\n",
      "147 : 0.9999999999999988\n",
      "148 : 0.9999999999999993\n",
      "149 : 0.9999999999999996\n",
      "150 : 0.9999999999999998\n",
      "151 : 0.9999999999999999\n",
      "152 : 0.9999999999999999\n",
      "153 : 1.0\n"
     ]
    }
   ],
   "source": [
    "for x, y in results.items():\n",
    "    if x >= 60:\n",
    "        print(x, \":\", y)"
   ]
  },
  {
   "cell_type": "markdown",
   "id": "acd730bc",
   "metadata": {},
   "source": [
    "It's clear that the numbers between 60 and 152 have a very close to 1 probability, but it's still not 1! In other words, it's statistically very probable that at least 2 persons are born on the same day of the year in groups from 60 to 152 persons, but still not sure.\n",
    "\n",
    "We can wrap the double while loop we wrote to get the minimum number of people that assures a 100% probability into a function that returns the minimum number of people needed to get a 100% probability considering a desired number of days."
   ]
  },
  {
   "cell_type": "code",
   "execution_count": 105,
   "id": "84ec7798",
   "metadata": {},
   "outputs": [],
   "source": [
    "def min_number_for_cert(days):\n",
    "    ratios_not_prob = []\n",
    "    counter = 1\n",
    "    while ratios_not_prob.count(1) < 1:\n",
    "        people = np.arange(1, counter)\n",
    "        ratios = [(days - (x-1))/days for x in people]\n",
    "        ratios_prob = []\n",
    "        y = 0\n",
    "        prod = 1\n",
    "        while y < len(ratios):\n",
    "            prod = prod * ratios[y]\n",
    "            ratios_prob.append(prod)\n",
    "            y += 1\n",
    "        ratios_not_prob = [1 - x for x in ratios_prob]\n",
    "        counter += 1\n",
    "    return max(people)"
   ]
  },
  {
   "cell_type": "markdown",
   "id": "b2e47a7c",
   "metadata": {},
   "source": [
    "So, for example, the minimum number of people to get a 100% probability that at least 2 persons are born on the same day in a period of 180 days is:"
   ]
  },
  {
   "cell_type": "code",
   "execution_count": 109,
   "id": "783ee6c7",
   "metadata": {},
   "outputs": [
    {
     "data": {
      "text/plain": [
       "104"
      ]
     },
     "execution_count": 109,
     "metadata": {},
     "output_type": "execute_result"
    }
   ],
   "source": [
    " min_number_for_cert(180)"
   ]
  }
 ],
 "metadata": {
  "kernelspec": {
   "display_name": "Python 3 (ipykernel)",
   "language": "python",
   "name": "python3"
  },
  "language_info": {
   "codemirror_mode": {
    "name": "ipython",
    "version": 3
   },
   "file_extension": ".py",
   "mimetype": "text/x-python",
   "name": "python",
   "nbconvert_exporter": "python",
   "pygments_lexer": "ipython3",
   "version": "3.9.7"
  }
 },
 "nbformat": 4,
 "nbformat_minor": 5
}
