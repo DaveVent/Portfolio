{
 "cells": [
  {
   "cell_type": "markdown",
   "id": "31e38e62-4814-4ab6-a14c-2e28e6adaba1",
   "metadata": {},
   "source": [
    "# Same project as Wrangling and Visualizing Musical Data, but with Python"
   ]
  },
  {
   "cell_type": "code",
   "execution_count": null,
   "id": "d0eb4f16-5a99-460d-a5ba-706b7ef0bbe7",
   "metadata": {
    "id": "bA5ajAmk7XH6"
   },
   "outputs": [],
   "source": [
    "import pandas as pd\n",
    "import matplotlib.pyplot as plt\n",
    "import seaborn as sns"
   ]
  },
  {
   "cell_type": "code",
   "execution_count": null,
   "id": "9c0b306f-d8a4-46f8-a190-bfd12e18d9c6",
   "metadata": {},
   "outputs": [],
   "source": [
    "data = pd.read_csv(\"bb_chords.csv\")"
   ]
  },
  {
   "cell_type": "code",
   "execution_count": null,
   "id": "b5244fc4-732a-41fe-ab31-fc3586878cd7",
   "metadata": {},
   "outputs": [
    {
     "data": {
      "application/com.datacamp.data-table.v1+json": {
       "is_truncated": false,
       "table": {
        "data": [
         {
          "artist": "James Brown",
          "artist_compressed": "jamesbrown",
          "chord": "A:min",
          "index": 0,
          "quality": "min",
          "root_integer": "9",
          "root_roman": "VI",
          "title": "I Don't Mind",
          "title_compressed": "idon'tmind",
          "year": 1961
         },
         {
          "artist": "James Brown",
          "artist_compressed": "jamesbrown",
          "chord": "C:maj",
          "index": 1,
          "quality": "maj",
          "root_integer": "0",
          "root_roman": "I",
          "title": "I Don't Mind",
          "title_compressed": "idon'tmind",
          "year": 1961
         },
         {
          "artist": "James Brown",
          "artist_compressed": "jamesbrown",
          "chord": "A:min",
          "index": 2,
          "quality": "min",
          "root_integer": "9",
          "root_roman": "VI",
          "title": "I Don't Mind",
          "title_compressed": "idon'tmind",
          "year": 1961
         },
         {
          "artist": "James Brown",
          "artist_compressed": "jamesbrown",
          "chord": "C:maj",
          "index": 3,
          "quality": "maj",
          "root_integer": "0",
          "root_roman": "I",
          "title": "I Don't Mind",
          "title_compressed": "idon'tmind",
          "year": 1961
         },
         {
          "artist": "James Brown",
          "artist_compressed": "jamesbrown",
          "chord": "A:min",
          "index": 4,
          "quality": "min",
          "root_integer": "9",
          "root_roman": "VI",
          "title": "I Don't Mind",
          "title_compressed": "idon'tmind",
          "year": 1961
         }
        ],
        "schema": {
         "fields": [
          {
           "name": "index",
           "type": "integer"
          },
          {
           "name": "year",
           "type": "integer"
          },
          {
           "name": "chord",
           "type": "string"
          },
          {
           "name": "root_integer",
           "type": "string"
          },
          {
           "name": "root_roman",
           "type": "string"
          },
          {
           "name": "quality",
           "type": "string"
          },
          {
           "name": "title_compressed",
           "type": "string"
          },
          {
           "name": "artist_compressed",
           "type": "string"
          },
          {
           "name": "title",
           "type": "string"
          },
          {
           "name": "artist",
           "type": "string"
          }
         ],
         "pandas_version": "0.20.0",
         "primaryKey": [
          "index"
         ]
        }
       },
       "total_rows": 5
      },
      "text/html": [
       "<div>\n",
       "<style scoped>\n",
       "    .dataframe tbody tr th:only-of-type {\n",
       "        vertical-align: middle;\n",
       "    }\n",
       "\n",
       "    .dataframe tbody tr th {\n",
       "        vertical-align: top;\n",
       "    }\n",
       "\n",
       "    .dataframe thead th {\n",
       "        text-align: right;\n",
       "    }\n",
       "</style>\n",
       "<table border=\"1\" class=\"dataframe\">\n",
       "  <thead>\n",
       "    <tr style=\"text-align: right;\">\n",
       "      <th></th>\n",
       "      <th>year</th>\n",
       "      <th>chord</th>\n",
       "      <th>root_integer</th>\n",
       "      <th>root_roman</th>\n",
       "      <th>quality</th>\n",
       "      <th>title_compressed</th>\n",
       "      <th>artist_compressed</th>\n",
       "      <th>title</th>\n",
       "      <th>artist</th>\n",
       "    </tr>\n",
       "  </thead>\n",
       "  <tbody>\n",
       "    <tr>\n",
       "      <th>0</th>\n",
       "      <td>1961</td>\n",
       "      <td>A:min</td>\n",
       "      <td>9</td>\n",
       "      <td>VI</td>\n",
       "      <td>min</td>\n",
       "      <td>idon'tmind</td>\n",
       "      <td>jamesbrown</td>\n",
       "      <td>I Don't Mind</td>\n",
       "      <td>James Brown</td>\n",
       "    </tr>\n",
       "    <tr>\n",
       "      <th>1</th>\n",
       "      <td>1961</td>\n",
       "      <td>C:maj</td>\n",
       "      <td>0</td>\n",
       "      <td>I</td>\n",
       "      <td>maj</td>\n",
       "      <td>idon'tmind</td>\n",
       "      <td>jamesbrown</td>\n",
       "      <td>I Don't Mind</td>\n",
       "      <td>James Brown</td>\n",
       "    </tr>\n",
       "    <tr>\n",
       "      <th>2</th>\n",
       "      <td>1961</td>\n",
       "      <td>A:min</td>\n",
       "      <td>9</td>\n",
       "      <td>VI</td>\n",
       "      <td>min</td>\n",
       "      <td>idon'tmind</td>\n",
       "      <td>jamesbrown</td>\n",
       "      <td>I Don't Mind</td>\n",
       "      <td>James Brown</td>\n",
       "    </tr>\n",
       "    <tr>\n",
       "      <th>3</th>\n",
       "      <td>1961</td>\n",
       "      <td>C:maj</td>\n",
       "      <td>0</td>\n",
       "      <td>I</td>\n",
       "      <td>maj</td>\n",
       "      <td>idon'tmind</td>\n",
       "      <td>jamesbrown</td>\n",
       "      <td>I Don't Mind</td>\n",
       "      <td>James Brown</td>\n",
       "    </tr>\n",
       "    <tr>\n",
       "      <th>4</th>\n",
       "      <td>1961</td>\n",
       "      <td>A:min</td>\n",
       "      <td>9</td>\n",
       "      <td>VI</td>\n",
       "      <td>min</td>\n",
       "      <td>idon'tmind</td>\n",
       "      <td>jamesbrown</td>\n",
       "      <td>I Don't Mind</td>\n",
       "      <td>James Brown</td>\n",
       "    </tr>\n",
       "  </tbody>\n",
       "</table>\n",
       "</div>"
      ],
      "text/plain": [
       "   year  chord root_integer root_roman quality title_compressed  \\\n",
       "0  1961  A:min            9         VI     min       idon'tmind   \n",
       "1  1961  C:maj            0          I     maj       idon'tmind   \n",
       "2  1961  A:min            9         VI     min       idon'tmind   \n",
       "3  1961  C:maj            0          I     maj       idon'tmind   \n",
       "4  1961  A:min            9         VI     min       idon'tmind   \n",
       "\n",
       "  artist_compressed         title       artist  \n",
       "0        jamesbrown  I Don't Mind  James Brown  \n",
       "1        jamesbrown  I Don't Mind  James Brown  \n",
       "2        jamesbrown  I Don't Mind  James Brown  \n",
       "3        jamesbrown  I Don't Mind  James Brown  \n",
       "4        jamesbrown  I Don't Mind  James Brown  "
      ]
     },
     "execution_count": 54,
     "metadata": {},
     "output_type": "execute_result"
    }
   ],
   "source": [
    "data.head()"
   ]
  },
  {
   "cell_type": "code",
   "execution_count": null,
   "id": "33b676dc-d297-424a-8230-7ee7fcbeb51e",
   "metadata": {},
   "outputs": [
    {
     "data": {
      "application/com.datacamp.data-table.v1+json": {
       "is_truncated": false,
       "table": {
        "data": [
         {
          "artist": "A Taste Of Honey",
          "chord": 8,
          "index": 0,
          "title": "Sukiyaki"
         },
         {
          "artist": "Abba",
          "chord": 7,
          "index": 1,
          "title": "Chiquitita"
         },
         {
          "artist": "Abba",
          "chord": 5,
          "index": 2,
          "title": "Fernando"
         },
         {
          "artist": "Abba",
          "chord": 10,
          "index": 3,
          "title": "Knowing Me, Knowing You"
         },
         {
          "artist": "Abba",
          "chord": 8,
          "index": 4,
          "title": "On And On And On"
         }
        ],
        "schema": {
         "fields": [
          {
           "name": "index",
           "type": "integer"
          },
          {
           "name": "artist",
           "type": "string"
          },
          {
           "name": "title",
           "type": "string"
          },
          {
           "name": "chord",
           "type": "integer"
          }
         ],
         "pandas_version": "0.20.0",
         "primaryKey": [
          "index"
         ]
        }
       },
       "total_rows": 5
      },
      "text/html": [
       "<div>\n",
       "<style scoped>\n",
       "    .dataframe tbody tr th:only-of-type {\n",
       "        vertical-align: middle;\n",
       "    }\n",
       "\n",
       "    .dataframe tbody tr th {\n",
       "        vertical-align: top;\n",
       "    }\n",
       "\n",
       "    .dataframe thead th {\n",
       "        text-align: right;\n",
       "    }\n",
       "</style>\n",
       "<table border=\"1\" class=\"dataframe\">\n",
       "  <thead>\n",
       "    <tr style=\"text-align: right;\">\n",
       "      <th></th>\n",
       "      <th>artist</th>\n",
       "      <th>title</th>\n",
       "      <th>chord</th>\n",
       "    </tr>\n",
       "  </thead>\n",
       "  <tbody>\n",
       "    <tr>\n",
       "      <th>0</th>\n",
       "      <td>A Taste Of Honey</td>\n",
       "      <td>Sukiyaki</td>\n",
       "      <td>8</td>\n",
       "    </tr>\n",
       "    <tr>\n",
       "      <th>1</th>\n",
       "      <td>Abba</td>\n",
       "      <td>Chiquitita</td>\n",
       "      <td>7</td>\n",
       "    </tr>\n",
       "    <tr>\n",
       "      <th>2</th>\n",
       "      <td>Abba</td>\n",
       "      <td>Fernando</td>\n",
       "      <td>5</td>\n",
       "    </tr>\n",
       "    <tr>\n",
       "      <th>3</th>\n",
       "      <td>Abba</td>\n",
       "      <td>Knowing Me, Knowing You</td>\n",
       "      <td>10</td>\n",
       "    </tr>\n",
       "    <tr>\n",
       "      <th>4</th>\n",
       "      <td>Abba</td>\n",
       "      <td>On And On And On</td>\n",
       "      <td>8</td>\n",
       "    </tr>\n",
       "  </tbody>\n",
       "</table>\n",
       "</div>"
      ],
      "text/plain": [
       "             artist                    title  chord\n",
       "0  A Taste Of Honey                 Sukiyaki      8\n",
       "1              Abba               Chiquitita      7\n",
       "2              Abba                 Fernando      5\n",
       "3              Abba  Knowing Me, Knowing You     10\n",
       "4              Abba         On And On And On      8"
      ]
     },
     "execution_count": 55,
     "metadata": {},
     "output_type": "execute_result"
    }
   ],
   "source": [
    "# Chords per song for every artist\n",
    "chords_per_song = data.groupby([\"artist\", \"title\", \"chord\"], as_index = False).title_compressed.count()\n",
    "chords_per_song = chords_per_song.groupby([\"artist\", \"title\"], as_index = False).chord.count()\n",
    "chords_per_song.head()"
   ]
  },
  {
   "cell_type": "code",
   "execution_count": null,
   "id": "febf7733-a5b6-425c-a5c2-8d11eb42e1fc",
   "metadata": {},
   "outputs": [
    {
     "data": {
      "application/com.datacamp.data-table.v1+json": {
       "is_truncated": false,
       "table": {
        "data": [
         {
          "artist": "Judas Priest",
          "chord": 11,
          "index": 330,
          "title": "You've Got Another Thing Comin'"
         },
         {
          "artist": "Metallica",
          "chord": 14,
          "index": 375,
          "title": "One"
         },
         {
          "artist": "Queen",
          "chord": 16,
          "index": 425,
          "title": "We Are The Champions"
         },
         {
          "artist": "The Cure",
          "chord": 8,
          "index": 530,
          "title": "Just Like Heaven"
         }
        ],
        "schema": {
         "fields": [
          {
           "name": "index",
           "type": "integer"
          },
          {
           "name": "artist",
           "type": "string"
          },
          {
           "name": "title",
           "type": "string"
          },
          {
           "name": "chord",
           "type": "integer"
          }
         ],
         "pandas_version": "0.20.0",
         "primaryKey": [
          "index"
         ]
        }
       },
       "total_rows": 4
      },
      "text/html": [
       "<div>\n",
       "<style scoped>\n",
       "    .dataframe tbody tr th:only-of-type {\n",
       "        vertical-align: middle;\n",
       "    }\n",
       "\n",
       "    .dataframe tbody tr th {\n",
       "        vertical-align: top;\n",
       "    }\n",
       "\n",
       "    .dataframe thead th {\n",
       "        text-align: right;\n",
       "    }\n",
       "</style>\n",
       "<table border=\"1\" class=\"dataframe\">\n",
       "  <thead>\n",
       "    <tr style=\"text-align: right;\">\n",
       "      <th></th>\n",
       "      <th>artist</th>\n",
       "      <th>title</th>\n",
       "      <th>chord</th>\n",
       "    </tr>\n",
       "  </thead>\n",
       "  <tbody>\n",
       "    <tr>\n",
       "      <th>330</th>\n",
       "      <td>Judas Priest</td>\n",
       "      <td>You've Got Another Thing Comin'</td>\n",
       "      <td>11</td>\n",
       "    </tr>\n",
       "    <tr>\n",
       "      <th>375</th>\n",
       "      <td>Metallica</td>\n",
       "      <td>One</td>\n",
       "      <td>14</td>\n",
       "    </tr>\n",
       "    <tr>\n",
       "      <th>425</th>\n",
       "      <td>Queen</td>\n",
       "      <td>We Are The Champions</td>\n",
       "      <td>16</td>\n",
       "    </tr>\n",
       "    <tr>\n",
       "      <th>530</th>\n",
       "      <td>The Cure</td>\n",
       "      <td>Just Like Heaven</td>\n",
       "      <td>8</td>\n",
       "    </tr>\n",
       "  </tbody>\n",
       "</table>\n",
       "</div>"
      ],
      "text/plain": [
       "           artist                            title  chord\n",
       "330  Judas Priest  You've Got Another Thing Comin'     11\n",
       "375     Metallica                              One     14\n",
       "425         Queen             We Are The Champions     16\n",
       "530      The Cure                 Just Like Heaven      8"
      ]
     },
     "execution_count": 56,
     "metadata": {},
     "output_type": "execute_result"
    }
   ],
   "source": [
    "# A look at 4 different songs by 4 different artists\n",
    "chords_per_song[chords_per_song[\"artist\"].isin([\"Metallica\", \"Judas Priest\", \"Queen\", \"The Cure\"])]"
   ]
  },
  {
   "cell_type": "code",
   "execution_count": null,
   "id": "5546b1cb-62cf-4951-a8f5-44007047eba3",
   "metadata": {},
   "outputs": [],
   "source": [
    "# Get 20 most popular chords\n",
    "most_popular_chords = pd.DataFrame(data.chord.value_counts().head(20))"
   ]
  },
  {
   "cell_type": "code",
   "execution_count": null,
   "id": "c45c4062-1db5-488b-bf70-57321578c13d",
   "metadata": {},
   "outputs": [],
   "source": [
    "# Parameters for visualization with Seaborn\n",
    "sns.set(rc={\"figure.figsize\":(15, 7)})\n",
    "sns.set_context(\"notebook\")\n",
    "sns.set_style(\"whitegrid\")"
   ]
  },
  {
   "cell_type": "code",
   "execution_count": null,
   "id": "4108be13-8af0-4e49-9c5f-3c2cb8ce8ee6",
   "metadata": {},
   "outputs": [
    {
     "data": {
      "text/plain": [
       "[Text(0.5, 1.0, 'MOST COMMON CHORDS'),\n",
       " Text(0.5, 0, 'Chord counts'),\n",
       " Text(0, 0.5, 'Chords')]"
      ]
     },
     "execution_count": 59,
     "metadata": {},
     "output_type": "execute_result"
    },
    {
     "data": {
      "image/png": "[encoded data removed]",
      "text/plain": [
       "<Figure size 1080x504 with 1 Axes>"
      ]
     },
     "metadata": {},
     "output_type": "display_data"
    }
   ],
   "source": [
    "# Plot 20 most common chords\n",
    "sns.barplot(y=most_popular_chords.index, x=most_popular_chords.chord, palette=\"mako\").set(\n",
    "    \t\t\t\t\t\t\t\t\t\t\t\t   title = \"MOST COMMON CHORDS\",\n",
    "                                                       xlabel = \"Chord counts\",\n",
    "                                                       ylabel = \"Chords\")"
   ]
  },
  {
   "cell_type": "code",
   "execution_count": null,
   "id": "cdafb063-cfed-4dbe-b14c-0b1caf66e5c8",
   "metadata": {},
   "outputs": [
    {
     "data": {
      "text/plain": [
       "artist\n",
       "Elvis Presley         13\n",
       "Brenda Lee             9\n",
       "Dion                   8\n",
       "Bob Seger              7\n",
       "The Beatles            7\n",
       "James Brown            7\n",
       "Kenny Rogers           7\n",
       "The Beach Boys         6\n",
       "Dr. Hook               6\n",
       "John Denver            6\n",
       "Chicago                6\n",
       "Johnny Tillotson       6\n",
       "Eric Clapton           6\n",
       "Abba                   5\n",
       "Billy Idol             5\n",
       "Glen Campbell          5\n",
       "Cliff Richard          5\n",
       "The Rolling Stones     5\n",
       "Stevie Wonder          4\n",
       "Pat Benatar            4\n",
       "Name: title, dtype: int64"
      ]
     },
     "execution_count": 60,
     "metadata": {},
     "output_type": "execute_result"
    }
   ],
   "source": [
    "# Find most popular artists\n",
    "artist_title_unique =data[[\"artist\", \"title\"]].drop_duplicates()\n",
    "artist_title_unique.groupby(\"artist\").title.count().sort_values(ascending=False).head(20)"
   ]
  },
  {
   "cell_type": "code",
   "execution_count": null,
   "id": "13759f52-0ea0-4e64-8ed9-adea19cf85d5",
   "metadata": {},
   "outputs": [],
   "source": [
    "# Create bigrams\n",
    "data[\"next_chord\"] = data.chord.shift(-1)\n",
    "data[\"next_title\"] = data.title.shift(-1)\n",
    "data[\"bigram\"] = data[\"chord\"] + \" \" + data[\"next_chord\"]"
   ]
  },
  {
   "cell_type": "code",
   "execution_count": null,
   "id": "4cb49655-4815-40ac-a6f6-110520842c5d",
   "metadata": {},
   "outputs": [],
   "source": [
    "# Get 20 most popular bigrams\n",
    "bigram_counts = data[data[\"title\"] == data[\"next_title\"]].groupby(\"bigram\").bigram.count().sort_values(ascending=False).head(20)\n",
    "\n",
    "most_popular_bigrams = pd.DataFrame(bigram_counts)"
   ]
  },
  {
   "cell_type": "code",
   "execution_count": null,
   "id": "545ea774-2205-4491-b3f4-9d0351bdd4ee",
   "metadata": {},
   "outputs": [
    {
     "data": {
      "text/plain": [
       "[Text(0.5, 1.0, 'MOST POPULAR BIGRAMS'),\n",
       " Text(0.5, 0, 'Bigram counts'),\n",
       " Text(0, 0.5, 'Bigram')]"
      ]
     },
     "execution_count": 63,
     "metadata": {},
     "output_type": "execute_result"
    },
    {
     "data": {
      "image/png": "[encoded data removed]",
      "text/plain": [
       "<Figure size 1080x504 with 1 Axes>"
      ]
     },
     "metadata": {},
     "output_type": "display_data"
    }
   ],
   "source": [
    "# Plot 20 most common bigrams\n",
    "sns.barplot( x=most_popular_bigrams.bigram,y=most_popular_bigrams.index, palette=\"mako\").set(\n",
    "\t\t\t\t\t\t\t\t\t\t\t\t\t\t\t\t\t\t\ttitle = \"MOST POPULAR BIGRAMS\",\n",
    "\t\t\t\t\t\t\t\t\t\t\t\t\t\t\t\t\t\t\txlabel = \"Bigram counts\",\n",
    "\t\t\t\t\t\t\t\t\t\t\t\t\t\t\t\t\t\t\tylabel = \"Bigram\")"
   ]
  },
  {
   "cell_type": "code",
   "execution_count": null,
   "id": "14ca4d7b-9d0c-4ca1-88af-e2b436a8ccf0",
   "metadata": {},
   "outputs": [],
   "source": [
    "# Create a DF of 8 artists with their main instrument\n",
    "main_instrument= pd.DataFrame({\n",
    "  \"artist\" : ['Abba', 'Billy Joel', 'Elton John', 'Stevie Wonder', 'The Rolling Stones', 'The Beatles', 'Eric Clapton'],\n",
    "  \"instrument\" : ['piano', 'piano', 'piano', 'piano', 'guitar', 'guitar', 'guitar']})"
   ]
  },
  {
   "cell_type": "code",
   "execution_count": null,
   "id": "298b2f73-5123-4f25-a70f-23445c8e1b28",
   "metadata": {},
   "outputs": [],
   "source": [
    "# Merge the DF main_instrument with the DF data\n",
    "tagged = data.merge(main_instrument, on=\"artist\", how=\"inner\")"
   ]
  },
  {
   "cell_type": "code",
   "execution_count": null,
   "id": "ec2a1abd-8a40-4157-8ba1-22b1dcdd494e",
   "metadata": {},
   "outputs": [],
   "source": [
    "# Filter for most popular chords\n",
    "tagged_filtered_chord = tagged[tagged.chord.isin(most_popular_chords.index)]\n",
    "\n",
    "# Group by instrument and chord\n",
    "tagged_grouped_chord = tagged_filtered_chord.groupby([\"instrument\", \"chord\"],as_index=False).quality.count()"
   ]
  },
  {
   "cell_type": "code",
   "execution_count": null,
   "id": "ed419564-99a6-4809-b8bb-9d9e28363fa1",
   "metadata": {},
   "outputs": [
    {
     "data": {
      "text/plain": [
       "<seaborn.axisgrid.FacetGrid at 0x7f023402c940>"
      ]
     },
     "execution_count": 67,
     "metadata": {},
     "output_type": "execute_result"
    },
    {
     "data": {
      "image/png": "[encoded data removed]",
      "text/plain": [
       "<Figure size 720x360 with 2 Axes>"
      ]
     },
     "metadata": {},
     "output_type": "display_data"
    }
   ],
   "source": [
    "# Plot the results, splitting the plot by instrument\n",
    "sns.catplot(y=\"chord\", x=\"quality\", data=tagged_grouped_chord, kind=\"bar\", col=\"instrument\",palette=\"mako\").set(\n",
    "                                    xlabel = \"Chord counts\",\n",
    "                                    ylabel = \"Chords\")"
   ]
  },
  {
   "cell_type": "code",
   "execution_count": null,
   "id": "6ff91212-117b-4f6f-a549-c5d5c8ece9c8",
   "metadata": {},
   "outputs": [],
   "source": [
    "# Filter DF tagged for most popular bigrams and title == next title\n",
    "tagged_filtered_bigram = tagged[(tagged[\"bigram\"].isin(most_popular_bigrams.index)) & (tagged[\"title\"] == tagged[\"next_title\"])]\n",
    "\n",
    "# Group by instrument and bigrams\n",
    "tagged_grouped_bigram = tagged_filtered_bigram.groupby([\"instrument\", \"bigram\"],as_index=False).quality.count()"
   ]
  },
  {
   "cell_type": "code",
   "execution_count": null,
   "id": "f8bbfcfc-0e96-4e57-a96a-655d2f737a47",
   "metadata": {},
   "outputs": [
    {
     "data": {
      "text/plain": [
       "<seaborn.axisgrid.FacetGrid at 0x7f0233b56130>"
      ]
     },
     "execution_count": 69,
     "metadata": {},
     "output_type": "execute_result"
    },
    {
     "data": {
      "image/png": "[encoded data removed]",
      "text/plain": [
       "<Figure size 720x360 with 2 Axes>"
      ]
     },
     "metadata": {},
     "output_type": "display_data"
    }
   ],
   "source": [
    "# Plot the results, splitting the plot by instrument\n",
    "sns.catplot(y=\"bigram\", x=\"quality\", data=tagged_grouped_bigram, kind=\"bar\", col=\"instrument\",palette=\"mako\").set(\n",
    "                                    xlabel = \"Bigram counts\",\n",
    "                                    ylabel = \"Bigram\")"
   ]
  }
 ],
 "metadata": {
  "colab": {
   "name": "Welcome to DataCamp Workspaces.ipynb",
   "provenance": []
  },
  "editor": "DataCamp Workspace",
  "kernelspec": {
   "display_name": "Python 3 (ipykernel)",
   "language": "python",
   "name": "python3"
  },
  "language_info": {
   "codemirror_mode": {
    "name": "ipython",
    "version": 3
   },
   "file_extension": ".py",
   "mimetype": "text/x-python",
   "name": "python",
   "nbconvert_exporter": "python",
   "pygments_lexer": "ipython3",
   "version": "3.8.10"
  }
 },
 "nbformat": 4,
 "nbformat_minor": 5
}
